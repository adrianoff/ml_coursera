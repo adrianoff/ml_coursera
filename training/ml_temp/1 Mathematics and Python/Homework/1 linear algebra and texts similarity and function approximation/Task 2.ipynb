{
 "cells": [
  {
   "cell_type": "markdown",
   "metadata": {},
   "source": [
    "# Задача 2: аппроксимация функции"
   ]
  },
  {
   "cell_type": "code",
   "execution_count": 1,
   "metadata": {
    "collapsed": true
   },
   "outputs": [],
   "source": [
    "from math import sin, exp"
   ]
  },
  {
   "cell_type": "code",
   "execution_count": 2,
   "metadata": {
    "collapsed": true
   },
   "outputs": [],
   "source": [
    "def func(x):\n",
    "    return sin(x / 5.) * exp(x / 10.) + 5. * exp(-x / 2.)"
   ]
  },
  {
   "cell_type": "code",
   "execution_count": 3,
   "metadata": {
    "collapsed": false
   },
   "outputs": [],
   "source": [
    "import numpy as np\n",
    "from scipy import linalg"
   ]
  },
  {
   "cell_type": "code",
   "execution_count": 4,
   "metadata": {
    "collapsed": true
   },
   "outputs": [],
   "source": [
    "arrCoordinates = np.arange(1., 15.1, 0.1)\n",
    "arrFunction = np.array([func(coordinate) for coordinate in arrCoordinates])"
   ]
  },
  {
   "cell_type": "markdown",
   "metadata": {},
   "source": [
    "## 1. Сформировать СЛАУ для многочлена первой степени, который должен совпадать с функцией в точках 1 и 15."
   ]
  },
  {
   "cell_type": "code",
   "execution_count": 5,
   "metadata": {
    "collapsed": false
   },
   "outputs": [
    {
     "name": "stdout",
     "output_type": "stream",
     "text": [
      "[ 1 15]\n",
      "[[  1.   1.]\n",
      " [  1.  15.]]\n",
      "[ 3.25221687  0.63522142]\n"
     ]
    }
   ],
   "source": [
    "#многочлен первой степени\n",
    "arrCoord1 = np.array([1, 15])\n",
    "N = 2\n",
    "arrA1 = np.empty((0, N))\n",
    "for i in xrange(N):\n",
    "    arrA1Line = list()\n",
    "    for j in xrange(N):\n",
    "        arrA1Line.append(arrCoord1[i] ** j)\n",
    "    arrA1 = np.append(arrA1, np.array([arrA1Line]), axis = 0)\n",
    "\n",
    "arrB1 = np.array([func(coordinate) for coordinate in arrCoord1])\n",
    "\n",
    "print arrCoord1\n",
    "print arrA1\n",
    "print arrB1"
   ]
  },
  {
   "cell_type": "code",
   "execution_count": 6,
   "metadata": {
    "collapsed": false
   },
   "outputs": [
    {
     "name": "stdout",
     "output_type": "stream",
     "text": [
      "[ 3.43914511 -0.18692825]\n"
     ]
    }
   ],
   "source": [
    "arrX1 = linalg.solve(arrA1, arrB1)\n",
    "print arrX1"
   ]
  },
  {
   "cell_type": "code",
   "execution_count": 7,
   "metadata": {
    "collapsed": true
   },
   "outputs": [],
   "source": [
    "def func1(x): return arrX1[0] + arrX1[1] * x\n",
    "arrFunc1 = np.array([func1(coordinate) for coordinate in arrCoordinates])"
   ]
  },
  {
   "cell_type": "code",
   "execution_count": 2,
   "metadata": {
    "collapsed": false
   },
   "outputs": [],
   "source": [
    "%matplotlib inline\n",
    "import matplotlib.pylab as plt"
   ]
  },
  {
   "cell_type": "code",
   "execution_count": 3,
   "metadata": {
    "collapsed": false
   },
   "outputs": [
    {
     "ename": "NameError",
     "evalue": "name 'arrCoordinates' is not defined",
     "output_type": "error",
     "traceback": [
      "\u001b[0;31m---------------------------------------------------------------------------\u001b[0m",
      "\u001b[0;31mNameError\u001b[0m                                 Traceback (most recent call last)",
      "\u001b[0;32m<ipython-input-3-afbc242dad83>\u001b[0m in \u001b[0;36m<module>\u001b[0;34m()\u001b[0m\n\u001b[0;32m----> 1\u001b[0;31m \u001b[0mplt\u001b[0m\u001b[1;33m.\u001b[0m\u001b[0mplot\u001b[0m\u001b[1;33m(\u001b[0m\u001b[0marrCoordinates\u001b[0m\u001b[1;33m,\u001b[0m \u001b[0marrFunction\u001b[0m\u001b[1;33m,\u001b[0m \u001b[0marrCoordinates\u001b[0m\u001b[1;33m,\u001b[0m \u001b[0marrFunc1\u001b[0m\u001b[1;33m)\u001b[0m\u001b[1;33m\u001b[0m\u001b[0m\n\u001b[0m\u001b[1;32m      2\u001b[0m \u001b[0mplt\u001b[0m\u001b[1;33m.\u001b[0m\u001b[0mshow\u001b[0m\u001b[1;33m(\u001b[0m\u001b[1;33m)\u001b[0m\u001b[1;33m\u001b[0m\u001b[0m\n",
      "\u001b[0;31mNameError\u001b[0m: name 'arrCoordinates' is not defined"
     ]
    }
   ],
   "source": [
    "plt.plot(arrCoordinates, arrFunction, arrCoordinates, arrFunc1)\n",
    "plt.show()"
   ]
  },
  {
   "cell_type": "markdown",
   "metadata": {},
   "source": [
    "## 2. Многочлен второй степени в точка 1, 8, 15."
   ]
  },
  {
   "cell_type": "code",
   "execution_count": 10,
   "metadata": {
    "collapsed": false
   },
   "outputs": [
    {
     "name": "stdout",
     "output_type": "stream",
     "text": [
      "[ 1  8 15]\n",
      "[[   1.    1.    1.]\n",
      " [   1.    8.   64.]\n",
      " [   1.   15.  225.]]\n",
      "[ 3.25221687  2.31617016  0.63522142]\n"
     ]
    }
   ],
   "source": [
    "#многочлен второй степени\n",
    "arrCoord2 = np.array([1, 8, 15])\n",
    "N = 3\n",
    "arrA2 = np.empty((0, N))\n",
    "for i in xrange(N):\n",
    "    arrA2Line = list()\n",
    "    for j in xrange(N):\n",
    "        arrA2Line.append(arrCoord2[i] ** j)\n",
    "    arrA2 = np.append(arrA2, np.array([arrA2Line]), axis = 0)\n",
    "    \n",
    "arrB2 = np.array([func(coordinate) for coordinate in arrCoord2])\n",
    "\n",
    "print arrCoord2\n",
    "print arrA2\n",
    "print arrB2"
   ]
  },
  {
   "cell_type": "code",
   "execution_count": 11,
   "metadata": {
    "collapsed": false
   },
   "outputs": [
    {
     "name": "stdout",
     "output_type": "stream",
     "text": [
      "[ 3.32512949 -0.06531159 -0.00760104]\n"
     ]
    }
   ],
   "source": [
    "arrX2 = linalg.solve(arrA2, arrB2)\n",
    "print arrX2"
   ]
  },
  {
   "cell_type": "code",
   "execution_count": 12,
   "metadata": {
    "collapsed": true
   },
   "outputs": [],
   "source": [
    "def func2(x): return arrX2[0] + arrX2[1] * x + arrX2[2] * (x ** 2)\n",
    "arrFunc2 = np.array([func2(coordinate) for coordinate in arrCoordinates])"
   ]
  },
  {
   "cell_type": "code",
   "execution_count": 13,
   "metadata": {
    "collapsed": false
   },
   "outputs": [
    {
     "data": {
      "image/png": "[encoded data removed]",
      "text/plain": [
       "<matplotlib.figure.Figure at 0x84b6358>"
      ]
     },
     "metadata": {},
     "output_type": "display_data"
    }
   ],
   "source": [
    "plt.plot(arrCoordinates, arrFunction, arrCoordinates, arrFunc1, arrCoordinates, arrFunc2)\n",
    "plt.show()"
   ]
  },
  {
   "cell_type": "markdown",
   "metadata": {},
   "source": [
    "## 3. Многочлен третьей степени в точка 1, 4, 10, 15."
   ]
  },
  {
   "cell_type": "code",
   "execution_count": 14,
   "metadata": {
    "collapsed": false
   },
   "outputs": [
    {
     "name": "stdout",
     "output_type": "stream",
     "text": [
      "[ 1  4 10 15]\n",
      "[[  1.00000000e+00   1.00000000e+00   1.00000000e+00   1.00000000e+00]\n",
      " [  1.00000000e+00   4.00000000e+00   1.60000000e+01   6.40000000e+01]\n",
      " [  1.00000000e+00   1.00000000e+01   1.00000000e+02   1.00000000e+03]\n",
      " [  1.00000000e+00   1.50000000e+01   2.25000000e+02   3.37500000e+03]]\n",
      "[ 3.25221687  1.74684595  2.50541641  0.63522142]\n"
     ]
    }
   ],
   "source": [
    "#многочлен третьей степени\n",
    "arrCoord3 = np.array([1, 4, 10, 15])\n",
    "N = 4\n",
    "arrA3 = np.empty((0, N))\n",
    "for i in xrange(N):\n",
    "    arrA3Line = list()\n",
    "    for j in xrange(N):\n",
    "        arrA3Line.append(arrCoord3[i] ** j)\n",
    "    arrA3 = np.append(arrA3, np.array([arrA3Line]), axis = 0)\n",
    "    \n",
    "arrB3 = np.array([func(coordinate) for coordinate in arrCoord3])\n",
    "\n",
    "print arrCoord3\n",
    "print arrA3\n",
    "print arrB3"
   ]
  },
  {
   "cell_type": "code",
   "execution_count": 15,
   "metadata": {
    "collapsed": false
   },
   "outputs": [
    {
     "name": "stdout",
     "output_type": "stream",
     "text": [
      "[ 4.36264154 -1.29552587  0.19333685 -0.00823565]\n"
     ]
    }
   ],
   "source": [
    "arrX3 = linalg.solve(arrA3, arrB3)\n",
    "print arrX3"
   ]
  },
  {
   "cell_type": "code",
   "execution_count": 16,
   "metadata": {
    "collapsed": true
   },
   "outputs": [],
   "source": [
    "def func3(x): return arrX3[0] + arrX3[1] * x + arrX3[2] * (x ** 2) + arrX3[3] * (x ** 3)\n",
    "arrFunc3 = np.array([func3(coordinate) for coordinate in arrCoordinates])"
   ]
  },
  {
   "cell_type": "code",
   "execution_count": 17,
   "metadata": {
    "collapsed": false
   },
   "outputs": [
    {
     "data": {
      "image/png": "[encoded data removed]",
      "text/plain": [
       "<matplotlib.figure.Figure at 0x8719e10>"
      ]
     },
     "metadata": {},
     "output_type": "display_data"
    }
   ],
   "source": [
    "plt.plot(arrCoordinates, arrFunction, arrCoordinates, arrFunc1, arrCoordinates, arrFunc2, arrCoordinates, arrFunc3)\n",
    "plt.show()"
   ]
  },
  {
   "cell_type": "code",
   "execution_count": 18,
   "metadata": {
    "collapsed": false
   },
   "outputs": [],
   "source": [
    "with open('answer2.txt', 'w') as fileAnswer:\n",
    "    for item in arrX3:\n",
    "        fileAnswer.write(str(item) + ' ')"
   ]
  },
  {
   "cell_type": "code",
   "execution_count": null,
   "metadata": {
    "collapsed": true
   },
   "outputs": [],
   "source": []
  }
 ],
 "metadata": {
  "kernelspec": {
   "display_name": "Python 2",
   "language": "python",
   "name": "python2"
  },
  "language_info": {
   "codemirror_mode": {
    "name": "ipython",
    "version": 2
   },
   "file_extension": ".py",
   "mimetype": "text/x-python",
   "name": "python",
   "nbconvert_exporter": "python",
   "pygments_lexer": "ipython2",
   "version": "2.7.13"
  }
 },
 "nbformat": 4,
 "nbformat_minor": 2
}
