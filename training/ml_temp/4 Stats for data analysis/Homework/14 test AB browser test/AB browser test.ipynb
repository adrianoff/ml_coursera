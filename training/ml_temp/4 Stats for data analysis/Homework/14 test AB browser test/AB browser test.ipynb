{
 "cells": [
  {
   "cell_type": "markdown",
   "metadata": {},
   "source": [
    "# AB browser test"
   ]
  },
  {
   "cell_type": "markdown",
   "metadata": {},
   "source": [
    "В данном задании нужно будет:\n",
    "* проанализировать АБ тест, проведённый на реальных пользователях Яндекса;\n",
    "* подтвердить или опровергнуть наличие изменений в пользовательском поведении между контрольной (control) и тестовой (exp) группами;\n",
    "* определить характер этих изменений и практическую значимость вводимого изменения;\n",
    "* понять, какая из пользовательских групп более всего проигрывает / выигрывает от тестируемого изменения (локализовать изменение).\n",
    "\n",
    "Описание данных:\n",
    "* userID: уникальный идентификатор пользователя\n",
    "* browser: браузер, который использовал userID\n",
    "* slot: в каком статусе пользователь участвовал в исследовании (exp = видел измененную страницу, control = видел неизменную страницу)\n",
    "* n_clicks: количество кликов, которые пользоваль совершил за n_queries\n",
    "* n_queries: количество запросов, который совершил userID, пользуясь браузером browser\n",
    "* n_nonclk_queries: количество запросов пользователя, в которых им не было совершено ни одного клика\n",
    "\n",
    "Обращаем внимание, что не все люди используют только один браузер, поэтому в столбце userID есть повторяющиеся идентификаторы. В предлагаемых данных уникальным является сочетание userID и browser."
   ]
  },
  {
   "cell_type": "code",
   "execution_count": 208,
   "metadata": {
    "collapsed": true
   },
   "outputs": [],
   "source": [
    "from __future__ import division\n",
    "\n",
    "import numpy as np\n",
    "import pandas as pd\n",
    "\n",
    "from scipy import stats\n",
    "from statsmodels.sandbox.stats.multicomp import multipletests \n",
    "\n",
    "%matplotlib inline\n",
    "import matplotlib.pyplot as plt\n",
    "import seaborn as sns\n",
    "\n",
    "from IPython.core.interactiveshell import InteractiveShell\n",
    "InteractiveShell.ast_node_interactivity = \"all\""
   ]
  },
  {
   "cell_type": "code",
   "execution_count": 2,
   "metadata": {},
   "outputs": [
    {
     "name": "stdout",
     "output_type": "stream",
     "text": [
      "<class 'pandas.core.frame.DataFrame'>\n",
      "RangeIndex: 566134 entries, 0 to 566133\n",
      "Data columns (total 6 columns):\n",
      "userID              566134 non-null int64\n",
      "browser             566134 non-null object\n",
      "slot                566134 non-null object\n",
      "n_clicks            566134 non-null int64\n",
      "n_queries           566134 non-null int64\n",
      "n_nonclk_queries    566134 non-null int64\n",
      "dtypes: int64(4), object(2)\n",
      "memory usage: 25.9+ MB\n"
     ]
    }
   ],
   "source": [
    "ab_data = pd.read_csv('ab_browser_test.csv')\n",
    "ab_data.info()"
   ]
  },
  {
   "cell_type": "code",
   "execution_count": 3,
   "metadata": {
    "scrolled": true
   },
   "outputs": [
    {
     "data": {
      "text/html": [
       "<div>\n",
       "<style>\n",
       "    .dataframe thead tr:only-child th {\n",
       "        text-align: right;\n",
       "    }\n",
       "\n",
       "    .dataframe thead th {\n",
       "        text-align: left;\n",
       "    }\n",
       "\n",
       "    .dataframe tbody tr th {\n",
       "        vertical-align: top;\n",
       "    }\n",
       "</style>\n",
       "<table border=\"1\" class=\"dataframe\">\n",
       "  <thead>\n",
       "    <tr style=\"text-align: right;\">\n",
       "      <th></th>\n",
       "      <th>userID</th>\n",
       "      <th>browser</th>\n",
       "      <th>slot</th>\n",
       "      <th>n_clicks</th>\n",
       "      <th>n_queries</th>\n",
       "      <th>n_nonclk_queries</th>\n",
       "    </tr>\n",
       "  </thead>\n",
       "  <tbody>\n",
       "    <tr>\n",
       "      <th>0</th>\n",
       "      <td>1</td>\n",
       "      <td>Browser #2</td>\n",
       "      <td>exp</td>\n",
       "      <td>23</td>\n",
       "      <td>32</td>\n",
       "      <td>19</td>\n",
       "    </tr>\n",
       "    <tr>\n",
       "      <th>1</th>\n",
       "      <td>3</td>\n",
       "      <td>Browser #4</td>\n",
       "      <td>exp</td>\n",
       "      <td>3</td>\n",
       "      <td>4</td>\n",
       "      <td>2</td>\n",
       "    </tr>\n",
       "    <tr>\n",
       "      <th>2</th>\n",
       "      <td>5</td>\n",
       "      <td>Browser #4</td>\n",
       "      <td>exp</td>\n",
       "      <td>29</td>\n",
       "      <td>35</td>\n",
       "      <td>16</td>\n",
       "    </tr>\n",
       "    <tr>\n",
       "      <th>3</th>\n",
       "      <td>6</td>\n",
       "      <td>Browser #4</td>\n",
       "      <td>control</td>\n",
       "      <td>12</td>\n",
       "      <td>6</td>\n",
       "      <td>0</td>\n",
       "    </tr>\n",
       "    <tr>\n",
       "      <th>4</th>\n",
       "      <td>7</td>\n",
       "      <td>Browser #4</td>\n",
       "      <td>exp</td>\n",
       "      <td>54</td>\n",
       "      <td>68</td>\n",
       "      <td>30</td>\n",
       "    </tr>\n",
       "  </tbody>\n",
       "</table>\n",
       "</div>"
      ],
      "text/plain": [
       "   userID     browser     slot  n_clicks  n_queries  n_nonclk_queries\n",
       "0       1  Browser #2      exp        23         32                19\n",
       "1       3  Browser #4      exp         3          4                 2\n",
       "2       5  Browser #4      exp        29         35                16\n",
       "3       6  Browser #4  control        12          6                 0\n",
       "4       7  Browser #4      exp        54         68                30"
      ]
     },
     "execution_count": 3,
     "metadata": {},
     "output_type": "execute_result"
    }
   ],
   "source": [
    "ab_data.head()"
   ]
  },
  {
   "cell_type": "code",
   "execution_count": 4,
   "metadata": {},
   "outputs": [],
   "source": [
    "#transform 'browser' column to int\n",
    "ab_data.browser = [int(ab_data.browser[i][9:]) for i in range(ab_data.shape[0])]"
   ]
  },
  {
   "cell_type": "code",
   "execution_count": 5,
   "metadata": {
    "scrolled": true
   },
   "outputs": [
    {
     "data": {
      "text/html": [
       "<div>\n",
       "<style>\n",
       "    .dataframe thead tr:only-child th {\n",
       "        text-align: right;\n",
       "    }\n",
       "\n",
       "    .dataframe thead th {\n",
       "        text-align: left;\n",
       "    }\n",
       "\n",
       "    .dataframe tbody tr th {\n",
       "        vertical-align: top;\n",
       "    }\n",
       "</style>\n",
       "<table border=\"1\" class=\"dataframe\">\n",
       "  <thead>\n",
       "    <tr style=\"text-align: right;\">\n",
       "      <th></th>\n",
       "      <th>userID</th>\n",
       "      <th>browser</th>\n",
       "      <th>slot</th>\n",
       "      <th>n_clicks</th>\n",
       "      <th>n_queries</th>\n",
       "      <th>n_nonclk_queries</th>\n",
       "    </tr>\n",
       "  </thead>\n",
       "  <tbody>\n",
       "    <tr>\n",
       "      <th>0</th>\n",
       "      <td>1</td>\n",
       "      <td>2</td>\n",
       "      <td>exp</td>\n",
       "      <td>23</td>\n",
       "      <td>32</td>\n",
       "      <td>19</td>\n",
       "    </tr>\n",
       "    <tr>\n",
       "      <th>1</th>\n",
       "      <td>3</td>\n",
       "      <td>4</td>\n",
       "      <td>exp</td>\n",
       "      <td>3</td>\n",
       "      <td>4</td>\n",
       "      <td>2</td>\n",
       "    </tr>\n",
       "    <tr>\n",
       "      <th>2</th>\n",
       "      <td>5</td>\n",
       "      <td>4</td>\n",
       "      <td>exp</td>\n",
       "      <td>29</td>\n",
       "      <td>35</td>\n",
       "      <td>16</td>\n",
       "    </tr>\n",
       "    <tr>\n",
       "      <th>3</th>\n",
       "      <td>6</td>\n",
       "      <td>4</td>\n",
       "      <td>control</td>\n",
       "      <td>12</td>\n",
       "      <td>6</td>\n",
       "      <td>0</td>\n",
       "    </tr>\n",
       "    <tr>\n",
       "      <th>4</th>\n",
       "      <td>7</td>\n",
       "      <td>4</td>\n",
       "      <td>exp</td>\n",
       "      <td>54</td>\n",
       "      <td>68</td>\n",
       "      <td>30</td>\n",
       "    </tr>\n",
       "    <tr>\n",
       "      <th>5</th>\n",
       "      <td>8</td>\n",
       "      <td>4</td>\n",
       "      <td>control</td>\n",
       "      <td>4</td>\n",
       "      <td>4</td>\n",
       "      <td>1</td>\n",
       "    </tr>\n",
       "    <tr>\n",
       "      <th>6</th>\n",
       "      <td>9</td>\n",
       "      <td>4</td>\n",
       "      <td>exp</td>\n",
       "      <td>6</td>\n",
       "      <td>3</td>\n",
       "      <td>1</td>\n",
       "    </tr>\n",
       "    <tr>\n",
       "      <th>7</th>\n",
       "      <td>10</td>\n",
       "      <td>4</td>\n",
       "      <td>control</td>\n",
       "      <td>22</td>\n",
       "      <td>15</td>\n",
       "      <td>2</td>\n",
       "    </tr>\n",
       "    <tr>\n",
       "      <th>8</th>\n",
       "      <td>13</td>\n",
       "      <td>14</td>\n",
       "      <td>exp</td>\n",
       "      <td>2</td>\n",
       "      <td>4</td>\n",
       "      <td>3</td>\n",
       "    </tr>\n",
       "    <tr>\n",
       "      <th>9</th>\n",
       "      <td>15</td>\n",
       "      <td>14</td>\n",
       "      <td>control</td>\n",
       "      <td>2</td>\n",
       "      <td>2</td>\n",
       "      <td>0</td>\n",
       "    </tr>\n",
       "  </tbody>\n",
       "</table>\n",
       "</div>"
      ],
      "text/plain": [
       "   userID  browser     slot  n_clicks  n_queries  n_nonclk_queries\n",
       "0       1        2      exp        23         32                19\n",
       "1       3        4      exp         3          4                 2\n",
       "2       5        4      exp        29         35                16\n",
       "3       6        4  control        12          6                 0\n",
       "4       7        4      exp        54         68                30\n",
       "5       8        4  control         4          4                 1\n",
       "6       9        4      exp         6          3                 1\n",
       "7      10        4  control        22         15                 2\n",
       "8      13       14      exp         2          4                 3\n",
       "9      15       14  control         2          2                 0"
      ]
     },
     "execution_count": 5,
     "metadata": {},
     "output_type": "execute_result"
    }
   ],
   "source": [
    "ab_data.head(10)"
   ]
  },
  {
   "cell_type": "markdown",
   "metadata": {},
   "source": [
    "Основная метрика, на которой мы сосредоточимся в этой работе, — это количество пользовательских кликов на web-странице в зависимости от тестируемого изменения этой страницы.\n",
    "\n",
    "Посчитаем, насколько в группе exp больше пользовательских кликов по сравнению с группой control в процентах от числа кликов в контрольной группе."
   ]
  },
  {
   "cell_type": "code",
   "execution_count": 6,
   "metadata": {},
   "outputs": [
    {
     "data": {
      "text/plain": [
       "control    284554\n",
       "exp        281580\n",
       "Name: slot, dtype: int64"
      ]
     },
     "execution_count": 6,
     "metadata": {},
     "output_type": "execute_result"
    }
   ],
   "source": [
    "#number of people in exp and control groups\n",
    "ab_data.slot.value_counts()"
   ]
  },
  {
   "cell_type": "markdown",
   "metadata": {},
   "source": [
    "Примем в первом приближении, что количество человек в каждой из групп одинаково."
   ]
  },
  {
   "cell_type": "code",
   "execution_count": 7,
   "metadata": {},
   "outputs": [],
   "source": [
    "#indices split by groups\n",
    "exp = ab_data.slot.loc[ab_data.slot == 'exp'].index\n",
    "ctrl = ab_data.slot.loc[ab_data.slot == 'control'].index"
   ]
  },
  {
   "cell_type": "code",
   "execution_count": 8,
   "metadata": {},
   "outputs": [
    {
     "name": "stdout",
     "output_type": "stream",
     "text": [
      "Assumption error: 0.0105\n"
     ]
    }
   ],
   "source": [
    "#assumption error\n",
    "err = 1 - ab_data.slot.loc[exp].shape[0] / ab_data.slot.loc[ctrl].shape[0]\n",
    "print('Assumption error: %.4f' % err)"
   ]
  },
  {
   "cell_type": "code",
   "execution_count": 9,
   "metadata": {},
   "outputs": [
    {
     "name": "stdout",
     "output_type": "stream",
     "text": [
      "Total number of clicks in each group\n",
      "Exp: 3261823\n",
      "Control: 3210027\n"
     ]
    }
   ],
   "source": [
    "#total number of clicks in each group\n",
    "exp_cl_num = ab_data.n_clicks.loc[exp].sum()\n",
    "ctrl_cl_num = ab_data.n_clicks.loc[ctrl].sum()\n",
    "\n",
    "print('Total number of clicks in each group')\n",
    "print('Exp: %d' % exp_cl_num)\n",
    "print('Control: %d' % ctrl_cl_num)"
   ]
  },
  {
   "cell_type": "code",
   "execution_count": 10,
   "metadata": {},
   "outputs": [
    {
     "name": "stdout",
     "output_type": "stream",
     "text": [
      "Proportion increase of clicks for exp over control: 1.614%\n"
     ]
    }
   ],
   "source": [
    "#proportion increase of clicks for exp over control\n",
    "prop_inc_clicks = (exp_cl_num / ctrl_cl_num - 1) * 100\n",
    "print('Proportion increase of clicks for exp over control: %.3f%%' % prop_inc_clicks)"
   ]
  },
  {
   "cell_type": "markdown",
   "metadata": {},
   "source": [
    "Давайте попробуем посмотреть более внимательно на разницу между двумя группами (control и exp) относительно количества пользовательских кликов.\n",
    "\n",
    "Для этого построим с помощью бутстрепа 95% доверительный интервал для средних значений и медиан количества кликов в каждой из двух групп."
   ]
  },
  {
   "cell_type": "code",
   "execution_count": 11,
   "metadata": {},
   "outputs": [
    {
     "name": "stdout",
     "output_type": "stream",
     "text": [
      "Mean number of clicks in each group\n",
      "Exp: 11.5840\n",
      "Control: 11.2809\n",
      "\n",
      "Median number of clicks in each group\n",
      "Exp: 5\n",
      "Control: 4\n"
     ]
    }
   ],
   "source": [
    "#Clicks mean values\n",
    "exp_cl_mean = ab_data.n_clicks.loc[exp].mean()\n",
    "ctrl_cl_mean = ab_data.n_clicks.loc[ctrl].mean()\n",
    "print('Mean number of clicks in each group')\n",
    "print('Exp: %.4f' % exp_cl_mean)\n",
    "print('Control: %.4f' % ctrl_cl_mean)\n",
    "print('')\n",
    "\n",
    "#Clicks median values\n",
    "exp_cl_mean = ab_data.n_clicks.loc[exp].median()\n",
    "ctrl_cl_mean = ab_data.n_clicks.loc[ctrl].median()\n",
    "print('Median number of clicks in each group')\n",
    "print('Exp: %d' % exp_cl_mean)\n",
    "print('Control: %d' % ctrl_cl_mean)"
   ]
  },
  {
   "cell_type": "code",
   "execution_count": 15,
   "metadata": {
    "collapsed": true
   },
   "outputs": [],
   "source": [
    "def get_bootstrap_samples(data, n_samples):\n",
    "    indices = np.random.randint(0, len(data), (n_samples, len(data)))\n",
    "    samples = data[indices]\n",
    "    return samples"
   ]
  },
  {
   "cell_type": "code",
   "execution_count": 13,
   "metadata": {
    "collapsed": true
   },
   "outputs": [],
   "source": [
    "def stat_intervals(stat, alpha):\n",
    "    boundaries = np.percentile(stat, [100 * alpha / 2., 100 * (1 - alpha / 2.)])\n",
    "    return boundaries"
   ]
  },
  {
   "cell_type": "code",
   "execution_count": 108,
   "metadata": {},
   "outputs": [
    {
     "name": "stdout",
     "output_type": "stream",
     "text": [
      "Wall time: 17.1 s\n"
     ]
    }
   ],
   "source": [
    "%%time\n",
    "#confidence intervals estimation\n",
    "np.random.seed(0)\n",
    "\n",
    "num_of_samples = 500\n",
    "\n",
    "exp_cl_mean, ctrl_cl_mean = np.empty(num_of_samples), np.empty(num_of_samples)\n",
    "exp_cl_median, ctrl_cl_median = np.empty(num_of_samples), np.empty(num_of_samples)\n",
    "\n",
    "ctrl_cl_var = np.empty(num_of_samples)\n",
    "\n",
    "exp_data = get_bootstrap_samples(ab_data.n_clicks.loc[exp].values, num_of_samples)\n",
    "ctrl_data = get_bootstrap_samples(ab_data.n_clicks.loc[ctrl].values, num_of_samples)\n",
    "\n",
    "for i in range(num_of_samples):\n",
    "    exp_cl_mean[i], ctrl_cl_mean[i] = exp_data[i].mean(), ctrl_data[i].mean() \n",
    "    exp_cl_median[i], ctrl_cl_median[i] = np.median(exp_data[i]), np.median(ctrl_data[i])\n",
    "    \n",
    "    ctrl_cl_var[i] = ctrl_data[i].var()"
   ]
  },
  {
   "cell_type": "code",
   "execution_count": 109,
   "metadata": {},
   "outputs": [
    {
     "name": "stdout",
     "output_type": "stream",
     "text": [
      "Conf. int. delta mean: [0.1996, 0.4050]\n",
      "Conf. int. delta median: [1, 1]\n",
      "legend: diff = exp - control\n"
     ]
    }
   ],
   "source": [
    "delta_mean = map(lambda x: x[0] - x[1], zip(exp_cl_mean, ctrl_cl_mean))\n",
    "delta_median = map(lambda x: x[0] - x[1], zip(exp_cl_median, ctrl_cl_median))\n",
    "\n",
    "delta_mean_bnd = stat_intervals(delta_mean, 0.05)\n",
    "delta_median_bnd = stat_intervals(delta_median, 0.05)\n",
    "\n",
    "print('Conf. int. delta mean: [%.4f, %.4f]' % (delta_mean_bnd[0], delta_mean_bnd[1]))\n",
    "print('Conf. int. delta median: [%d, %d]' % (delta_median_bnd[0], delta_median_bnd[1]))\n",
    "print('legend: diff = exp - control')"
   ]
  },
  {
   "cell_type": "markdown",
   "metadata": {},
   "source": [
    "Поскольку данных достаточно много (порядка полумиллиона уникальных пользователей), отличие в несколько процентов может быть не только практически значимым, но и значимым статистически. Последнее утверждение нуждается в дополнительной проверке."
   ]
  },
  {
   "cell_type": "code",
   "execution_count": 110,
   "metadata": {},
   "outputs": [
    {
     "data": {
      "image/png": "[encoded data removed]",
      "text/plain": [
       "<matplotlib.figure.Figure at 0xe0737b8>"
      ]
     },
     "metadata": {},
     "output_type": "display_data"
    }
   ],
   "source": [
    "_ = plt.figure(figsize=(15,5))\n",
    "_ = plt.subplot(121)\n",
    "_ = plt.hist(ab_data.n_clicks.loc[exp], bins=100)\n",
    "_ = plt.title('Experiment group')\n",
    "_ = plt.subplot(122)\n",
    "_ = plt.hist(ab_data.n_clicks.loc[ctrl], bins=100)\n",
    "_ = plt.title('Control group')"
   ]
  },
  {
   "cell_type": "markdown",
   "metadata": {},
   "source": [
    "t-критерий Стьюдента имеет множество достоинств, и потому его достаточно часто применяют в AB экспериментах. Иногда его применение может быть необоснованно из-за сильной скошенности распределения данных."
   ]
  },
  {
   "cell_type": "markdown",
   "metadata": {},
   "source": [
    "Для простоты рассмотрим одновыборочный t-критерий. Чтобы действительно предположения t-критерия выполнялись необходимо, чтобы:\n",
    "\n",
    "* среднее значение в выборке было распределено нормально N(μ,σ2n)\n",
    "* несмещенная оценка дисперсии c масштабирующим коэффициентом была распределена по хи-квадрат c n−1 степенями свободы χ2(n−1)"
   ]
  },
  {
   "cell_type": "markdown",
   "metadata": {},
   "source": [
    "Оба этих предположения можно проверить с помощью бутстрепа. Ограничимся сейчас только контрольной группой, в которой распределение кликов будем называть данными в рамках данного вопроса.\n",
    "\n",
    "Поскольку мы не знаем истинного распределения генеральной совокупности, мы можем применить бутстреп, чтобы понять, как распределены среднее значение и выборочная дисперсия.\n",
    "\n",
    "Для этого\n",
    "\n",
    "* получим из данных n_boot_samples псевдовыборок.\n",
    "* по каждой из этих выборок посчитаем среднее и сумму квадратов отклонения от выборочного среднего\n",
    "* для получившегося вектора средних значений из n_boot_samples построим q-q plot с помощью scipy.stats.probplot для нормального распределения\n",
    "* для получившегося вектора сумм квадратов отклонения от выборочного среднего построим qq-plot с помощью scipy.stats.probplot для хи-квадрат распределения"
   ]
  },
  {
   "cell_type": "code",
   "execution_count": 123,
   "metadata": {},
   "outputs": [
    {
     "data": {
      "image/png": "[encoded data removed]",
      "text/plain": [
       "<matplotlib.figure.Figure at 0x130eb630>"
      ]
     },
     "metadata": {},
     "output_type": "display_data"
    }
   ],
   "source": [
    "#probability plot for means\n",
    "_ = stats.probplot(ctrl_cl_mean, plot=plt, rvalue=True)\n",
    "_ = plt.title('Probability plot for means')"
   ]
  },
  {
   "cell_type": "code",
   "execution_count": 125,
   "metadata": {},
   "outputs": [
    {
     "data": {
      "image/png": "[encoded data removed]",
      "text/plain": [
       "<matplotlib.figure.Figure at 0x1d259e80>"
      ]
     },
     "metadata": {},
     "output_type": "display_data"
    }
   ],
   "source": [
    "#probability plot for variances\n",
    "_ = stats.probplot(ctrl_cl_var, plot=plt, dist='chi2', sparams=(ctrl_cl_mean.shape[0]-1), rvalue=True)\n",
    "_ = plt.title('Probability plot for variances')"
   ]
  },
  {
   "cell_type": "markdown",
   "metadata": {},
   "source": [
    "Одним из возможных аналогов t-критерия, которым можно воспрользоваться, является тест Манна-Уитни. На достаточно обширном классе распределений он является асимптотически более эффективным, чем t-критерий, и при этом не требует параметрических предположений о характере распределения.\n",
    "\n",
    "Разделим выборку на две части, соответствующие control и exp группам. Преобразуем данные к виду, чтобы каждому пользователю соответствовало суммарное значение его кликов. С помощью критерия Манна-Уитни проверим гипотезу о равенстве средних."
   ]
  },
  {
   "cell_type": "code",
   "execution_count": 179,
   "metadata": {},
   "outputs": [
    {
     "data": {
      "text/plain": [
       "userID  browser\n",
       "1       2          23\n",
       "3       4           3\n",
       "5       4          29\n",
       "7       4          54\n",
       "9       4           6\n",
       "Name: n_clicks, dtype: int64"
      ]
     },
     "execution_count": 179,
     "metadata": {},
     "output_type": "execute_result"
    },
    {
     "data": {
      "text/plain": [
       "userID  browser\n",
       "6       4          12\n",
       "8       4           4\n",
       "10      4          22\n",
       "15      14          2\n",
       "23      4           3\n",
       "Name: n_clicks, dtype: int64"
      ]
     },
     "execution_count": 179,
     "metadata": {},
     "output_type": "execute_result"
    }
   ],
   "source": [
    "users_nclicks_exp = ab_data.loc[exp].groupby(['userID', 'browser']).sum().loc[:,'n_clicks']\n",
    "users_nclicks_ctrl = ab_data.loc[ctrl].groupby(['userID', 'browser']).sum().loc[:,'n_clicks']\n",
    "\n",
    "users_nclicks_exp.head()\n",
    "users_nclicks_ctrl.head()"
   ]
  },
  {
   "cell_type": "code",
   "execution_count": 206,
   "metadata": {},
   "outputs": [
    {
     "data": {
      "text/plain": [
       "MannwhitneyuResult(statistic=41184125116.0, pvalue=6.2472358013696291e-75)"
      ]
     },
     "execution_count": 206,
     "metadata": {},
     "output_type": "execute_result"
    }
   ],
   "source": [
    "stats.mannwhitneyu(users_nclicks_exp, users_nclicks_ctrl, alternative='two-sided')"
   ]
  },
  {
   "cell_type": "markdown",
   "metadata": {},
   "source": [
    "Проверим, для какого из браузеров наиболее сильно выражено отличие между количеством кликов в контрольной и экспериментальной группах.\n",
    "\n",
    "Для этого применим для каждого из срезов (по каждому из уникальных значений столбца browser) критерий Манна-Уитни между control и exp группами и сделаем поправку Холма-Бонферрони на множественную проверку с α=0.05."
   ]
  },
  {
   "cell_type": "code",
   "execution_count": 183,
   "metadata": {},
   "outputs": [
    {
     "data": {
      "text/plain": [
       "browser  userID\n",
       "2        1         23\n",
       "         31         7\n",
       "         38        39\n",
       "         41        32\n",
       "         46         4\n",
       "Name: n_clicks, dtype: int64"
      ]
     },
     "execution_count": 183,
     "metadata": {},
     "output_type": "execute_result"
    },
    {
     "data": {
      "text/plain": [
       "browser  userID\n",
       "2        29         9\n",
       "         32         3\n",
       "         60         5\n",
       "         70         5\n",
       "         73        13\n",
       "Name: n_clicks, dtype: int64"
      ]
     },
     "execution_count": 183,
     "metadata": {},
     "output_type": "execute_result"
    }
   ],
   "source": [
    "browsers_nclicks_exp = ab_data.loc[exp].groupby(['browser', 'userID']).sum().loc[:,'n_clicks']\n",
    "browsers_nclicks_ctrl = ab_data.loc[ctrl].groupby(['browser', 'userID']).sum().loc[:,'n_clicks']\n",
    "\n",
    "browsers_nclicks_exp.head()\n",
    "browsers_nclicks_ctrl.head()"
   ]
  },
  {
   "cell_type": "code",
   "execution_count": 210,
   "metadata": {},
   "outputs": [
    {
     "name": "stdout",
     "output_type": "stream",
     "text": [
      "Unique browsers numbers: [ 2  4 14 17 20 22]\n",
      "\n",
      "Mann-Whitney rank test without multipletest\n",
      "Browser #2:  p-value = 0.0545\n",
      "Browser #4:  p-value = 0.8152\n",
      "Browser #14:  p-value = 0.0000\n",
      "Browser #17:  p-value = 0.0748\n",
      "Browser #20:  p-value = 0.9073\n",
      "Browser #22:  p-value = 0.5148\n",
      "\n",
      "Mann-Whitney rank test with multipletest\n",
      "Browser #2:  p-value = 0.2724\n",
      "Browser #4:  p-value = 1.0000\n",
      "Browser #14:  p-value = 0.0000\n",
      "Browser #17:  p-value = 0.2992\n",
      "Browser #20:  p-value = 1.0000\n",
      "Browser #22:  p-value = 1.0000\n"
     ]
    }
   ],
   "source": [
    "#Unique browsers\n",
    "browsers = np.unique(ab_data.browser)\n",
    "print('Unique browsers numbers: ' + str(browsers))\n",
    "print('')\n",
    "\n",
    "print('Mann-Whitney rank test without multipletest')\n",
    "mw_p = np.empty(browsers.shape[0])\n",
    "for i, br in enumerate(browsers):\n",
    "    print('Browser #%d: ' % br),\n",
    "    _, mw_p[i] = stats.mannwhitneyu(browsers_nclicks_exp.loc[br, :], browsers_nclicks_ctrl.loc[br, :], alternative='two-sided')\n",
    "    print('p-value = %.4f' % mw_p[i])\n",
    "\n",
    "print('')\n",
    "print('Mann-Whitney rank test with multipletest')\n",
    "_, mw_p_corr, _, _ = multipletests(mw_p, alpha = 0.05, method = 'holm')\n",
    "for i, br in enumerate(browsers):\n",
    "    print('Browser #%d: ' % br),\n",
    "    print('p-value = %.4f' % mw_p_corr[i])"
   ]
  },
  {
   "cell_type": "markdown",
   "metadata": {},
   "source": [
    "Для каждого браузера в каждой из двух групп (control и exp) посчитаем долю запросов, в которых пользователь не кликнул ни разу. Это можно сделать, поделив сумму значений n_nonclk_queries на сумму значений n_queries. Умножив это значение на 100, получим процент некликнутых запросов, который можно легче проинтерпретировать."
   ]
  },
  {
   "cell_type": "code",
   "execution_count": 239,
   "metadata": {},
   "outputs": [
    {
     "name": "stdout",
     "output_type": "stream",
     "text": [
      "Control / experimental groups\n",
      "Browser #2 [ 0.45962747] / [ 0.44982747]\n",
      "Browser #4 [ 0.4697093] / [ 0.45142942]\n",
      "Browser #14 [ 0.57590411] / [ 0.43755617]\n",
      "Browser #17 [ 0.36299367] / [ 0.36937413]\n",
      "Browser #20 [ 0.40540485] / [ 0.38977376]\n",
      "Browser #22 [ 0.40593977] / [ 0.39853947]\n"
     ]
    }
   ],
   "source": [
    "browsers_nonclk_q_exp = ab_data.loc[exp].groupby(['browser']).sum().loc[:,'n_nonclk_queries']\n",
    "browsers_clk_q_exp = ab_data.loc[exp].groupby(['browser']).sum().loc[:,'n_queries']\n",
    "browsers_nonclk_q_prop_exp = browsers_nonclk_q_exp / browsers_clk_q_exp\n",
    "\n",
    "browsers_nonclk_q_ctrl = ab_data.loc[ctrl].groupby(['browser']).sum().loc[:,'n_nonclk_queries']\n",
    "browsers_clk_q_ctrl = ab_data.loc[ctrl].groupby(['browser']).sum().loc[:,'n_queries']\n",
    "browsers_nonclk_q_prop_ctrl = browsers_nonclk_q_ctrl / browsers_clk_q_ctrl\n",
    "\n",
    "print('Control / experimental groups')\n",
    "for br in browsers:\n",
    "    print('Browser #%d' % br),\n",
    "    print(browsers_nonclk_q_prop_ctrl.loc[browsers_nonclk_q_prop_ctrl.index == br].values),\n",
    "    print('/'),\n",
    "    print(browsers_nonclk_q_prop_exp.loc[browsers_nonclk_q_prop_ctrl.index == br].values)"
   ]
  }
 ],
 "metadata": {
  "kernelspec": {
   "display_name": "Python 2",
   "language": "python",
   "name": "python2"
  },
  "language_info": {
   "codemirror_mode": {
    "name": "ipython",
    "version": 2
   },
   "file_extension": ".py",
   "mimetype": "text/x-python",
   "name": "python",
   "nbconvert_exporter": "python",
   "pygments_lexer": "ipython2",
   "version": "2.7.13"
  }
 },
 "nbformat": 4,
 "nbformat_minor": 2
}
