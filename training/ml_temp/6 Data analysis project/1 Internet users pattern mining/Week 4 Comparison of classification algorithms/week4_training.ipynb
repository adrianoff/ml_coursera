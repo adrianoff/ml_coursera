{
 "cells": [
  {
   "cell_type": "markdown",
   "metadata": {},
   "source": [
    "<center>\n",
    "<img src=\"https://habrastorage.org/web/677/8e1/337/6778e1337c3d4b159d7e99df94227cb2.jpg\"/>\n",
    "## Специализация \"Машинное обучение и анализ данных\"\n",
    "</center>\n",
    "<center>Автор материала: программист-исследователь Mail.ru Group, старший преподаватель Факультета Компьютерных Наук ВШЭ Юрий Кашницкий"
   ]
  },
  {
   "cell_type": "markdown",
   "metadata": {},
   "source": [
    "# <center> Capstone проект №1. Идентификация пользователей по посещенным веб-страницам\n",
    "<img src='http://i.istockimg.com/file_thumbview_approve/21546327/5/stock-illustration-21546327-identification-de-l-utilisateur.jpg'>\n",
    "\n",
    "# <center>Неделя 4.  Сравнение алгоритмов классификации\n",
    "\n",
    "Теперь мы наконец подойдем к обучению моделей классификации, сравним на кросс-валидации несколько алгоритмов, разберемся, какие параметры длины сессии (*session_length* и *window_size*) лучше использовать. Также для выбранного алгоритма построим кривые валидации (как качество классификации зависит от одного из гиперпараметров алгоритма) и кривые обучения (как качество классификации зависит от объема выборки).\n",
    "\n",
    "**План 4 недели:**\n",
    "- Часть 1. Сравнение нескольких алгоритмов на сессиях из 10 сайтов\n",
    "- Часть 2. Выбор параметров – длины сессии и ширины окна\n",
    "- Часть 3. Идентификация  конкретного пользователя и кривые обучения\n",
    " \n",
    "\n",
    "\n",
    "**В этой части проекта Вам могут быть полезны видеозаписи следующих лекций курса \"Обучение на размеченных данных\":**\n",
    "   - [Линейная классификация](https://www.coursera.org/learn/supervised-learning/lecture/jqLcO/linieinaia-klassifikatsiia)\n",
    "   - [Сравнение алгоритмов и выбор гиперпараметров](https://www.coursera.org/learn/supervised-learning/lecture/aF79U/sravnieniie-alghoritmov-i-vybor-ghipierparamietrov)\n",
    "   - [Кросс-валидация. Sklearn.cross_validation](https://www.coursera.org/learn/supervised-learning/lecture/XbHEk/kross-validatsiia-sklearn-cross-validation)\n",
    "   - [Линейные модели. Sklearn.linear_model. Классификация](https://www.coursera.org/learn/supervised-learning/lecture/EBg9t/linieinyie-modieli-sklearn-linear-model-klassifikatsiia)\n",
    "   - и многие другие\n"
   ]
  },
  {
   "cell_type": "code",
   "execution_count": 1,
   "metadata": {
    "collapsed": true
   },
   "outputs": [],
   "source": [
    "from __future__ import division, print_function\n",
    "from time import time\n",
    "import itertools\n",
    "import os\n",
    "import numpy as np\n",
    "import pandas as pd\n",
    "pd.set_option('display.max.columns', 100)\n",
    "import seaborn as sns\n",
    "%matplotlib inline\n",
    "from matplotlib import pyplot as plt\n",
    "import pickle\n",
    "from scipy.sparse import csr_matrix\n",
    "from sklearn.model_selection import train_test_split, cross_val_score, StratifiedKFold, GridSearchCV\n",
    "from sklearn.metrics import accuracy_score, f1_score"
   ]
  },
  {
   "cell_type": "code",
   "execution_count": 2,
   "metadata": {
    "collapsed": true
   },
   "outputs": [],
   "source": [
    "# Поменяйте на свой путь к данным\n",
    "PATH_TO_DATA = ('../Dataset/capstone_user_identification')"
   ]
  },
  {
   "cell_type": "markdown",
   "metadata": {},
   "source": [
    "## Часть 1. Сравнение нескольких алгоритмов на сессиях из 10 сайтов"
   ]
  },
  {
   "cell_type": "markdown",
   "metadata": {},
   "source": [
    "**Загрузим сериализованные ранее объекты *X_sparse_10users* и *y_10users*, соответствующие обучающей выборке для 10 пользователей.**"
   ]
  },
  {
   "cell_type": "code",
   "execution_count": 3,
   "metadata": {
    "collapsed": true
   },
   "outputs": [],
   "source": [
    "with open(os.path.join(PATH_TO_DATA, 'X_sparse_10users.pkl'), 'rb') as X_sparse_10users_pkl:\n",
    "    X_sparse_10users = pickle.load(X_sparse_10users_pkl)\n",
    "    \n",
    "with open(os.path.join(PATH_TO_DATA, 'y_10users.pkl'), 'rb') as y_10users_pkl:\n",
    "    y_10users = pickle.load(y_10users_pkl)"
   ]
  },
  {
   "cell_type": "markdown",
   "metadata": {},
   "source": [
    "**Здесь более 14 тысяч сессий и почти 5 тысяч уникальных посещенных сайтов.**"
   ]
  },
  {
   "cell_type": "code",
   "execution_count": 4,
   "metadata": {},
   "outputs": [
    {
     "data": {
      "text/plain": [
       "(14061, 4913)"
      ]
     },
     "execution_count": 4,
     "metadata": {},
     "output_type": "execute_result"
    }
   ],
   "source": [
    "X_sparse_10users.shape"
   ]
  },
  {
   "cell_type": "markdown",
   "metadata": {},
   "source": [
    "**Разобьем выборку на 2 части. На одной будем проводить кросс-валидацию, на второй – оценивать модель, обученную после кросс-валидации.**"
   ]
  },
  {
   "cell_type": "code",
   "execution_count": 5,
   "metadata": {
    "collapsed": true
   },
   "outputs": [],
   "source": [
    "X_train, X_valid, y_train, y_valid = train_test_split(X_sparse_10users, y_10users, test_size=0.3, \n",
    "                                                      random_state=17, stratify=y_10users)"
   ]
  },
  {
   "cell_type": "markdown",
   "metadata": {},
   "source": [
    "**Зададим заранее тип кросс-валидации: 3-кратная, с перемешиванием, параметр random_state=17 – для воспроизводимости.**"
   ]
  },
  {
   "cell_type": "code",
   "execution_count": 6,
   "metadata": {
    "collapsed": true
   },
   "outputs": [],
   "source": [
    "skf = StratifiedKFold(n_splits=3, shuffle=True, random_state=17)"
   ]
  },
  {
   "cell_type": "markdown",
   "metadata": {},
   "source": [
    "**Вспомогательная функция для отрисовки кривых валидации после запуска GridSearchCV (или RandomizedCV).**"
   ]
  },
  {
   "cell_type": "code",
   "execution_count": 7,
   "metadata": {
    "collapsed": true
   },
   "outputs": [],
   "source": [
    "def plot_validation_curves(param_values, grid_cv_results_):\n",
    "    train_mu, train_std = grid_cv_results_['mean_train_score'], grid_cv_results_['std_train_score']\n",
    "    valid_mu, valid_std = grid_cv_results_['mean_test_score'], grid_cv_results_['std_test_score']\n",
    "    train_line = plt.plot(param_values, train_mu, '-', label='train', color='green')\n",
    "    valid_line = plt.plot(param_values, valid_mu, '-', label='test', color='red')\n",
    "    plt.fill_between(param_values, train_mu - train_std, train_mu + train_std, edgecolor='none',\n",
    "                     facecolor=train_line[0].get_color(), alpha=0.2)\n",
    "    plt.fill_between(param_values, valid_mu - valid_std, valid_mu + valid_std, edgecolor='none',\n",
    "                     facecolor=valid_line[0].get_color(), alpha=0.2)\n",
    "    plt.legend()"
   ]
  },
  {
   "cell_type": "code",
   "execution_count": 8,
   "metadata": {
    "collapsed": true
   },
   "outputs": [],
   "source": [
    "def write_answer_to_file(answer, file_address):\n",
    "    with open(file_address, 'w') as out_f:\n",
    "        out_f.write(str(answer))"
   ]
  },
  {
   "cell_type": "markdown",
   "metadata": {},
   "source": [
    "**1. Обучите `KNeighborsClassifier` со 100 ближайшими соседями (остальные параметры оставьте по умолчанию, только `n_jobs`=-1 для распараллеливания) и посмотрите на долю правильных ответов на 3-кратной кросс-валидации (ради воспроизводимости используйте для этого объект `StratifiedKFold` `skf`) по выборке `(X_train, y_train)` и отдельно на выборке `(X_valid, y_valid)`.**"
   ]
  },
  {
   "cell_type": "code",
   "execution_count": 9,
   "metadata": {
    "collapsed": true
   },
   "outputs": [],
   "source": [
    "from sklearn.neighbors import KNeighborsClassifier"
   ]
  },
  {
   "cell_type": "code",
   "execution_count": 42,
   "metadata": {},
   "outputs": [
    {
     "name": "stdout",
     "output_type": "stream",
     "text": [
      "[ 0.56377473  0.56145166  0.55979256]\n",
      "CPU times: user 1.98 s, sys: 724 ms, total: 2.71 s\n",
      "Wall time: 4.25 s\n"
     ]
    }
   ],
   "source": [
    "%%time\n",
    "knn = KNeighborsClassifier(n_neighbors=100, n_jobs=-1)\n",
    "scores_knn_train = cross_val_score(knn, X_train, y_train, cv=skf, scoring='accuracy')\n",
    "print(scores_knn_train)"
   ]
  },
  {
   "cell_type": "code",
   "execution_count": 54,
   "metadata": {},
   "outputs": [
    {
     "name": "stdout",
     "output_type": "stream",
     "text": [
      "0.584024650391\n",
      "CPU times: user 1.15 s, sys: 440 ms, total: 1.59 s\n",
      "Wall time: 2.53 s\n"
     ]
    }
   ],
   "source": [
    "%%time\n",
    "knn_clf = knn.fit(X_train, y_train)\n",
    "y_pred = knn_clf.predict(X_valid)\n",
    "knn_clf_score = accuracy_score(y_valid, y_pred)\n",
    "print(knn_clf_score)"
   ]
  },
  {
   "cell_type": "markdown",
   "metadata": {},
   "source": [
    "**Запишите в файл *answer4_1.txt* доли правильных ответов для KNeighborsClassifier на кросс-валидации и отложенной выборке. Округлите каждое до 3 знаков после запятой и запишите в файл через пробел.**"
   ]
  },
  {
   "cell_type": "code",
   "execution_count": 60,
   "metadata": {},
   "outputs": [
    {
     "name": "stdout",
     "output_type": "stream",
     "text": [
      "0.562 0.584\n"
     ]
    }
   ],
   "source": [
    "answer = np.round([np.mean(scores_knn_train), knn_clf_score], 3)\n",
    "answer = ' '.join(map(str, answer))\n",
    "print(answer)\n",
    "\n",
    "write_answer_to_file(answer, 'answer4_1.txt')"
   ]
  },
  {
   "cell_type": "markdown",
   "metadata": {},
   "source": [
    "**2. Обучите случайный лес (`RandomForestClassifier`) из 100 деревьев (для воспроизводимости `random_state`=17). Посмотрите на OOB-оценку (для этого надо сразу установить `oob_score`=True) и на долю правильных ответов на выборке `(X_valid, y_valid)`. Для распараллеливания задайте `n_jobs`=-1.**"
   ]
  },
  {
   "cell_type": "code",
   "execution_count": 61,
   "metadata": {
    "collapsed": true
   },
   "outputs": [],
   "source": [
    "from sklearn.ensemble import RandomForestClassifier"
   ]
  },
  {
   "cell_type": "code",
   "execution_count": 66,
   "metadata": {},
   "outputs": [
    {
     "name": "stdout",
     "output_type": "stream",
     "text": [
      "[ 0.71354642  0.71851174  0.71262965]\n",
      "CPU times: user 45.2 s, sys: 124 ms, total: 45.3 s\n",
      "Wall time: 13.6 s\n"
     ]
    }
   ],
   "source": [
    "%%time\n",
    "forest = RandomForestClassifier(n_estimators=100, random_state=17, oob_score=True, n_jobs=-1)\n",
    "scores_forest_train = cross_val_score(forest, X_train, y_train, cv=skf, scoring='accuracy')\n",
    "print(scores_forest_train)"
   ]
  },
  {
   "cell_type": "code",
   "execution_count": 64,
   "metadata": {},
   "outputs": [
    {
     "name": "stdout",
     "output_type": "stream",
     "text": [
      "0.735008295805\n",
      "CPU times: user 23.6 s, sys: 76 ms, total: 23.6 s\n",
      "Wall time: 6.87 s\n"
     ]
    }
   ],
   "source": [
    "%%time\n",
    "forest_clf = forest.fit(X_train, y_train)\n",
    "y_pred = forest_clf.predict(X_valid)\n",
    "forest_clf_score = accuracy_score(y_valid, y_pred)\n",
    "print(forest_clf_score)"
   ]
  },
  {
   "cell_type": "markdown",
   "metadata": {},
   "source": [
    "**Запишите в файл *answer4_2.txt* доли правильных ответов для `RandomForestClassifier` при Out-of-Bag оценке на кросс-валидации и отложенной выборке. Округлите каждое до 3 знаков после запятой и запишите в файл через пробел.**"
   ]
  },
  {
   "cell_type": "code",
   "execution_count": 65,
   "metadata": {},
   "outputs": [
    {
     "name": "stdout",
     "output_type": "stream",
     "text": [
      "0.715 0.735\n"
     ]
    }
   ],
   "source": [
    "answer = np.round([np.mean(scores_forest_train), forest_clf_score], 3)\n",
    "answer = ' '.join(map(str, answer))\n",
    "print(answer)\n",
    "\n",
    "write_answer_to_file(answer, 'answer4_2.txt')"
   ]
  },
  {
   "cell_type": "code",
   "execution_count": 67,
   "metadata": {},
   "outputs": [
    {
     "name": "stdout",
     "output_type": "stream",
     "text": [
      "0.715 0.735"
     ]
    }
   ],
   "source": [
    "!cat answer4_2.txt"
   ]
  },
  {
   "cell_type": "markdown",
   "metadata": {},
   "source": [
    "**3. Обучите логистическую регрессию (`LogisticRegression`) с параметром `C` по умолчанию и `random_state`=17 (для воспроизводимости). Посмотрите на долю правильных ответов на кросс-валидации (используйте объект `skf`, созданный ранее) и на выборке `(X_valid, y_valid)`. Для распараллеливания задайте `n_jobs=-1`.**"
   ]
  },
  {
   "cell_type": "code",
   "execution_count": 68,
   "metadata": {
    "collapsed": true
   },
   "outputs": [],
   "source": [
    "from sklearn.linear_model import LogisticRegression, LogisticRegressionCV"
   ]
  },
  {
   "cell_type": "code",
   "execution_count": 69,
   "metadata": {},
   "outputs": [
    {
     "name": "stdout",
     "output_type": "stream",
     "text": [
      "[ 0.76225266  0.76059774  0.76479561]\n",
      "CPU times: user 2.66 s, sys: 12 ms, total: 2.67 s\n",
      "Wall time: 1.35 s\n"
     ]
    }
   ],
   "source": [
    "%%time\n",
    "logit = LogisticRegression(random_state=17, n_jobs=-1)\n",
    "scores_logit_train = cross_val_score(logit, X_train, y_train, cv=skf, scoring='accuracy')\n",
    "print(scores_logit_train)"
   ]
  },
  {
   "cell_type": "code",
   "execution_count": 70,
   "metadata": {},
   "outputs": [
    {
     "name": "stdout",
     "output_type": "stream",
     "text": [
      "0.781701825077\n",
      "CPU times: user 1.46 s, sys: 8 ms, total: 1.47 s\n",
      "Wall time: 744 ms\n"
     ]
    }
   ],
   "source": [
    "%%time\n",
    "logit_clf = logit.fit(X_train, y_train)\n",
    "y_pred = logit_clf.predict(X_valid)\n",
    "logit_clf_score = accuracy_score(y_valid, y_pred)\n",
    "print(logit_clf_score)"
   ]
  },
  {
   "cell_type": "markdown",
   "metadata": {},
   "source": [
    "**Почитайте документацию к [LogisticRegressionCV](http://scikit-learn.org/stable/modules/generated/sklearn.linear_model.LogisticRegressionCV.html). Логистическая регрессия хорошо изучена, и для нее существуют алгоритмы быстрого подбора параметра регуляризации `C` (быстрее, чем с `GridSearchCV`).**\n",
    "\n",
    "**С помощью `LogisticRegressionCV` подберите параметр `C` для `LogisticRegression` сначала в широком диапазоне: 10 значений от 1e-4 до 1e2, используйте `logspace` из `NumPy`. Укажите у `LogisticRegressionCV` параметры `multi_class`='multinomial' и `random_state`=17. Для кросс-валидации используйте объект `skf`, созданный ранее. Для распараллеливания задайте `n_jobs=-1`.**\n",
    "\n",
    "**Нарисуйте кривые валидации по параметру `C`.**"
   ]
  },
  {
   "cell_type": "code",
   "execution_count": 83,
   "metadata": {
    "scrolled": false
   },
   "outputs": [
    {
     "name": "stdout",
     "output_type": "stream",
     "text": [
      "CPU times: user 2.93 s, sys: 124 ms, total: 3.05 s\n",
      "Wall time: 20.7 s\n"
     ]
    }
   ],
   "source": [
    "%%time\n",
    "logit_c_values1 = np.logspace(-4, 2, 10)\n",
    "\n",
    "logit_grid_searcher1 = LogisticRegressionCV(Cs=logit_c_values1.tolist(), multi_class='multinomial',\n",
    "                                            cv=skf, random_state=17, n_jobs=-1)\n",
    "logit_grid_searcher1.fit(X_train, y_train)"
   ]
  },
  {
   "cell_type": "markdown",
   "metadata": {},
   "source": [
    "Средние значения доли правильных ответов на кросс-валидации по каждому из 10 параметров `C`."
   ]
  },
  {
   "cell_type": "code",
   "execution_count": 111,
   "metadata": {},
   "outputs": [
    {
     "data": {
      "text/plain": [
       "array([ 0.32724505,  0.46940639,  0.55190259,  0.64231355,  0.71171994,\n",
       "        0.74581431,  0.75920852,  0.76164384,  0.75494673,  0.74611872])"
      ]
     },
     "execution_count": 111,
     "metadata": {},
     "output_type": "execute_result"
    }
   ],
   "source": [
    "logit_mean_cv_scores1 = logit_grid_searcher1.scores_[1][0]\n",
    "logit_c_values1 = logit_grid_searcher1.Cs_\n",
    "\n",
    "logit_mean_cv_scores1"
   ]
  },
  {
   "cell_type": "markdown",
   "metadata": {},
   "source": [
    "Выведите лучшее значение доли правильных ответов на кросс-валидации и соответствующее значение `C`."
   ]
  },
  {
   "cell_type": "code",
   "execution_count": 112,
   "metadata": {},
   "outputs": [
    {
     "name": "stdout",
     "output_type": "stream",
     "text": [
      "0.761643835616\n",
      "4.64158883361\n"
     ]
    }
   ],
   "source": [
    "print(np.max(logit_mean_cv_scores1))\n",
    "print(logit_grid_searcher1.C_[0])"
   ]
  },
  {
   "cell_type": "markdown",
   "metadata": {},
   "source": [
    "Нарисуйте график зависимости доли правильных ответов на кросс-валидации от `C`."
   ]
  },
  {
   "cell_type": "code",
   "execution_count": 119,
   "metadata": {},
   "outputs": [
    {
     "data": {
      "image/png": "[encoded data removed]",
      "text/plain": [
       "<matplotlib.figure.Figure at 0x7fb930d5b690>"
      ]
     },
     "metadata": {},
     "output_type": "display_data"
    }
   ],
   "source": [
    "plt.figure(figsize=(8,6))\n",
    "plt.plot(logit_c_values1, logit_mean_cv_scores1);\n",
    "plt.xlabel('logit C hyperparamether value')\n",
    "plt.ylabel('logit accuracy');"
   ]
  },
  {
   "cell_type": "markdown",
   "metadata": {},
   "source": [
    "**Теперь то же самое, только значения параметра `C` перебирайте в диапазоне `np.linspace`(3, 7, 20). Опять нарисуйте кривые валидации, определите максимальное значение доли правильных ответов на кросс-валидации.**"
   ]
  },
  {
   "cell_type": "code",
   "execution_count": 124,
   "metadata": {},
   "outputs": [
    {
     "name": "stdout",
     "output_type": "stream",
     "text": [
      "CPU times: user 2.98 s, sys: 144 ms, total: 3.12 s\n",
      "Wall time: 58.3 s\n"
     ]
    }
   ],
   "source": [
    "%%time\n",
    "logit_c_values2 = np.linspace(3, 7, 20)\n",
    "\n",
    "logit_grid_searcher2 = LogisticRegressionCV(Cs=logit_c_values2.tolist(), multi_class='multinomial',\n",
    "                                            cv=skf, random_state=17, n_jobs=-1)\n",
    "logit_grid_searcher2.fit(X_train, y_train)"
   ]
  },
  {
   "cell_type": "markdown",
   "metadata": {},
   "source": [
    "Средние значения доли правильных ответов на кросс-валидации по каждому из 10 параметров `C`."
   ]
  },
  {
   "cell_type": "code",
   "execution_count": 125,
   "metadata": {},
   "outputs": [
    {
     "data": {
      "text/plain": [
       "array([ 0.76438356,  0.76407915,  0.76407915,  0.76438356,  0.76499239,\n",
       "        0.76377473,  0.76468798,  0.76407915,  0.76407915,  0.76347032,\n",
       "        0.76286149,  0.76164384,  0.76103501,  0.76073059,  0.75981735,\n",
       "        0.75920852,  0.75981735,  0.75981735,  0.76042618,  0.75981735])"
      ]
     },
     "execution_count": 125,
     "metadata": {},
     "output_type": "execute_result"
    }
   ],
   "source": [
    "logit_mean_cv_scores2 = logit_grid_searcher2.scores_[1][0]\n",
    "logit_c_values2 = logit_grid_searcher2.Cs_\n",
    "\n",
    "logit_mean_cv_scores2"
   ]
  },
  {
   "cell_type": "markdown",
   "metadata": {},
   "source": [
    "Выведите лучшее значение доли правильных ответов на кросс-валидации и соответствующее значение `C`."
   ]
  },
  {
   "cell_type": "code",
   "execution_count": 226,
   "metadata": {},
   "outputs": [
    {
     "name": "stdout",
     "output_type": "stream",
     "text": [
      "0.76499238965\n",
      "3.84210526316\n"
     ]
    }
   ],
   "source": [
    "i = np.argmax(logit_mean_cv_scores2)\n",
    "print(logit_grid_searcher2.scores_[1][0][i])\n",
    "print(logit_grid_searcher2.Cs_[i])"
   ]
  },
  {
   "cell_type": "markdown",
   "metadata": {},
   "source": [
    "Нарисуйте график зависимости доли правильных ответов на кросс-валидации от `C`."
   ]
  },
  {
   "cell_type": "code",
   "execution_count": 220,
   "metadata": {},
   "outputs": [
    {
     "data": {
      "text/plain": [
       "array([ 3.42105263,  3.42105263,  3.42105263,  3.42105263,  3.42105263,\n",
       "        3.42105263,  3.42105263,  3.42105263,  3.42105263,  3.42105263])"
      ]
     },
     "execution_count": 220,
     "metadata": {},
     "output_type": "execute_result"
    }
   ],
   "source": [
    "logit_grid_searcher2.C_"
   ]
  },
  {
   "cell_type": "code",
   "execution_count": 217,
   "metadata": {},
   "outputs": [
    {
     "data": {
      "text/plain": [
       "array([ 3.        ,  3.21052632,  3.42105263,  3.63157895,  3.84210526,\n",
       "        4.05263158,  4.26315789,  4.47368421,  4.68421053,  4.89473684,\n",
       "        5.10526316,  5.31578947,  5.52631579,  5.73684211,  5.94736842,\n",
       "        6.15789474,  6.36842105,  6.57894737,  6.78947368,  7.        ])"
      ]
     },
     "execution_count": 217,
     "metadata": {},
     "output_type": "execute_result"
    }
   ],
   "source": [
    "logit_c_values2"
   ]
  },
  {
   "cell_type": "code",
   "execution_count": 218,
   "metadata": {},
   "outputs": [
    {
     "data": {
      "text/plain": [
       "array([ 0.76438356,  0.76407915,  0.76407915,  0.76438356,  0.76499239,\n",
       "        0.76377473,  0.76468798,  0.76407915,  0.76407915,  0.76347032,\n",
       "        0.76286149,  0.76164384,  0.76103501,  0.76073059,  0.75981735,\n",
       "        0.75920852,  0.75981735,  0.75981735,  0.76042618,  0.75981735])"
      ]
     },
     "execution_count": 218,
     "metadata": {},
     "output_type": "execute_result"
    }
   ],
   "source": [
    "logit_mean_cv_scores2"
   ]
  },
  {
   "cell_type": "code",
   "execution_count": 127,
   "metadata": {},
   "outputs": [
    {
     "data": {
      "image/png": "[encoded data removed]",
      "text/plain": [
       "<matplotlib.figure.Figure at 0x7fb9300b4a10>"
      ]
     },
     "metadata": {},
     "output_type": "display_data"
    }
   ],
   "source": [
    "plt.plot(logit_c_values2, logit_mean_cv_scores2);"
   ]
  },
  {
   "cell_type": "markdown",
   "metadata": {},
   "source": [
    "Выведите долю правильных ответов на выборке `(X_valid, y_valid)` для логистической регрессии с лучшим найденным значением `C`."
   ]
  },
  {
   "cell_type": "code",
   "execution_count": 128,
   "metadata": {},
   "outputs": [
    {
     "data": {
      "text/plain": [
       "0.77956861815596112"
      ]
     },
     "execution_count": 128,
     "metadata": {},
     "output_type": "execute_result"
    }
   ],
   "source": [
    "logit_cv_acc = accuracy_score(y_valid, logit_grid_searcher2.predict(X_valid))\n",
    "logit_cv_acc"
   ]
  },
  {
   "cell_type": "markdown",
   "metadata": {},
   "source": [
    "**Запишите в файл *answer4_3.txt* доли правильных ответов для `logit_grid_searcher2` на кросс-валидации для лучшего значения параметра `C` и на отложенной выборке. Округлите каждое до 3 знаков после запятой и запишите в файл через пробел.**"
   ]
  },
  {
   "cell_type": "code",
   "execution_count": 130,
   "metadata": {},
   "outputs": [
    {
     "name": "stdout",
     "output_type": "stream",
     "text": [
      "0.765 0.78\n"
     ]
    }
   ],
   "source": [
    "answer = np.round([np.max(logit_mean_cv_scores2), logit_cv_acc], 3)\n",
    "answer = ' '.join(map(str, answer))\n",
    "print(answer)\n",
    "\n",
    "write_answer_to_file(answer, 'answer4_3.txt')"
   ]
  },
  {
   "cell_type": "markdown",
   "metadata": {},
   "source": [
    "**4. Обучите линейный SVM (`LinearSVC`) с параметром `C`=1 и `random_state`=17 (для воспроизводимости). Посмотрите на долю правильных ответов на кросс-валидации (используйте объект `skf`, созданный ранее) и на выборке `(X_valid, y_valid)`.**"
   ]
  },
  {
   "cell_type": "code",
   "execution_count": 131,
   "metadata": {
    "collapsed": true
   },
   "outputs": [],
   "source": [
    "from sklearn.svm import LinearSVC"
   ]
  },
  {
   "cell_type": "code",
   "execution_count": 133,
   "metadata": {},
   "outputs": [],
   "source": [
    "svm = LinearSVC(C=1, random_state=17)"
   ]
  },
  {
   "cell_type": "code",
   "execution_count": 146,
   "metadata": {
    "scrolled": true
   },
   "outputs": [
    {
     "name": "stdout",
     "output_type": "stream",
     "text": [
      "[ 0.75677321  0.75327844  0.75930445]\n",
      "CPU times: user 80 ms, sys: 108 ms, total: 188 ms\n",
      "Wall time: 2.69 s\n"
     ]
    }
   ],
   "source": [
    "%%time\n",
    "scores_svm_train = cross_val_score(svm, X_train, y_train, cv=skf, scoring='accuracy', n_jobs=-1)\n",
    "print(scores_svm_train)"
   ]
  },
  {
   "cell_type": "code",
   "execution_count": 147,
   "metadata": {},
   "outputs": [
    {
     "name": "stdout",
     "output_type": "stream",
     "text": [
      "0.776961365252\n",
      "CPU times: user 2.26 s, sys: 4 ms, total: 2.26 s\n",
      "Wall time: 2.26 s\n"
     ]
    }
   ],
   "source": [
    "%%time\n",
    "svm_clf = svm.fit(X_train, y_train)\n",
    "y_pred = svm_clf.predict(X_valid)\n",
    "svm_clf_score = accuracy_score(y_valid, y_pred)\n",
    "print(svm_clf_score)"
   ]
  },
  {
   "cell_type": "markdown",
   "metadata": {},
   "source": [
    "**С помощью `GridSearchCV` подберите параметр `C` для SVM сначала в широком диапазоне: 10 значений от 1e-4 до 1e4, используйте `linspace` из NumPy. Нарисуйте кривые валидации.**"
   ]
  },
  {
   "cell_type": "code",
   "execution_count": 134,
   "metadata": {},
   "outputs": [
    {
     "name": "stdout",
     "output_type": "stream",
     "text": [
      "CPU times: user 3.64 s, sys: 128 ms, total: 3.77 s\n",
      "Wall time: 36.8 s\n"
     ]
    }
   ],
   "source": [
    "%%time\n",
    "svm_params1 = {'C': np.linspace(1e-4, 1e4, 10)}\n",
    "\n",
    "svm_grid_searcher1 = GridSearchCV(svm, svm_params1, scoring='accuracy', n_jobs=-1)\n",
    "svm_grid_searcher1.fit(X_train, y_train)"
   ]
  },
  {
   "cell_type": "markdown",
   "metadata": {},
   "source": [
    "Выведите лучшее значение доли правильных ответов на кросс-валидации и соответствующее значение `C`."
   ]
  },
  {
   "cell_type": "code",
   "execution_count": 136,
   "metadata": {},
   "outputs": [
    {
     "name": "stdout",
     "output_type": "stream",
     "text": [
      "0.684820158504\n",
      "{'C': 7777.7778000000008}\n"
     ]
    }
   ],
   "source": [
    "print(svm_grid_searcher1.best_score_)\n",
    "print(svm_grid_searcher1.best_params_)"
   ]
  },
  {
   "cell_type": "markdown",
   "metadata": {},
   "source": [
    "Нарисуйте график зависимости доли правильных ответов на кросс-валидации от `C`."
   ]
  },
  {
   "cell_type": "code",
   "execution_count": 140,
   "metadata": {},
   "outputs": [
    {
     "data": {
      "image/png": "[encoded data removed]",
      "text/plain": [
       "<matplotlib.figure.Figure at 0x7fb9300d4850>"
      ]
     },
     "metadata": {},
     "output_type": "display_data"
    }
   ],
   "source": [
    "plt.figure(figsize=(8, 6))\n",
    "plot_validation_curves(svm_params1['C'], svm_grid_searcher1.cv_results_)\n",
    "plt.xlabel('svm hyperparamether C')\n",
    "plt.ylabel('svm accuracy score');"
   ]
  },
  {
   "cell_type": "markdown",
   "metadata": {},
   "source": [
    "**Но мы помним, что с параметром регуляризации по умолчанию (С=1) на кросс-валидации доля правильных ответов выше. Это тот случай (не редкий), когда можно ошибиться и перебирать параметры не в том диапазоне (причина в том, что мы взяли равномерную сетку на большом интервале и упустили действительно хороший интервал значений `C`). Здесь намного осмысленней подбирать `C` в районе 1, к тому же, так модель быстрее обучается, чем при больших `C`. **\n",
    "\n",
    "**С помощью `GridSearchCV` подберите параметр `C` для SVM в диапазоне (1e-3, 1), 30 значений, используйте `linspace` из NumPy. Нарисуйте кривые валидации.**"
   ]
  },
  {
   "cell_type": "code",
   "execution_count": 154,
   "metadata": {},
   "outputs": [
    {
     "name": "stdout",
     "output_type": "stream",
     "text": [
      "CPU times: user 1.92 s, sys: 144 ms, total: 2.06 s\n",
      "Wall time: 57.4 s\n"
     ]
    }
   ],
   "source": [
    "%%time\n",
    "svm_params2 = {'C': np.linspace(1e-3, 1, 30)}\n",
    "\n",
    "svm_grid_searcher2 = GridSearchCV(svm, svm_params2, cv=skf, scoring='accuracy', n_jobs=-1)\n",
    "svm_grid_searcher2.fit(X_train, y_train)"
   ]
  },
  {
   "cell_type": "markdown",
   "metadata": {},
   "source": [
    "Выведите лучшее значение доли правильных ответов на кросс-валидации и соответствующее значение `C`."
   ]
  },
  {
   "cell_type": "code",
   "execution_count": 155,
   "metadata": {},
   "outputs": [
    {
     "name": "stdout",
     "output_type": "stream",
     "text": [
      "0.764986791303\n",
      "{'C': 0.24213793103448275}\n"
     ]
    }
   ],
   "source": [
    "print(svm_grid_searcher2.best_score_)\n",
    "print(svm_grid_searcher2.best_params_)"
   ]
  },
  {
   "cell_type": "markdown",
   "metadata": {},
   "source": [
    "Нарисуйте график зависимости доли правильных ответов на кросс-валидации от С."
   ]
  },
  {
   "cell_type": "code",
   "execution_count": 156,
   "metadata": {},
   "outputs": [
    {
     "data": {
      "image/png": "[encoded data removed]",
      "text/plain": [
       "<matplotlib.figure.Figure at 0x7fb920803f90>"
      ]
     },
     "metadata": {},
     "output_type": "display_data"
    }
   ],
   "source": [
    "plt.figure(figsize=(8, 6))\n",
    "plot_validation_curves(svm_params2['C'], svm_grid_searcher2.cv_results_)\n",
    "plt.xlabel('svm hyperparamether C')\n",
    "plt.ylabel('svm accuracy score');"
   ]
  },
  {
   "cell_type": "markdown",
   "metadata": {},
   "source": [
    "Выведите долю правильных ответов на выборке `(X_valid, y_valid)` для `LinearSVC` с лучшим найденным значением `C`."
   ]
  },
  {
   "cell_type": "code",
   "execution_count": 157,
   "metadata": {},
   "outputs": [
    {
     "data": {
      "text/plain": [
       "0.78359800900687371"
      ]
     },
     "execution_count": 157,
     "metadata": {},
     "output_type": "execute_result"
    }
   ],
   "source": [
    "svm_cv_acc = accuracy_score(y_valid, svm_grid_searcher2.predict(X_valid))\n",
    "svm_cv_acc"
   ]
  },
  {
   "cell_type": "markdown",
   "metadata": {},
   "source": [
    "**Запишите в файл *answer4_4.txt* доли правильных ответов для svm_grid_searcher2 на кросс-валидации для лучшего значения параметра С и на отложенной выборке. Округлите каждое до 3 знаков после запятой и запишите в файл через пробел.**"
   ]
  },
  {
   "cell_type": "code",
   "execution_count": 158,
   "metadata": {},
   "outputs": [
    {
     "name": "stdout",
     "output_type": "stream",
     "text": [
      "0.765 0.784\n"
     ]
    }
   ],
   "source": [
    "answer = np.round([svm_grid_searcher2.best_score_, svm_cv_acc], 3)\n",
    "answer = ' '.join(map(str, answer))\n",
    "print(answer)\n",
    "\n",
    "write_answer_to_file(answer, 'answer4_4.txt')"
   ]
  },
  {
   "cell_type": "markdown",
   "metadata": {},
   "source": [
    "## Часть 2. Выбор параметров – длины сессии и ширины окна"
   ]
  },
  {
   "cell_type": "markdown",
   "metadata": {},
   "source": [
    "**Возьмем `LinearSVC`, показавший лучшее качество на кросс-валидации в 1 части, и проверим его работу еще на 8 выборках для 10 пользователей (с разными сочетаниями параметров *session_length* и *window_size*). Поскольку тут уже вычислений побольше, мы не будем каждый раз заново подбирать параметр регуляризации `C`.**\n",
    "\n",
    "**Определите функцию `model_assessment`, ее документация описана ниже. Обратите внимание на все детали. Например, на то, что разбиение  выборки с `train_test_split` должно быть стратифицированным. Не теряйте нигде `random_state`.**"
   ]
  },
  {
   "cell_type": "code",
   "execution_count": 174,
   "metadata": {},
   "outputs": [],
   "source": [
    "def model_assessment(estimator, path_to_X_pickle, path_to_y_pickle, cv, random_state=17, test_size=0.3):\n",
    "    '''\n",
    "    Estimates CV-accuracy for (1 - test_size) share of (X_sparse, y) \n",
    "    loaded from path_to_X_pickle and path_to_y_pickle and holdout accuracy for (test_size) share of (X_sparse, y).\n",
    "    The split is made with stratified train_test_split with params random_state and test_size.\n",
    "    \n",
    "    :param estimator – Scikit-learn estimator (classifier or regressor)\n",
    "    :param path_to_X_pickle – path to pickled sparse X (instances and their features)\n",
    "    :param path_to_y_pickle – path to pickled y (responses)\n",
    "    :param cv – cross-validation as in cross_val_score (use StratifiedKFold here)\n",
    "    :param random_state –  for train_test_split\n",
    "    :param test_size –  for train_test_split\n",
    "    \n",
    "    :returns mean CV-accuracy for (X_train, y_train) and accuracy for (X_valid, y_valid) where (X_train, y_train)\n",
    "    and (X_valid, y_valid) are (1 - test_size) and (testsize) shares of (X_sparse, y).\n",
    "    '''\n",
    "    \n",
    "    # Loading prepaired dataset\n",
    "    with open(path_to_X_pickle, 'rb') as f:\n",
    "        X = pickle.load(f)\n",
    "        \n",
    "    with open(path_to_y_pickle, 'rb') as f:\n",
    "        y = pickle.load(f)\n",
    "        \n",
    "    # Split dataset on train and test\n",
    "    X_train, X_test, y_train, y_test = train_test_split(X, y, test_size=test_size, random_state=random_state)\n",
    "    \n",
    "    # Cross validation scores\n",
    "    estimator_cv_scores = cross_val_score(estimator, X_train, y_train, cv=skf, n_jobs=-1)\n",
    "    \n",
    "    # Test score\n",
    "    estimator.fit(X_train, y_train)\n",
    "    estimator_test_score = accuracy_score(y_test, estimator.predict(X_test))\n",
    "    \n",
    "    return [np.mean(estimator_cv_scores), estimator_test_score]"
   ]
  },
  {
   "cell_type": "markdown",
   "metadata": {},
   "source": [
    "**Убедитесь, что функция работает.**"
   ]
  },
  {
   "cell_type": "code",
   "execution_count": 175,
   "metadata": {},
   "outputs": [
    {
     "data": {
      "text/plain": [
       "[0.76661217569606821, 0.77814648020858024]"
      ]
     },
     "execution_count": 175,
     "metadata": {},
     "output_type": "execute_result"
    }
   ],
   "source": [
    "model_assessment(svm_grid_searcher2.best_estimator_, os.path.join(PATH_TO_DATA, 'X_sparse_10users.pkl'),\n",
    "                 os.path.join(PATH_TO_DATA, 'y_10users.pkl'), skf, random_state=17, test_size=0.3)"
   ]
  },
  {
   "cell_type": "markdown",
   "metadata": {},
   "source": [
    "**Примените функцию *model_assessment* для лучшего алгоритма из предыдущей части (а именно, `svm_grid_searcher2.best_estimator_`) и 9 выборок вида с разными сочетаниями параметров *session_length* и *window_size* для 10 пользователей. Выведите в цикле параметры *session_length* и *window_size*, а также результат вывода функции *model_assessment*. \n",
    "Удобно сделать так, чтоб *model_assessment* возвращала 3-им элементом время, за которое она выполнилась. На моем ноуте этот участок кода выполнился за 20 секунд. Но со 150 пользователями каждая итерация занимает уже несколько минут.**"
   ]
  },
  {
   "cell_type": "code",
   "execution_count": 201,
   "metadata": {},
   "outputs": [
    {
     "name": "stdout",
     "output_type": "stream",
     "text": [
      "window_size session_length mean_cv_score test_score\n",
      "         10             15          0.82       0.84\n",
      "         10             10         0.767      0.778\n",
      "          7             15         0.843      0.871\n",
      "          7             10         0.799      0.813\n",
      "          7              7         0.749      0.763\n",
      "          5             15         0.869      0.878\n",
      "          5             10         0.823      0.827\n",
      "          5              7         0.775       0.78\n",
      "          5              5         0.729      0.734\n",
      "CPU times: user 19.2 s, sys: 408 ms, total: 19.6 s\n",
      "Wall time: 46.9 s\n"
     ]
    }
   ],
   "source": [
    "%%time\n",
    "estimator = svm_grid_searcher2.best_estimator_\n",
    "\n",
    "res_list = []\n",
    "\n",
    "num_users = 10\n",
    "print('window_size', 'session_length', 'mean_cv_score', 'test_score')\n",
    "for window_size, session_length in itertools.product([10, 7, 5], [15, 10, 7, 5]):\n",
    "    if window_size <= session_length:\n",
    "        fname_X_cur = 'X_sparse_' + str(num_users) + 'users_s' + str(session_length)+'_w' + \\\n",
    "                      str(window_size) + '.pkl'\n",
    "        fname_y_cur = 'y_' + str(num_users) + 'users_s' + str(session_length)+'_w' + \\\n",
    "                      str(window_size) + '.pkl'\n",
    "        path_to_X_pkl = os.path.join(PATH_TO_DATA, fname_X_cur)\n",
    "        path_to_y_pkl = os.path.join(PATH_TO_DATA, fname_y_cur)\n",
    "        \n",
    "        model_res = model_assessment(svm_grid_searcher2.best_estimator_, path_to_X_pkl, path_to_y_pkl,\n",
    "                                     skf, random_state=17, test_size=0.3)\n",
    "\n",
    "        res_list.append([window_size, session_length, model_res[0], model_res[1]])\n",
    "        \n",
    "        print('{:11} {:14} {:13} {:10}'.format(window_size, session_length,\n",
    "                                               round(model_res[0], 3), round(model_res[1], 3)))\n",
    "        \n",
    "columns=['window_size', 'session_length', 'mean_cv_score', 'test_score']\n",
    "win_size_sess_len_search_res = pd.DataFrame(res_list, columns=columns)"
   ]
  },
  {
   "cell_type": "code",
   "execution_count": 202,
   "metadata": {},
   "outputs": [
    {
     "data": {
      "text/html": [
       "<div>\n",
       "<style>\n",
       "    .dataframe thead tr:only-child th {\n",
       "        text-align: right;\n",
       "    }\n",
       "\n",
       "    .dataframe thead th {\n",
       "        text-align: left;\n",
       "    }\n",
       "\n",
       "    .dataframe tbody tr th {\n",
       "        vertical-align: top;\n",
       "    }\n",
       "</style>\n",
       "<table border=\"1\" class=\"dataframe\">\n",
       "  <thead>\n",
       "    <tr style=\"text-align: right;\">\n",
       "      <th></th>\n",
       "      <th>window_size</th>\n",
       "      <th>session_length</th>\n",
       "      <th>mean_cv_score</th>\n",
       "      <th>test_score</th>\n",
       "    </tr>\n",
       "  </thead>\n",
       "  <tbody>\n",
       "    <tr>\n",
       "      <th>0</th>\n",
       "      <td>10</td>\n",
       "      <td>15</td>\n",
       "      <td>0.820262</td>\n",
       "      <td>0.840009</td>\n",
       "    </tr>\n",
       "    <tr>\n",
       "      <th>1</th>\n",
       "      <td>10</td>\n",
       "      <td>10</td>\n",
       "      <td>0.766612</td>\n",
       "      <td>0.778146</td>\n",
       "    </tr>\n",
       "    <tr>\n",
       "      <th>2</th>\n",
       "      <td>7</td>\n",
       "      <td>15</td>\n",
       "      <td>0.843244</td>\n",
       "      <td>0.870914</td>\n",
       "    </tr>\n",
       "    <tr>\n",
       "      <th>3</th>\n",
       "      <td>7</td>\n",
       "      <td>10</td>\n",
       "      <td>0.798578</td>\n",
       "      <td>0.812510</td>\n",
       "    </tr>\n",
       "    <tr>\n",
       "      <th>4</th>\n",
       "      <td>7</td>\n",
       "      <td>7</td>\n",
       "      <td>0.749360</td>\n",
       "      <td>0.762900</td>\n",
       "    </tr>\n",
       "    <tr>\n",
       "      <th>5</th>\n",
       "      <td>5</td>\n",
       "      <td>15</td>\n",
       "      <td>0.869120</td>\n",
       "      <td>0.878378</td>\n",
       "    </tr>\n",
       "    <tr>\n",
       "      <th>6</th>\n",
       "      <td>5</td>\n",
       "      <td>10</td>\n",
       "      <td>0.822527</td>\n",
       "      <td>0.826577</td>\n",
       "    </tr>\n",
       "    <tr>\n",
       "      <th>7</th>\n",
       "      <td>5</td>\n",
       "      <td>7</td>\n",
       "      <td>0.774972</td>\n",
       "      <td>0.780346</td>\n",
       "    </tr>\n",
       "    <tr>\n",
       "      <th>8</th>\n",
       "      <td>5</td>\n",
       "      <td>5</td>\n",
       "      <td>0.729397</td>\n",
       "      <td>0.733523</td>\n",
       "    </tr>\n",
       "  </tbody>\n",
       "</table>\n",
       "</div>"
      ],
      "text/plain": [
       "   window_size  session_length  mean_cv_score  test_score\n",
       "0           10              15       0.820262    0.840009\n",
       "1           10              10       0.766612    0.778146\n",
       "2            7              15       0.843244    0.870914\n",
       "3            7              10       0.798578    0.812510\n",
       "4            7               7       0.749360    0.762900\n",
       "5            5              15       0.869120    0.878378\n",
       "6            5              10       0.822527    0.826577\n",
       "7            5               7       0.774972    0.780346\n",
       "8            5               5       0.729397    0.733523"
      ]
     },
     "execution_count": 202,
     "metadata": {},
     "output_type": "execute_result"
    }
   ],
   "source": [
    "win_size_sess_len_search_res"
   ]
  },
  {
   "cell_type": "markdown",
   "metadata": {},
   "source": [
    "**Запишите в файл *answer4_5.txt* доли правильных ответов для `LinearSVC` с настроенным параметром `C` и выборки `X_sparse_10users_s15_w5`. Укажите доли правильных ответов на кросс-валидации и на отложенной выборке. Округлите каждое до 3 знаков после запятой и запишите в файл через пробел.**"
   ]
  },
  {
   "cell_type": "code",
   "execution_count": 212,
   "metadata": {},
   "outputs": [
    {
     "name": "stdout",
     "output_type": "stream",
     "text": [
      "0.869 0.878\n"
     ]
    }
   ],
   "source": [
    "answer = np.round(win_size_sess_len_search_res.iloc[5, 2:].values, 3)\n",
    "answer = ' '.join(map(str, answer))\n",
    "print(answer)\n",
    "             \n",
    "write_answer_to_file(answer, 'answer4_5.txt')"
   ]
  },
  {
   "cell_type": "markdown",
   "metadata": {},
   "source": [
    "**Прокомментируйте полученные результаты. WOW! Сравните для 150 пользователей доли правильных ответов на кросс-валидации и оставленной выборке для сочетаний параметров (*session_length, window_size*): (5,5), (7,7) и (10,10). На среднем ноуте это может занять до часа – запаситесь терпением, это Data Science :) **\n",
    "\n",
    "**Сделайте вывод о том, как качество классификации зависит от длины сессии и ширины окна.**"
   ]
  },
  {
   "cell_type": "code",
   "execution_count": 213,
   "metadata": {},
   "outputs": [
    {
     "name": "stdout",
     "output_type": "stream",
     "text": [
      "window_size session_length mean_cv_score test_score\n",
      "          5              5         0.411      0.422\n",
      "          7              7         0.439      0.453\n",
      "         10             10         0.462      0.483\n",
      "CPU times: user 14min 6s, sys: 556 ms, total: 14min 6s\n",
      "Wall time: 28min 45s\n"
     ]
    }
   ],
   "source": [
    "%%time\n",
    "estimator = svm_grid_searcher2.best_estimator_\n",
    "\n",
    "res_list = []\n",
    "\n",
    "num_users = 150\n",
    "print('window_size', 'session_length', 'mean_cv_score', 'test_score')\n",
    "for window_size, session_length in [(5,5), (7,7), (10,10)]:\n",
    "    fname_X_cur = 'X_sparse_' + str(num_users) + 'users_s' + str(session_length)+'_w' + \\\n",
    "                  str(window_size) + '.pkl'\n",
    "    fname_y_cur = 'y_' + str(num_users) + 'users_s' + str(session_length)+'_w' + \\\n",
    "                  str(window_size) + '.pkl'\n",
    "    path_to_X_pkl = os.path.join(PATH_TO_DATA, fname_X_cur)\n",
    "    path_to_y_pkl = os.path.join(PATH_TO_DATA, fname_y_cur)\n",
    "\n",
    "    model_res = model_assessment(svm_grid_searcher2.best_estimator_, path_to_X_pkl, path_to_y_pkl,\n",
    "                                 skf, random_state=17, test_size=0.3)\n",
    "\n",
    "    res_list.append([window_size, session_length, model_res[0], model_res[1]])\n",
    "\n",
    "    print('{:11} {:14} {:13} {:10}'.format(window_size, session_length,\n",
    "                                           round(model_res[0], 3), round(model_res[1], 3)))\n",
    "        \n",
    "columns=['window_size', 'session_length', 'mean_cv_score', 'test_score']\n",
    "win_size_sess_len_search_res = pd.DataFrame(res_list, columns=columns)"
   ]
  },
  {
   "cell_type": "markdown",
   "metadata": {},
   "source": [
    "**Запишите в файл *answer4_6.txt* доли правильных ответов для LinearSVC с настроенным параметром C и выборки *X_sparse_150users*. Укажите доли правильных ответов на кросс-валидации и на отложенной выборке. Округлите каждое до 3 знаков после запятой и запишите в файл через пробел.**"
   ]
  },
  {
   "cell_type": "code",
   "execution_count": 214,
   "metadata": {},
   "outputs": [
    {
     "name": "stdout",
     "output_type": "stream",
     "text": [
      "0.462 0.483\n"
     ]
    }
   ],
   "source": [
    "answer = np.round(win_size_sess_len_search_res.iloc[2, 2:].values, 3)\n",
    "answer = ' '.join(map(str, answer))\n",
    "print(answer)\n",
    "             \n",
    "write_answer_to_file(answer, 'answer4_6.txt')"
   ]
  },
  {
   "cell_type": "markdown",
   "metadata": {},
   "source": [
    "## Часть 3. Идентификация  конкретного пользователя и кривые обучения"
   ]
  },
  {
   "cell_type": "markdown",
   "metadata": {},
   "source": [
    "**Поскольку может разочаровать, что многоклассовая доля правильных ответов на выборке из 150 пользовалей невелика, порадуемся тому, что конкретного пользователя можно идентифицировать достаточно хорошо. **"
   ]
  },
  {
   "cell_type": "markdown",
   "metadata": {},
   "source": [
    "**Загрузим сериализованные ранее объекты *X_sparse_150users* и *y_150users*, соответствующие обучающей выборке для 150 пользователей с параметрами (*session_length, window_size*) = (10,10). Так же точно разобьем их на 70% и 30%.**"
   ]
  },
  {
   "cell_type": "code",
   "execution_count": 215,
   "metadata": {
    "collapsed": true
   },
   "outputs": [],
   "source": [
    "with open(os.path.join(PATH_TO_DATA, 'X_sparse_150users_s10_w10.pkl'), 'rb') as X_sparse_150users_pkl:\n",
    "     X_sparse_150users = pickle.load(X_sparse_150users_pkl)\n",
    "with open(os.path.join(PATH_TO_DATA, 'y_150users_s10_w10.pkl'), 'rb') as y_150users_pkl:\n",
    "    y_150users = pickle.load(y_150users_pkl)"
   ]
  },
  {
   "cell_type": "code",
   "execution_count": 216,
   "metadata": {
    "collapsed": true
   },
   "outputs": [],
   "source": [
    "X_train_150, X_valid_150, y_train_150, y_valid_150 = train_test_split(X_sparse_150users, \n",
    "                                                                      y_150users, test_size=0.3, \n",
    "                                                     random_state=17, stratify=y_150users)"
   ]
  },
  {
   "cell_type": "markdown",
   "metadata": {},
   "source": [
    "**Обучите `LogisticRegressionCV` для одного значения параметра `C` (лучшего на кросс-валидации в 1 части, используйте точное значение, не на глаз). Теперь будем решать 150 задач \"Один-против-Всех\", поэтому укажите аргумент `multi_class`='ovr'. Как всегда, где возможно, указывайте `n_jobs=-1` и `random_state`=17.**"
   ]
  },
  {
   "cell_type": "code",
   "execution_count": 229,
   "metadata": {
    "scrolled": false
   },
   "outputs": [
    {
     "name": "stdout",
     "output_type": "stream",
     "text": [
      "CPU times: user 7min 36s, sys: 2.13 s, total: 7min 38s\n",
      "Wall time: 10min 23s\n"
     ]
    }
   ],
   "source": [
    "%%time\n",
    "i = np.argmax(logit_mean_cv_scores2)\n",
    "\n",
    "logit_cv_150users = LogisticRegressionCV(Cs=[logit_grid_searcher2.Cs_[i]], multi_class='ovr',\n",
    "                                         n_jobs=-1, random_state=17)\n",
    "logit_cv_150users.fit(X_train_150, y_train_150)"
   ]
  },
  {
   "cell_type": "markdown",
   "metadata": {},
   "source": [
    "**Посмотрите на средние доли правильных ответов на кросс-валидации в задаче идентификации каждого пользователя по отдельности.**"
   ]
  },
  {
   "cell_type": "code",
   "execution_count": 276,
   "metadata": {},
   "outputs": [
    {
     "name": "stdout",
     "output_type": "stream",
     "text": [
      "User 1, CV score: 0.995891871538\n",
      "User 2, CV score: 0.996277931615\n",
      "User 3, CV score: 0.995224888976\n",
      "User 4, CV score: 0.991847149375\n",
      "User 5, CV score: 0.990272314936\n",
      "User 6, CV score: 0.994359611631\n",
      "User 7, CV score: 0.99362974295\n",
      "User 8, CV score: 0.985893267507\n",
      "User 9, CV score: 0.997946057818\n",
      "User 10, CV score: 0.995266567028\n",
      "User 11, CV score: 0.994193134313\n",
      "User 12, CV score: 0.993650663358\n",
      "User 13, CV score: 0.996768042994\n",
      "User 14, CV score: 0.994755600157\n",
      "User 15, CV score: 0.99633003694\n",
      "User 16, CV score: 0.996246705035\n",
      "User 17, CV score: 0.990574877499\n",
      "User 18, CV score: 0.994588945554\n",
      "User 19, CV score: 0.991471138274\n",
      "User 20, CV score: 0.980660171008\n",
      "User 21, CV score: 0.996893043271\n",
      "User 22, CV score: 0.994745460069\n",
      "User 23, CV score: 0.990950148049\n",
      "User 24, CV score: 0.996746971022\n",
      "User 25, CV score: 0.994234558588\n",
      "User 26, CV score: 0.994964191904\n",
      "User 27, CV score: 0.99179493747\n",
      "User 28, CV score: 0.984538720976\n",
      "User 29, CV score: 0.996976098145\n",
      "User 30, CV score: 0.997101513443\n",
      "User 31, CV score: 0.996892940582\n",
      "User 32, CV score: 0.997237139059\n",
      "User 33, CV score: 0.996569958903\n",
      "User 34, CV score: 0.996809598997\n",
      "User 35, CV score: 0.987967933927\n",
      "User 36, CV score: 0.996465644618\n",
      "User 37, CV score: 0.996423538921\n",
      "User 38, CV score: 0.996434460176\n",
      "User 39, CV score: 0.989897025499\n",
      "User 40, CV score: 0.989407549038\n",
      "User 41, CV score: 0.996309191127\n",
      "User 42, CV score: 0.995600244751\n",
      "User 43, CV score: 0.995912825353\n",
      "User 44, CV score: 0.994974793991\n",
      "User 45, CV score: 0.996121379802\n",
      "User 46, CV score: 0.996913852259\n",
      "User 47, CV score: 0.994995394758\n",
      "User 48, CV score: 0.996246578146\n",
      "User 49, CV score: 0.991992451558\n",
      "User 50, CV score: 0.996038174786\n",
      "User 51, CV score: 0.995568453009\n",
      "User 52, CV score: 0.997268577753\n",
      "User 53, CV score: 0.989532234987\n",
      "User 54, CV score: 0.992701945159\n",
      "User 55, CV score: 0.996559517111\n",
      "User 56, CV score: 0.987196655017\n",
      "User 57, CV score: 0.989656953394\n",
      "User 58, CV score: 0.994161451996\n",
      "User 59, CV score: 0.990126128896\n",
      "User 60, CV score: 0.995548021269\n",
      "User 61, CV score: 0.991117170695\n",
      "User 62, CV score: 0.997237210238\n",
      "User 63, CV score: 0.99574618043\n",
      "User 64, CV score: 0.997623006857\n",
      "User 65, CV score: 0.996183997149\n",
      "User 66, CV score: 0.996423830471\n",
      "User 67, CV score: 0.99670530749\n",
      "User 68, CV score: 0.996288429592\n",
      "User 69, CV score: 0.996444774605\n",
      "User 70, CV score: 0.991867404777\n",
      "User 71, CV score: 0.996611547365\n",
      "User 72, CV score: 0.992388775668\n",
      "User 73, CV score: 0.997591540071\n",
      "User 74, CV score: 0.996413313134\n",
      "User 75, CV score: 0.996298899476\n",
      "User 76, CV score: 0.99130475586\n",
      "User 77, CV score: 0.99674694293\n",
      "User 78, CV score: 0.994255465425\n",
      "User 79, CV score: 0.996100660879\n",
      "User 80, CV score: 0.996830491314\n",
      "User 81, CV score: 0.995204326455\n",
      "User 82, CV score: 0.997018152498\n",
      "User 83, CV score: 0.997945841813\n",
      "User 84, CV score: 0.989355099872\n",
      "User 85, CV score: 0.99693490487\n",
      "User 86, CV score: 0.993983969621\n",
      "User 87, CV score: 0.993713257927\n",
      "User 88, CV score: 0.984184052614\n",
      "User 89, CV score: 0.996799063249\n",
      "User 90, CV score: 0.995662730369\n",
      "User 91, CV score: 0.991700707088\n",
      "User 92, CV score: 0.989657432857\n",
      "User 93, CV score: 0.998331614231\n",
      "User 94, CV score: 0.990523101022\n",
      "User 95, CV score: 0.990356234306\n",
      "User 96, CV score: 0.993984378853\n",
      "User 97, CV score: 0.98623795655\n",
      "User 98, CV score: 0.980554930255\n",
      "User 99, CV score: 0.981660401752\n",
      "User 100, CV score: 0.991408957777\n",
      "User 101, CV score: 0.995631677656\n",
      "User 102, CV score: 0.997518559894\n",
      "User 103, CV score: 0.994401330874\n",
      "User 104, CV score: 0.997403817863\n",
      "User 105, CV score: 0.994724566804\n",
      "User 106, CV score: 0.997059863957\n",
      "User 107, CV score: 0.995402022669\n",
      "User 108, CV score: 0.997195432915\n",
      "User 109, CV score: 0.997112033724\n",
      "User 110, CV score: 0.997539509817\n",
      "User 111, CV score: 0.997153853185\n",
      "User 112, CV score: 0.99516220529\n",
      "User 113, CV score: 0.9970389426\n",
      "User 114, CV score: 0.996642877582\n",
      "User 115, CV score: 0.996830360059\n",
      "User 116, CV score: 0.996027506835\n",
      "User 117, CV score: 0.99648650495\n",
      "User 118, CV score: 0.994932696552\n",
      "User 119, CV score: 0.996528107932\n",
      "User 120, CV score: 0.99685126737\n",
      "User 121, CV score: 0.995735638893\n",
      "User 122, CV score: 0.996371592943\n",
      "User 123, CV score: 0.996444399253\n",
      "User 124, CV score: 0.996768029896\n",
      "User 125, CV score: 0.995527193395\n",
      "User 126, CV score: 0.994953712814\n",
      "User 127, CV score: 0.998206859\n",
      "User 128, CV score: 0.996476015705\n",
      "User 129, CV score: 0.995871430119\n",
      "User 130, CV score: 0.9905848776\n",
      "User 131, CV score: 0.993629916817\n",
      "User 132, CV score: 0.997268384051\n",
      "User 133, CV score: 0.996871872502\n",
      "User 134, CV score: 0.99666366721\n",
      "User 135, CV score: 0.997810535364\n",
      "User 136, CV score: 0.997487347834\n",
      "User 137, CV score: 0.996955454767\n",
      "User 138, CV score: 0.993493974502\n",
      "User 139, CV score: 0.995297821226\n",
      "User 140, CV score: 0.996517943169\n",
      "User 141, CV score: 0.996747107591\n",
      "User 142, CV score: 0.997893792198\n",
      "User 143, CV score: 0.995662721163\n",
      "User 144, CV score: 0.995600229756\n",
      "User 145, CV score: 0.997341227659\n",
      "User 146, CV score: 0.996048334235\n",
      "User 147, CV score: 0.993692252294\n",
      "User 148, CV score: 0.996569935177\n",
      "User 149, CV score: 0.995996293827\n",
      "User 150, CV score: 0.996986907032\n"
     ]
    }
   ],
   "source": [
    "cv_scores_by_user = {}\n",
    "for user_id in logit_cv_150users.scores_:\n",
    "    cv_scores_by_user[user_id] = np.mean(logit_cv_150users.scores_[user_id])\n",
    "    print('User {}, CV score: {}'.format(user_id, cv_scores_by_user[user_id]))"
   ]
  },
  {
   "cell_type": "markdown",
   "metadata": {},
   "source": [
    "**Результаты кажутся впечатляющими, но возможно, мы забываем про дисбаланс классов, и высокую долю правильных ответов можно получить константным прогнозом. Посчитайте для каждого пользователя разницу между долей правильных ответов на кросс-валидации (только что посчитанную с помощью `LogisticRegressionCV`) и долей меток в *y_train_150*, отличных от ID \n",
    " этого пользователя (именно такую долю правильных ответов можно получить, если классификатор всегда \"говорит\", что это не пользователь с номером $i$ в задаче классификации $i$-vs-All).**"
   ]
  },
  {
   "cell_type": "code",
   "execution_count": 281,
   "metadata": {},
   "outputs": [
    {
     "name": "stdout",
     "output_type": "stream",
     "text": [
      "1 0.984402531461 0.995891871538\n",
      "2 0.995704440483 0.996277931615\n",
      "3 0.994401176066 0.995224888976\n",
      "4 0.984715314921 0.991847149375\n",
      "5 0.987947410674 0.990272314936\n",
      "6 0.994453306642 0.994359611631\n",
      "7 0.992545327536 0.99362974295\n",
      "8 0.98391250404 0.985893267507\n",
      "9 0.997122392168 0.997946057818\n",
      "10 0.993827739722 0.995266567028\n",
      "11 0.994150949298 0.994193134313\n",
      "12 0.992044874 0.993650663358\n",
      "13 0.996924295977 0.996768042994\n",
      "14 0.99485992514 0.994755600157\n",
      "15 0.996350859633 0.99633003694\n",
      "16 0.996194467903 0.996246705035\n",
      "17 0.990074338202 0.990574877499\n",
      "18 0.994745237872 0.994588945554\n",
      "19 0.990439252239 0.991471138274\n",
      "20 0.976999989574 0.980660171008\n",
      "21 0.996017223943 0.996893043271\n",
      "22 0.987217582601 0.994745460069\n",
      "23 0.990001355395 0.990950148049\n",
      "24 0.995944241135 0.996746971022\n",
      "25 0.993660921877 0.994234558588\n",
      "26 0.99405711426 0.994964191904\n",
      "27 0.98750951383 0.99179493747\n",
      "28 0.979596092292 0.984538720976\n",
      "29 0.997111966053 0.996976098145\n",
      "30 0.996778330362 0.997101513443\n",
      "31 0.996538529709 0.996892940582\n",
      "32 0.997080687707 0.997237139059\n",
      "33 0.996257024595 0.996569958903\n",
      "34 0.996496825248 0.996809598997\n",
      "35 0.986362641144 0.987967933927\n",
      "36 0.996465546902 0.996465644618\n",
      "37 0.996236172365 0.996423538921\n",
      "38 0.996747052016 0.996434460176\n",
      "39 0.988781499901 0.989897025499\n",
      "40 0.988009967366 0.989407549038\n",
      "41 0.996267450711 0.996309191127\n",
      "42 0.99577742329 0.995600244751\n",
      "43 0.996100632865 0.995912825353\n",
      "44 0.994661828949 0.994974793991\n",
      "45 0.995766997175 0.996121379802\n",
      "46 0.997122392168 0.996913852259\n",
      "47 0.995099725793 0.994995394758\n",
      "48 0.996298729057 0.996246578146\n",
      "49 0.989917946472 0.991992451558\n",
      "50 0.995558474868 0.996038174786\n",
      "51 0.995756571059 0.995568453009\n",
      "52 0.997080687707 0.997268577753\n",
      "53 0.989104709476 0.989532234987\n",
      "54 0.991596551041 0.992701945159\n",
      "55 0.996204894019 0.996559517111\n",
      "56 0.985747500339 0.987196655017\n",
      "57 0.985121933419 0.989656953394\n",
      "58 0.993733904684 0.994161451996\n",
      "59 0.988239341904 0.990126128896\n",
      "60 0.995954667251 0.995548021269\n",
      "61 0.989771980858 0.991117170695\n",
      "62 0.995475065945 0.997237210238\n",
      "63 0.994974612409 0.99574618043\n",
      "64 0.997111966053 0.997623006857\n",
      "65 0.995339526446 0.996183997149\n",
      "66 0.996632364747 0.996423830471\n",
      "67 0.996820034823 0.99670530749\n",
      "68 0.994974612409 0.996288429592\n",
      "69 0.996507251363 0.996444774605\n",
      "70 0.991909334501 0.991867404777\n",
      "71 0.996778330362 0.996611547365\n",
      "72 0.991033540813 0.992388775668\n",
      "73 0.997216227206 0.997591540071\n",
      "74 0.996632364747 0.996413313134\n",
      "75 0.995297821985 0.996298899476\n",
      "76 0.98922982286 0.99130475586\n",
      "77 0.996632364747 0.99674694293\n",
      "78 0.994161375413 0.994255465425\n",
      "79 0.995245691408 0.996100660879\n",
      "80 0.997153670514 0.996830491314\n",
      "81 0.99501631687 0.995204326455\n",
      "82 0.997091113822 0.997018152498\n",
      "83 0.997018131015 0.997945841813\n",
      "84 0.987989115136 0.989355099872\n",
      "85 0.996131911211 0.99693490487\n",
      "86 0.993984131452 0.993983969621\n",
      "87 0.992639162574 0.993713257927\n",
      "88 0.980972339516 0.984184052614\n",
      "89 0.996309155172 0.996799063249\n",
      "90 0.995131004139 0.995662730369\n",
      "91 0.991825925578 0.991700707088\n",
      "92 0.985048950611 0.989657432857\n",
      "93 0.995704440483 0.998331614231\n",
      "94 0.990960558006 0.990523101022\n",
      "95 0.98860425594 0.990356234306\n",
      "96 0.99439074995 0.993984378853\n",
      "97 0.980482312095 0.98623795655\n",
      "98 0.966042142358 0.980554930255\n",
      "99 0.97843879349 0.981660401752\n",
      "100 0.990595643969 0.991408957777\n",
      "101 0.995058021332 0.995631677656\n",
      "102 0.995068447447 0.997518559894\n",
      "103 0.994150949298 0.994401330874\n",
      "104 0.996184041788 0.997403817863\n",
      "105 0.995183134716 0.994724566804\n",
      "106 0.995923388905 0.997059863957\n",
      "107 0.995245691408 0.995402022669\n",
      "108 0.997038983245 0.997195432915\n",
      "109 0.996966000438 0.997112033724\n",
      "110 0.996017223943 0.997539509817\n",
      "111 0.997247505552 0.997153853185\n",
      "112 0.994578420026 0.99516220529\n",
      "113 0.996674069209 0.9970389426\n",
      "114 0.995902536674 0.996642877582\n",
      "115 0.9968721654 0.996830360059\n",
      "116 0.995245691408 0.996027506835\n",
      "117 0.996184041788 0.99648650495\n",
      "118 0.993619217416 0.994932696552\n",
      "119 0.995860832213 0.996528107932\n",
      "120 0.996778330362 0.99685126737\n",
      "121 0.9953082481 0.995735638893\n",
      "122 0.995766997175 0.996371592943\n",
      "123 0.994953760178 0.996444399253\n",
      "124 0.997038983245 0.996768029896\n",
      "125 0.995214413062 0.995527193395\n",
      "126 0.989500901859 0.994953712814\n",
      "127 0.996913869861 0.998206859\n",
      "128 0.996778330362 0.996476015705\n",
      "129 0.990136894894 0.995871430119\n",
      "130 0.988103802404 0.9905848776\n",
      "131 0.9904809567 0.993629916817\n",
      "132 0.995787849405 0.997268384051\n",
      "133 0.995172708601 0.996871872502\n",
      "134 0.996350859633 0.99666366721\n",
      "135 0.997330914475 0.997810535364\n",
      "136 0.996997278784 0.997487347834\n",
      "137 0.996830460939 0.996955454767\n",
      "138 0.988729369324 0.993493974502\n",
      "139 0.991742516656 0.995297821226\n",
      "140 0.995433361484 0.996517943169\n",
      "141 0.995923388905 0.996747107591\n",
      "142 0.996340433518 0.997893792198\n",
      "143 0.995349952561 0.995662721163\n",
      "144 0.994828646794 0.995600229756\n",
      "145 0.997435175628 0.997341227659\n",
      "146 0.987436531023 0.996048334235\n",
      "147 0.992420214152 0.993692252294\n",
      "148 0.996309155172 0.996569935177\n",
      "149 0.99546463983 0.995996293827\n",
      "150 0.995047595216 0.996986907032\n"
     ]
    }
   ],
   "source": [
    "class_unq, class_cnts = np.unique(y_train_150, return_counts=True)\n",
    "class_prop = []\n",
    "\n",
    "for i, user_id in enumerate(class_unq):\n",
    "    class_prop.append(1 - class_cnts[i] / np.sum(class_cnts))\n",
    "    \n",
    "cv_scores = []\n",
    "for id_num, prop in zip(class_unq, class_prop):\n",
    "    score = cv_scores_by_user[id_num]\n",
    "    cv_scores.append(score)\n",
    "    print(id_num, prop, score)"
   ]
  },
  {
   "cell_type": "code",
   "execution_count": 287,
   "metadata": {},
   "outputs": [
    {
     "data": {
      "text/plain": [
       "118"
      ]
     },
     "execution_count": 287,
     "metadata": {},
     "output_type": "execute_result"
    }
   ],
   "source": [
    "diff_score_prop = np.array(cv_scores) - np.array(class_prop)\n",
    "num_better_than_default = (diff_score_prop > 0).sum()\n",
    "num_better_than_default"
   ]
  },
  {
   "cell_type": "code",
   "execution_count": 274,
   "metadata": {
    "collapsed": true
   },
   "outputs": [],
   "source": [
    "num_better_than_default = 121"
   ]
  },
  {
   "cell_type": "markdown",
   "metadata": {},
   "source": [
    "**Запишите в файл *answer4_7.txt* долю пользователей, для которых логистическая регрессия на кросс-валидации дает прогноз лучше константного. Округлите до 3 знаков после запятой. **"
   ]
  },
  {
   "cell_type": "code",
   "execution_count": 275,
   "metadata": {
    "collapsed": true
   },
   "outputs": [],
   "source": [
    "write_answer_to_file(round(num_better_than_default/150, 3), 'answer4_7.txt')"
   ]
  },
  {
   "cell_type": "markdown",
   "metadata": {},
   "source": [
    "**Дальше будем строить кривые обучения для конкретного пользователя, допустим, для 128-го. Составьте новый бинарный вектор на основе *y_150users*, его значения будут 1 или 0 в зависимости от того, равен ли ID-шник пользователя 128.**"
   ]
  },
  {
   "cell_type": "code",
   "execution_count": null,
   "metadata": {
    "collapsed": true
   },
   "outputs": [],
   "source": [
    "y_binary_128 = ''' ВАШ КОД ЗДЕСЬ '''"
   ]
  },
  {
   "cell_type": "code",
   "execution_count": null,
   "metadata": {
    "collapsed": true
   },
   "outputs": [],
   "source": [
    "from sklearn.model_selection import learning_curve\n",
    "\n",
    "def plot_learning_curve(val_train, val_test, train_sizes, \n",
    "                        xlabel='Training Set Size', ylabel='score'):\n",
    "    def plot_with_err(x, data, **kwargs):\n",
    "        mu, std = data.mean(1), data.std(1)\n",
    "        lines = plt.plot(x, mu, '-', **kwargs)\n",
    "        plt.fill_between(x, mu - std, mu + std, edgecolor='none',\n",
    "                         facecolor=lines[0].get_color(), alpha=0.2)\n",
    "    plot_with_err(train_sizes, val_train, label='train')\n",
    "    plot_with_err(train_sizes, val_test, label='valid')\n",
    "    plt.xlabel(xlabel); plt.ylabel(ylabel)\n",
    "    plt.legend(loc='lower right');"
   ]
  },
  {
   "cell_type": "markdown",
   "metadata": {},
   "source": [
    "**Посчитайте доли правильных ответов на кросс-валидации в задаче классификации \"user128-vs-All\" в зависимости от размера выборки. Не помешает посмотреть встроенную документацию для *learning_curve*.**"
   ]
  },
  {
   "cell_type": "code",
   "execution_count": null,
   "metadata": {
    "collapsed": true
   },
   "outputs": [],
   "source": [
    "%%time\n",
    "train_sizes = np.linspace(0.25, 1, 20)\n",
    "estimator = svm_grid_searcher2.best_estimator_\n",
    "n_train, val_train, val_test = learning_curve ''' ВАШ КОД ЗДЕСЬ '''"
   ]
  },
  {
   "cell_type": "code",
   "execution_count": null,
   "metadata": {
    "collapsed": true
   },
   "outputs": [],
   "source": [
    "plot_learning_curve(val_train, val_test, n_train, \n",
    "                    xlabel='train_size', ylabel='accuracy')"
   ]
  },
  {
   "cell_type": "markdown",
   "metadata": {},
   "source": [
    "**Сделайте выводы о том, помогут ли алгоритму новые размеченные данные при той же постановке задачи.**"
   ]
  },
  {
   "cell_type": "markdown",
   "metadata": {},
   "source": [
    "## Пути улучшения\n",
    "В этом проекте свобода творчества на каждом шаге, а 7 неделя посвящена общему описанию проекта (`html`, `ipynb` или `pdf`) и взимному оцениванию. Что еще можно добавить по 4 части проекта:\n",
    "- конечно, можно проверить еще кучу алгоритмов, например, Xgboost, но в такой задаче очень маловероятно, что что-то справится лучше линейных методов\n",
    "- интересно проверить качество алгоритма на данных, где сессии выделялись не по количеству посещенных сайтов, а по времени, например, 5, 7, 10 и 15 минут. Отдельно стоит отметить данные нашего [соревнования](https://inclass.kaggle.com/c/catch-me-if-you-can-intruder-detection-through-webpage-session-tracking2) \n",
    "- опять же, если ресурсы позволяют, можно проверить, насколько хорошо можно решить задачу для 3000 пользователей\n",
    "\n",
    "На следующей неделе мы вспомним про линейные модели, обучаемые стохастическим градиентным спуском, и порадуемся тому, насколько быстрее они работают. Также сделаем первые (или не первые) посылки в [соревновании](https://inclass.kaggle.com/c/catch-me-if-you-can-intruder-detection-through-webpage-session-tracking2) Kaggle Inclass."
   ]
  }
 ],
 "metadata": {
  "anaconda-cloud": {},
  "kernelspec": {
   "display_name": "Python 2",
   "language": "python",
   "name": "python2"
  },
  "language_info": {
   "codemirror_mode": {
    "name": "ipython",
    "version": 2
   },
   "file_extension": ".py",
   "mimetype": "text/x-python",
   "name": "python",
   "nbconvert_exporter": "python",
   "pygments_lexer": "ipython2",
   "version": "2.7.13"
  }
 },
 "nbformat": 4,
 "nbformat_minor": 1
}
