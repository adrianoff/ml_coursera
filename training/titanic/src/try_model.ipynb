{
 "cells": [
  {
   "cell_type": "code",
   "execution_count": 3,
   "metadata": {},
   "outputs": [
    {
     "name": "stdout",
     "output_type": "stream",
     "text": [
      "Populating the interactive namespace from numpy and matplotlib\n"
     ]
    },
    {
     "name": "stderr",
     "output_type": "stream",
     "text": [
      "/opt/local/anaconda/lib/python2.7/site-packages/sklearn/cross_validation.py:44: DeprecationWarning: This module was deprecated in version 0.18 in favor of the model_selection module into which all the refactored classes and functions are moved. Also note that the interface of the new CV iterators are different from that of this module. This module will be removed in 0.20.\n",
      "  \"This module will be removed in 0.20.\", DeprecationWarning)\n",
      "/opt/local/anaconda/lib/python2.7/site-packages/sklearn/grid_search.py:43: DeprecationWarning: This module was deprecated in version 0.18 in favor of the model_selection module into which all the refactored classes and functions are moved. This module will be removed in 0.20.\n",
      "  DeprecationWarning)\n"
     ]
    }
   ],
   "source": [
    "%pylab inline\n",
    "import pandas as pd\n",
    "import numpy as np\n",
    "import matplotlib.pyplot as plt\n",
    "import re\n",
    "import seaborn as sns\n",
    "from sklearn.linear_model import LinearRegression\n",
    "from sklearn.linear_model import LogisticRegression\n",
    "from sklearn.linear_model import SGDClassifier\n",
    "from sklearn.ensemble import RandomForestClassifier\n",
    "from sklearn.grid_search import GridSearchCV\n",
    "from sklearn.neighbors import KNeighborsClassifier\n",
    "from sklearn.naive_bayes import GaussianNB\n",
    "from sklearn.svm import SVC\n",
    "from sklearn.feature_selection import SelectKBest, f_classif\n",
    "from sklearn.cross_validation import StratifiedKFold\n",
    "from sklearn.cross_validation import KFold\n",
    "from sklearn.cross_validation import cross_val_score\n",
    "from sklearn.preprocessing import StandardScaler\n",
    "from sklearn import metrics"
   ]
  },
  {
   "cell_type": "code",
   "execution_count": 10,
   "metadata": {},
   "outputs": [],
   "source": [
    "train_data = pd.read_csv('../data/scaled_train.csv', index_col='PassengerId')\n",
    "train_y = train_data['Survived']\n",
    "train_X = train_data.drop(['Survived'], axis=1)"
   ]
  },
  {
   "cell_type": "code",
   "execution_count": 29,
   "metadata": {},
   "outputs": [
    {
     "name": "stdout",
     "output_type": "stream",
     "text": [
      "Accuracy (sgd): 0.765432098765/0.0249451299337\n"
     ]
    }
   ],
   "source": [
    "cv = StratifiedKFold(train_data[\"Survived\"], n_folds=3, shuffle=True, random_state=1)\n",
    "\n",
    "alg_sgd = SGDClassifier(random_state=1)\n",
    "scores = cross_val_score(alg_sgd, train_X, train_y, cv=cv, n_jobs=-1)\n",
    "print(\"Accuracy (sgd): {}/{}\".format(scores.mean(), scores.std()))\n",
    "\n",
    "#alg_sgd = SGDClassifier(random_state=1, penalty='l2')\n",
    "#alg_sgd.fit(train_X, train_y)\n",
    "#alg_sgd.score(train_X, train_y)"
   ]
  },
  {
   "cell_type": "code",
   "execution_count": 38,
   "metadata": {},
   "outputs": [
    {
     "name": "stdout",
     "output_type": "stream",
     "text": [
      "Accuracy (random forest): 0.831678456564/0.0181948704487\n"
     ]
    }
   ],
   "source": [
    "cv = StratifiedKFold(train_data[\"Survived\"], n_folds=5, shuffle=True, random_state=1)\n",
    "alg_frst = RandomForestClassifier(random_state=1, n_estimators=5000, min_samples_split=8, min_samples_leaf=2)\n",
    "scores = cross_val_score(alg_frst, train_X, train_y, cv=cv, n_jobs=-1)\n",
    "print(\"Accuracy (random forest): {}/{}\".format(scores.mean(), scores.std()))"
   ]
  },
  {
   "cell_type": "code",
   "execution_count": 40,
   "metadata": {},
   "outputs": [
    {
     "name": "stdout",
     "output_type": "stream",
     "text": [
      "Fitting 5 folds for each of 36 candidates, totalling 180 fits\n"
     ]
    },
    {
     "name": "stderr",
     "output_type": "stream",
     "text": [
      "[Parallel(n_jobs=4)]: Done  42 tasks      | elapsed:   31.8s\n",
      "[Parallel(n_jobs=4)]: Done 180 out of 180 | elapsed:  2.6min finished\n"
     ]
    },
    {
     "name": "stdout",
     "output_type": "stream",
     "text": [
      "Accuracy (random forest auto): 0.832772166105 with params {'min_samples_split': 8, 'n_estimators': 400, 'min_samples_leaf': 2}\n"
     ]
    }
   ],
   "source": [
    "cv = StratifiedKFold(train_data[\"Survived\"], n_folds=5, shuffle=True, random_state=1)\n",
    "\n",
    "alg_frst_model = RandomForestClassifier(random_state=1)\n",
    "alg_frst_params = [{\n",
    "    \"n_estimators\": [350, 400, 450, 500],\n",
    "    \"min_samples_split\": [6, 8, 10],\n",
    "    \"min_samples_leaf\": [1, 2, 4]\n",
    "}]\n",
    "alg_frst_grid = GridSearchCV(alg_frst_model, alg_frst_params, cv=cv, refit=True, verbose=1, n_jobs=4)\n",
    "alg_frst_grid.fit(train_X, train_y)\n",
    "alg_frst_best = alg_frst_grid.best_estimator_\n",
    "print(\"Accuracy (random forest auto): {} with params {}\"\n",
    "      .format(alg_frst_grid.best_score_, alg_frst_grid.best_params_))"
   ]
  },
  {
   "cell_type": "code",
   "execution_count": 31,
   "metadata": {},
   "outputs": [
    {
     "name": "stdout",
     "output_type": "stream",
     "text": [
      "Accuracy (naive bayes): 0.789001122334/0.0111105442611\n"
     ]
    }
   ],
   "source": [
    "alg_nbs = GaussianNB()\n",
    "scores = cross_val_score(alg_nbs, train_X, train_y, cv=cv, n_jobs=-1)\n",
    "print(\"Accuracy (naive bayes): {}/{}\".format(scores.mean(), scores.std()))"
   ]
  },
  {
   "cell_type": "code",
   "execution_count": null,
   "metadata": {
    "collapsed": true
   },
   "outputs": [],
   "source": []
  }
 ],
 "metadata": {
  "kernelspec": {
   "display_name": "Python 2",
   "language": "python",
   "name": "python2"
  },
  "language_info": {
   "codemirror_mode": {
    "name": "ipython",
    "version": 2
   },
   "file_extension": ".py",
   "mimetype": "text/x-python",
   "name": "python",
   "nbconvert_exporter": "python",
   "pygments_lexer": "ipython2",
   "version": "2.7.13"
  }
 },
 "nbformat": 4,
 "nbformat_minor": 2
}
