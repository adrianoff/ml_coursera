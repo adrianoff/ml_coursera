{
 "cells": [
  {
   "cell_type": "code",
   "execution_count": 2,
   "metadata": {
    "collapsed": true
   },
   "outputs": [],
   "source": [
    "import pandas as pd\n",
    "import numpy as np "
   ]
  },
  {
   "cell_type": "code",
   "execution_count": 3,
   "metadata": {},
   "outputs": [],
   "source": [
    "train_all = pd.read_csv(\"./data/try_3_23_05_2018_train.csv\", parse_dates=[\"activation_date\"])\n",
    "test_all = pd.read_csv(\"./data/try_3_23_05_2018_test.csv\", parse_dates=[\"activation_date\"])"
   ]
  },
  {
   "cell_type": "code",
   "execution_count": 9,
   "metadata": {},
   "outputs": [],
   "source": [
    "category_keys_train = train_all.category_name.value_counts().keys()\n",
    "category_keys_test = test_all.category_name.value_counts().keys()"
   ]
  },
  {
   "cell_type": "code",
   "execution_count": 10,
   "metadata": {
    "collapsed": true
   },
   "outputs": [],
   "source": [
    "category_price_means = {}\n",
    "for category_key in category_keys:\n",
    "    category_price_means[category_key] = round(train_all.loc[(train_all.category_name == category_key) & (train_all.price.notnull())].price.mean())"
   ]
  },
  {
   "cell_type": "code",
   "execution_count": 12,
   "metadata": {
    "collapsed": true
   },
   "outputs": [],
   "source": [
    "for category_key in category_price_means:\n",
    "    train_all.loc[\n",
    "        (train_all.category_name == category_key) & (train_all.price.isnull()),\n",
    "        'price'\n",
    "    ] = category_price_means[category_key]"
   ]
  },
  {
   "cell_type": "code",
   "execution_count": 13,
   "metadata": {
    "collapsed": true
   },
   "outputs": [],
   "source": [
    "for category_key in category_price_means:\n",
    "    test_all.loc[\n",
    "        (test_all.category_name == category_key) & (test_all.price.isnull()),\n",
    "        'price'\n",
    "    ] = category_price_means[category_key]"
   ]
  },
  {
   "cell_type": "code",
   "execution_count": 14,
   "metadata": {},
   "outputs": [
    {
     "data": {
      "text/plain": [
       "0"
      ]
     },
     "execution_count": 14,
     "metadata": {},
     "output_type": "execute_result"
    }
   ],
   "source": [
    "train_all.price.isnull().sum()"
   ]
  },
  {
   "cell_type": "code",
   "execution_count": 15,
   "metadata": {},
   "outputs": [
    {
     "data": {
      "text/plain": [
       "0"
      ]
     },
     "execution_count": 15,
     "metadata": {},
     "output_type": "execute_result"
    }
   ],
   "source": [
    "test_all.price.isnull().sum()"
   ]
  },
  {
   "cell_type": "code",
   "execution_count": 16,
   "metadata": {},
   "outputs": [
    {
     "data": {
      "text/plain": [
       "Index(['Unnamed: 0', 'item_id', 'user_id', 'region', 'city',\n",
       "       'parent_category_name', 'category_name', 'param_1', 'param_2',\n",
       "       'param_3', 'title', 'description', 'price', 'item_seq_number',\n",
       "       'activation_date', 'user_type', 'image', 'image_top_1',\n",
       "       'deal_probability', 'weekday', 'month', 'day', 'description_len',\n",
       "       'title_len', 'region_en', 'parent_category_name_en', 'category_name_en',\n",
       "       'brand', 'text_class', 'image_class_1', 'image_class_2',\n",
       "       'image_class_3', 'image_class_4', 'image_class_5'],\n",
       "      dtype='object')"
      ]
     },
     "execution_count": 16,
     "metadata": {},
     "output_type": "execute_result"
    }
   ],
   "source": [
    "train_all.columns"
   ]
  },
  {
   "cell_type": "code",
   "execution_count": 17,
   "metadata": {},
   "outputs": [
    {
     "data": {
      "text/plain": [
       "Index(['Unnamed: 0', 'item_id', 'user_id', 'region', 'city',\n",
       "       'parent_category_name', 'category_name', 'param_1', 'param_2',\n",
       "       'param_3', 'title', 'description', 'price', 'item_seq_number',\n",
       "       'activation_date', 'user_type', 'image', 'image_top_1', 'weekday',\n",
       "       'month', 'day', 'description_len', 'title_len', 'region_en',\n",
       "       'parent_category_name_en', 'category_name_en', 'brand', 'text_class',\n",
       "       'image_class_1', 'image_class_2', 'image_class_3', 'image_class_4',\n",
       "       'image_class_5'],\n",
       "      dtype='object')"
      ]
     },
     "execution_count": 17,
     "metadata": {},
     "output_type": "execute_result"
    }
   ],
   "source": [
    "test_all.columns"
   ]
  },
  {
   "cell_type": "code",
   "execution_count": 18,
   "metadata": {
    "collapsed": true
   },
   "outputs": [],
   "source": [
    "train_all['image_exists'] = [int(elem) for elem in train_all.image.notnull()]\n",
    "test_all['image_exists'] = [int(elem) for elem in test_all.image.notnull()]"
   ]
  },
  {
   "cell_type": "code",
   "execution_count": 20,
   "metadata": {},
   "outputs": [],
   "source": [
    "train_all = train_all.drop(['Unnamed: 0'], axis=1)\n",
    "test_all = test_all.drop(['Unnamed: 0'], axis=1)"
   ]
  },
  {
   "cell_type": "code",
   "execution_count": 21,
   "metadata": {},
   "outputs": [
    {
     "data": {
      "text/html": [
       "<div>\n",
       "<style>\n",
       "    .dataframe thead tr:only-child th {\n",
       "        text-align: right;\n",
       "    }\n",
       "\n",
       "    .dataframe thead th {\n",
       "        text-align: left;\n",
       "    }\n",
       "\n",
       "    .dataframe tbody tr th {\n",
       "        vertical-align: top;\n",
       "    }\n",
       "</style>\n",
       "<table border=\"1\" class=\"dataframe\">\n",
       "  <thead>\n",
       "    <tr style=\"text-align: right;\">\n",
       "      <th></th>\n",
       "      <th>item_id</th>\n",
       "      <th>user_id</th>\n",
       "      <th>region</th>\n",
       "      <th>city</th>\n",
       "      <th>parent_category_name</th>\n",
       "      <th>category_name</th>\n",
       "      <th>param_1</th>\n",
       "      <th>param_2</th>\n",
       "      <th>param_3</th>\n",
       "      <th>title</th>\n",
       "      <th>...</th>\n",
       "      <th>parent_category_name_en</th>\n",
       "      <th>category_name_en</th>\n",
       "      <th>brand</th>\n",
       "      <th>text_class</th>\n",
       "      <th>image_class_1</th>\n",
       "      <th>image_class_2</th>\n",
       "      <th>image_class_3</th>\n",
       "      <th>image_class_4</th>\n",
       "      <th>image_class_5</th>\n",
       "      <th>image_exists</th>\n",
       "    </tr>\n",
       "  </thead>\n",
       "  <tbody>\n",
       "    <tr>\n",
       "      <th>0</th>\n",
       "      <td>b912c3c6a6ad</td>\n",
       "      <td>e00f8ff2eaf9</td>\n",
       "      <td>Свердловская область</td>\n",
       "      <td>Екатеринбург</td>\n",
       "      <td>Личные вещи</td>\n",
       "      <td>Товары для детей и игрушки</td>\n",
       "      <td>Постельные принадлежности</td>\n",
       "      <td>NaN</td>\n",
       "      <td>NaN</td>\n",
       "      <td>Кокоби(кокон для сна)</td>\n",
       "      <td>...</td>\n",
       "      <td>Personal belongings</td>\n",
       "      <td>Children's products and toys</td>\n",
       "      <td>None</td>\n",
       "      <td>0</td>\n",
       "      <td>velvet</td>\n",
       "      <td>sleeping_bag</td>\n",
       "      <td>bib</td>\n",
       "      <td>apron</td>\n",
       "      <td>backpack</td>\n",
       "      <td>1</td>\n",
       "    </tr>\n",
       "    <tr>\n",
       "      <th>1</th>\n",
       "      <td>2dac0150717d</td>\n",
       "      <td>39aeb48f0017</td>\n",
       "      <td>Самарская область</td>\n",
       "      <td>Самара</td>\n",
       "      <td>Для дома и дачи</td>\n",
       "      <td>Мебель и интерьер</td>\n",
       "      <td>Другое</td>\n",
       "      <td>NaN</td>\n",
       "      <td>NaN</td>\n",
       "      <td>Стойка для Одежды</td>\n",
       "      <td>...</td>\n",
       "      <td>For the home and garden</td>\n",
       "      <td>Furniture and interior</td>\n",
       "      <td>None</td>\n",
       "      <td>0</td>\n",
       "      <td>stove</td>\n",
       "      <td>ashcan</td>\n",
       "      <td>folding_chair</td>\n",
       "      <td>potters_wheel</td>\n",
       "      <td>caldron</td>\n",
       "      <td>1</td>\n",
       "    </tr>\n",
       "    <tr>\n",
       "      <th>2</th>\n",
       "      <td>ba83aefab5dc</td>\n",
       "      <td>91e2f88dd6e3</td>\n",
       "      <td>Ростовская область</td>\n",
       "      <td>Ростов-на-Дону</td>\n",
       "      <td>Бытовая электроника</td>\n",
       "      <td>Аудио и видео</td>\n",
       "      <td>Видео, DVD и Blu-ray плееры</td>\n",
       "      <td>NaN</td>\n",
       "      <td>NaN</td>\n",
       "      <td>Philips bluray</td>\n",
       "      <td>...</td>\n",
       "      <td>Consumer electronics</td>\n",
       "      <td>Audio and video</td>\n",
       "      <td>philips</td>\n",
       "      <td>0</td>\n",
       "      <td>radio</td>\n",
       "      <td>loudspeaker</td>\n",
       "      <td>forklift</td>\n",
       "      <td>microphone</td>\n",
       "      <td>home_theater</td>\n",
       "      <td>1</td>\n",
       "    </tr>\n",
       "    <tr>\n",
       "      <th>3</th>\n",
       "      <td>02996f1dd2ea</td>\n",
       "      <td>bf5cccea572d</td>\n",
       "      <td>Татарстан</td>\n",
       "      <td>Набережные Челны</td>\n",
       "      <td>Личные вещи</td>\n",
       "      <td>Товары для детей и игрушки</td>\n",
       "      <td>Автомобильные кресла</td>\n",
       "      <td>NaN</td>\n",
       "      <td>NaN</td>\n",
       "      <td>Автокресло</td>\n",
       "      <td>...</td>\n",
       "      <td>Personal belongings</td>\n",
       "      <td>Children's products and toys</td>\n",
       "      <td>None</td>\n",
       "      <td>0</td>\n",
       "      <td>muzzle</td>\n",
       "      <td>neck_brace</td>\n",
       "      <td>knee_pad</td>\n",
       "      <td>bulletproof_vest</td>\n",
       "      <td>buckle</td>\n",
       "      <td>1</td>\n",
       "    </tr>\n",
       "    <tr>\n",
       "      <th>4</th>\n",
       "      <td>7c90be56d2ab</td>\n",
       "      <td>ef50846afc0b</td>\n",
       "      <td>Волгоградская область</td>\n",
       "      <td>Волгоград</td>\n",
       "      <td>Транспорт</td>\n",
       "      <td>Автомобили</td>\n",
       "      <td>С пробегом</td>\n",
       "      <td>ВАЗ (LADA)</td>\n",
       "      <td>2110</td>\n",
       "      <td>ВАЗ 2110, 2003</td>\n",
       "      <td>...</td>\n",
       "      <td>Transport</td>\n",
       "      <td>Cars</td>\n",
       "      <td>None</td>\n",
       "      <td>0</td>\n",
       "      <td>golfcart</td>\n",
       "      <td>half_track</td>\n",
       "      <td>tractor</td>\n",
       "      <td>ambulance</td>\n",
       "      <td>jeep</td>\n",
       "      <td>1</td>\n",
       "    </tr>\n",
       "  </tbody>\n",
       "</table>\n",
       "<p>5 rows × 34 columns</p>\n",
       "</div>"
      ],
      "text/plain": [
       "        item_id       user_id                 region              city  \\\n",
       "0  b912c3c6a6ad  e00f8ff2eaf9   Свердловская область      Екатеринбург   \n",
       "1  2dac0150717d  39aeb48f0017      Самарская область            Самара   \n",
       "2  ba83aefab5dc  91e2f88dd6e3     Ростовская область    Ростов-на-Дону   \n",
       "3  02996f1dd2ea  bf5cccea572d              Татарстан  Набережные Челны   \n",
       "4  7c90be56d2ab  ef50846afc0b  Волгоградская область         Волгоград   \n",
       "\n",
       "  parent_category_name               category_name  \\\n",
       "0          Личные вещи  Товары для детей и игрушки   \n",
       "1      Для дома и дачи           Мебель и интерьер   \n",
       "2  Бытовая электроника               Аудио и видео   \n",
       "3          Личные вещи  Товары для детей и игрушки   \n",
       "4            Транспорт                  Автомобили   \n",
       "\n",
       "                       param_1     param_2 param_3                  title  \\\n",
       "0    Постельные принадлежности         NaN     NaN  Кокоби(кокон для сна)   \n",
       "1                       Другое         NaN     NaN      Стойка для Одежды   \n",
       "2  Видео, DVD и Blu-ray плееры         NaN     NaN         Philips bluray   \n",
       "3         Автомобильные кресла         NaN     NaN             Автокресло   \n",
       "4                   С пробегом  ВАЗ (LADA)    2110         ВАЗ 2110, 2003   \n",
       "\n",
       "       ...       parent_category_name_en              category_name_en  \\\n",
       "0      ...           Personal belongings  Children's products and toys   \n",
       "1      ...       For the home and garden        Furniture and interior   \n",
       "2      ...          Consumer electronics               Audio and video   \n",
       "3      ...           Personal belongings  Children's products and toys   \n",
       "4      ...                     Transport                          Cars   \n",
       "\n",
       "     brand text_class image_class_1 image_class_2  image_class_3  \\\n",
       "0     None          0        velvet  sleeping_bag            bib   \n",
       "1     None          0         stove        ashcan  folding_chair   \n",
       "2  philips          0         radio   loudspeaker       forklift   \n",
       "3     None          0        muzzle    neck_brace       knee_pad   \n",
       "4     None          0      golfcart    half_track        tractor   \n",
       "\n",
       "      image_class_4  image_class_5  image_exists  \n",
       "0             apron       backpack             1  \n",
       "1     potters_wheel        caldron             1  \n",
       "2        microphone   home_theater             1  \n",
       "3  bulletproof_vest         buckle             1  \n",
       "4         ambulance           jeep             1  \n",
       "\n",
       "[5 rows x 34 columns]"
      ]
     },
     "execution_count": 21,
     "metadata": {},
     "output_type": "execute_result"
    }
   ],
   "source": [
    "train_all.head()"
   ]
  },
  {
   "cell_type": "code",
   "execution_count": 22,
   "metadata": {},
   "outputs": [
    {
     "data": {
      "text/html": [
       "<div>\n",
       "<style>\n",
       "    .dataframe thead tr:only-child th {\n",
       "        text-align: right;\n",
       "    }\n",
       "\n",
       "    .dataframe thead th {\n",
       "        text-align: left;\n",
       "    }\n",
       "\n",
       "    .dataframe tbody tr th {\n",
       "        vertical-align: top;\n",
       "    }\n",
       "</style>\n",
       "<table border=\"1\" class=\"dataframe\">\n",
       "  <thead>\n",
       "    <tr style=\"text-align: right;\">\n",
       "      <th></th>\n",
       "      <th>item_id</th>\n",
       "      <th>user_id</th>\n",
       "      <th>region</th>\n",
       "      <th>city</th>\n",
       "      <th>parent_category_name</th>\n",
       "      <th>category_name</th>\n",
       "      <th>param_1</th>\n",
       "      <th>param_2</th>\n",
       "      <th>param_3</th>\n",
       "      <th>title</th>\n",
       "      <th>...</th>\n",
       "      <th>parent_category_name_en</th>\n",
       "      <th>category_name_en</th>\n",
       "      <th>brand</th>\n",
       "      <th>text_class</th>\n",
       "      <th>image_class_1</th>\n",
       "      <th>image_class_2</th>\n",
       "      <th>image_class_3</th>\n",
       "      <th>image_class_4</th>\n",
       "      <th>image_class_5</th>\n",
       "      <th>image_exists</th>\n",
       "    </tr>\n",
       "  </thead>\n",
       "  <tbody>\n",
       "    <tr>\n",
       "      <th>0</th>\n",
       "      <td>6544e41a8817</td>\n",
       "      <td>dbe73ad6e4b5</td>\n",
       "      <td>Волгоградская область</td>\n",
       "      <td>Волгоград</td>\n",
       "      <td>Личные вещи</td>\n",
       "      <td>Детская одежда и обувь</td>\n",
       "      <td>Для мальчиков</td>\n",
       "      <td>Обувь</td>\n",
       "      <td>25</td>\n",
       "      <td>Отдам бесплатно</td>\n",
       "      <td>...</td>\n",
       "      <td>Personal belongings</td>\n",
       "      <td>Children's products and toys</td>\n",
       "      <td>None</td>\n",
       "      <td>0</td>\n",
       "      <td>shoe_shop</td>\n",
       "      <td>clog</td>\n",
       "      <td>toilet_tissue</td>\n",
       "      <td>soap_dispenser</td>\n",
       "      <td>carton</td>\n",
       "      <td>1</td>\n",
       "    </tr>\n",
       "    <tr>\n",
       "      <th>1</th>\n",
       "      <td>65b9484d670f</td>\n",
       "      <td>2e11806abe57</td>\n",
       "      <td>Свердловская область</td>\n",
       "      <td>Нижняя Тура</td>\n",
       "      <td>Хобби и отдых</td>\n",
       "      <td>Велосипеды</td>\n",
       "      <td>Дорожные</td>\n",
       "      <td>NaN</td>\n",
       "      <td>NaN</td>\n",
       "      <td>Продам велосипед</td>\n",
       "      <td>...</td>\n",
       "      <td>For the home and garden</td>\n",
       "      <td>Furniture and interior</td>\n",
       "      <td>f200</td>\n",
       "      <td>0</td>\n",
       "      <td>None</td>\n",
       "      <td>None</td>\n",
       "      <td>None</td>\n",
       "      <td>None</td>\n",
       "      <td>None</td>\n",
       "      <td>0</td>\n",
       "    </tr>\n",
       "    <tr>\n",
       "      <th>2</th>\n",
       "      <td>8bab230b2ecd</td>\n",
       "      <td>0b850bbebb10</td>\n",
       "      <td>Новосибирская область</td>\n",
       "      <td>Бердск</td>\n",
       "      <td>Бытовая электроника</td>\n",
       "      <td>Аудио и видео</td>\n",
       "      <td>Телевизоры и проекторы</td>\n",
       "      <td>NaN</td>\n",
       "      <td>NaN</td>\n",
       "      <td>BBK</td>\n",
       "      <td>...</td>\n",
       "      <td>Consumer electronics</td>\n",
       "      <td>Audio and video</td>\n",
       "      <td>bbk</td>\n",
       "      <td>0</td>\n",
       "      <td>home_theater</td>\n",
       "      <td>television</td>\n",
       "      <td>monitor</td>\n",
       "      <td>desktop_computer</td>\n",
       "      <td>entertainment_center</td>\n",
       "      <td>1</td>\n",
       "    </tr>\n",
       "    <tr>\n",
       "      <th>3</th>\n",
       "      <td>8e348601fefc</td>\n",
       "      <td>5f1d5c3ce0da</td>\n",
       "      <td>Саратовская область</td>\n",
       "      <td>Саратов</td>\n",
       "      <td>Для дома и дачи</td>\n",
       "      <td>Бытовая техника</td>\n",
       "      <td>Для кухни</td>\n",
       "      <td>Вытяжки</td>\n",
       "      <td>NaN</td>\n",
       "      <td>Вытяжка Jetair 60</td>\n",
       "      <td>...</td>\n",
       "      <td>Personal belongings</td>\n",
       "      <td>Children's products and toys</td>\n",
       "      <td>air</td>\n",
       "      <td>0</td>\n",
       "      <td>None</td>\n",
       "      <td>None</td>\n",
       "      <td>None</td>\n",
       "      <td>None</td>\n",
       "      <td>None</td>\n",
       "      <td>0</td>\n",
       "    </tr>\n",
       "    <tr>\n",
       "      <th>4</th>\n",
       "      <td>8bd2fe400b89</td>\n",
       "      <td>23e2d97bfc7f</td>\n",
       "      <td>Оренбургская область</td>\n",
       "      <td>Бузулук</td>\n",
       "      <td>Личные вещи</td>\n",
       "      <td>Товары для детей и игрушки</td>\n",
       "      <td>Детские коляски</td>\n",
       "      <td>NaN</td>\n",
       "      <td>NaN</td>\n",
       "      <td>Коляска зима-лето</td>\n",
       "      <td>...</td>\n",
       "      <td>Transport</td>\n",
       "      <td>Cars</td>\n",
       "      <td>None</td>\n",
       "      <td>0</td>\n",
       "      <td>vacuum</td>\n",
       "      <td>tricycle</td>\n",
       "      <td>moped</td>\n",
       "      <td>backpack</td>\n",
       "      <td>stethoscope</td>\n",
       "      <td>1</td>\n",
       "    </tr>\n",
       "  </tbody>\n",
       "</table>\n",
       "<p>5 rows × 33 columns</p>\n",
       "</div>"
      ],
      "text/plain": [
       "        item_id       user_id                 region         city  \\\n",
       "0  6544e41a8817  dbe73ad6e4b5  Волгоградская область    Волгоград   \n",
       "1  65b9484d670f  2e11806abe57   Свердловская область  Нижняя Тура   \n",
       "2  8bab230b2ecd  0b850bbebb10  Новосибирская область       Бердск   \n",
       "3  8e348601fefc  5f1d5c3ce0da    Саратовская область      Саратов   \n",
       "4  8bd2fe400b89  23e2d97bfc7f   Оренбургская область      Бузулук   \n",
       "\n",
       "  parent_category_name               category_name                 param_1  \\\n",
       "0          Личные вещи      Детская одежда и обувь           Для мальчиков   \n",
       "1        Хобби и отдых                  Велосипеды                Дорожные   \n",
       "2  Бытовая электроника               Аудио и видео  Телевизоры и проекторы   \n",
       "3      Для дома и дачи             Бытовая техника               Для кухни   \n",
       "4          Личные вещи  Товары для детей и игрушки         Детские коляски   \n",
       "\n",
       "   param_2 param_3              title      ...       parent_category_name_en  \\\n",
       "0    Обувь      25    Отдам бесплатно      ...           Personal belongings   \n",
       "1      NaN     NaN   Продам велосипед      ...       For the home and garden   \n",
       "2      NaN     NaN                BBK      ...          Consumer electronics   \n",
       "3  Вытяжки     NaN  Вытяжка Jetair 60      ...           Personal belongings   \n",
       "4      NaN     NaN  Коляска зима-лето      ...                     Transport   \n",
       "\n",
       "               category_name_en  brand text_class image_class_1 image_class_2  \\\n",
       "0  Children's products and toys   None          0     shoe_shop          clog   \n",
       "1        Furniture and interior   f200          0          None          None   \n",
       "2               Audio and video    bbk          0  home_theater    television   \n",
       "3  Children's products and toys    air          0          None          None   \n",
       "4                          Cars   None          0        vacuum      tricycle   \n",
       "\n",
       "   image_class_3     image_class_4         image_class_5  image_exists  \n",
       "0  toilet_tissue    soap_dispenser                carton             1  \n",
       "1           None              None                  None             0  \n",
       "2        monitor  desktop_computer  entertainment_center             1  \n",
       "3           None              None                  None             0  \n",
       "4          moped          backpack           stethoscope             1  \n",
       "\n",
       "[5 rows x 33 columns]"
      ]
     },
     "execution_count": 22,
     "metadata": {},
     "output_type": "execute_result"
    }
   ],
   "source": [
    "test_all.head()"
   ]
  },
  {
   "cell_type": "code",
   "execution_count": 23,
   "metadata": {
    "collapsed": true
   },
   "outputs": [],
   "source": [
    "train_all.to_csv('./data/try_3_23_05_2018_train.csv')\n",
    "test_all.to_csv('./data/try_3_23_05_2018_test.csv')"
   ]
  },
  {
   "cell_type": "code",
   "execution_count": null,
   "metadata": {
    "collapsed": true
   },
   "outputs": [],
   "source": []
  }
 ],
 "metadata": {
  "kernelspec": {
   "display_name": "Python 3",
   "language": "python",
   "name": "python3"
  },
  "language_info": {
   "codemirror_mode": {
    "name": "ipython",
    "version": 3
   },
   "file_extension": ".py",
   "mimetype": "text/x-python",
   "name": "python",
   "nbconvert_exporter": "python",
   "pygments_lexer": "ipython3",
   "version": "3.5.2"
  }
 },
 "nbformat": 4,
 "nbformat_minor": 2
}
