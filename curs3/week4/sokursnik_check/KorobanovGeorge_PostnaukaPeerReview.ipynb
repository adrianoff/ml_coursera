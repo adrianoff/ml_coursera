{
 "cells": [
  {
   "cell_type": "code",
   "execution_count": 1,
   "metadata": {
    "collapsed": false
   },
   "outputs": [
    {
     "data": {
      "application/javascript": [
       "Jupyter.keyboard_manager.command_shortcuts.add_shortcut('y','jupyter-notebook:restart-kernel')\n",
       "Jupyter.keyboard_manager.command_shortcuts.add_shortcut('u','jupyter-notebook:run-all-cells-above')"
      ],
      "text/plain": [
       "<IPython.core.display.Javascript object>"
      ]
     },
     "metadata": {},
     "output_type": "display_data"
    }
   ],
   "source": [
    "%%javascript\n",
    "Jupyter.keyboard_manager.command_shortcuts.add_shortcut('y','jupyter-notebook:restart-kernel')\n",
    "Jupyter.keyboard_manager.command_shortcuts.add_shortcut('u','jupyter-notebook:run-all-cells-above')"
   ]
  },
  {
   "cell_type": "markdown",
   "metadata": {},
   "source": [
    "# Тематическая модель [Постнауки](http://postnauka.ru)\n",
    "## Peer Review (optional)"
   ]
  },
  {
   "cell_type": "markdown",
   "metadata": {},
   "source": [
    "В этом задании мы применим аппарат тематического моделирования к коллекции текстовых записей видеолекций, скачанных с сайта Постнаука. Мы будем визуализировать модель и создавать прототип тематического навигатора по коллекции. В коллекции 1728 документов, размер словаря - 38467 слов. Слова лемматизированы, то есть приведены к начальной форме, с помощью программы [mystem](https://tech.yandex.ru/mystem/), коллекция сохранена в [формате vowpal wabbit](http://docs.bigartm.org/en/latest/formats.html). В каждой строке до первой черты записана информация о документе (ссылка на страницу с лекцией), после первой черты следует описание документа. Используются две модальности - текстовая (\"text\") и модальность авторов (\"author\"); у каждого документа один автор."
   ]
  },
  {
   "cell_type": "markdown",
   "metadata": {},
   "source": [
    "Для выполнения задания понадобится библиотека [BigARTM](http://docs.bigartm.org). В демонстрации показан пример использования библиотеки версии 0.7.4, на сайте предлагается скачивать версию 0.8.0. В новой версии изменены принципы работы со словарями: они вынесены в отдельный класс (пример в [Release Notes](http://docs.bigartm.org/en/stable/release_notes/python.html)). Строить модель и извлекать ее параметры нужно так же, как показано в демонстрации. Вы можете использовать [предыдущий релиз](http://bigartm.readthedocs.io/en/v0.7.6/download.html) или [новый релиз](http://docs.bigartm.org/en/latest/download.html) на ваше усмотрение.\n",
    "\n",
    "Спецификации всех функций вы можете смотреть на странице [Python API](http://bigartm.readthedocs.io/en/stable/python_interface.html)."
   ]
  },
  {
   "cell_type": "code",
   "execution_count": 2,
   "metadata": {
    "collapsed": true
   },
   "outputs": [],
   "source": [
    "import artm"
   ]
  },
  {
   "cell_type": "code",
   "execution_count": 3,
   "metadata": {
    "collapsed": true
   },
   "outputs": [],
   "source": [
    "from matplotlib import pyplot as plt\n",
    "import seaborn\n",
    "%matplotlib inline\n",
    "seaborn.set_style(\"whitegrid\", {'axes.grid' : False})"
   ]
  },
  {
   "cell_type": "code",
   "execution_count": 4,
   "metadata": {
    "collapsed": true
   },
   "outputs": [],
   "source": [
    "import numpy as np\n",
    "import pandas as pd"
   ]
  },
  {
   "cell_type": "markdown",
   "metadata": {},
   "source": [
    "##### Считывание данных"
   ]
  },
  {
   "cell_type": "markdown",
   "metadata": {},
   "source": [
    "Создайте объект класса artm.BatchVectorizer, который будет ссылаться на директорию с пакетами данных (батчами). Чтобы библиотека могла преобразовать текстовый файл в батчи, создайте пустую директорию и укажите ее название в параметре target_folder. Размер батча для небольших коллекций (как наша) не важен, вы можете указать любой."
   ]
  },
  {
   "cell_type": "code",
   "execution_count": 5,
   "metadata": {
    "collapsed": true
   },
   "outputs": [],
   "source": [
    "# Ваш код\n",
    "#batch_vectorizer = artm.BatchVectorizer(data_path=\"lectures.txt\", data_format=\"vowpal_wabbit\",\n",
    "#                                        target_folder=\"lectures_batches\", batch_size=100)\n",
    "batch_vectorizer = artm.BatchVectorizer(data_path=\"lectures_batches\", data_format='batches')"
   ]
  },
  {
   "cell_type": "markdown",
   "metadata": {},
   "source": [
    "##### Инициализация модели"
   ]
  },
  {
   "cell_type": "markdown",
   "metadata": {},
   "source": [
    "Создайте объект класса artm.Model с 30 темами, именами тем, указанными ниже и единичными весами обеих модальностей. Количество тем выбрано не очень большим, чтобы вам было удобнее работать с темами. На этой коллекции можно строить и большее число тем, тогда они будут более узко специализированы."
   ]
  },
  {
   "cell_type": "code",
   "execution_count": 6,
   "metadata": {
    "collapsed": true
   },
   "outputs": [],
   "source": [
    "T = 30   # количество тем\n",
    "topic_names=[\"sbj\"+str(i) for i in range(T-1)]+[\"bcg\"]\n",
    "# Ваш код\n",
    "model_artm = artm.ARTM(num_topics=T,topic_names=topic_names,num_processors=4,cache_theta = True)\n",
    "#class_ids={\"text\":1, \"author\":1}"
   ]
  },
  {
   "cell_type": "markdown",
   "metadata": {},
   "source": [
    "Мы будем строить 29 предметных тем и одну фоновую. \n",
    "\n",
    "Соберите словарь с помощью метода gather_dictionary и инициализируйте модель, указав random_seed=1. Обязательно укажите свое название словаря, оно понадобится при добавлении регуляризаторов."
   ]
  },
  {
   "cell_type": "code",
   "execution_count": 7,
   "metadata": {
    "collapsed": false
   },
   "outputs": [],
   "source": [
    "# Ваш код\n",
    "np.random.seed(1)\n",
    "dictionary = artm.Dictionary('dictionary')\n",
    "dictionary.gather(batch_vectorizer.data_path)\n",
    "model_artm.initialize('dictionary')"
   ]
  },
  {
   "cell_type": "markdown",
   "metadata": {},
   "source": [
    "##### Добавление score"
   ]
  },
  {
   "cell_type": "markdown",
   "metadata": {},
   "source": [
    "Создайте два измерителя качества artm.TopTokensScore - по одному для каждой модальности; количество токенов 15. Названия для score придумайте самостоятельно."
   ]
  },
  {
   "cell_type": "code",
   "execution_count": 8,
   "metadata": {
    "collapsed": true
   },
   "outputs": [],
   "source": [
    "# Ваш код\n",
    "model_artm.scores.add(artm.TopTokensScore(name=\"top_texts\", num_tokens=15, class_id=\"text\"))\n",
    "model_artm.scores.add(artm.TopTokensScore(name=\"top_authors\", num_tokens=15, class_id=\"author\"))\n",
    "#,overwrite=True"
   ]
  },
  {
   "cell_type": "markdown",
   "metadata": {},
   "source": [
    "##### Построение модели"
   ]
  },
  {
   "cell_type": "markdown",
   "metadata": {},
   "source": [
    "Мы будем строить модель в два этапа: сначала добавим сглаживающий регуляризатор фоновой темы и настроим параметры модели, затем - добавим разреживающий регуляризатор предметрых тем и выполним еще несколько итераций. Так мы сможем получить наиболее чистые от фоновых слов предметные темы. Сглаживающий и разреживающий регуляризаторы задаются одним и тем же классом artm.SmoothSparsePhiRegularizer: если коэффициент tau положительный, то регуляризатор будет сглаживающий, если отрицательный - разреживающий.\n",
    "\n",
    "Если вы хотите подробнее разобраться, как выполняется регуляризация тематической модели в BigARTM, вы можете прочитать [статью](https://s3-eu-west-1.amazonaws.com/artm/voron-potap14artm-rus.pdf), раздел 4."
   ]
  },
  {
   "cell_type": "markdown",
   "metadata": {},
   "source": [
    "Добавьте сглаживающий регуляризатор с коэффициентом tau = 1e5, указав название своего словаря в dictionary, модальность текста в class_ids и тему \"bcg\" в topic_names."
   ]
  },
  {
   "cell_type": "code",
   "execution_count": 9,
   "metadata": {
    "collapsed": true
   },
   "outputs": [],
   "source": [
    "# Ваш код\n",
    "model_artm.regularizers.add(artm.SmoothSparsePhiRegularizer(name='SparsePhiSmoothing', class_ids={\"text\":1},\n",
    "                            topic_names=topic_names[-1], tau=1e5, dictionary='dictionary'))\n",
    "#,overwrite=True"
   ]
  },
  {
   "cell_type": "markdown",
   "metadata": {},
   "source": [
    "Выполните 30 итераций по коллекции (num_collection_passes), количество внутренних итераций установите равным 1. Используйте метод fit_offline модели."
   ]
  },
  {
   "cell_type": "code",
   "execution_count": 10,
   "metadata": {
    "collapsed": true
   },
   "outputs": [],
   "source": [
    "# Ваш код\n",
    "model_artm.fit_offline(batch_vectorizer=batch_vectorizer, num_collection_passes=30)"
   ]
  },
  {
   "cell_type": "markdown",
   "metadata": {},
   "source": [
    "Добавьте разреживающий регуляризатор с коэффициентом tau=-1e5, указав название своего словаря, модальность текста в class_ids и все темы \"sbjX\" в topic_names."
   ]
  },
  {
   "cell_type": "code",
   "execution_count": 11,
   "metadata": {
    "collapsed": false
   },
   "outputs": [],
   "source": [
    "# Ваш код\n",
    "model_artm.regularizers.add(artm.SmoothSparsePhiRegularizer(name='SparsePhiDiluting', class_ids={\"text\":1},\n",
    "                                        topic_names=topic_names[:-1], tau=-1e5, dictionary='dictionary'))\n",
    "#,overwrite=True"
   ]
  },
  {
   "cell_type": "markdown",
   "metadata": {},
   "source": [
    "Выполните еще 15 проходов по коллекции."
   ]
  },
  {
   "cell_type": "code",
   "execution_count": 12,
   "metadata": {
    "collapsed": true
   },
   "outputs": [],
   "source": [
    "# Ваш код\n",
    "model_artm.fit_offline(batch_vectorizer=batch_vectorizer, num_collection_passes=15)"
   ]
  },
  {
   "cell_type": "markdown",
   "metadata": {},
   "source": [
    "##### Интерпретация тем"
   ]
  },
  {
   "cell_type": "markdown",
   "metadata": {},
   "source": [
    "Используя созданные score, выведите топы слов и топы авторов в темах. Удобнее всего выводить топ слов каждой темы с новой строки, указывая название темы в начале строки, и аналогично с авторами."
   ]
  },
  {
   "cell_type": "code",
   "execution_count": 13,
   "metadata": {
    "collapsed": false
   },
   "outputs": [
    {
     "name": "stdout",
     "output_type": "stream",
     "text": [
      "sbj0:  церковь русь средневековый император святой власть сага князь папа византийский поэзия церковный рим вера король\n",
      "sbj1:  планета земля атмосфера вода солнце солнечный белый карлик газ вокруг образовываться поверхность спутник радиус метр\n",
      "sbj2:  система трудность относительность тест задание преподавание отсчет системный научение компетенция адаптивный обществознание подготовка моделирование спиновый\n",
      "sbj3:  культура наука рассказывать понятие кандидат исторический каков доктор культурный сознание восприятие филологический феномен владимир личность\n",
      "sbj4:  право правовой римский юрист искусство суд юридический должник собственность обязательство договор владение собственник исполнение имущество\n",
      "sbj5:  материал свет оптический полимер применение импульс поверхность электронный использование лазерный углеродный прибор электроника бор трехмерный\n",
      "sbj6:  литература фильм текст литературный кино произведение автор герой жанр кинематограф поэт анекдот писатель читатель культовый\n",
      "sbj7:  смерть ритуал диктатура государь обряд правитель конвент орден террор монтаньяр баратынский подданный насилие похоронный якобинский\n",
      "sbj8:  структура вещество химический соединение химия давление углерод реакция металл органический кристалл водород алмаз кристаллический кислород\n",
      "sbj9:  частица энергия квантовый поле физика атом взаимодействие магнитный электрон кварк теория симметрия фотон элементарный нейтрино\n",
      "sbj10:  война россия советский русский власть российский германия мировой реформа историк петр немецкий против гражданский военный\n",
      "sbj11:  ребенок женщина семья мужчина возраст взрослый сон мать родитель старение конфликт женский травма катастрофа идентичность\n",
      "sbj12:  мозг животное нейрон растение эволюция отбор озеро эволюционный песня сердце популяция мышца птица нейронный сигнал\n",
      "sbj13:  территория христианский империя восток народ древний письменность христианство государство памятник цивилизация традиция китай восточный северный\n",
      "sbj14:  звезда галактика масса вселенная черный дыра волна излучение скорость телескоп объект расстояние диск скопление гравитационный\n",
      "sbj15:  задача информация память решение данные компьютер психология мышление когнитивный внимание психолог ошибка компьютерный зрительный психологический\n",
      "sbj16:  раса океан африка остров америка южный станислав географический монголоид дробышевский индия вакцина нос штамм индеец\n",
      "sbj17:  политический философия государство философский философ свобода идеология платон мысль враг критика партия чтение шмитт дух\n",
      "sbj18:  язык слово русский словарь текст предложение лингвист значение категория глагол корпус перевод лингвистика языковой грамматика\n",
      "sbj19:  революция французский франция театр король роман костюм нация национальный актер аргумент депутат конституция париж монархия\n",
      "sbj20:  город сеть робот городской интернет пользователь компания музей медиа горожанин технология программный библиотека метро цифровой\n",
      "sbj21:  болезнь заболевание пациент лечение медицина врач боль препарат медицинский операция лекарство опухоль рак кровь нарушение\n",
      "sbj22:  социальный знание социология социологический дисциплина познание социолог повседневный виктор машинный обучение общественный концепт повседневность фрейм\n",
      "sbj23:  микроорганизм матрица интеллект эмоция алгоритм вычислительный эмоциональный схема искусственный микроб глубина хищник микробный многоклеточный экология\n",
      "sbj24:  бог миф царь греческий море мифология душа грек андрей египетский египет мифологический фольклор гусейнов божество\n",
      "sbj25:  гласный согласный звук говор компилятор программирование мягкий диалект твердость столыпин древнерусский слог шахматы жест диалектный\n",
      "sbj26:  страна политика экономический экономика сталин кризис праздник крестьянин коллективный принятие государственный экономист прошлое благо деревня\n",
      "sbj27:  клетка ген днк белок организм молекула биологический генетический геном бактерия рнк мутация молекулярный ткань вирус\n",
      "sbj28:  температура университет сверхпроводимость сверхпроводник сверхпроводящий частота переход заимствование гумбольдт точность магнит профессор кельвин жидкий булгарский\n",
      "bcg:  быть что это который этот как они мочь такой очень для человек или тот один\n",
      "sbj0:  Александр_Марей Фёдор_Успенский Алексей_Юдин Татьяна_Бобровникова Игорь_Данилевский Ольга_Брилева Елена_Уханова Владимир_Петрухин Елена_Браун Олег_Воскобойников Екатерина_Болтунова Ольга_Тогоева Ольга_Вайнштейн Павел_Уваров Григорий_Бондаренко\n",
      "sbj1:  Сергей_Попов Александр_Марков Дмитрий_Вибе Валерий_Сулейманов Дмитрий_Титов Татьяна_Смоктунович Зоригто_Намсараев Владимир_Кузнецов Роман_Рафиков Александр_Слободкин Елизавета_Ривкина Наталья_Новикова Андрей_Глазовский Владимир_Сурдин Сергей_Наугольных\n",
      "sbj2:  Елена_Брызгалина Александр_Поддьяков Михаил_Пантелеев Владимир_Мележик Эмиль_Ахмедов Михаил_Фейгельман Даниэль_Сельва Антон_Суворов Владимир_Редько Татьяна_Клячко Илья_Щуров Дэвид_Кайзер Александра_Скрипченко Мартин_Вейс Кристофер_Уиншип\n",
      "sbj3:  Виталий_Куренной Павел_Уваров Ольга_Артёмова Александр_Гофман Пётр_Турчин Алексей_Руткевич Владимир_Миронов Дмитрий_Громов Андрей_Лукашов Сергей_Арутюнов Владимир_Бобровников Николай_Плотников Ирина_Савельева Максим_Кронгауз Владимир_Каганский\n",
      "sbj4:  Дмитрий_Дождев Олег_Лекманов Сергей_Зенкин Денис_Новак Сергей_Майоров Дмитрий_Полдников Виктор_Цетлин Александр_Парфенов Марина_Бутовская Наталья_Смолянская Евгений_Рогожин Андрей_Кофман Татьяна_Гусарова Мохамад_Кассаб Джу_Йонг_Ли\n",
      "sbj5:  Дмитрий_Паращук Алексей_Акимов Владимир_Белотелов Дмитрий_Гольберг Владимир_Шалаев Шринивас_Шридхар Алексей_Желтиков Иван_Воробьев Сергей_Никитов Алексей_Хохлов Дмитрий_Клинов Василий_Климов Владимир_Комлев Эрик_Мазур Павел_Плечов\n",
      "sbj6:  Александр_Павлов Павел_Руднев Ян_Левченко Ольга_Эдельман Александра_Архипова Мария_Штейнман Дмитрий_Бак Петр_Дружинин Мария_Неклюдова Владимир_Кантор Ольга_Вайнштейн Мария_Майофис Игорь_Чубаров Анна_Рогожина Анатолий_Гершман\n",
      "sbj7:  Михаил_Бойцов Михаил_Маяцкий Анна_Соколова Арсений_Хитров Дмитрий_Рогозин Олег_Ауров Алина_Бодрова Олег_Лекманов Игорь_Чубаров Игорь_Данилевский Сет_Ллойд Александр_Гофман Дмитрий_Бовыкин Михаил_Алексеевский Владимир_Емельянов\n",
      "sbj8:  Артем_Оганов Валерий_Фокин Алла_Ножевникова Валентин_Ненайденко Виктория_Битюкова Иван_Сорокин Евгений_Гудилин Александр_Беленький Александр_Апт Константин_Мирошников Дмитрий_Лось Валентин_Крапошин Рафаэль_Арутюнян Олег_Мельник Пётр_Образцов\n",
      "sbj9:  Дмитрий_Казаков Эмиль_Ахмедов Михаил_Данилов Алексей_Рубцов Игорь_Волобуев Сергей_Троицкий Наталья_Берлофф Виктор_Брагута Павел_Пахлов Сергей_Демокритов Андрей_Лосев Александр_Львовский Лев_Дудко Марина_Корсакова-Крейн Андрей_Семенов\n",
      "sbj10:  Илья_Женин Кирилл_Соловьев Борис_Морозов Кирилл_Кочегаров Александр_Лаврентьев Александр_Каменский Олег_Будницкий Борис_Колоницкий Илья_Виньковецкий Игорь_Курукин Алексей_Киличенков Людмила_Новикова Илья_Кукулин Екатерина_Щербакова Ольга_Тогоева\n",
      "sbj11:  Катерина_Поливанова Ольга_Сварник Ольга_Исупова Юрий_Яшков Мария_Падун Ольга_Гулевич Наталья_Харламенкова Дмитрий_Жуков Мария_Медникова Владимир_Ковальзон Леонид_Марголис Эмери_Браун Джеральд_де_Хаан Павел_Умрюхин Максим_Киселев\n",
      "sbj12:  Кирилл_Еськов Филипп_Хайтович Михаил_Бурцев Егор_Задереев Андрей_Цатурян Ирина_Бёме Варвара_Веденина Алексей_Кондрашов Константин_Агладзе Юлия_Краус Алишер_Тураев Наталья_Спасская Александр_Петренко Мария_Добровольская Дмитрий_Дорохов\n",
      "sbj13:  Алексей_Муравьёв Дмитрий_Беляев Марк_Ульянов Алексей_Малашенко Дмитрий_Худяков Нина_Сумбатова Андрей_Виноградов Сергей_Серёгичев Дмитрий_Арзютов Галина_Ершова Григорий_Бондаренко Олег_Ауров Анна_Дыбо Кирилл_Кожанов Анна_Рогожина\n",
      "sbj14:  Сергей_Попов Анатолий_Засов Алексей_Расторгуев Ольга_Сильченко Михаил_Ревнивцев Дмитрий_Горбунов Олег_Верходанов Андрей_Савельев-Трофимов Алексей_Старобинский Валерий_Рубаков Владимир_Сурдин Дмитрий_Вибе Юджин_Ползик Антон_Бирюков Сергей_Блинников\n",
      "sbj15:  Мария_Фаликман Владимир_Спиридонов Павел_Балабан Константин_Анохин Игорь_Уточкин Александр_Каплан Александр_Войскунский Станислав_Протасов Махзарин_Банаджи Иван_Луковников Станислав_Клименко Алексей_Созинов Жанна_Резникова Ксения_Паниди Наталья_Кисельникова\n",
      "sbj16:  Станислав_Дробышевский Виталий_Кушниров Андрей_Летаров Андрей_Иванцов Сергей_Писарев Евгений_Рогожин Митчел_Резник Георгий_Базыкин Алиса_Вячеславова Владимир_Муронец Александр_Шацкий Александр_Воеводский Александра_Архипова Николай_Короновский Андрей_Глазовский\n",
      "sbj17:  Алексей_Козырев Кирилл_Мартынов Иван_Болдырев Владимир_Малахов Александр_Павлов Дина_Гусейнова Александр_Филиппов Василий_Жарков Павел_Соколов Петр_Резвых Александр_Доброхотов Михаил_Маяцкий Дмитрий_Балалыкин Валентина_Харитонова Михаил_Эпштейн\n",
      "sbj18:  Владимир_Плунгян Андрей_Кибрик Александр_Пиперски Кирилл_Бабаев Дмитрий_Добровольский Надежда_Онипенко Светлана_Евграфова Леонид_Иомдин Борис_Иомдин Анатолий_Баранов Алексей_Шмелев Петр_Аркадьев Мира_Бергельсон Екатерина_Лютикова Екатерина_Протасова\n",
      "sbj19:  Дмитрий_Бовыкин Алексей_Миллер Раиса_Кирсанова Алексей_Бартошевич Вера_Мильчина Дина_Гусейнова Мария_Майофис Мария_Неклюдова Александр_Дмитриев Марина_Новикова-Грунд Максим_Демин Илья_Иткин Ольга_Вайнштейн Борис_Колоницкий Андрей_Зорин\n",
      "sbj20:  ПостНаука Екатерина_Лапина-Кратасюк Александр_Сафонов Александр_Тормасов Екатерина_Ларионова Руслан_Смелянский Оксана_Запорожец Алексей_Лебедев Наталья_Зубаревич Мануэль_Маццара Евгений_Магид Джанмарко_Веруджио Ирина_Стародубровская Лев_Беклемишев Эдуард_Пройдаков\n",
      "sbj21:  Петр_Федичев Алексей_Алексеев Ярослав_Ашихмин Александр_Жаворонков Алексей_Чжао Вера_Ижевская Олег_Медведев Сергей_Румянцев Александр_Васильев Сергей_Яковенко Рауль_Гайнетдинов Елена_Брызгалина Александр_Габибов Инга_Полетаева Александр_Тхостов\n",
      "sbj22:  Виктор_Вахштайн Александр_Филиппов Дмитрий_Рогозин Леонид_Григорьев Дмитрий_Ветров Светлана_Баньковская Сезар_Идальго Александр_Дьяконов Джозеф_Браун Николай_Мощевитин Дэвид_Вайнберг Aльберт_Давлетшин Александр_Гофман Михаил_Соколов Павел_Нерлер_(Полян)\n",
      "sbj23:  Елизавета_Бонч-Осмоловская Иван_Оселедец Светлана_Дедыш Николай_Пименов Елена_Гороховская Александр_Жданов Илья_Щуров Андрей_Чабовский Максим_Таланов Игорь_Петров Леонард_Полищук Сергей_Наугольных Сергей_Гашков Сергей_Зыков Виталий_Дунин-Барковский\n",
      "sbj24:  Гасан_Гусейнов Олег_Воскобойников Владимир_Емельянов Иван_Ладынин Галина_Зеленина Аскольд_Иванчик Мария_Штейнман Варвара_Добровольская Ахмет_Ярлыкапов Ивар_Максутов Алексей_Гиппиус Кирилл_Зыбин Александр_Воеводский Алексей_Юдин Андрей_Виноградов\n",
      "sbj25:  Игорь_Исаев Георгий_Старостин Григорий_Крейдлин Владимир_Беликов Светлана_Бурлак Екатерина_Лямина Андрей_Кофман Илья_Иткин Евгений_Зуев Дмитрий_Дагаев Яков_Тестелец Елена_Браун Ольга_Вендина Анастасия_Лопухина Антон_Чижов\n",
      "sbj26:  Фуад_Алескеров Олег_Хлевнюк Алексей_Белянин Ольга_Малинова Андрей_Зорин Сергей_Бобылев Владимир_Гимпельсон Виктор_Полтерович Сергей_Пекарский Сергей_Гуриев Сергей_Афонцев Александр_Аузан Сергей_Соколовский Ивар_Максутов Анатолий_Вишневский\n",
      "sbj27:  Евгений_Шеваль Константин_Северинов Максим_Франк-Каменецкий Михаил_Гельфанд Сергей_Киселев Антон_Буздин Сергей_Саложин Евгений_Куликов Сергей_Науменко Светлана_Боринская Роман_Ефремов Владимир_Муронец Георгий_Базыкин Антон_Чугунов Мария_Шутова\n",
      "sbj28:  Михаил_Киселев Владимир_Пудалов Наталья_Ростиславлева Илья_Шкредов Елена_Вишленкова Виталий_Пальчиков Евгений_Николаев Анна_Дыбо Алексей_Кавокин Рой_Глаубер Алексей_Орлов Яков_Фоминов Герберт_Хупперт Теунис_Клапвик Валерий_Рязанов\n",
      "bcg:  Михаил_Соколов Сергей_Неклюдов Кирилл_Титаев Михаил_Алексеевский Алексей_Маслов Андрей_Журавлев Павел_Нерлер_(Полян) Татьяна_Ребеко Борис_Миркин Николай_Дронин Алексей_Семихатов Кирилл_Разлогов Дмитрий_Баюк Татьяна_Котова Денис_Сивков\n"
     ]
    }
   ],
   "source": [
    "# Ваш код\n",
    "def print_top_tokens(scorer):\n",
    "    for topic_name in model_artm.topic_names:\n",
    "        print topic_name + ': ',\n",
    "        tokens = model_artm.score_tracker[scorer].last_tokens\n",
    "        for word in tokens[topic_name]:    \n",
    "            print word,\n",
    "        print\n",
    "print_top_tokens('top_texts')\n",
    "print_top_tokens('top_authors')"
   ]
  },
  {
   "cell_type": "markdown",
   "metadata": {},
   "source": [
    "В последней теме \"bcg\" должны находиться общеупотребительные слова.\n",
    "\n",
    "Важный шаг в работе с тематической моделью, когда речь идет о визуализации или создании тематического навигатора, это именование тем. Понять, о чем каждая тема, можно по списку ее топовых слов. Например, тему\n",
    "    \n",
    "    частица взаимодействие физика кварк симметрия элементарный нейтрино стандартный материя протон бозон заряд масса ускоритель слабый\n",
    "    \n",
    "можно назвать \"Физика элементарных частиц\". \n",
    "\n",
    "Дайте названия 29 предметным темам. Если вы не знаете, как назвать тему, назовите ее первым встретившимся в ней существительным, хотя при таком подходе навигатор будет менее информативным. Из названий тем составьте список из 29 строк и запишите го в переменную sbj_topic_labels. В переменной topic_labels будут храниться названия всех тем, включая фоновую."
   ]
  },
  {
   "cell_type": "code",
   "execution_count": 14,
   "metadata": {
    "collapsed": true
   },
   "outputs": [],
   "source": [
    "sbj_topic_labels = ['Средневековье','Космос','Теория относительности','Общенаучная','Право','Оптика','Жанры','Ритуал','Химия',\n",
    "    'Физика элементарных частиц','Война','Семья','Эволюция','Религия','Астрономия','Когнитивные технологии',\n",
    "    'Расы','Философия','Русский язык','Революция во Франции','Интернет','Медицина','Социология','Экология',\n",
    "    'Мифология','Лингвистика','Политика','Генетика','Сверхпроводимость']   # запишите названия тем в список\n",
    "topic_labels = sbj_topic_labels + [\"Фоновая тема\"]"
   ]
  },
  {
   "cell_type": "markdown",
   "metadata": {},
   "source": [
    "##### Анализ тем"
   ]
  },
  {
   "cell_type": "markdown",
   "metadata": {},
   "source": [
    "Далее мы будем работать с распределениями тем в документах (матрица $\\Theta$) и авторов в темах (одна из двух матриц $\\Phi$, соответствующая модальности авторов). \n",
    "Создайте переменные, содержащие две этих матрицы, с помощью методов get_phi и get_theta модели. Назовите переменные theta и phi_a. Выведите формы обеих матриц, чтобы понять, по каким осям стоят темы."
   ]
  },
  {
   "cell_type": "code",
   "execution_count": 15,
   "metadata": {
    "collapsed": false
   },
   "outputs": [
    {
     "data": {
      "text/plain": [
       "((30, 1728), (539, 30))"
      ]
     },
     "execution_count": 15,
     "metadata": {},
     "output_type": "execute_result"
    }
   ],
   "source": [
    "model_artm.theta_columns_naming = \"title\" # включает именование столбцов Theta их \n",
    "                                                                    #названиями-ссылками, а не внутренними id \n",
    "# Ваш код\n",
    "theta = model_artm.get_theta(topic_names)\n",
    "phi_a = model_artm.get_phi(class_ids={\"author\":1})\n",
    "theta.shape, phi_a.shape"
   ]
  },
  {
   "cell_type": "markdown",
   "metadata": {},
   "source": [
    "Визуализируем фрагмент матрицы $\\Theta$ - первые 100 документов (это наиболее простой способ визуально оценить, как темы распределяются в документах). С помощью метода seaborn.heatmap выведите фрагмент theta как изображение. Рекомендация: создайте фигуру pyplot размера (20, 10)."
   ]
  },
  {
   "cell_type": "code",
   "execution_count": 16,
   "metadata": {
    "collapsed": false,
    "scrolled": false
   },
   "outputs": [
    {
     "data": {
      "text/plain": [
       "<matplotlib.axes._subplots.AxesSubplot at 0x11926400>"
      ]
     },
     "execution_count": 16,
     "metadata": {},
     "output_type": "execute_result"
    },
    {
     "data": {
      "image/png": "[encoded data removed]",
      "text/plain": [
       "<matplotlib.figure.Figure at 0x13983b38>"
      ]
     },
     "metadata": {},
     "output_type": "display_data"
    }
   ],
   "source": [
    "# Ваш код\n",
    "plt.figure(figsize=(20, 10))\n",
    "seaborn.heatmap(theta.ix[:,:100],xticklabels=range(100),yticklabels=[x.decode('utf-8') for x in topic_labels])"
   ]
  },
  {
   "cell_type": "markdown",
   "metadata": {},
   "source": [
    "Вы должны увидеть, что фоновая тема имеет большую вероятность в почти каждом документе, и это логично. Кроме того, есть еще одна тема, которая чаще других встречается в документах. Судя по всему, это тема содержит много слов по науку в целом, а каждый документ (видео) в нашей коллекции связан с наукой. Можно (необязательно) дать этой теме название \"Наука\".\n",
    "\n",
    "Помимо этих двух тем, фоновой и общенаучной, каждый документ характеризуется малым числом других тем."
   ]
  },
  {
   "cell_type": "markdown",
   "metadata": {},
   "source": [
    "Оценим $p(t)$ - долю каждой темы во всей коллекции. По формуле полной вероятности вычислять эти величины нужно как\n",
    "$p(t) = \\sum_d p(t|d) p(d)$. Согласно вероятностной модели, $p(d)$ пропорционально длине документа d. Поступим проще: будем полагать, что все документы равновероятны. Тогда оценить $p(t)$ можно, просуммировав $p(t|d)$ по всем документам, а затем разделив полученный вектор на его сумму. \n",
    "\n",
    "Создайте переменную-датафрейм с T строками, индексированными названиями тем, и 1 столбцом, содержащим оценки $p(t)$. Выведите датафрейм на печать."
   ]
  },
  {
   "cell_type": "code",
   "execution_count": 17,
   "metadata": {
    "collapsed": false
   },
   "outputs": [
    {
     "name": "stdout",
     "output_type": "stream",
     "text": [
      "Index([u'Генетика', u'Физика элементарных частиц', u'Астрономия', u'Война',\n",
      "       u'Религия'],\n",
      "      dtype='object')\n",
      "Index([u'Сверхпроводимость', u'Лингвистика', u'Ритуал'], dtype='object')\n"
     ]
    }
   ],
   "source": [
    "# Ваш код\n",
    "dfT = pd.DataFrame(theta.sum(axis=1)/theta.sum(axis=1).sum())\n",
    "dfT.index = [x.decode('utf-8') for x in topic_labels]\n",
    "dfT.columns = ['p(t)']\n",
    "dfTs = dfT.sort_values(by='p(t)',ascending=False)\n",
    "print dfTs[2:7].index\n",
    "print dfTs[-3:].index"
   ]
  },
  {
   "cell_type": "markdown",
   "metadata": {},
   "source": [
    "Найдите 5 самых распространенных и 3 наименее освещенных темы в коллекции (наибольшие и наименьшие $p(t)$ соответственно), не считая фоновую и общенаучную. Укажите названия, которые вы дали этим темам."
   ]
  },
  {
   "cell_type": "raw",
   "metadata": {},
   "source": [
    "Ваш ответ:\n",
    "5 тем с max p(t): [u'Генетика', u'Физика элементарных частиц', u'Астрономия', u'Война', u'Религия']\n",
    "3 темы с min p(t): [u'Сверхпроводимость', u'Лингвистика', u'Ритуал']"
   ]
  },
  {
   "cell_type": "markdown",
   "metadata": {},
   "source": [
    "Визуализируйте матрицу $\\Phi$ модальности авторов в виде изображения. Рекомендация: установите yticklabels=False в heatmap."
   ]
  },
  {
   "cell_type": "code",
   "execution_count": 18,
   "metadata": {
    "collapsed": false
   },
   "outputs": [
    {
     "data": {
      "text/plain": [
       "<matplotlib.axes._subplots.AxesSubplot at 0x118f4668>"
      ]
     },
     "execution_count": 18,
     "metadata": {},
     "output_type": "execute_result"
    },
    {
     "data": {
      "image/png": "[encoded data removed]",
      "text/plain": [
       "<matplotlib.figure.Figure at 0x13967470>"
      ]
     },
     "metadata": {},
     "output_type": "display_data"
    }
   ],
   "source": [
    "# Ваш код\n",
    "plt.figure(figsize=(20, 10))\n",
    "seaborn.heatmap(phi_a,yticklabels=False,xticklabels=topic_names)"
   ]
  },
  {
   "cell_type": "markdown",
   "metadata": {},
   "source": [
    "Каждой теме соответствует не очень большое число авторов - матрица достаточно разреженная. Кроме того, некоторые темы имеют доминирующего автора $a$, имеющего большую вероятность $p(a|t)$ - этот автор записал больше всего лекций по теме. "
   ]
  },
  {
   "cell_type": "markdown",
   "metadata": {},
   "source": [
    "Будем считать, что автор $a$ значим в теме, если $p(a|t) > 0.01$. Для каждого автора посчитайте, в скольких темах он значим. Найдите авторов-рекордсменов, которые значимы (а значит, читали лекции) в >= 3 темах."
   ]
  },
  {
   "cell_type": "code",
   "execution_count": 19,
   "metadata": {
    "collapsed": false
   },
   "outputs": [
    {
     "name": "stdout",
     "output_type": "stream",
     "text": [
      "462 67 5\n",
      "Index([u'Алина_Бодрова', u'Илья_Иткин', u'Александр_Воеводский',\n",
      "       u'Ольга_Вайнштейн', u'Ольга_Тогоева'],\n",
      "      dtype='object')\n"
     ]
    }
   ],
   "source": [
    "a = phi_a[phi_a>0.01].count(axis=1)\n",
    "print a[a==1].count(), a[a==2].count(), a[a>2].count()\n",
    "a = pd.DataFrame(a[a>2]).index\n",
    "print a"
   ]
  },
  {
   "cell_type": "raw",
   "metadata": {},
   "source": [
    "Ваш ответ: Значимых в одной теме = 462; Значимых в двух темах = 67; Значимых в более чем двух темах = 5.\n",
    "авторы, значимые в не менее чем 3 темах: [u'Алина_Бодрова', u'Илья_Иткин', u'Александр_Воеводский', u'Ольга_Вайнштейн',\n",
    "    u'Ольга_Тогоева']"
   ]
  },
  {
   "cell_type": "markdown",
   "metadata": {},
   "source": [
    "Большинство авторов значимы в 1 теме, что логично."
   ]
  },
  {
   "cell_type": "markdown",
   "metadata": {},
   "source": [
    "##### Построение тематической карты авторов"
   ]
  },
  {
   "cell_type": "markdown",
   "metadata": {},
   "source": [
    "По сути, в матрице $\\Phi$, соответствующей модальности авторов, записаны тематические кластеры авторов. Для любого автора мы можем составить его тематический круг - авторов, разбирающихся в той же теме, что и данный. Интересующиеся слушатели могут попробовать выполнить эту процедуру для ученых, читающих лекции на Постнауке, которых они знают (например, на Постнауке есть лекции с К. В. Воронцовым - лектором текущего модуля :)\n",
    "\n",
    "Составим карту близости авторов по тематике их исследований. Для этого применим метод понижения размерности MDS к тематическим профилям авторов.\n",
    "\n",
    "Чтобы получить тематический профиль автора, распределение $p(t|a)$, нужно воспользоваться формулой Байеса: \n",
    "$p(t|a) = \\frac {p(a|t) p(t)} {\\sum_t' p(a|t') p(t')}$. Все необходимые для этого величины у вас есть и записаны в переменных phi и pt. \n",
    "\n",
    "Передайте матрицу тематических профилей авторов, записанных по строкам, в метод MDS с n_components=2. Используйте косинусную метрику (она хорошо подходит для поиска расстояний между векторами, имеющими фиксированную сумму компонент)."
   ]
  },
  {
   "cell_type": "code",
   "execution_count": 20,
   "metadata": {
    "collapsed": true
   },
   "outputs": [],
   "source": [
    "from sklearn.manifold import MDS\n",
    "from sklearn.metrics import pairwise_distances"
   ]
  },
  {
   "cell_type": "code",
   "execution_count": 21,
   "metadata": {
    "collapsed": false
   },
   "outputs": [],
   "source": [
    "# Ваш код\n",
    "pta = np.zeros((len(phi_a.index), len(phi_a.columns)))\n",
    "for a in range(pta.shape[0]):\n",
    "    for t in range(pta.shape[1]):\n",
    "        pta[a,t] = phi_a.ix[a,t]*dfT.ix[t][0]\n",
    "    pta[a]/=sum(pta[a])\n",
    "ptaDF = pd.DataFrame(pta, phi_a.index, phi_a.columns)\n",
    "methodMDS = MDS(n_components=2,n_jobs=4, dissimilarity='precomputed')\n",
    "pta2 = methodMDS.fit_transform(pairwise_distances(pta,metric='cosine'))"
   ]
  },
  {
   "cell_type": "markdown",
   "metadata": {},
   "source": [
    "Визуализируйте найденные двумерные представления с помощью функции scatter. "
   ]
  },
  {
   "cell_type": "code",
   "execution_count": 22,
   "metadata": {
    "collapsed": false
   },
   "outputs": [
    {
     "data": {
      "text/plain": [
       "<matplotlib.collections.PathCollection at 0x134299b0>"
      ]
     },
     "execution_count": 22,
     "metadata": {},
     "output_type": "execute_result"
    },
    {
     "data": {
      "image/png": "[encoded data removed]",
      "text/plain": [
       "<matplotlib.figure.Figure at 0x13a78748>"
      ]
     },
     "metadata": {},
     "output_type": "display_data"
    }
   ],
   "source": [
    "# Ваш код\n",
    "plt.figure(figsize=(20,20))\n",
    "plt.scatter(pta2[:,0],pta2[:,1],alpha=0.5)"
   ]
  },
  {
   "cell_type": "markdown",
   "metadata": {},
   "source": [
    "Должно получиться, что некоторые грппы авторов формируют сгустки, которые можно считать тематическими группами авторов.\n",
    "\n",
    "Раскрасим точки следующим образом: для каждого автора выберем наиболее вероятную для него тему ($\\max_t p(t|a)$), и каждой теме сопоставим цвет. Кроме того, добавим на карту имена и фамилии авторов, это можно сделать в цикле по всем точкам с помощью функции plt.annotate, указывая метку точки первым аргументом и ее координаты в аргументе xy. Рекомендуется сделать размер изображения большим, тогда маркеры точек тоже придется увеличить (s=100 в plt.scatter). Изобразите карту авторов и сохраните в pdf-файл с помощью функции plt.savefig. \n",
    "\n",
    "Метки авторов будут пересекаться. Будет очень хорошо, если вы найдете способ, как этого можно избежать."
   ]
  },
  {
   "cell_type": "code",
   "execution_count": 23,
   "metadata": {
    "collapsed": false,
    "scrolled": true
   },
   "outputs": [
    {
     "data": {
      "image/png": "[encoded data removed]",
      "text/plain": [
       "<matplotlib.figure.Figure at 0x13a7f2e8>"
      ]
     },
     "metadata": {},
     "output_type": "display_data"
    }
   ],
   "source": [
    "import matplotlib.cm as cm\n",
    "colors = cm.rainbow(np.linspace(0, 1, T)) # цвета для тем\n",
    "# Ваш код\n",
    "ptaM = pta.argmax(axis=1)\n",
    "plt.figure(figsize=(30,30))\n",
    "for i,c in enumerate(colors):\n",
    "    ind = [j for j,p in enumerate(ptaM) if p==i]\n",
    "    plt.scatter(pta2[ind,0],pta2[ind,1],c=c,label=str(i),alpha=0.5,s=100)\n",
    "    for j in ind:\n",
    "        plt.annotate(phi_a.index[j],xy=[pta2[j,0],pta2[j,1]])\n",
    "        #,xytext=[pta2[j,0],pta2[j,1]],arrowprops=dict(facecolor='black',shrink=0.002),textcoords='figure fraction')\n",
    "plt.legend()\n",
    "plt.savefig('pdfscatter.pdf')"
   ]
  },
  {
   "cell_type": "markdown",
   "metadata": {},
   "source": [
    "##### Создание простого тематического навигатора по Постнауке"
   ]
  },
  {
   "cell_type": "markdown",
   "metadata": {},
   "source": [
    "Наш тематический навигатор будет для каждой темы показывать ее список слов, а также список релевантных теме документов. \n",
    "\n",
    "Нам понадобятся распределения $p(d|t)$. По формуле Байеса $p(d|t) = \\frac{p(t|d)p(d)}{\\sum_{d'}p(t|d')p(d')}$, но поскольку мы считаем документы равновероятными, достаточно разделить каждую строку $\\Theta$ на ее сумму, чтобы оценить распределение. \n",
    "\n",
    "Отсортируйте матрицу $p(d|t)$ по убыванию $p(d|t)$ в каждой теме (то есть построчно). Нам понадобятся индексы наиболее вероятных документов в каждой теме, поэтому используйте функцию argmax."
   ]
  },
  {
   "cell_type": "code",
   "execution_count": 24,
   "metadata": {
    "collapsed": false
   },
   "outputs": [
    {
     "data": {
      "text/plain": [
       "u'http://postnauka.ru/video/3348'"
      ]
     },
     "execution_count": 24,
     "metadata": {},
     "output_type": "execute_result"
    }
   ],
   "source": [
    "# Ваш код\n",
    "pdt = np.matrix([(v/v.sum()) for v in theta.values])\n",
    "pdt2 = (-pdt).argsort(axis=1)\n",
    "theta.columns[pdt2[0,0]]"
   ]
  },
  {
   "cell_type": "markdown",
   "metadata": {},
   "source": [
    "Создавать навигатор мы будем прямо в jupiter notebook: это возможно благодаря тому факту, что при печати ссылки она автоматически превращается в гиперссылку."
   ]
  },
  {
   "cell_type": "code",
   "execution_count": 25,
   "metadata": {
    "collapsed": false
   },
   "outputs": [
    {
     "name": "stdout",
     "output_type": "stream",
     "text": [
      "http://yandex.ru\n"
     ]
    }
   ],
   "source": [
    "print \"http://yandex.ru\"   # получится кликабельная ссылка"
   ]
  },
  {
   "cell_type": "markdown",
   "metadata": {},
   "source": [
    "Кроме того, подключив модуль [ipython.core.display](https://ipython.org/ipython-doc/2/api/generated/IPython.core.display.html), можно использовать html-разметку в выводе. Например:"
   ]
  },
  {
   "cell_type": "code",
   "execution_count": 26,
   "metadata": {
    "collapsed": false
   },
   "outputs": [
    {
     "data": {
      "text/html": [
       "<h1>Заголовок</h1>"
      ],
      "text/plain": [
       "<IPython.core.display.HTML object>"
      ]
     },
     "metadata": {},
     "output_type": "display_data"
    },
    {
     "data": {
      "text/html": [
       "<ul><li>Пункт 1</li><li>Пункт 2</li></ul>"
      ],
      "text/plain": [
       "<IPython.core.display.HTML object>"
      ]
     },
     "metadata": {},
     "output_type": "display_data"
    },
    {
     "data": {
      "text/html": [
       "<font color=\"green\">Зеленый!</font>"
      ],
      "text/plain": [
       "<IPython.core.display.HTML object>"
      ]
     },
     "metadata": {},
     "output_type": "display_data"
    },
    {
     "data": {
      "text/html": [
       "<a href=\"http://yandex.ru\">Еще один вариант вывода ссылки</a>"
      ],
      "text/plain": [
       "<IPython.core.display.HTML object>"
      ]
     },
     "metadata": {},
     "output_type": "display_data"
    }
   ],
   "source": [
    "from IPython.core.display import display, HTML\n",
    "display(HTML(u\"<h1>Заголовок</h1>\"))   # также <h2>, <h3>\n",
    "display(HTML(u\"<ul><li>Пункт 1</li><li>Пункт 2</li></ul>\"))\n",
    "display(HTML(u'<font color=\"green\">Зеленый!</font>'))\n",
    "display(HTML(u'<a href=\"http://yandex.ru\">Еще один вариант вывода ссылки</a>'))"
   ]
  },
  {
   "cell_type": "markdown",
   "metadata": {},
   "source": [
    "В цикле для каждой темы выведите ее заголовок, в следующей строке - топ-10 слов темы, затем в виде списка ссылки на 10 наиболее релевантных (по $p(d|t)$) теме документов. Используйте html-разметку. Творчество приветствуется :)"
   ]
  },
  {
   "cell_type": "code",
   "execution_count": 27,
   "metadata": {
    "collapsed": false
   },
   "outputs": [
    {
     "data": {
      "text/html": [
       "<h2>Средневековье</h2>"
      ],
      "text/plain": [
       "<IPython.core.display.HTML object>"
      ]
     },
     "metadata": {},
     "output_type": "display_data"
    },
    {
     "data": {
      "text/html": [
       "<font color=\"green\">церковь, русь, средневековый, император, святой, власть, сага, князь, папа, византийский</font>"
      ],
      "text/plain": [
       "<IPython.core.display.HTML object>"
      ]
     },
     "metadata": {},
     "output_type": "display_data"
    },
    {
     "data": {
      "text/html": [
       "<ul><li><a href=\"http://postnauka.ru/video/3348\">http://postnauka.ru/video/3348</a></li></ul>"
      ],
      "text/plain": [
       "<IPython.core.display.HTML object>"
      ]
     },
     "metadata": {},
     "output_type": "display_data"
    },
    {
     "data": {
      "text/html": [
       "<ul><li><a href=\"http://postnauka.ru/video/24034\">http://postnauka.ru/video/24034</a></li></ul>"
      ],
      "text/plain": [
       "<IPython.core.display.HTML object>"
      ]
     },
     "metadata": {},
     "output_type": "display_data"
    },
    {
     "data": {
      "text/html": [
       "<ul><li><a href=\"http://postnauka.ru/video/9968\">http://postnauka.ru/video/9968</a></li></ul>"
      ],
      "text/plain": [
       "<IPython.core.display.HTML object>"
      ]
     },
     "metadata": {},
     "output_type": "display_data"
    },
    {
     "data": {
      "text/html": [
       "<ul><li><a href=\"http://postnauka.ru/video/9299\">http://postnauka.ru/video/9299</a></li></ul>"
      ],
      "text/plain": [
       "<IPython.core.display.HTML object>"
      ]
     },
     "metadata": {},
     "output_type": "display_data"
    },
    {
     "data": {
      "text/html": [
       "<ul><li><a href=\"http://postnauka.ru/video/24039\">http://postnauka.ru/video/24039</a></li></ul>"
      ],
      "text/plain": [
       "<IPython.core.display.HTML object>"
      ]
     },
     "metadata": {},
     "output_type": "display_data"
    },
    {
     "data": {
      "text/html": [
       "<ul><li><a href=\"http://postnauka.ru/video/24030\">http://postnauka.ru/video/24030</a></li></ul>"
      ],
      "text/plain": [
       "<IPython.core.display.HTML object>"
      ]
     },
     "metadata": {},
     "output_type": "display_data"
    },
    {
     "data": {
      "text/html": [
       "<ul><li><a href=\"http://postnauka.ru/video/28942\">http://postnauka.ru/video/28942</a></li></ul>"
      ],
      "text/plain": [
       "<IPython.core.display.HTML object>"
      ]
     },
     "metadata": {},
     "output_type": "display_data"
    },
    {
     "data": {
      "text/html": [
       "<ul><li><a href=\"http://postnauka.ru/video/23472\">http://postnauka.ru/video/23472</a></li></ul>"
      ],
      "text/plain": [
       "<IPython.core.display.HTML object>"
      ]
     },
     "metadata": {},
     "output_type": "display_data"
    },
    {
     "data": {
      "text/html": [
       "<ul><li><a href=\"http://postnauka.ru/video/50350\">http://postnauka.ru/video/50350</a></li></ul>"
      ],
      "text/plain": [
       "<IPython.core.display.HTML object>"
      ]
     },
     "metadata": {},
     "output_type": "display_data"
    },
    {
     "data": {
      "text/html": [
       "<ul><li><a href=\"http://postnauka.ru/video/5464\">http://postnauka.ru/video/5464</a></li></ul>"
      ],
      "text/plain": [
       "<IPython.core.display.HTML object>"
      ]
     },
     "metadata": {},
     "output_type": "display_data"
    },
    {
     "data": {
      "text/html": [
       "<h2>Космос</h2>"
      ],
      "text/plain": [
       "<IPython.core.display.HTML object>"
      ]
     },
     "metadata": {},
     "output_type": "display_data"
    },
    {
     "data": {
      "text/html": [
       "<font color=\"green\">планета, земля, атмосфера, вода, солнце, солнечный, белый, карлик, газ, вокруг</font>"
      ],
      "text/plain": [
       "<IPython.core.display.HTML object>"
      ]
     },
     "metadata": {},
     "output_type": "display_data"
    },
    {
     "data": {
      "text/html": [
       "<ul><li><a href=\"http://postnauka.ru/video/53693\">http://postnauka.ru/video/53693</a></li></ul>"
      ],
      "text/plain": [
       "<IPython.core.display.HTML object>"
      ]
     },
     "metadata": {},
     "output_type": "display_data"
    },
    {
     "data": {
      "text/html": [
       "<ul><li><a href=\"http://postnauka.ru/video/24245\">http://postnauka.ru/video/24245</a></li></ul>"
      ],
      "text/plain": [
       "<IPython.core.display.HTML object>"
      ]
     },
     "metadata": {},
     "output_type": "display_data"
    },
    {
     "data": {
      "text/html": [
       "<ul><li><a href=\"http://postnauka.ru/video/32889\">http://postnauka.ru/video/32889</a></li></ul>"
      ],
      "text/plain": [
       "<IPython.core.display.HTML object>"
      ]
     },
     "metadata": {},
     "output_type": "display_data"
    },
    {
     "data": {
      "text/html": [
       "<ul><li><a href=\"http://postnauka.ru/video/9835\">http://postnauka.ru/video/9835</a></li></ul>"
      ],
      "text/plain": [
       "<IPython.core.display.HTML object>"
      ]
     },
     "metadata": {},
     "output_type": "display_data"
    },
    {
     "data": {
      "text/html": [
       "<ul><li><a href=\"http://postnauka.ru/video/31695\">http://postnauka.ru/video/31695</a></li></ul>"
      ],
      "text/plain": [
       "<IPython.core.display.HTML object>"
      ]
     },
     "metadata": {},
     "output_type": "display_data"
    },
    {
     "data": {
      "text/html": [
       "<ul><li><a href=\"http://postnauka.ru/video/13098\">http://postnauka.ru/video/13098</a></li></ul>"
      ],
      "text/plain": [
       "<IPython.core.display.HTML object>"
      ]
     },
     "metadata": {},
     "output_type": "display_data"
    },
    {
     "data": {
      "text/html": [
       "<ul><li><a href=\"http://postnauka.ru/video/12971\">http://postnauka.ru/video/12971</a></li></ul>"
      ],
      "text/plain": [
       "<IPython.core.display.HTML object>"
      ]
     },
     "metadata": {},
     "output_type": "display_data"
    },
    {
     "data": {
      "text/html": [
       "<ul><li><a href=\"http://postnauka.ru/video/49261\">http://postnauka.ru/video/49261</a></li></ul>"
      ],
      "text/plain": [
       "<IPython.core.display.HTML object>"
      ]
     },
     "metadata": {},
     "output_type": "display_data"
    },
    {
     "data": {
      "text/html": [
       "<ul><li><a href=\"http://postnauka.ru/video/36249\">http://postnauka.ru/video/36249</a></li></ul>"
      ],
      "text/plain": [
       "<IPython.core.display.HTML object>"
      ]
     },
     "metadata": {},
     "output_type": "display_data"
    },
    {
     "data": {
      "text/html": [
       "<ul><li><a href=\"http://postnauka.ru/video/3381\">http://postnauka.ru/video/3381</a></li></ul>"
      ],
      "text/plain": [
       "<IPython.core.display.HTML object>"
      ]
     },
     "metadata": {},
     "output_type": "display_data"
    },
    {
     "data": {
      "text/html": [
       "<h2>Теория относительности</h2>"
      ],
      "text/plain": [
       "<IPython.core.display.HTML object>"
      ]
     },
     "metadata": {},
     "output_type": "display_data"
    },
    {
     "data": {
      "text/html": [
       "<font color=\"green\">система, трудность, относительность, тест, задание, преподавание, отсчет, системный, научение, компетенция</font>"
      ],
      "text/plain": [
       "<IPython.core.display.HTML object>"
      ]
     },
     "metadata": {},
     "output_type": "display_data"
    },
    {
     "data": {
      "text/html": [
       "<ul><li><a href=\"http://postnauka.ru/video/46317\">http://postnauka.ru/video/46317</a></li></ul>"
      ],
      "text/plain": [
       "<IPython.core.display.HTML object>"
      ]
     },
     "metadata": {},
     "output_type": "display_data"
    },
    {
     "data": {
      "text/html": [
       "<ul><li><a href=\"http://postnauka.ru/video/34426\">http://postnauka.ru/video/34426</a></li></ul>"
      ],
      "text/plain": [
       "<IPython.core.display.HTML object>"
      ]
     },
     "metadata": {},
     "output_type": "display_data"
    },
    {
     "data": {
      "text/html": [
       "<ul><li><a href=\"http://postnauka.ru/video/1856\">http://postnauka.ru/video/1856</a></li></ul>"
      ],
      "text/plain": [
       "<IPython.core.display.HTML object>"
      ]
     },
     "metadata": {},
     "output_type": "display_data"
    },
    {
     "data": {
      "text/html": [
       "<ul><li><a href=\"http://postnauka.ru/video/50347\">http://postnauka.ru/video/50347</a></li></ul>"
      ],
      "text/plain": [
       "<IPython.core.display.HTML object>"
      ]
     },
     "metadata": {},
     "output_type": "display_data"
    },
    {
     "data": {
      "text/html": [
       "<ul><li><a href=\"http://postnauka.ru/video/37982\">http://postnauka.ru/video/37982</a></li></ul>"
      ],
      "text/plain": [
       "<IPython.core.display.HTML object>"
      ]
     },
     "metadata": {},
     "output_type": "display_data"
    },
    {
     "data": {
      "text/html": [
       "<ul><li><a href=\"http://postnauka.ru/video/19570\">http://postnauka.ru/video/19570</a></li></ul>"
      ],
      "text/plain": [
       "<IPython.core.display.HTML object>"
      ]
     },
     "metadata": {},
     "output_type": "display_data"
    },
    {
     "data": {
      "text/html": [
       "<ul><li><a href=\"http://postnauka.ru/video/53415\">http://postnauka.ru/video/53415</a></li></ul>"
      ],
      "text/plain": [
       "<IPython.core.display.HTML object>"
      ]
     },
     "metadata": {},
     "output_type": "display_data"
    },
    {
     "data": {
      "text/html": [
       "<ul><li><a href=\"http://postnauka.ru/video/56618\">http://postnauka.ru/video/56618</a></li></ul>"
      ],
      "text/plain": [
       "<IPython.core.display.HTML object>"
      ]
     },
     "metadata": {},
     "output_type": "display_data"
    },
    {
     "data": {
      "text/html": [
       "<ul><li><a href=\"http://postnauka.ru/video/47457\">http://postnauka.ru/video/47457</a></li></ul>"
      ],
      "text/plain": [
       "<IPython.core.display.HTML object>"
      ]
     },
     "metadata": {},
     "output_type": "display_data"
    },
    {
     "data": {
      "text/html": [
       "<ul><li><a href=\"http://postnauka.ru/video/52548\">http://postnauka.ru/video/52548</a></li></ul>"
      ],
      "text/plain": [
       "<IPython.core.display.HTML object>"
      ]
     },
     "metadata": {},
     "output_type": "display_data"
    },
    {
     "data": {
      "text/html": [
       "<h2>Общенаучная</h2>"
      ],
      "text/plain": [
       "<IPython.core.display.HTML object>"
      ]
     },
     "metadata": {},
     "output_type": "display_data"
    },
    {
     "data": {
      "text/html": [
       "<font color=\"green\">культура, наука, рассказывать, понятие, кандидат, исторический, каков, доктор, культурный, сознание</font>"
      ],
      "text/plain": [
       "<IPython.core.display.HTML object>"
      ]
     },
     "metadata": {},
     "output_type": "display_data"
    },
    {
     "data": {
      "text/html": [
       "<ul><li><a href=\"http://postnauka.ru/video/11034\">http://postnauka.ru/video/11034</a></li></ul>"
      ],
      "text/plain": [
       "<IPython.core.display.HTML object>"
      ]
     },
     "metadata": {},
     "output_type": "display_data"
    },
    {
     "data": {
      "text/html": [
       "<ul><li><a href=\"http://postnauka.ru/video/10749\">http://postnauka.ru/video/10749</a></li></ul>"
      ],
      "text/plain": [
       "<IPython.core.display.HTML object>"
      ]
     },
     "metadata": {},
     "output_type": "display_data"
    },
    {
     "data": {
      "text/html": [
       "<ul><li><a href=\"http://postnauka.ru/video/7549\">http://postnauka.ru/video/7549</a></li></ul>"
      ],
      "text/plain": [
       "<IPython.core.display.HTML object>"
      ]
     },
     "metadata": {},
     "output_type": "display_data"
    },
    {
     "data": {
      "text/html": [
       "<ul><li><a href=\"http://postnauka.ru/video/5891\">http://postnauka.ru/video/5891</a></li></ul>"
      ],
      "text/plain": [
       "<IPython.core.display.HTML object>"
      ]
     },
     "metadata": {},
     "output_type": "display_data"
    },
    {
     "data": {
      "text/html": [
       "<ul><li><a href=\"http://postnauka.ru/video/3602\">http://postnauka.ru/video/3602</a></li></ul>"
      ],
      "text/plain": [
       "<IPython.core.display.HTML object>"
      ]
     },
     "metadata": {},
     "output_type": "display_data"
    },
    {
     "data": {
      "text/html": [
       "<ul><li><a href=\"http://postnauka.ru/video/7757\">http://postnauka.ru/video/7757</a></li></ul>"
      ],
      "text/plain": [
       "<IPython.core.display.HTML object>"
      ]
     },
     "metadata": {},
     "output_type": "display_data"
    },
    {
     "data": {
      "text/html": [
       "<ul><li><a href=\"http://postnauka.ru/video/12524\">http://postnauka.ru/video/12524</a></li></ul>"
      ],
      "text/plain": [
       "<IPython.core.display.HTML object>"
      ]
     },
     "metadata": {},
     "output_type": "display_data"
    },
    {
     "data": {
      "text/html": [
       "<ul><li><a href=\"http://postnauka.ru/video/7351\">http://postnauka.ru/video/7351</a></li></ul>"
      ],
      "text/plain": [
       "<IPython.core.display.HTML object>"
      ]
     },
     "metadata": {},
     "output_type": "display_data"
    },
    {
     "data": {
      "text/html": [
       "<ul><li><a href=\"http://postnauka.ru/video/7065\">http://postnauka.ru/video/7065</a></li></ul>"
      ],
      "text/plain": [
       "<IPython.core.display.HTML object>"
      ]
     },
     "metadata": {},
     "output_type": "display_data"
    },
    {
     "data": {
      "text/html": [
       "<ul><li><a href=\"http://postnauka.ru/video/2524\">http://postnauka.ru/video/2524</a></li></ul>"
      ],
      "text/plain": [
       "<IPython.core.display.HTML object>"
      ]
     },
     "metadata": {},
     "output_type": "display_data"
    },
    {
     "data": {
      "text/html": [
       "<h2>Право</h2>"
      ],
      "text/plain": [
       "<IPython.core.display.HTML object>"
      ]
     },
     "metadata": {},
     "output_type": "display_data"
    },
    {
     "data": {
      "text/html": [
       "<font color=\"green\">право, правовой, римский, юрист, искусство, суд, юридический, должник, собственность, обязательство</font>"
      ],
      "text/plain": [
       "<IPython.core.display.HTML object>"
      ]
     },
     "metadata": {},
     "output_type": "display_data"
    },
    {
     "data": {
      "text/html": [
       "<ul><li><a href=\"http://postnauka.ru/video/17913\">http://postnauka.ru/video/17913</a></li></ul>"
      ],
      "text/plain": [
       "<IPython.core.display.HTML object>"
      ]
     },
     "metadata": {},
     "output_type": "display_data"
    },
    {
     "data": {
      "text/html": [
       "<ul><li><a href=\"http://postnauka.ru/video/31688\">http://postnauka.ru/video/31688</a></li></ul>"
      ],
      "text/plain": [
       "<IPython.core.display.HTML object>"
      ]
     },
     "metadata": {},
     "output_type": "display_data"
    },
    {
     "data": {
      "text/html": [
       "<ul><li><a href=\"http://postnauka.ru/video/17825\">http://postnauka.ru/video/17825</a></li></ul>"
      ],
      "text/plain": [
       "<IPython.core.display.HTML object>"
      ]
     },
     "metadata": {},
     "output_type": "display_data"
    },
    {
     "data": {
      "text/html": [
       "<ul><li><a href=\"http://postnauka.ru/video/38009\">http://postnauka.ru/video/38009</a></li></ul>"
      ],
      "text/plain": [
       "<IPython.core.display.HTML object>"
      ]
     },
     "metadata": {},
     "output_type": "display_data"
    },
    {
     "data": {
      "text/html": [
       "<ul><li><a href=\"http://postnauka.ru/video/34414\">http://postnauka.ru/video/34414</a></li></ul>"
      ],
      "text/plain": [
       "<IPython.core.display.HTML object>"
      ]
     },
     "metadata": {},
     "output_type": "display_data"
    },
    {
     "data": {
      "text/html": [
       "<ul><li><a href=\"http://postnauka.ru/video/49455\">http://postnauka.ru/video/49455</a></li></ul>"
      ],
      "text/plain": [
       "<IPython.core.display.HTML object>"
      ]
     },
     "metadata": {},
     "output_type": "display_data"
    },
    {
     "data": {
      "text/html": [
       "<ul><li><a href=\"http://postnauka.ru/video/42221\">http://postnauka.ru/video/42221</a></li></ul>"
      ],
      "text/plain": [
       "<IPython.core.display.HTML object>"
      ]
     },
     "metadata": {},
     "output_type": "display_data"
    },
    {
     "data": {
      "text/html": [
       "<ul><li><a href=\"http://postnauka.ru/video/31666\">http://postnauka.ru/video/31666</a></li></ul>"
      ],
      "text/plain": [
       "<IPython.core.display.HTML object>"
      ]
     },
     "metadata": {},
     "output_type": "display_data"
    },
    {
     "data": {
      "text/html": [
       "<ul><li><a href=\"http://postnauka.ru/video/16822\">http://postnauka.ru/video/16822</a></li></ul>"
      ],
      "text/plain": [
       "<IPython.core.display.HTML object>"
      ]
     },
     "metadata": {},
     "output_type": "display_data"
    },
    {
     "data": {
      "text/html": [
       "<ul><li><a href=\"http://postnauka.ru/video/42220\">http://postnauka.ru/video/42220</a></li></ul>"
      ],
      "text/plain": [
       "<IPython.core.display.HTML object>"
      ]
     },
     "metadata": {},
     "output_type": "display_data"
    },
    {
     "data": {
      "text/html": [
       "<h2>Оптика</h2>"
      ],
      "text/plain": [
       "<IPython.core.display.HTML object>"
      ]
     },
     "metadata": {},
     "output_type": "display_data"
    },
    {
     "data": {
      "text/html": [
       "<font color=\"green\">материал, свет, оптический, полимер, применение, импульс, поверхность, электронный, использование, лазерный</font>"
      ],
      "text/plain": [
       "<IPython.core.display.HTML object>"
      ]
     },
     "metadata": {},
     "output_type": "display_data"
    },
    {
     "data": {
      "text/html": [
       "<ul><li><a href=\"http://postnauka.ru/video/35065\">http://postnauka.ru/video/35065</a></li></ul>"
      ],
      "text/plain": [
       "<IPython.core.display.HTML object>"
      ]
     },
     "metadata": {},
     "output_type": "display_data"
    },
    {
     "data": {
      "text/html": [
       "<ul><li><a href=\"http://postnauka.ru/video/36187\">http://postnauka.ru/video/36187</a></li></ul>"
      ],
      "text/plain": [
       "<IPython.core.display.HTML object>"
      ]
     },
     "metadata": {},
     "output_type": "display_data"
    },
    {
     "data": {
      "text/html": [
       "<ul><li><a href=\"http://postnauka.ru/video/36655\">http://postnauka.ru/video/36655</a></li></ul>"
      ],
      "text/plain": [
       "<IPython.core.display.HTML object>"
      ]
     },
     "metadata": {},
     "output_type": "display_data"
    },
    {
     "data": {
      "text/html": [
       "<ul><li><a href=\"http://postnauka.ru/video/59579\">http://postnauka.ru/video/59579</a></li></ul>"
      ],
      "text/plain": [
       "<IPython.core.display.HTML object>"
      ]
     },
     "metadata": {},
     "output_type": "display_data"
    },
    {
     "data": {
      "text/html": [
       "<ul><li><a href=\"http://postnauka.ru/video/41686\">http://postnauka.ru/video/41686</a></li></ul>"
      ],
      "text/plain": [
       "<IPython.core.display.HTML object>"
      ]
     },
     "metadata": {},
     "output_type": "display_data"
    },
    {
     "data": {
      "text/html": [
       "<ul><li><a href=\"http://postnauka.ru/video/47818\">http://postnauka.ru/video/47818</a></li></ul>"
      ],
      "text/plain": [
       "<IPython.core.display.HTML object>"
      ]
     },
     "metadata": {},
     "output_type": "display_data"
    },
    {
     "data": {
      "text/html": [
       "<ul><li><a href=\"http://postnauka.ru/video/31182\">http://postnauka.ru/video/31182</a></li></ul>"
      ],
      "text/plain": [
       "<IPython.core.display.HTML object>"
      ]
     },
     "metadata": {},
     "output_type": "display_data"
    },
    {
     "data": {
      "text/html": [
       "<ul><li><a href=\"http://postnauka.ru/video/9144\">http://postnauka.ru/video/9144</a></li></ul>"
      ],
      "text/plain": [
       "<IPython.core.display.HTML object>"
      ]
     },
     "metadata": {},
     "output_type": "display_data"
    },
    {
     "data": {
      "text/html": [
       "<ul><li><a href=\"http://postnauka.ru/video/10379\">http://postnauka.ru/video/10379</a></li></ul>"
      ],
      "text/plain": [
       "<IPython.core.display.HTML object>"
      ]
     },
     "metadata": {},
     "output_type": "display_data"
    },
    {
     "data": {
      "text/html": [
       "<ul><li><a href=\"http://postnauka.ru/video/36490\">http://postnauka.ru/video/36490</a></li></ul>"
      ],
      "text/plain": [
       "<IPython.core.display.HTML object>"
      ]
     },
     "metadata": {},
     "output_type": "display_data"
    },
    {
     "data": {
      "text/html": [
       "<h2>Жанры</h2>"
      ],
      "text/plain": [
       "<IPython.core.display.HTML object>"
      ]
     },
     "metadata": {},
     "output_type": "display_data"
    },
    {
     "data": {
      "text/html": [
       "<font color=\"green\">литература, фильм, текст, литературный, кино, произведение, автор, герой, жанр, кинематограф</font>"
      ],
      "text/plain": [
       "<IPython.core.display.HTML object>"
      ]
     },
     "metadata": {},
     "output_type": "display_data"
    },
    {
     "data": {
      "text/html": [
       "<ul><li><a href=\"http://postnauka.ru/video/14297\">http://postnauka.ru/video/14297</a></li></ul>"
      ],
      "text/plain": [
       "<IPython.core.display.HTML object>"
      ]
     },
     "metadata": {},
     "output_type": "display_data"
    },
    {
     "data": {
      "text/html": [
       "<ul><li><a href=\"http://postnauka.ru/video/39723\">http://postnauka.ru/video/39723</a></li></ul>"
      ],
      "text/plain": [
       "<IPython.core.display.HTML object>"
      ]
     },
     "metadata": {},
     "output_type": "display_data"
    },
    {
     "data": {
      "text/html": [
       "<ul><li><a href=\"http://postnauka.ru/video/7551\">http://postnauka.ru/video/7551</a></li></ul>"
      ],
      "text/plain": [
       "<IPython.core.display.HTML object>"
      ]
     },
     "metadata": {},
     "output_type": "display_data"
    },
    {
     "data": {
      "text/html": [
       "<ul><li><a href=\"http://postnauka.ru/video/10759\">http://postnauka.ru/video/10759</a></li></ul>"
      ],
      "text/plain": [
       "<IPython.core.display.HTML object>"
      ]
     },
     "metadata": {},
     "output_type": "display_data"
    },
    {
     "data": {
      "text/html": [
       "<ul><li><a href=\"http://postnauka.ru/video/2946\">http://postnauka.ru/video/2946</a></li></ul>"
      ],
      "text/plain": [
       "<IPython.core.display.HTML object>"
      ]
     },
     "metadata": {},
     "output_type": "display_data"
    },
    {
     "data": {
      "text/html": [
       "<ul><li><a href=\"http://postnauka.ru/video/57127\">http://postnauka.ru/video/57127</a></li></ul>"
      ],
      "text/plain": [
       "<IPython.core.display.HTML object>"
      ]
     },
     "metadata": {},
     "output_type": "display_data"
    },
    {
     "data": {
      "text/html": [
       "<ul><li><a href=\"http://postnauka.ru/video/13541\">http://postnauka.ru/video/13541</a></li></ul>"
      ],
      "text/plain": [
       "<IPython.core.display.HTML object>"
      ]
     },
     "metadata": {},
     "output_type": "display_data"
    },
    {
     "data": {
      "text/html": [
       "<ul><li><a href=\"http://postnauka.ru/video/52416\">http://postnauka.ru/video/52416</a></li></ul>"
      ],
      "text/plain": [
       "<IPython.core.display.HTML object>"
      ]
     },
     "metadata": {},
     "output_type": "display_data"
    },
    {
     "data": {
      "text/html": [
       "<ul><li><a href=\"http://postnauka.ru/video/38510\">http://postnauka.ru/video/38510</a></li></ul>"
      ],
      "text/plain": [
       "<IPython.core.display.HTML object>"
      ]
     },
     "metadata": {},
     "output_type": "display_data"
    },
    {
     "data": {
      "text/html": [
       "<ul><li><a href=\"http://postnauka.ru/video/42807\">http://postnauka.ru/video/42807</a></li></ul>"
      ],
      "text/plain": [
       "<IPython.core.display.HTML object>"
      ]
     },
     "metadata": {},
     "output_type": "display_data"
    },
    {
     "data": {
      "text/html": [
       "<h2>Ритуал</h2>"
      ],
      "text/plain": [
       "<IPython.core.display.HTML object>"
      ]
     },
     "metadata": {},
     "output_type": "display_data"
    },
    {
     "data": {
      "text/html": [
       "<font color=\"green\">смерть, ритуал, диктатура, государь, обряд, правитель, конвент, орден, террор, монтаньяр</font>"
      ],
      "text/plain": [
       "<IPython.core.display.HTML object>"
      ]
     },
     "metadata": {},
     "output_type": "display_data"
    },
    {
     "data": {
      "text/html": [
       "<ul><li><a href=\"http://postnauka.ru/video/1893\">http://postnauka.ru/video/1893</a></li></ul>"
      ],
      "text/plain": [
       "<IPython.core.display.HTML object>"
      ]
     },
     "metadata": {},
     "output_type": "display_data"
    },
    {
     "data": {
      "text/html": [
       "<ul><li><a href=\"http://postnauka.ru/video/1899\">http://postnauka.ru/video/1899</a></li></ul>"
      ],
      "text/plain": [
       "<IPython.core.display.HTML object>"
      ]
     },
     "metadata": {},
     "output_type": "display_data"
    },
    {
     "data": {
      "text/html": [
       "<ul><li><a href=\"http://postnauka.ru/video/12374\">http://postnauka.ru/video/12374</a></li></ul>"
      ],
      "text/plain": [
       "<IPython.core.display.HTML object>"
      ]
     },
     "metadata": {},
     "output_type": "display_data"
    },
    {
     "data": {
      "text/html": [
       "<ul><li><a href=\"http://postnauka.ru/video/34963\">http://postnauka.ru/video/34963</a></li></ul>"
      ],
      "text/plain": [
       "<IPython.core.display.HTML object>"
      ]
     },
     "metadata": {},
     "output_type": "display_data"
    },
    {
     "data": {
      "text/html": [
       "<ul><li><a href=\"http://postnauka.ru/video/41680\">http://postnauka.ru/video/41680</a></li></ul>"
      ],
      "text/plain": [
       "<IPython.core.display.HTML object>"
      ]
     },
     "metadata": {},
     "output_type": "display_data"
    },
    {
     "data": {
      "text/html": [
       "<ul><li><a href=\"http://postnauka.ru/video/19472\">http://postnauka.ru/video/19472</a></li></ul>"
      ],
      "text/plain": [
       "<IPython.core.display.HTML object>"
      ]
     },
     "metadata": {},
     "output_type": "display_data"
    },
    {
     "data": {
      "text/html": [
       "<ul><li><a href=\"http://postnauka.ru/video/37958\">http://postnauka.ru/video/37958</a></li></ul>"
      ],
      "text/plain": [
       "<IPython.core.display.HTML object>"
      ]
     },
     "metadata": {},
     "output_type": "display_data"
    },
    {
     "data": {
      "text/html": [
       "<ul><li><a href=\"http://postnauka.ru/video/48480\">http://postnauka.ru/video/48480</a></li></ul>"
      ],
      "text/plain": [
       "<IPython.core.display.HTML object>"
      ]
     },
     "metadata": {},
     "output_type": "display_data"
    },
    {
     "data": {
      "text/html": [
       "<ul><li><a href=\"http://postnauka.ru/video/37992\">http://postnauka.ru/video/37992</a></li></ul>"
      ],
      "text/plain": [
       "<IPython.core.display.HTML object>"
      ]
     },
     "metadata": {},
     "output_type": "display_data"
    },
    {
     "data": {
      "text/html": [
       "<ul><li><a href=\"http://postnauka.ru/video/32882\">http://postnauka.ru/video/32882</a></li></ul>"
      ],
      "text/plain": [
       "<IPython.core.display.HTML object>"
      ]
     },
     "metadata": {},
     "output_type": "display_data"
    },
    {
     "data": {
      "text/html": [
       "<h2>Химия</h2>"
      ],
      "text/plain": [
       "<IPython.core.display.HTML object>"
      ]
     },
     "metadata": {},
     "output_type": "display_data"
    },
    {
     "data": {
      "text/html": [
       "<font color=\"green\">структура, вещество, химический, соединение, химия, давление, углерод, реакция, металл, органический</font>"
      ],
      "text/plain": [
       "<IPython.core.display.HTML object>"
      ]
     },
     "metadata": {},
     "output_type": "display_data"
    },
    {
     "data": {
      "text/html": [
       "<ul><li><a href=\"http://postnauka.ru/video/8953\">http://postnauka.ru/video/8953</a></li></ul>"
      ],
      "text/plain": [
       "<IPython.core.display.HTML object>"
      ]
     },
     "metadata": {},
     "output_type": "display_data"
    },
    {
     "data": {
      "text/html": [
       "<ul><li><a href=\"http://postnauka.ru/video/48107\">http://postnauka.ru/video/48107</a></li></ul>"
      ],
      "text/plain": [
       "<IPython.core.display.HTML object>"
      ]
     },
     "metadata": {},
     "output_type": "display_data"
    },
    {
     "data": {
      "text/html": [
       "<ul><li><a href=\"http://postnauka.ru/video/18048\">http://postnauka.ru/video/18048</a></li></ul>"
      ],
      "text/plain": [
       "<IPython.core.display.HTML object>"
      ]
     },
     "metadata": {},
     "output_type": "display_data"
    },
    {
     "data": {
      "text/html": [
       "<ul><li><a href=\"http://postnauka.ru/video/51490\">http://postnauka.ru/video/51490</a></li></ul>"
      ],
      "text/plain": [
       "<IPython.core.display.HTML object>"
      ]
     },
     "metadata": {},
     "output_type": "display_data"
    },
    {
     "data": {
      "text/html": [
       "<ul><li><a href=\"http://postnauka.ru/video/32668\">http://postnauka.ru/video/32668</a></li></ul>"
      ],
      "text/plain": [
       "<IPython.core.display.HTML object>"
      ]
     },
     "metadata": {},
     "output_type": "display_data"
    },
    {
     "data": {
      "text/html": [
       "<ul><li><a href=\"http://postnauka.ru/video/13700\">http://postnauka.ru/video/13700</a></li></ul>"
      ],
      "text/plain": [
       "<IPython.core.display.HTML object>"
      ]
     },
     "metadata": {},
     "output_type": "display_data"
    },
    {
     "data": {
      "text/html": [
       "<ul><li><a href=\"http://postnauka.ru/video/19086\">http://postnauka.ru/video/19086</a></li></ul>"
      ],
      "text/plain": [
       "<IPython.core.display.HTML object>"
      ]
     },
     "metadata": {},
     "output_type": "display_data"
    },
    {
     "data": {
      "text/html": [
       "<ul><li><a href=\"http://postnauka.ru/video/16171\">http://postnauka.ru/video/16171</a></li></ul>"
      ],
      "text/plain": [
       "<IPython.core.display.HTML object>"
      ]
     },
     "metadata": {},
     "output_type": "display_data"
    },
    {
     "data": {
      "text/html": [
       "<ul><li><a href=\"http://postnauka.ru/video/23253\">http://postnauka.ru/video/23253</a></li></ul>"
      ],
      "text/plain": [
       "<IPython.core.display.HTML object>"
      ]
     },
     "metadata": {},
     "output_type": "display_data"
    },
    {
     "data": {
      "text/html": [
       "<ul><li><a href=\"http://postnauka.ru/video/56295\">http://postnauka.ru/video/56295</a></li></ul>"
      ],
      "text/plain": [
       "<IPython.core.display.HTML object>"
      ]
     },
     "metadata": {},
     "output_type": "display_data"
    },
    {
     "data": {
      "text/html": [
       "<h2>Физика элементарных частиц</h2>"
      ],
      "text/plain": [
       "<IPython.core.display.HTML object>"
      ]
     },
     "metadata": {},
     "output_type": "display_data"
    },
    {
     "data": {
      "text/html": [
       "<font color=\"green\">частица, энергия, квантовый, поле, физика, атом, взаимодействие, магнитный, электрон, кварк</font>"
      ],
      "text/plain": [
       "<IPython.core.display.HTML object>"
      ]
     },
     "metadata": {},
     "output_type": "display_data"
    },
    {
     "data": {
      "text/html": [
       "<ul><li><a href=\"http://postnauka.ru/video/13043\">http://postnauka.ru/video/13043</a></li></ul>"
      ],
      "text/plain": [
       "<IPython.core.display.HTML object>"
      ]
     },
     "metadata": {},
     "output_type": "display_data"
    },
    {
     "data": {
      "text/html": [
       "<ul><li><a href=\"http://postnauka.ru/video/18870\">http://postnauka.ru/video/18870</a></li></ul>"
      ],
      "text/plain": [
       "<IPython.core.display.HTML object>"
      ]
     },
     "metadata": {},
     "output_type": "display_data"
    },
    {
     "data": {
      "text/html": [
       "<ul><li><a href=\"http://postnauka.ru/video/22760\">http://postnauka.ru/video/22760</a></li></ul>"
      ],
      "text/plain": [
       "<IPython.core.display.HTML object>"
      ]
     },
     "metadata": {},
     "output_type": "display_data"
    },
    {
     "data": {
      "text/html": [
       "<ul><li><a href=\"http://postnauka.ru/video/2945\">http://postnauka.ru/video/2945</a></li></ul>"
      ],
      "text/plain": [
       "<IPython.core.display.HTML object>"
      ]
     },
     "metadata": {},
     "output_type": "display_data"
    },
    {
     "data": {
      "text/html": [
       "<ul><li><a href=\"http://postnauka.ru/video/18873\">http://postnauka.ru/video/18873</a></li></ul>"
      ],
      "text/plain": [
       "<IPython.core.display.HTML object>"
      ]
     },
     "metadata": {},
     "output_type": "display_data"
    },
    {
     "data": {
      "text/html": [
       "<ul><li><a href=\"http://postnauka.ru/video/14283\">http://postnauka.ru/video/14283</a></li></ul>"
      ],
      "text/plain": [
       "<IPython.core.display.HTML object>"
      ]
     },
     "metadata": {},
     "output_type": "display_data"
    },
    {
     "data": {
      "text/html": [
       "<ul><li><a href=\"http://postnauka.ru/video/7753\">http://postnauka.ru/video/7753</a></li></ul>"
      ],
      "text/plain": [
       "<IPython.core.display.HTML object>"
      ]
     },
     "metadata": {},
     "output_type": "display_data"
    },
    {
     "data": {
      "text/html": [
       "<ul><li><a href=\"http://postnauka.ru/video/7311\">http://postnauka.ru/video/7311</a></li></ul>"
      ],
      "text/plain": [
       "<IPython.core.display.HTML object>"
      ]
     },
     "metadata": {},
     "output_type": "display_data"
    },
    {
     "data": {
      "text/html": [
       "<ul><li><a href=\"http://postnauka.ru/video/19457\">http://postnauka.ru/video/19457</a></li></ul>"
      ],
      "text/plain": [
       "<IPython.core.display.HTML object>"
      ]
     },
     "metadata": {},
     "output_type": "display_data"
    },
    {
     "data": {
      "text/html": [
       "<ul><li><a href=\"http://postnauka.ru/video/11651\">http://postnauka.ru/video/11651</a></li></ul>"
      ],
      "text/plain": [
       "<IPython.core.display.HTML object>"
      ]
     },
     "metadata": {},
     "output_type": "display_data"
    },
    {
     "data": {
      "text/html": [
       "<h2>Война</h2>"
      ],
      "text/plain": [
       "<IPython.core.display.HTML object>"
      ]
     },
     "metadata": {},
     "output_type": "display_data"
    },
    {
     "data": {
      "text/html": [
       "<font color=\"green\">война, россия, советский, русский, власть, российский, германия, мировой, реформа, историк</font>"
      ],
      "text/plain": [
       "<IPython.core.display.HTML object>"
      ]
     },
     "metadata": {},
     "output_type": "display_data"
    },
    {
     "data": {
      "text/html": [
       "<ul><li><a href=\"http://postnauka.ru/video/19574\">http://postnauka.ru/video/19574</a></li></ul>"
      ],
      "text/plain": [
       "<IPython.core.display.HTML object>"
      ]
     },
     "metadata": {},
     "output_type": "display_data"
    },
    {
     "data": {
      "text/html": [
       "<ul><li><a href=\"http://postnauka.ru/video/46939\">http://postnauka.ru/video/46939</a></li></ul>"
      ],
      "text/plain": [
       "<IPython.core.display.HTML object>"
      ]
     },
     "metadata": {},
     "output_type": "display_data"
    },
    {
     "data": {
      "text/html": [
       "<ul><li><a href=\"http://postnauka.ru/video/25906\">http://postnauka.ru/video/25906</a></li></ul>"
      ],
      "text/plain": [
       "<IPython.core.display.HTML object>"
      ]
     },
     "metadata": {},
     "output_type": "display_data"
    },
    {
     "data": {
      "text/html": [
       "<ul><li><a href=\"http://postnauka.ru/video/31183\">http://postnauka.ru/video/31183</a></li></ul>"
      ],
      "text/plain": [
       "<IPython.core.display.HTML object>"
      ]
     },
     "metadata": {},
     "output_type": "display_data"
    },
    {
     "data": {
      "text/html": [
       "<ul><li><a href=\"http://postnauka.ru/video/35041\">http://postnauka.ru/video/35041</a></li></ul>"
      ],
      "text/plain": [
       "<IPython.core.display.HTML object>"
      ]
     },
     "metadata": {},
     "output_type": "display_data"
    },
    {
     "data": {
      "text/html": [
       "<ul><li><a href=\"http://postnauka.ru/video/36246\">http://postnauka.ru/video/36246</a></li></ul>"
      ],
      "text/plain": [
       "<IPython.core.display.HTML object>"
      ]
     },
     "metadata": {},
     "output_type": "display_data"
    },
    {
     "data": {
      "text/html": [
       "<ul><li><a href=\"http://postnauka.ru/video/34936\">http://postnauka.ru/video/34936</a></li></ul>"
      ],
      "text/plain": [
       "<IPython.core.display.HTML object>"
      ]
     },
     "metadata": {},
     "output_type": "display_data"
    },
    {
     "data": {
      "text/html": [
       "<ul><li><a href=\"http://postnauka.ru/video/25283\">http://postnauka.ru/video/25283</a></li></ul>"
      ],
      "text/plain": [
       "<IPython.core.display.HTML object>"
      ]
     },
     "metadata": {},
     "output_type": "display_data"
    },
    {
     "data": {
      "text/html": [
       "<ul><li><a href=\"http://postnauka.ru/video/52936\">http://postnauka.ru/video/52936</a></li></ul>"
      ],
      "text/plain": [
       "<IPython.core.display.HTML object>"
      ]
     },
     "metadata": {},
     "output_type": "display_data"
    },
    {
     "data": {
      "text/html": [
       "<ul><li><a href=\"http://postnauka.ru/video/36581\">http://postnauka.ru/video/36581</a></li></ul>"
      ],
      "text/plain": [
       "<IPython.core.display.HTML object>"
      ]
     },
     "metadata": {},
     "output_type": "display_data"
    },
    {
     "data": {
      "text/html": [
       "<h2>Семья</h2>"
      ],
      "text/plain": [
       "<IPython.core.display.HTML object>"
      ]
     },
     "metadata": {},
     "output_type": "display_data"
    },
    {
     "data": {
      "text/html": [
       "<font color=\"green\">ребенок, женщина, семья, мужчина, возраст, взрослый, сон, мать, родитель, старение</font>"
      ],
      "text/plain": [
       "<IPython.core.display.HTML object>"
      ]
     },
     "metadata": {},
     "output_type": "display_data"
    },
    {
     "data": {
      "text/html": [
       "<ul><li><a href=\"http://postnauka.ru/video/22892\">http://postnauka.ru/video/22892</a></li></ul>"
      ],
      "text/plain": [
       "<IPython.core.display.HTML object>"
      ]
     },
     "metadata": {},
     "output_type": "display_data"
    },
    {
     "data": {
      "text/html": [
       "<ul><li><a href=\"http://postnauka.ru/video/11361\">http://postnauka.ru/video/11361</a></li></ul>"
      ],
      "text/plain": [
       "<IPython.core.display.HTML object>"
      ]
     },
     "metadata": {},
     "output_type": "display_data"
    },
    {
     "data": {
      "text/html": [
       "<ul><li><a href=\"http://postnauka.ru/video/30678\">http://postnauka.ru/video/30678</a></li></ul>"
      ],
      "text/plain": [
       "<IPython.core.display.HTML object>"
      ]
     },
     "metadata": {},
     "output_type": "display_data"
    },
    {
     "data": {
      "text/html": [
       "<ul><li><a href=\"http://postnauka.ru/video/10753\">http://postnauka.ru/video/10753</a></li></ul>"
      ],
      "text/plain": [
       "<IPython.core.display.HTML object>"
      ]
     },
     "metadata": {},
     "output_type": "display_data"
    },
    {
     "data": {
      "text/html": [
       "<ul><li><a href=\"http://postnauka.ru/video/59638\">http://postnauka.ru/video/59638</a></li></ul>"
      ],
      "text/plain": [
       "<IPython.core.display.HTML object>"
      ]
     },
     "metadata": {},
     "output_type": "display_data"
    },
    {
     "data": {
      "text/html": [
       "<ul><li><a href=\"http://postnauka.ru/video/31220\">http://postnauka.ru/video/31220</a></li></ul>"
      ],
      "text/plain": [
       "<IPython.core.display.HTML object>"
      ]
     },
     "metadata": {},
     "output_type": "display_data"
    },
    {
     "data": {
      "text/html": [
       "<ul><li><a href=\"http://postnauka.ru/video/60527\">http://postnauka.ru/video/60527</a></li></ul>"
      ],
      "text/plain": [
       "<IPython.core.display.HTML object>"
      ]
     },
     "metadata": {},
     "output_type": "display_data"
    },
    {
     "data": {
      "text/html": [
       "<ul><li><a href=\"http://postnauka.ru/video/52948\">http://postnauka.ru/video/52948</a></li></ul>"
      ],
      "text/plain": [
       "<IPython.core.display.HTML object>"
      ]
     },
     "metadata": {},
     "output_type": "display_data"
    },
    {
     "data": {
      "text/html": [
       "<ul><li><a href=\"http://postnauka.ru/video/40266\">http://postnauka.ru/video/40266</a></li></ul>"
      ],
      "text/plain": [
       "<IPython.core.display.HTML object>"
      ]
     },
     "metadata": {},
     "output_type": "display_data"
    },
    {
     "data": {
      "text/html": [
       "<ul><li><a href=\"http://postnauka.ru/video/57866\">http://postnauka.ru/video/57866</a></li></ul>"
      ],
      "text/plain": [
       "<IPython.core.display.HTML object>"
      ]
     },
     "metadata": {},
     "output_type": "display_data"
    },
    {
     "data": {
      "text/html": [
       "<h2>Эволюция</h2>"
      ],
      "text/plain": [
       "<IPython.core.display.HTML object>"
      ]
     },
     "metadata": {},
     "output_type": "display_data"
    },
    {
     "data": {
      "text/html": [
       "<font color=\"green\">мозг, животное, нейрон, растение, эволюция, отбор, озеро, эволюционный, песня, сердце</font>"
      ],
      "text/plain": [
       "<IPython.core.display.HTML object>"
      ]
     },
     "metadata": {},
     "output_type": "display_data"
    },
    {
     "data": {
      "text/html": [
       "<ul><li><a href=\"http://postnauka.ru/video/25097\">http://postnauka.ru/video/25097</a></li></ul>"
      ],
      "text/plain": [
       "<IPython.core.display.HTML object>"
      ]
     },
     "metadata": {},
     "output_type": "display_data"
    },
    {
     "data": {
      "text/html": [
       "<ul><li><a href=\"http://postnauka.ru/video/34413\">http://postnauka.ru/video/34413</a></li></ul>"
      ],
      "text/plain": [
       "<IPython.core.display.HTML object>"
      ]
     },
     "metadata": {},
     "output_type": "display_data"
    },
    {
     "data": {
      "text/html": [
       "<ul><li><a href=\"http://postnauka.ru/video/16821\">http://postnauka.ru/video/16821</a></li></ul>"
      ],
      "text/plain": [
       "<IPython.core.display.HTML object>"
      ]
     },
     "metadata": {},
     "output_type": "display_data"
    },
    {
     "data": {
      "text/html": [
       "<ul><li><a href=\"http://postnauka.ru/video/18007\">http://postnauka.ru/video/18007</a></li></ul>"
      ],
      "text/plain": [
       "<IPython.core.display.HTML object>"
      ]
     },
     "metadata": {},
     "output_type": "display_data"
    },
    {
     "data": {
      "text/html": [
       "<ul><li><a href=\"http://postnauka.ru/video/25890\">http://postnauka.ru/video/25890</a></li></ul>"
      ],
      "text/plain": [
       "<IPython.core.display.HTML object>"
      ]
     },
     "metadata": {},
     "output_type": "display_data"
    },
    {
     "data": {
      "text/html": [
       "<ul><li><a href=\"http://postnauka.ru/video/30261\">http://postnauka.ru/video/30261</a></li></ul>"
      ],
      "text/plain": [
       "<IPython.core.display.HTML object>"
      ]
     },
     "metadata": {},
     "output_type": "display_data"
    },
    {
     "data": {
      "text/html": [
       "<ul><li><a href=\"http://postnauka.ru/video/36350\">http://postnauka.ru/video/36350</a></li></ul>"
      ],
      "text/plain": [
       "<IPython.core.display.HTML object>"
      ]
     },
     "metadata": {},
     "output_type": "display_data"
    },
    {
     "data": {
      "text/html": [
       "<ul><li><a href=\"http://postnauka.ru/video/25321\">http://postnauka.ru/video/25321</a></li></ul>"
      ],
      "text/plain": [
       "<IPython.core.display.HTML object>"
      ]
     },
     "metadata": {},
     "output_type": "display_data"
    },
    {
     "data": {
      "text/html": [
       "<ul><li><a href=\"http://postnauka.ru/video/22077\">http://postnauka.ru/video/22077</a></li></ul>"
      ],
      "text/plain": [
       "<IPython.core.display.HTML object>"
      ]
     },
     "metadata": {},
     "output_type": "display_data"
    },
    {
     "data": {
      "text/html": [
       "<ul><li><a href=\"http://postnauka.ru/video/23172\">http://postnauka.ru/video/23172</a></li></ul>"
      ],
      "text/plain": [
       "<IPython.core.display.HTML object>"
      ]
     },
     "metadata": {},
     "output_type": "display_data"
    },
    {
     "data": {
      "text/html": [
       "<h2>Религия</h2>"
      ],
      "text/plain": [
       "<IPython.core.display.HTML object>"
      ]
     },
     "metadata": {},
     "output_type": "display_data"
    },
    {
     "data": {
      "text/html": [
       "<font color=\"green\">территория, христианский, империя, восток, народ, древний, письменность, христианство, государство, памятник</font>"
      ],
      "text/plain": [
       "<IPython.core.display.HTML object>"
      ]
     },
     "metadata": {},
     "output_type": "display_data"
    },
    {
     "data": {
      "text/html": [
       "<ul><li><a href=\"http://postnauka.ru/video/53171\">http://postnauka.ru/video/53171</a></li></ul>"
      ],
      "text/plain": [
       "<IPython.core.display.HTML object>"
      ]
     },
     "metadata": {},
     "output_type": "display_data"
    },
    {
     "data": {
      "text/html": [
       "<ul><li><a href=\"http://postnauka.ru/video/2527\">http://postnauka.ru/video/2527</a></li></ul>"
      ],
      "text/plain": [
       "<IPython.core.display.HTML object>"
      ]
     },
     "metadata": {},
     "output_type": "display_data"
    },
    {
     "data": {
      "text/html": [
       "<ul><li><a href=\"http://postnauka.ru/video/50071\">http://postnauka.ru/video/50071</a></li></ul>"
      ],
      "text/plain": [
       "<IPython.core.display.HTML object>"
      ]
     },
     "metadata": {},
     "output_type": "display_data"
    },
    {
     "data": {
      "text/html": [
       "<ul><li><a href=\"http://postnauka.ru/video/59201\">http://postnauka.ru/video/59201</a></li></ul>"
      ],
      "text/plain": [
       "<IPython.core.display.HTML object>"
      ]
     },
     "metadata": {},
     "output_type": "display_data"
    },
    {
     "data": {
      "text/html": [
       "<ul><li><a href=\"http://postnauka.ru/video/58742\">http://postnauka.ru/video/58742</a></li></ul>"
      ],
      "text/plain": [
       "<IPython.core.display.HTML object>"
      ]
     },
     "metadata": {},
     "output_type": "display_data"
    },
    {
     "data": {
      "text/html": [
       "<ul><li><a href=\"http://postnauka.ru/video/50066\">http://postnauka.ru/video/50066</a></li></ul>"
      ],
      "text/plain": [
       "<IPython.core.display.HTML object>"
      ]
     },
     "metadata": {},
     "output_type": "display_data"
    },
    {
     "data": {
      "text/html": [
       "<ul><li><a href=\"http://postnauka.ru/video/48959\">http://postnauka.ru/video/48959</a></li></ul>"
      ],
      "text/plain": [
       "<IPython.core.display.HTML object>"
      ]
     },
     "metadata": {},
     "output_type": "display_data"
    },
    {
     "data": {
      "text/html": [
       "<ul><li><a href=\"http://postnauka.ru/video/49203\">http://postnauka.ru/video/49203</a></li></ul>"
      ],
      "text/plain": [
       "<IPython.core.display.HTML object>"
      ]
     },
     "metadata": {},
     "output_type": "display_data"
    },
    {
     "data": {
      "text/html": [
       "<ul><li><a href=\"http://postnauka.ru/video/10751\">http://postnauka.ru/video/10751</a></li></ul>"
      ],
      "text/plain": [
       "<IPython.core.display.HTML object>"
      ]
     },
     "metadata": {},
     "output_type": "display_data"
    },
    {
     "data": {
      "text/html": [
       "<ul><li><a href=\"http://postnauka.ru/video/46313\">http://postnauka.ru/video/46313</a></li></ul>"
      ],
      "text/plain": [
       "<IPython.core.display.HTML object>"
      ]
     },
     "metadata": {},
     "output_type": "display_data"
    },
    {
     "data": {
      "text/html": [
       "<h2>Астрономия</h2>"
      ],
      "text/plain": [
       "<IPython.core.display.HTML object>"
      ]
     },
     "metadata": {},
     "output_type": "display_data"
    },
    {
     "data": {
      "text/html": [
       "<font color=\"green\">звезда, галактика, масса, вселенная, черный, дыра, волна, излучение, скорость, телескоп</font>"
      ],
      "text/plain": [
       "<IPython.core.display.HTML object>"
      ]
     },
     "metadata": {},
     "output_type": "display_data"
    },
    {
     "data": {
      "text/html": [
       "<ul><li><a href=\"http://postnauka.ru/video/31193\">http://postnauka.ru/video/31193</a></li></ul>"
      ],
      "text/plain": [
       "<IPython.core.display.HTML object>"
      ]
     },
     "metadata": {},
     "output_type": "display_data"
    },
    {
     "data": {
      "text/html": [
       "<ul><li><a href=\"http://postnauka.ru/video/17780\">http://postnauka.ru/video/17780</a></li></ul>"
      ],
      "text/plain": [
       "<IPython.core.display.HTML object>"
      ]
     },
     "metadata": {},
     "output_type": "display_data"
    },
    {
     "data": {
      "text/html": [
       "<ul><li><a href=\"http://postnauka.ru/video/2971\">http://postnauka.ru/video/2971</a></li></ul>"
      ],
      "text/plain": [
       "<IPython.core.display.HTML object>"
      ]
     },
     "metadata": {},
     "output_type": "display_data"
    },
    {
     "data": {
      "text/html": [
       "<ul><li><a href=\"http://postnauka.ru/video/45644\">http://postnauka.ru/video/45644</a></li></ul>"
      ],
      "text/plain": [
       "<IPython.core.display.HTML object>"
      ]
     },
     "metadata": {},
     "output_type": "display_data"
    },
    {
     "data": {
      "text/html": [
       "<ul><li><a href=\"http://postnauka.ru/video/48109\">http://postnauka.ru/video/48109</a></li></ul>"
      ],
      "text/plain": [
       "<IPython.core.display.HTML object>"
      ]
     },
     "metadata": {},
     "output_type": "display_data"
    },
    {
     "data": {
      "text/html": [
       "<ul><li><a href=\"http://postnauka.ru/video/30015\">http://postnauka.ru/video/30015</a></li></ul>"
      ],
      "text/plain": [
       "<IPython.core.display.HTML object>"
      ]
     },
     "metadata": {},
     "output_type": "display_data"
    },
    {
     "data": {
      "text/html": [
       "<ul><li><a href=\"http://postnauka.ru/video/57338\">http://postnauka.ru/video/57338</a></li></ul>"
      ],
      "text/plain": [
       "<IPython.core.display.HTML object>"
      ]
     },
     "metadata": {},
     "output_type": "display_data"
    },
    {
     "data": {
      "text/html": [
       "<ul><li><a href=\"http://postnauka.ru/video/17779\">http://postnauka.ru/video/17779</a></li></ul>"
      ],
      "text/plain": [
       "<IPython.core.display.HTML object>"
      ]
     },
     "metadata": {},
     "output_type": "display_data"
    },
    {
     "data": {
      "text/html": [
       "<ul><li><a href=\"http://postnauka.ru/video/23506\">http://postnauka.ru/video/23506</a></li></ul>"
      ],
      "text/plain": [
       "<IPython.core.display.HTML object>"
      ]
     },
     "metadata": {},
     "output_type": "display_data"
    },
    {
     "data": {
      "text/html": [
       "<ul><li><a href=\"http://postnauka.ru/video/23502\">http://postnauka.ru/video/23502</a></li></ul>"
      ],
      "text/plain": [
       "<IPython.core.display.HTML object>"
      ]
     },
     "metadata": {},
     "output_type": "display_data"
    },
    {
     "data": {
      "text/html": [
       "<h2>Когнитивные технологии</h2>"
      ],
      "text/plain": [
       "<IPython.core.display.HTML object>"
      ]
     },
     "metadata": {},
     "output_type": "display_data"
    },
    {
     "data": {
      "text/html": [
       "<font color=\"green\">задача, информация, память, решение, данные, компьютер, психология, мышление, когнитивный, внимание</font>"
      ],
      "text/plain": [
       "<IPython.core.display.HTML object>"
      ]
     },
     "metadata": {},
     "output_type": "display_data"
    },
    {
     "data": {
      "text/html": [
       "<ul><li><a href=\"http://postnauka.ru/video/56052\">http://postnauka.ru/video/56052</a></li></ul>"
      ],
      "text/plain": [
       "<IPython.core.display.HTML object>"
      ]
     },
     "metadata": {},
     "output_type": "display_data"
    },
    {
     "data": {
      "text/html": [
       "<ul><li><a href=\"http://postnauka.ru/video/24451\">http://postnauka.ru/video/24451</a></li></ul>"
      ],
      "text/plain": [
       "<IPython.core.display.HTML object>"
      ]
     },
     "metadata": {},
     "output_type": "display_data"
    },
    {
     "data": {
      "text/html": [
       "<ul><li><a href=\"http://postnauka.ru/video/24182\">http://postnauka.ru/video/24182</a></li></ul>"
      ],
      "text/plain": [
       "<IPython.core.display.HTML object>"
      ]
     },
     "metadata": {},
     "output_type": "display_data"
    },
    {
     "data": {
      "text/html": [
       "<ul><li><a href=\"http://postnauka.ru/video/5181\">http://postnauka.ru/video/5181</a></li></ul>"
      ],
      "text/plain": [
       "<IPython.core.display.HTML object>"
      ]
     },
     "metadata": {},
     "output_type": "display_data"
    },
    {
     "data": {
      "text/html": [
       "<ul><li><a href=\"http://postnauka.ru/video/26633\">http://postnauka.ru/video/26633</a></li></ul>"
      ],
      "text/plain": [
       "<IPython.core.display.HTML object>"
      ]
     },
     "metadata": {},
     "output_type": "display_data"
    },
    {
     "data": {
      "text/html": [
       "<ul><li><a href=\"http://postnauka.ru/video/57336\">http://postnauka.ru/video/57336</a></li></ul>"
      ],
      "text/plain": [
       "<IPython.core.display.HTML object>"
      ]
     },
     "metadata": {},
     "output_type": "display_data"
    },
    {
     "data": {
      "text/html": [
       "<ul><li><a href=\"http://postnauka.ru/video/53949\">http://postnauka.ru/video/53949</a></li></ul>"
      ],
      "text/plain": [
       "<IPython.core.display.HTML object>"
      ]
     },
     "metadata": {},
     "output_type": "display_data"
    },
    {
     "data": {
      "text/html": [
       "<ul><li><a href=\"http://postnauka.ru/video/19577\">http://postnauka.ru/video/19577</a></li></ul>"
      ],
      "text/plain": [
       "<IPython.core.display.HTML object>"
      ]
     },
     "metadata": {},
     "output_type": "display_data"
    },
    {
     "data": {
      "text/html": [
       "<ul><li><a href=\"http://postnauka.ru/video/17421\">http://postnauka.ru/video/17421</a></li></ul>"
      ],
      "text/plain": [
       "<IPython.core.display.HTML object>"
      ]
     },
     "metadata": {},
     "output_type": "display_data"
    },
    {
     "data": {
      "text/html": [
       "<ul><li><a href=\"http://postnauka.ru/video/54916\">http://postnauka.ru/video/54916</a></li></ul>"
      ],
      "text/plain": [
       "<IPython.core.display.HTML object>"
      ]
     },
     "metadata": {},
     "output_type": "display_data"
    },
    {
     "data": {
      "text/html": [
       "<h2>Расы</h2>"
      ],
      "text/plain": [
       "<IPython.core.display.HTML object>"
      ]
     },
     "metadata": {},
     "output_type": "display_data"
    },
    {
     "data": {
      "text/html": [
       "<font color=\"green\">раса, океан, африка, остров, америка, южный, станислав, географический, монголоид, дробышевский</font>"
      ],
      "text/plain": [
       "<IPython.core.display.HTML object>"
      ]
     },
     "metadata": {},
     "output_type": "display_data"
    },
    {
     "data": {
      "text/html": [
       "<ul><li><a href=\"http://postnauka.ru/video/17397\">http://postnauka.ru/video/17397</a></li></ul>"
      ],
      "text/plain": [
       "<IPython.core.display.HTML object>"
      ]
     },
     "metadata": {},
     "output_type": "display_data"
    },
    {
     "data": {
      "text/html": [
       "<ul><li><a href=\"http://postnauka.ru/video/31707\">http://postnauka.ru/video/31707</a></li></ul>"
      ],
      "text/plain": [
       "<IPython.core.display.HTML object>"
      ]
     },
     "metadata": {},
     "output_type": "display_data"
    },
    {
     "data": {
      "text/html": [
       "<ul><li><a href=\"http://postnauka.ru/video/37732\">http://postnauka.ru/video/37732</a></li></ul>"
      ],
      "text/plain": [
       "<IPython.core.display.HTML object>"
      ]
     },
     "metadata": {},
     "output_type": "display_data"
    },
    {
     "data": {
      "text/html": [
       "<ul><li><a href=\"http://postnauka.ru/video/49262\">http://postnauka.ru/video/49262</a></li></ul>"
      ],
      "text/plain": [
       "<IPython.core.display.HTML object>"
      ]
     },
     "metadata": {},
     "output_type": "display_data"
    },
    {
     "data": {
      "text/html": [
       "<ul><li><a href=\"http://postnauka.ru/video/32898\">http://postnauka.ru/video/32898</a></li></ul>"
      ],
      "text/plain": [
       "<IPython.core.display.HTML object>"
      ]
     },
     "metadata": {},
     "output_type": "display_data"
    },
    {
     "data": {
      "text/html": [
       "<ul><li><a href=\"http://postnauka.ru/video/42735\">http://postnauka.ru/video/42735</a></li></ul>"
      ],
      "text/plain": [
       "<IPython.core.display.HTML object>"
      ]
     },
     "metadata": {},
     "output_type": "display_data"
    },
    {
     "data": {
      "text/html": [
       "<ul><li><a href=\"http://postnauka.ru/video/42707\">http://postnauka.ru/video/42707</a></li></ul>"
      ],
      "text/plain": [
       "<IPython.core.display.HTML object>"
      ]
     },
     "metadata": {},
     "output_type": "display_data"
    },
    {
     "data": {
      "text/html": [
       "<ul><li><a href=\"http://postnauka.ru/video/35150\">http://postnauka.ru/video/35150</a></li></ul>"
      ],
      "text/plain": [
       "<IPython.core.display.HTML object>"
      ]
     },
     "metadata": {},
     "output_type": "display_data"
    },
    {
     "data": {
      "text/html": [
       "<ul><li><a href=\"http://postnauka.ru/video/40880\">http://postnauka.ru/video/40880</a></li></ul>"
      ],
      "text/plain": [
       "<IPython.core.display.HTML object>"
      ]
     },
     "metadata": {},
     "output_type": "display_data"
    },
    {
     "data": {
      "text/html": [
       "<ul><li><a href=\"http://postnauka.ru/video/36253\">http://postnauka.ru/video/36253</a></li></ul>"
      ],
      "text/plain": [
       "<IPython.core.display.HTML object>"
      ]
     },
     "metadata": {},
     "output_type": "display_data"
    },
    {
     "data": {
      "text/html": [
       "<h2>Философия</h2>"
      ],
      "text/plain": [
       "<IPython.core.display.HTML object>"
      ]
     },
     "metadata": {},
     "output_type": "display_data"
    },
    {
     "data": {
      "text/html": [
       "<font color=\"green\">политический, философия, государство, философский, философ, свобода, идеология, платон, мысль, враг</font>"
      ],
      "text/plain": [
       "<IPython.core.display.HTML object>"
      ]
     },
     "metadata": {},
     "output_type": "display_data"
    },
    {
     "data": {
      "text/html": [
       "<ul><li><a href=\"http://postnauka.ru/video/12738\">http://postnauka.ru/video/12738</a></li></ul>"
      ],
      "text/plain": [
       "<IPython.core.display.HTML object>"
      ]
     },
     "metadata": {},
     "output_type": "display_data"
    },
    {
     "data": {
      "text/html": [
       "<ul><li><a href=\"http://postnauka.ru/video/3418\">http://postnauka.ru/video/3418</a></li></ul>"
      ],
      "text/plain": [
       "<IPython.core.display.HTML object>"
      ]
     },
     "metadata": {},
     "output_type": "display_data"
    },
    {
     "data": {
      "text/html": [
       "<ul><li><a href=\"http://postnauka.ru/video/32906\">http://postnauka.ru/video/32906</a></li></ul>"
      ],
      "text/plain": [
       "<IPython.core.display.HTML object>"
      ]
     },
     "metadata": {},
     "output_type": "display_data"
    },
    {
     "data": {
      "text/html": [
       "<ul><li><a href=\"http://postnauka.ru/video/37965\">http://postnauka.ru/video/37965</a></li></ul>"
      ],
      "text/plain": [
       "<IPython.core.display.HTML object>"
      ]
     },
     "metadata": {},
     "output_type": "display_data"
    },
    {
     "data": {
      "text/html": [
       "<ul><li><a href=\"http://postnauka.ru/video/53513\">http://postnauka.ru/video/53513</a></li></ul>"
      ],
      "text/plain": [
       "<IPython.core.display.HTML object>"
      ]
     },
     "metadata": {},
     "output_type": "display_data"
    },
    {
     "data": {
      "text/html": [
       "<ul><li><a href=\"http://postnauka.ru/video/42088\">http://postnauka.ru/video/42088</a></li></ul>"
      ],
      "text/plain": [
       "<IPython.core.display.HTML object>"
      ]
     },
     "metadata": {},
     "output_type": "display_data"
    },
    {
     "data": {
      "text/html": [
       "<ul><li><a href=\"http://postnauka.ru/video/2526\">http://postnauka.ru/video/2526</a></li></ul>"
      ],
      "text/plain": [
       "<IPython.core.display.HTML object>"
      ]
     },
     "metadata": {},
     "output_type": "display_data"
    },
    {
     "data": {
      "text/html": [
       "<ul><li><a href=\"http://postnauka.ru/video/36976\">http://postnauka.ru/video/36976</a></li></ul>"
      ],
      "text/plain": [
       "<IPython.core.display.HTML object>"
      ]
     },
     "metadata": {},
     "output_type": "display_data"
    },
    {
     "data": {
      "text/html": [
       "<ul><li><a href=\"http://postnauka.ru/video/9728\">http://postnauka.ru/video/9728</a></li></ul>"
      ],
      "text/plain": [
       "<IPython.core.display.HTML object>"
      ]
     },
     "metadata": {},
     "output_type": "display_data"
    },
    {
     "data": {
      "text/html": [
       "<ul><li><a href=\"http://postnauka.ru/video/31690\">http://postnauka.ru/video/31690</a></li></ul>"
      ],
      "text/plain": [
       "<IPython.core.display.HTML object>"
      ]
     },
     "metadata": {},
     "output_type": "display_data"
    },
    {
     "data": {
      "text/html": [
       "<h2>Русский язык</h2>"
      ],
      "text/plain": [
       "<IPython.core.display.HTML object>"
      ]
     },
     "metadata": {},
     "output_type": "display_data"
    },
    {
     "data": {
      "text/html": [
       "<font color=\"green\">язык, слово, русский, словарь, текст, предложение, лингвист, значение, категория, глагол</font>"
      ],
      "text/plain": [
       "<IPython.core.display.HTML object>"
      ]
     },
     "metadata": {},
     "output_type": "display_data"
    },
    {
     "data": {
      "text/html": [
       "<ul><li><a href=\"http://postnauka.ru/video/22433\">http://postnauka.ru/video/22433</a></li></ul>"
      ],
      "text/plain": [
       "<IPython.core.display.HTML object>"
      ]
     },
     "metadata": {},
     "output_type": "display_data"
    },
    {
     "data": {
      "text/html": [
       "<ul><li><a href=\"http://postnauka.ru/video/36272\">http://postnauka.ru/video/36272</a></li></ul>"
      ],
      "text/plain": [
       "<IPython.core.display.HTML object>"
      ]
     },
     "metadata": {},
     "output_type": "display_data"
    },
    {
     "data": {
      "text/html": [
       "<ul><li><a href=\"http://postnauka.ru/video/3403\">http://postnauka.ru/video/3403</a></li></ul>"
      ],
      "text/plain": [
       "<IPython.core.display.HTML object>"
      ]
     },
     "metadata": {},
     "output_type": "display_data"
    },
    {
     "data": {
      "text/html": [
       "<ul><li><a href=\"http://postnauka.ru/video/2961\">http://postnauka.ru/video/2961</a></li></ul>"
      ],
      "text/plain": [
       "<IPython.core.display.HTML object>"
      ]
     },
     "metadata": {},
     "output_type": "display_data"
    },
    {
     "data": {
      "text/html": [
       "<ul><li><a href=\"http://postnauka.ru/video/1898\">http://postnauka.ru/video/1898</a></li></ul>"
      ],
      "text/plain": [
       "<IPython.core.display.HTML object>"
      ]
     },
     "metadata": {},
     "output_type": "display_data"
    },
    {
     "data": {
      "text/html": [
       "<ul><li><a href=\"http://postnauka.ru/video/51374\">http://postnauka.ru/video/51374</a></li></ul>"
      ],
      "text/plain": [
       "<IPython.core.display.HTML object>"
      ]
     },
     "metadata": {},
     "output_type": "display_data"
    },
    {
     "data": {
      "text/html": [
       "<ul><li><a href=\"http://postnauka.ru/video/53644\">http://postnauka.ru/video/53644</a></li></ul>"
      ],
      "text/plain": [
       "<IPython.core.display.HTML object>"
      ]
     },
     "metadata": {},
     "output_type": "display_data"
    },
    {
     "data": {
      "text/html": [
       "<ul><li><a href=\"http://postnauka.ru/video/56616\">http://postnauka.ru/video/56616</a></li></ul>"
      ],
      "text/plain": [
       "<IPython.core.display.HTML object>"
      ]
     },
     "metadata": {},
     "output_type": "display_data"
    },
    {
     "data": {
      "text/html": [
       "<ul><li><a href=\"http://postnauka.ru/video/30017\">http://postnauka.ru/video/30017</a></li></ul>"
      ],
      "text/plain": [
       "<IPython.core.display.HTML object>"
      ]
     },
     "metadata": {},
     "output_type": "display_data"
    },
    {
     "data": {
      "text/html": [
       "<ul><li><a href=\"http://postnauka.ru/video/51499\">http://postnauka.ru/video/51499</a></li></ul>"
      ],
      "text/plain": [
       "<IPython.core.display.HTML object>"
      ]
     },
     "metadata": {},
     "output_type": "display_data"
    },
    {
     "data": {
      "text/html": [
       "<h2>Революция во Франции</h2>"
      ],
      "text/plain": [
       "<IPython.core.display.HTML object>"
      ]
     },
     "metadata": {},
     "output_type": "display_data"
    },
    {
     "data": {
      "text/html": [
       "<font color=\"green\">революция, французский, франция, театр, король, роман, костюм, нация, национальный, актер</font>"
      ],
      "text/plain": [
       "<IPython.core.display.HTML object>"
      ]
     },
     "metadata": {},
     "output_type": "display_data"
    },
    {
     "data": {
      "text/html": [
       "<ul><li><a href=\"http://postnauka.ru/video/24279\">http://postnauka.ru/video/24279</a></li></ul>"
      ],
      "text/plain": [
       "<IPython.core.display.HTML object>"
      ]
     },
     "metadata": {},
     "output_type": "display_data"
    },
    {
     "data": {
      "text/html": [
       "<ul><li><a href=\"http://postnauka.ru/video/48492\">http://postnauka.ru/video/48492</a></li></ul>"
      ],
      "text/plain": [
       "<IPython.core.display.HTML object>"
      ]
     },
     "metadata": {},
     "output_type": "display_data"
    },
    {
     "data": {
      "text/html": [
       "<ul><li><a href=\"http://postnauka.ru/video/40004\">http://postnauka.ru/video/40004</a></li></ul>"
      ],
      "text/plain": [
       "<IPython.core.display.HTML object>"
      ]
     },
     "metadata": {},
     "output_type": "display_data"
    },
    {
     "data": {
      "text/html": [
       "<ul><li><a href=\"http://postnauka.ru/video/47823\">http://postnauka.ru/video/47823</a></li></ul>"
      ],
      "text/plain": [
       "<IPython.core.display.HTML object>"
      ]
     },
     "metadata": {},
     "output_type": "display_data"
    },
    {
     "data": {
      "text/html": [
       "<ul><li><a href=\"http://postnauka.ru/video/43843\">http://postnauka.ru/video/43843</a></li></ul>"
      ],
      "text/plain": [
       "<IPython.core.display.HTML object>"
      ]
     },
     "metadata": {},
     "output_type": "display_data"
    },
    {
     "data": {
      "text/html": [
       "<ul><li><a href=\"http://postnauka.ru/video/54175\">http://postnauka.ru/video/54175</a></li></ul>"
      ],
      "text/plain": [
       "<IPython.core.display.HTML object>"
      ]
     },
     "metadata": {},
     "output_type": "display_data"
    },
    {
     "data": {
      "text/html": [
       "<ul><li><a href=\"http://postnauka.ru/video/48455\">http://postnauka.ru/video/48455</a></li></ul>"
      ],
      "text/plain": [
       "<IPython.core.display.HTML object>"
      ]
     },
     "metadata": {},
     "output_type": "display_data"
    },
    {
     "data": {
      "text/html": [
       "<ul><li><a href=\"http://postnauka.ru/video/58542\">http://postnauka.ru/video/58542</a></li></ul>"
      ],
      "text/plain": [
       "<IPython.core.display.HTML object>"
      ]
     },
     "metadata": {},
     "output_type": "display_data"
    },
    {
     "data": {
      "text/html": [
       "<ul><li><a href=\"http://postnauka.ru/video/22079\">http://postnauka.ru/video/22079</a></li></ul>"
      ],
      "text/plain": [
       "<IPython.core.display.HTML object>"
      ]
     },
     "metadata": {},
     "output_type": "display_data"
    },
    {
     "data": {
      "text/html": [
       "<ul><li><a href=\"http://postnauka.ru/video/23470\">http://postnauka.ru/video/23470</a></li></ul>"
      ],
      "text/plain": [
       "<IPython.core.display.HTML object>"
      ]
     },
     "metadata": {},
     "output_type": "display_data"
    },
    {
     "data": {
      "text/html": [
       "<h2>Интернет</h2>"
      ],
      "text/plain": [
       "<IPython.core.display.HTML object>"
      ]
     },
     "metadata": {},
     "output_type": "display_data"
    },
    {
     "data": {
      "text/html": [
       "<font color=\"green\">город, сеть, робот, городской, интернет, пользователь, компания, музей, медиа, горожанин</font>"
      ],
      "text/plain": [
       "<IPython.core.display.HTML object>"
      ]
     },
     "metadata": {},
     "output_type": "display_data"
    },
    {
     "data": {
      "text/html": [
       "<ul><li><a href=\"http://postnauka.ru/video/13742\">http://postnauka.ru/video/13742</a></li></ul>"
      ],
      "text/plain": [
       "<IPython.core.display.HTML object>"
      ]
     },
     "metadata": {},
     "output_type": "display_data"
    },
    {
     "data": {
      "text/html": [
       "<ul><li><a href=\"http://postnauka.ru/video/12515\">http://postnauka.ru/video/12515</a></li></ul>"
      ],
      "text/plain": [
       "<IPython.core.display.HTML object>"
      ]
     },
     "metadata": {},
     "output_type": "display_data"
    },
    {
     "data": {
      "text/html": [
       "<ul><li><a href=\"http://postnauka.ru/video/11634\">http://postnauka.ru/video/11634</a></li></ul>"
      ],
      "text/plain": [
       "<IPython.core.display.HTML object>"
      ]
     },
     "metadata": {},
     "output_type": "display_data"
    },
    {
     "data": {
      "text/html": [
       "<ul><li><a href=\"http://postnauka.ru/video/34424\">http://postnauka.ru/video/34424</a></li></ul>"
      ],
      "text/plain": [
       "<IPython.core.display.HTML object>"
      ]
     },
     "metadata": {},
     "output_type": "display_data"
    },
    {
     "data": {
      "text/html": [
       "<ul><li><a href=\"http://postnauka.ru/video/9998\">http://postnauka.ru/video/9998</a></li></ul>"
      ],
      "text/plain": [
       "<IPython.core.display.HTML object>"
      ]
     },
     "metadata": {},
     "output_type": "display_data"
    },
    {
     "data": {
      "text/html": [
       "<ul><li><a href=\"http://postnauka.ru/video/7068\">http://postnauka.ru/video/7068</a></li></ul>"
      ],
      "text/plain": [
       "<IPython.core.display.HTML object>"
      ]
     },
     "metadata": {},
     "output_type": "display_data"
    },
    {
     "data": {
      "text/html": [
       "<ul><li><a href=\"http://postnauka.ru/video/17604\">http://postnauka.ru/video/17604</a></li></ul>"
      ],
      "text/plain": [
       "<IPython.core.display.HTML object>"
      ]
     },
     "metadata": {},
     "output_type": "display_data"
    },
    {
     "data": {
      "text/html": [
       "<ul><li><a href=\"http://postnauka.ru/video/47301\">http://postnauka.ru/video/47301</a></li></ul>"
      ],
      "text/plain": [
       "<IPython.core.display.HTML object>"
      ]
     },
     "metadata": {},
     "output_type": "display_data"
    },
    {
     "data": {
      "text/html": [
       "<ul><li><a href=\"http://postnauka.ru/video/8313\">http://postnauka.ru/video/8313</a></li></ul>"
      ],
      "text/plain": [
       "<IPython.core.display.HTML object>"
      ]
     },
     "metadata": {},
     "output_type": "display_data"
    },
    {
     "data": {
      "text/html": [
       "<ul><li><a href=\"http://postnauka.ru/video/25253\">http://postnauka.ru/video/25253</a></li></ul>"
      ],
      "text/plain": [
       "<IPython.core.display.HTML object>"
      ]
     },
     "metadata": {},
     "output_type": "display_data"
    },
    {
     "data": {
      "text/html": [
       "<h2>Медицина</h2>"
      ],
      "text/plain": [
       "<IPython.core.display.HTML object>"
      ]
     },
     "metadata": {},
     "output_type": "display_data"
    },
    {
     "data": {
      "text/html": [
       "<font color=\"green\">болезнь, заболевание, пациент, лечение, медицина, врач, боль, препарат, медицинский, операция</font>"
      ],
      "text/plain": [
       "<IPython.core.display.HTML object>"
      ]
     },
     "metadata": {},
     "output_type": "display_data"
    },
    {
     "data": {
      "text/html": [
       "<ul><li><a href=\"http://postnauka.ru/video/2541\">http://postnauka.ru/video/2541</a></li></ul>"
      ],
      "text/plain": [
       "<IPython.core.display.HTML object>"
      ]
     },
     "metadata": {},
     "output_type": "display_data"
    },
    {
     "data": {
      "text/html": [
       "<ul><li><a href=\"http://postnauka.ru/video/54325\">http://postnauka.ru/video/54325</a></li></ul>"
      ],
      "text/plain": [
       "<IPython.core.display.HTML object>"
      ]
     },
     "metadata": {},
     "output_type": "display_data"
    },
    {
     "data": {
      "text/html": [
       "<ul><li><a href=\"http://postnauka.ru/video/12974\">http://postnauka.ru/video/12974</a></li></ul>"
      ],
      "text/plain": [
       "<IPython.core.display.HTML object>"
      ]
     },
     "metadata": {},
     "output_type": "display_data"
    },
    {
     "data": {
      "text/html": [
       "<ul><li><a href=\"http://postnauka.ru/video/49206\">http://postnauka.ru/video/49206</a></li></ul>"
      ],
      "text/plain": [
       "<IPython.core.display.HTML object>"
      ]
     },
     "metadata": {},
     "output_type": "display_data"
    },
    {
     "data": {
      "text/html": [
       "<ul><li><a href=\"http://postnauka.ru/video/13746\">http://postnauka.ru/video/13746</a></li></ul>"
      ],
      "text/plain": [
       "<IPython.core.display.HTML object>"
      ]
     },
     "metadata": {},
     "output_type": "display_data"
    },
    {
     "data": {
      "text/html": [
       "<ul><li><a href=\"http://postnauka.ru/video/45961\">http://postnauka.ru/video/45961</a></li></ul>"
      ],
      "text/plain": [
       "<IPython.core.display.HTML object>"
      ]
     },
     "metadata": {},
     "output_type": "display_data"
    },
    {
     "data": {
      "text/html": [
       "<ul><li><a href=\"http://postnauka.ru/video/532\">http://postnauka.ru/video/532</a></li></ul>"
      ],
      "text/plain": [
       "<IPython.core.display.HTML object>"
      ]
     },
     "metadata": {},
     "output_type": "display_data"
    },
    {
     "data": {
      "text/html": [
       "<ul><li><a href=\"http://postnauka.ru/video/51384\">http://postnauka.ru/video/51384</a></li></ul>"
      ],
      "text/plain": [
       "<IPython.core.display.HTML object>"
      ]
     },
     "metadata": {},
     "output_type": "display_data"
    },
    {
     "data": {
      "text/html": [
       "<ul><li><a href=\"http://postnauka.ru/video/27925\">http://postnauka.ru/video/27925</a></li></ul>"
      ],
      "text/plain": [
       "<IPython.core.display.HTML object>"
      ]
     },
     "metadata": {},
     "output_type": "display_data"
    },
    {
     "data": {
      "text/html": [
       "<ul><li><a href=\"http://postnauka.ru/video/17049\">http://postnauka.ru/video/17049</a></li></ul>"
      ],
      "text/plain": [
       "<IPython.core.display.HTML object>"
      ]
     },
     "metadata": {},
     "output_type": "display_data"
    },
    {
     "data": {
      "text/html": [
       "<h2>Социология</h2>"
      ],
      "text/plain": [
       "<IPython.core.display.HTML object>"
      ]
     },
     "metadata": {},
     "output_type": "display_data"
    },
    {
     "data": {
      "text/html": [
       "<font color=\"green\">социальный, знание, социология, социологический, дисциплина, познание, социолог, повседневный, виктор, машинный</font>"
      ],
      "text/plain": [
       "<IPython.core.display.HTML object>"
      ]
     },
     "metadata": {},
     "output_type": "display_data"
    },
    {
     "data": {
      "text/html": [
       "<ul><li><a href=\"http://postnauka.ru/video/10783\">http://postnauka.ru/video/10783</a></li></ul>"
      ],
      "text/plain": [
       "<IPython.core.display.HTML object>"
      ]
     },
     "metadata": {},
     "output_type": "display_data"
    },
    {
     "data": {
      "text/html": [
       "<ul><li><a href=\"http://postnauka.ru/video/434\">http://postnauka.ru/video/434</a></li></ul>"
      ],
      "text/plain": [
       "<IPython.core.display.HTML object>"
      ]
     },
     "metadata": {},
     "output_type": "display_data"
    },
    {
     "data": {
      "text/html": [
       "<ul><li><a href=\"http://postnauka.ru/video/12083\">http://postnauka.ru/video/12083</a></li></ul>"
      ],
      "text/plain": [
       "<IPython.core.display.HTML object>"
      ]
     },
     "metadata": {},
     "output_type": "display_data"
    },
    {
     "data": {
      "text/html": [
       "<ul><li><a href=\"http://postnauka.ru/video/17491\">http://postnauka.ru/video/17491</a></li></ul>"
      ],
      "text/plain": [
       "<IPython.core.display.HTML object>"
      ]
     },
     "metadata": {},
     "output_type": "display_data"
    },
    {
     "data": {
      "text/html": [
       "<ul><li><a href=\"http://postnauka.ru/video/6380\">http://postnauka.ru/video/6380</a></li></ul>"
      ],
      "text/plain": [
       "<IPython.core.display.HTML object>"
      ]
     },
     "metadata": {},
     "output_type": "display_data"
    },
    {
     "data": {
      "text/html": [
       "<ul><li><a href=\"http://postnauka.ru/video/20720\">http://postnauka.ru/video/20720</a></li></ul>"
      ],
      "text/plain": [
       "<IPython.core.display.HTML object>"
      ]
     },
     "metadata": {},
     "output_type": "display_data"
    },
    {
     "data": {
      "text/html": [
       "<ul><li><a href=\"http://postnauka.ru/video/2530\">http://postnauka.ru/video/2530</a></li></ul>"
      ],
      "text/plain": [
       "<IPython.core.display.HTML object>"
      ]
     },
     "metadata": {},
     "output_type": "display_data"
    },
    {
     "data": {
      "text/html": [
       "<ul><li><a href=\"http://postnauka.ru/video/3628\">http://postnauka.ru/video/3628</a></li></ul>"
      ],
      "text/plain": [
       "<IPython.core.display.HTML object>"
      ]
     },
     "metadata": {},
     "output_type": "display_data"
    },
    {
     "data": {
      "text/html": [
       "<ul><li><a href=\"http://postnauka.ru/video/11640\">http://postnauka.ru/video/11640</a></li></ul>"
      ],
      "text/plain": [
       "<IPython.core.display.HTML object>"
      ]
     },
     "metadata": {},
     "output_type": "display_data"
    },
    {
     "data": {
      "text/html": [
       "<ul><li><a href=\"http://postnauka.ru/video/23361\">http://postnauka.ru/video/23361</a></li></ul>"
      ],
      "text/plain": [
       "<IPython.core.display.HTML object>"
      ]
     },
     "metadata": {},
     "output_type": "display_data"
    },
    {
     "data": {
      "text/html": [
       "<h2>Экология</h2>"
      ],
      "text/plain": [
       "<IPython.core.display.HTML object>"
      ]
     },
     "metadata": {},
     "output_type": "display_data"
    },
    {
     "data": {
      "text/html": [
       "<font color=\"green\">микроорганизм, матрица, интеллект, эмоция, алгоритм, вычислительный, эмоциональный, схема, искусственный, микроб</font>"
      ],
      "text/plain": [
       "<IPython.core.display.HTML object>"
      ]
     },
     "metadata": {},
     "output_type": "display_data"
    },
    {
     "data": {
      "text/html": [
       "<ul><li><a href=\"http://postnauka.ru/video/31671\">http://postnauka.ru/video/31671</a></li></ul>"
      ],
      "text/plain": [
       "<IPython.core.display.HTML object>"
      ]
     },
     "metadata": {},
     "output_type": "display_data"
    },
    {
     "data": {
      "text/html": [
       "<ul><li><a href=\"http://postnauka.ru/video/2531\">http://postnauka.ru/video/2531</a></li></ul>"
      ],
      "text/plain": [
       "<IPython.core.display.HTML object>"
      ]
     },
     "metadata": {},
     "output_type": "display_data"
    },
    {
     "data": {
      "text/html": [
       "<ul><li><a href=\"http://postnauka.ru/video/49437\">http://postnauka.ru/video/49437</a></li></ul>"
      ],
      "text/plain": [
       "<IPython.core.display.HTML object>"
      ]
     },
     "metadata": {},
     "output_type": "display_data"
    },
    {
     "data": {
      "text/html": [
       "<ul><li><a href=\"http://postnauka.ru/video/42416\">http://postnauka.ru/video/42416</a></li></ul>"
      ],
      "text/plain": [
       "<IPython.core.display.HTML object>"
      ]
     },
     "metadata": {},
     "output_type": "display_data"
    },
    {
     "data": {
      "text/html": [
       "<ul><li><a href=\"http://postnauka.ru/video/15981\">http://postnauka.ru/video/15981</a></li></ul>"
      ],
      "text/plain": [
       "<IPython.core.display.HTML object>"
      ]
     },
     "metadata": {},
     "output_type": "display_data"
    },
    {
     "data": {
      "text/html": [
       "<ul><li><a href=\"http://postnauka.ru/video/52738\">http://postnauka.ru/video/52738</a></li></ul>"
      ],
      "text/plain": [
       "<IPython.core.display.HTML object>"
      ]
     },
     "metadata": {},
     "output_type": "display_data"
    },
    {
     "data": {
      "text/html": [
       "<ul><li><a href=\"http://postnauka.ru/video/33788\">http://postnauka.ru/video/33788</a></li></ul>"
      ],
      "text/plain": [
       "<IPython.core.display.HTML object>"
      ]
     },
     "metadata": {},
     "output_type": "display_data"
    },
    {
     "data": {
      "text/html": [
       "<ul><li><a href=\"http://postnauka.ru/video/3352\">http://postnauka.ru/video/3352</a></li></ul>"
      ],
      "text/plain": [
       "<IPython.core.display.HTML object>"
      ]
     },
     "metadata": {},
     "output_type": "display_data"
    },
    {
     "data": {
      "text/html": [
       "<ul><li><a href=\"http://postnauka.ru/video/34964\">http://postnauka.ru/video/34964</a></li></ul>"
      ],
      "text/plain": [
       "<IPython.core.display.HTML object>"
      ]
     },
     "metadata": {},
     "output_type": "display_data"
    },
    {
     "data": {
      "text/html": [
       "<ul><li><a href=\"http://postnauka.ru/video/38018\">http://postnauka.ru/video/38018</a></li></ul>"
      ],
      "text/plain": [
       "<IPython.core.display.HTML object>"
      ]
     },
     "metadata": {},
     "output_type": "display_data"
    },
    {
     "data": {
      "text/html": [
       "<h2>Мифология</h2>"
      ],
      "text/plain": [
       "<IPython.core.display.HTML object>"
      ]
     },
     "metadata": {},
     "output_type": "display_data"
    },
    {
     "data": {
      "text/html": [
       "<font color=\"green\">бог, миф, царь, греческий, море, мифология, душа, грек, андрей, египетский</font>"
      ],
      "text/plain": [
       "<IPython.core.display.HTML object>"
      ]
     },
     "metadata": {},
     "output_type": "display_data"
    },
    {
     "data": {
      "text/html": [
       "<ul><li><a href=\"http://postnauka.ru/video/10779\">http://postnauka.ru/video/10779</a></li></ul>"
      ],
      "text/plain": [
       "<IPython.core.display.HTML object>"
      ]
     },
     "metadata": {},
     "output_type": "display_data"
    },
    {
     "data": {
      "text/html": [
       "<ul><li><a href=\"http://postnauka.ru/video/9997\">http://postnauka.ru/video/9997</a></li></ul>"
      ],
      "text/plain": [
       "<IPython.core.display.HTML object>"
      ]
     },
     "metadata": {},
     "output_type": "display_data"
    },
    {
     "data": {
      "text/html": [
       "<ul><li><a href=\"http://postnauka.ru/video/12527\">http://postnauka.ru/video/12527</a></li></ul>"
      ],
      "text/plain": [
       "<IPython.core.display.HTML object>"
      ]
     },
     "metadata": {},
     "output_type": "display_data"
    },
    {
     "data": {
      "text/html": [
       "<ul><li><a href=\"http://postnauka.ru/video/21631\">http://postnauka.ru/video/21631</a></li></ul>"
      ],
      "text/plain": [
       "<IPython.core.display.HTML object>"
      ]
     },
     "metadata": {},
     "output_type": "display_data"
    },
    {
     "data": {
      "text/html": [
       "<ul><li><a href=\"http://postnauka.ru/video/43664\">http://postnauka.ru/video/43664</a></li></ul>"
      ],
      "text/plain": [
       "<IPython.core.display.HTML object>"
      ]
     },
     "metadata": {},
     "output_type": "display_data"
    },
    {
     "data": {
      "text/html": [
       "<ul><li><a href=\"http://postnauka.ru/video/31580\">http://postnauka.ru/video/31580</a></li></ul>"
      ],
      "text/plain": [
       "<IPython.core.display.HTML object>"
      ]
     },
     "metadata": {},
     "output_type": "display_data"
    },
    {
     "data": {
      "text/html": [
       "<ul><li><a href=\"http://postnauka.ru/video/5999\">http://postnauka.ru/video/5999</a></li></ul>"
      ],
      "text/plain": [
       "<IPython.core.display.HTML object>"
      ]
     },
     "metadata": {},
     "output_type": "display_data"
    },
    {
     "data": {
      "text/html": [
       "<ul><li><a href=\"http://postnauka.ru/video/46429\">http://postnauka.ru/video/46429</a></li></ul>"
      ],
      "text/plain": [
       "<IPython.core.display.HTML object>"
      ]
     },
     "metadata": {},
     "output_type": "display_data"
    },
    {
     "data": {
      "text/html": [
       "<ul><li><a href=\"http://postnauka.ru/video/54238\">http://postnauka.ru/video/54238</a></li></ul>"
      ],
      "text/plain": [
       "<IPython.core.display.HTML object>"
      ]
     },
     "metadata": {},
     "output_type": "display_data"
    },
    {
     "data": {
      "text/html": [
       "<ul><li><a href=\"http://postnauka.ru/video/42796\">http://postnauka.ru/video/42796</a></li></ul>"
      ],
      "text/plain": [
       "<IPython.core.display.HTML object>"
      ]
     },
     "metadata": {},
     "output_type": "display_data"
    },
    {
     "data": {
      "text/html": [
       "<h2>Лингвистика</h2>"
      ],
      "text/plain": [
       "<IPython.core.display.HTML object>"
      ]
     },
     "metadata": {},
     "output_type": "display_data"
    },
    {
     "data": {
      "text/html": [
       "<font color=\"green\">гласный, согласный, звук, говор, компилятор, программирование, мягкий, диалект, твердость, столыпин</font>"
      ],
      "text/plain": [
       "<IPython.core.display.HTML object>"
      ]
     },
     "metadata": {},
     "output_type": "display_data"
    },
    {
     "data": {
      "text/html": [
       "<ul><li><a href=\"http://postnauka.ru/video/48114\">http://postnauka.ru/video/48114</a></li></ul>"
      ],
      "text/plain": [
       "<IPython.core.display.HTML object>"
      ]
     },
     "metadata": {},
     "output_type": "display_data"
    },
    {
     "data": {
      "text/html": [
       "<ul><li><a href=\"http://postnauka.ru/video/13041\">http://postnauka.ru/video/13041</a></li></ul>"
      ],
      "text/plain": [
       "<IPython.core.display.HTML object>"
      ]
     },
     "metadata": {},
     "output_type": "display_data"
    },
    {
     "data": {
      "text/html": [
       "<ul><li><a href=\"http://postnauka.ru/video/51171\">http://postnauka.ru/video/51171</a></li></ul>"
      ],
      "text/plain": [
       "<IPython.core.display.HTML object>"
      ]
     },
     "metadata": {},
     "output_type": "display_data"
    },
    {
     "data": {
      "text/html": [
       "<ul><li><a href=\"http://postnauka.ru/video/8964\">http://postnauka.ru/video/8964</a></li></ul>"
      ],
      "text/plain": [
       "<IPython.core.display.HTML object>"
      ]
     },
     "metadata": {},
     "output_type": "display_data"
    },
    {
     "data": {
      "text/html": [
       "<ul><li><a href=\"http://postnauka.ru/video/10773\">http://postnauka.ru/video/10773</a></li></ul>"
      ],
      "text/plain": [
       "<IPython.core.display.HTML object>"
      ]
     },
     "metadata": {},
     "output_type": "display_data"
    },
    {
     "data": {
      "text/html": [
       "<ul><li><a href=\"http://postnauka.ru/video/15341\">http://postnauka.ru/video/15341</a></li></ul>"
      ],
      "text/plain": [
       "<IPython.core.display.HTML object>"
      ]
     },
     "metadata": {},
     "output_type": "display_data"
    },
    {
     "data": {
      "text/html": [
       "<ul><li><a href=\"http://postnauka.ru/video/40001\">http://postnauka.ru/video/40001</a></li></ul>"
      ],
      "text/plain": [
       "<IPython.core.display.HTML object>"
      ]
     },
     "metadata": {},
     "output_type": "display_data"
    },
    {
     "data": {
      "text/html": [
       "<ul><li><a href=\"http://postnauka.ru/video/14284\">http://postnauka.ru/video/14284</a></li></ul>"
      ],
      "text/plain": [
       "<IPython.core.display.HTML object>"
      ]
     },
     "metadata": {},
     "output_type": "display_data"
    },
    {
     "data": {
      "text/html": [
       "<ul><li><a href=\"http://postnauka.ru/video/27944\">http://postnauka.ru/video/27944</a></li></ul>"
      ],
      "text/plain": [
       "<IPython.core.display.HTML object>"
      ]
     },
     "metadata": {},
     "output_type": "display_data"
    },
    {
     "data": {
      "text/html": [
       "<ul><li><a href=\"http://postnauka.ru/video/15343\">http://postnauka.ru/video/15343</a></li></ul>"
      ],
      "text/plain": [
       "<IPython.core.display.HTML object>"
      ]
     },
     "metadata": {},
     "output_type": "display_data"
    },
    {
     "data": {
      "text/html": [
       "<h2>Политика</h2>"
      ],
      "text/plain": [
       "<IPython.core.display.HTML object>"
      ]
     },
     "metadata": {},
     "output_type": "display_data"
    },
    {
     "data": {
      "text/html": [
       "<font color=\"green\">страна, политика, экономический, экономика, сталин, кризис, праздник, крестьянин, коллективный, принятие</font>"
      ],
      "text/plain": [
       "<IPython.core.display.HTML object>"
      ]
     },
     "metadata": {},
     "output_type": "display_data"
    },
    {
     "data": {
      "text/html": [
       "<ul><li><a href=\"http://postnauka.ru/video/9389\">http://postnauka.ru/video/9389</a></li></ul>"
      ],
      "text/plain": [
       "<IPython.core.display.HTML object>"
      ]
     },
     "metadata": {},
     "output_type": "display_data"
    },
    {
     "data": {
      "text/html": [
       "<ul><li><a href=\"http://postnauka.ru/video/7781\">http://postnauka.ru/video/7781</a></li></ul>"
      ],
      "text/plain": [
       "<IPython.core.display.HTML object>"
      ]
     },
     "metadata": {},
     "output_type": "display_data"
    },
    {
     "data": {
      "text/html": [
       "<ul><li><a href=\"http://postnauka.ru/video/31684\">http://postnauka.ru/video/31684</a></li></ul>"
      ],
      "text/plain": [
       "<IPython.core.display.HTML object>"
      ]
     },
     "metadata": {},
     "output_type": "display_data"
    },
    {
     "data": {
      "text/html": [
       "<ul><li><a href=\"http://postnauka.ru/video/10380\">http://postnauka.ru/video/10380</a></li></ul>"
      ],
      "text/plain": [
       "<IPython.core.display.HTML object>"
      ]
     },
     "metadata": {},
     "output_type": "display_data"
    },
    {
     "data": {
      "text/html": [
       "<ul><li><a href=\"http://postnauka.ru/video/6758\">http://postnauka.ru/video/6758</a></li></ul>"
      ],
      "text/plain": [
       "<IPython.core.display.HTML object>"
      ]
     },
     "metadata": {},
     "output_type": "display_data"
    },
    {
     "data": {
      "text/html": [
       "<ul><li><a href=\"http://postnauka.ru/video/13152\">http://postnauka.ru/video/13152</a></li></ul>"
      ],
      "text/plain": [
       "<IPython.core.display.HTML object>"
      ]
     },
     "metadata": {},
     "output_type": "display_data"
    },
    {
     "data": {
      "text/html": [
       "<ul><li><a href=\"http://postnauka.ru/video/30601\">http://postnauka.ru/video/30601</a></li></ul>"
      ],
      "text/plain": [
       "<IPython.core.display.HTML object>"
      ]
     },
     "metadata": {},
     "output_type": "display_data"
    },
    {
     "data": {
      "text/html": [
       "<ul><li><a href=\"http://postnauka.ru/video/36242\">http://postnauka.ru/video/36242</a></li></ul>"
      ],
      "text/plain": [
       "<IPython.core.display.HTML object>"
      ]
     },
     "metadata": {},
     "output_type": "display_data"
    },
    {
     "data": {
      "text/html": [
       "<ul><li><a href=\"http://postnauka.ru/video/9429\">http://postnauka.ru/video/9429</a></li></ul>"
      ],
      "text/plain": [
       "<IPython.core.display.HTML object>"
      ]
     },
     "metadata": {},
     "output_type": "display_data"
    },
    {
     "data": {
      "text/html": [
       "<ul><li><a href=\"http://postnauka.ru/video/26616\">http://postnauka.ru/video/26616</a></li></ul>"
      ],
      "text/plain": [
       "<IPython.core.display.HTML object>"
      ]
     },
     "metadata": {},
     "output_type": "display_data"
    },
    {
     "data": {
      "text/html": [
       "<h2>Генетика</h2>"
      ],
      "text/plain": [
       "<IPython.core.display.HTML object>"
      ]
     },
     "metadata": {},
     "output_type": "display_data"
    },
    {
     "data": {
      "text/html": [
       "<font color=\"green\">клетка, ген, днк, белок, организм, молекула, биологический, генетический, геном, бактерия</font>"
      ],
      "text/plain": [
       "<IPython.core.display.HTML object>"
      ]
     },
     "metadata": {},
     "output_type": "display_data"
    },
    {
     "data": {
      "text/html": [
       "<ul><li><a href=\"http://postnauka.ru/video/7113\">http://postnauka.ru/video/7113</a></li></ul>"
      ],
      "text/plain": [
       "<IPython.core.display.HTML object>"
      ]
     },
     "metadata": {},
     "output_type": "display_data"
    },
    {
     "data": {
      "text/html": [
       "<ul><li><a href=\"http://postnauka.ru/video/5915\">http://postnauka.ru/video/5915</a></li></ul>"
      ],
      "text/plain": [
       "<IPython.core.display.HTML object>"
      ]
     },
     "metadata": {},
     "output_type": "display_data"
    },
    {
     "data": {
      "text/html": [
       "<ul><li><a href=\"http://postnauka.ru/video/5390\">http://postnauka.ru/video/5390</a></li></ul>"
      ],
      "text/plain": [
       "<IPython.core.display.HTML object>"
      ]
     },
     "metadata": {},
     "output_type": "display_data"
    },
    {
     "data": {
      "text/html": [
       "<ul><li><a href=\"http://postnauka.ru/video/19436\">http://postnauka.ru/video/19436</a></li></ul>"
      ],
      "text/plain": [
       "<IPython.core.display.HTML object>"
      ]
     },
     "metadata": {},
     "output_type": "display_data"
    },
    {
     "data": {
      "text/html": [
       "<ul><li><a href=\"http://postnauka.ru/video/10754\">http://postnauka.ru/video/10754</a></li></ul>"
      ],
      "text/plain": [
       "<IPython.core.display.HTML object>"
      ]
     },
     "metadata": {},
     "output_type": "display_data"
    },
    {
     "data": {
      "text/html": [
       "<ul><li><a href=\"http://postnauka.ru/video/10475\">http://postnauka.ru/video/10475</a></li></ul>"
      ],
      "text/plain": [
       "<IPython.core.display.HTML object>"
      ]
     },
     "metadata": {},
     "output_type": "display_data"
    },
    {
     "data": {
      "text/html": [
       "<ul><li><a href=\"http://postnauka.ru/video/17051\">http://postnauka.ru/video/17051</a></li></ul>"
      ],
      "text/plain": [
       "<IPython.core.display.HTML object>"
      ]
     },
     "metadata": {},
     "output_type": "display_data"
    },
    {
     "data": {
      "text/html": [
       "<ul><li><a href=\"http://postnauka.ru/video/35051\">http://postnauka.ru/video/35051</a></li></ul>"
      ],
      "text/plain": [
       "<IPython.core.display.HTML object>"
      ]
     },
     "metadata": {},
     "output_type": "display_data"
    },
    {
     "data": {
      "text/html": [
       "<ul><li><a href=\"http://postnauka.ru/video/9854\">http://postnauka.ru/video/9854</a></li></ul>"
      ],
      "text/plain": [
       "<IPython.core.display.HTML object>"
      ]
     },
     "metadata": {},
     "output_type": "display_data"
    },
    {
     "data": {
      "text/html": [
       "<ul><li><a href=\"http://postnauka.ru/video/32881\">http://postnauka.ru/video/32881</a></li></ul>"
      ],
      "text/plain": [
       "<IPython.core.display.HTML object>"
      ]
     },
     "metadata": {},
     "output_type": "display_data"
    },
    {
     "data": {
      "text/html": [
       "<h2>Сверхпроводимость</h2>"
      ],
      "text/plain": [
       "<IPython.core.display.HTML object>"
      ]
     },
     "metadata": {},
     "output_type": "display_data"
    },
    {
     "data": {
      "text/html": [
       "<font color=\"green\">температура, университет, сверхпроводимость, сверхпроводник, сверхпроводящий, частота, переход, заимствование, гумбольдт, точность</font>"
      ],
      "text/plain": [
       "<IPython.core.display.HTML object>"
      ]
     },
     "metadata": {},
     "output_type": "display_data"
    },
    {
     "data": {
      "text/html": [
       "<ul><li><a href=\"http://postnauka.ru/video/2973\">http://postnauka.ru/video/2973</a></li></ul>"
      ],
      "text/plain": [
       "<IPython.core.display.HTML object>"
      ]
     },
     "metadata": {},
     "output_type": "display_data"
    },
    {
     "data": {
      "text/html": [
       "<ul><li><a href=\"http://postnauka.ru/video/49448\">http://postnauka.ru/video/49448</a></li></ul>"
      ],
      "text/plain": [
       "<IPython.core.display.HTML object>"
      ]
     },
     "metadata": {},
     "output_type": "display_data"
    },
    {
     "data": {
      "text/html": [
       "<ul><li><a href=\"http://postnauka.ru/video/51380\">http://postnauka.ru/video/51380</a></li></ul>"
      ],
      "text/plain": [
       "<IPython.core.display.HTML object>"
      ]
     },
     "metadata": {},
     "output_type": "display_data"
    },
    {
     "data": {
      "text/html": [
       "<ul><li><a href=\"http://postnauka.ru/video/50340\">http://postnauka.ru/video/50340</a></li></ul>"
      ],
      "text/plain": [
       "<IPython.core.display.HTML object>"
      ]
     },
     "metadata": {},
     "output_type": "display_data"
    },
    {
     "data": {
      "text/html": [
       "<ul><li><a href=\"http://postnauka.ru/video/31198\">http://postnauka.ru/video/31198</a></li></ul>"
      ],
      "text/plain": [
       "<IPython.core.display.HTML object>"
      ]
     },
     "metadata": {},
     "output_type": "display_data"
    },
    {
     "data": {
      "text/html": [
       "<ul><li><a href=\"http://postnauka.ru/video/55756\">http://postnauka.ru/video/55756</a></li></ul>"
      ],
      "text/plain": [
       "<IPython.core.display.HTML object>"
      ]
     },
     "metadata": {},
     "output_type": "display_data"
    },
    {
     "data": {
      "text/html": [
       "<ul><li><a href=\"http://postnauka.ru/video/51174\">http://postnauka.ru/video/51174</a></li></ul>"
      ],
      "text/plain": [
       "<IPython.core.display.HTML object>"
      ]
     },
     "metadata": {},
     "output_type": "display_data"
    },
    {
     "data": {
      "text/html": [
       "<ul><li><a href=\"http://postnauka.ru/video/50699\">http://postnauka.ru/video/50699</a></li></ul>"
      ],
      "text/plain": [
       "<IPython.core.display.HTML object>"
      ]
     },
     "metadata": {},
     "output_type": "display_data"
    },
    {
     "data": {
      "text/html": [
       "<ul><li><a href=\"http://postnauka.ru/video/19461\">http://postnauka.ru/video/19461</a></li></ul>"
      ],
      "text/plain": [
       "<IPython.core.display.HTML object>"
      ]
     },
     "metadata": {},
     "output_type": "display_data"
    },
    {
     "data": {
      "text/html": [
       "<ul><li><a href=\"http://postnauka.ru/video/40889\">http://postnauka.ru/video/40889</a></li></ul>"
      ],
      "text/plain": [
       "<IPython.core.display.HTML object>"
      ]
     },
     "metadata": {},
     "output_type": "display_data"
    },
    {
     "data": {
      "text/html": [
       "<h2>Фоновая тема</h2>"
      ],
      "text/plain": [
       "<IPython.core.display.HTML object>"
      ]
     },
     "metadata": {},
     "output_type": "display_data"
    },
    {
     "data": {
      "text/html": [
       "<font color=\"green\">быть, что, это, который, этот, как, они, мочь, такой, очень</font>"
      ],
      "text/plain": [
       "<IPython.core.display.HTML object>"
      ]
     },
     "metadata": {},
     "output_type": "display_data"
    },
    {
     "data": {
      "text/html": [
       "<ul><li><a href=\"http://postnauka.ru/video/51184\">http://postnauka.ru/video/51184</a></li></ul>"
      ],
      "text/plain": [
       "<IPython.core.display.HTML object>"
      ]
     },
     "metadata": {},
     "output_type": "display_data"
    },
    {
     "data": {
      "text/html": [
       "<ul><li><a href=\"http://postnauka.ru/video/51365\">http://postnauka.ru/video/51365</a></li></ul>"
      ],
      "text/plain": [
       "<IPython.core.display.HTML object>"
      ]
     },
     "metadata": {},
     "output_type": "display_data"
    },
    {
     "data": {
      "text/html": [
       "<ul><li><a href=\"http://postnauka.ru/video/49851\">http://postnauka.ru/video/49851</a></li></ul>"
      ],
      "text/plain": [
       "<IPython.core.display.HTML object>"
      ]
     },
     "metadata": {},
     "output_type": "display_data"
    },
    {
     "data": {
      "text/html": [
       "<ul><li><a href=\"http://postnauka.ru/video/31214\">http://postnauka.ru/video/31214</a></li></ul>"
      ],
      "text/plain": [
       "<IPython.core.display.HTML object>"
      ]
     },
     "metadata": {},
     "output_type": "display_data"
    },
    {
     "data": {
      "text/html": [
       "<ul><li><a href=\"http://postnauka.ru/video/34427\">http://postnauka.ru/video/34427</a></li></ul>"
      ],
      "text/plain": [
       "<IPython.core.display.HTML object>"
      ]
     },
     "metadata": {},
     "output_type": "display_data"
    },
    {
     "data": {
      "text/html": [
       "<ul><li><a href=\"http://postnauka.ru/video/42436\">http://postnauka.ru/video/42436</a></li></ul>"
      ],
      "text/plain": [
       "<IPython.core.display.HTML object>"
      ]
     },
     "metadata": {},
     "output_type": "display_data"
    },
    {
     "data": {
      "text/html": [
       "<ul><li><a href=\"http://postnauka.ru/video/45956\">http://postnauka.ru/video/45956</a></li></ul>"
      ],
      "text/plain": [
       "<IPython.core.display.HTML object>"
      ]
     },
     "metadata": {},
     "output_type": "display_data"
    },
    {
     "data": {
      "text/html": [
       "<ul><li><a href=\"http://postnauka.ru/video/51178\">http://postnauka.ru/video/51178</a></li></ul>"
      ],
      "text/plain": [
       "<IPython.core.display.HTML object>"
      ]
     },
     "metadata": {},
     "output_type": "display_data"
    },
    {
     "data": {
      "text/html": [
       "<ul><li><a href=\"http://postnauka.ru/video/50706\">http://postnauka.ru/video/50706</a></li></ul>"
      ],
      "text/plain": [
       "<IPython.core.display.HTML object>"
      ]
     },
     "metadata": {},
     "output_type": "display_data"
    },
    {
     "data": {
      "text/html": [
       "<ul><li><a href=\"http://postnauka.ru/video/50659\">http://postnauka.ru/video/50659</a></li></ul>"
      ],
      "text/plain": [
       "<IPython.core.display.HTML object>"
      ]
     },
     "metadata": {},
     "output_type": "display_data"
    }
   ],
   "source": [
    "# Ваш код\n",
    "tokens = [model_artm.score_tracker['top_texts'].last_tokens[n][:10] for n in topic_names]\n",
    "links = np.array([np.array(theta.columns[p][0,:10]) for p in pdt2])\n",
    "for i,t in enumerate(topic_labels):\n",
    "    display(HTML(u\"<h2>\"+t.decode('utf-8')+\"</h2>\"))\n",
    "    display(HTML(u'<font color=\"green\">'+', '.join(tokens[i])+'</font>'))\n",
    "    for l in links[i]:\n",
    "        display(HTML(u\"<ul><li><a href=\\\"\"+l+\"\\\">\"+l+\"</a></li></ul>\"))"
   ]
  },
  {
   "cell_type": "markdown",
   "metadata": {},
   "source": [
    "##### Заключение"
   ]
  },
  {
   "cell_type": "markdown",
   "metadata": {},
   "source": [
    "В этом Peer Review мы познакомились с базовыми возможностями библиотеки BigARTM и с методами визуализации тематических моделей. Визуализация тематических моделей - это широкая и активно развивающаяся область научных исследований. Мы рассмотрели только самые простые приемы. Желающие могут попробовать применить [Serendip](http://vep.cs.wisc.edu/serendip/#serendipHero), разработанный в  University of Wisconsin-Madison, к построенной модели. Эта библиотека позволяет максимально полно охарактеризовать темы и написана для языка python. \n",
    "\n",
    "Сделав задание, вы можете выбрать в навигаторе наиболее интересную для вас тему и посмотреть видеолекции :) На Постнауке очень много интересных материалов. "
   ]
  }
 ],
 "metadata": {
  "kernelspec": {
   "display_name": "Python 2",
   "language": "python",
   "name": "python2"
  },
  "language_info": {
   "codemirror_mode": {
    "name": "ipython",
    "version": 2
   },
   "file_extension": ".py",
   "mimetype": "text/x-python",
   "name": "python",
   "nbconvert_exporter": "python",
   "pygments_lexer": "ipython2",
   "version": "2.7.13"
  }
 },
 "nbformat": 4,
 "nbformat_minor": 0
}
