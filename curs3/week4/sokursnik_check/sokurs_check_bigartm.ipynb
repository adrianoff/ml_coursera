{
 "cells": [
  {
   "cell_type": "markdown",
   "metadata": {},
   "source": [
    "# Тематическая модель [Постнауки](http://postnauka.ru)\n",
    "## Peer Review (optional)"
   ]
  },
  {
   "cell_type": "markdown",
   "metadata": {},
   "source": [
    "В этом задании мы применим аппарат тематического моделирования к коллекции текстовых записей видеолекций, скачанных с сайта Постнаука. Мы будем визуализировать модель и создавать прототип тематического навигатора по коллекции. В коллекции 1728 документов, размер словаря - 38467 слов. Слова лемматизированы, то есть приведены к начальной форме, с помощью программы [mystem](https://tech.yandex.ru/mystem/), коллекция сохранена в [формате vowpal wabbit](http://docs.bigartm.org/en/latest/formats.html). В каждой строке до первой черты записана информация о документе (ссылка на страницу с лекцией), после первой черты следует описание документа. Используются две модальности - текстовая (\"text\") и модальность авторов (\"author\"); у каждого документа один автор."
   ]
  },
  {
   "cell_type": "markdown",
   "metadata": {},
   "source": [
    "Для выполнения задания понадобится библиотека [BigARTM](http://docs.bigartm.org). В демонстрации показан пример использования библиотеки версии 0.7.4, на сайте предлагается скачивать версию 0.8.0. В новой версии изменены принципы работы со словарями: они вынесены в отдельный класс (пример в [Release Notes](http://docs.bigartm.org/en/stable/release_notes/python.html)). Строить модель и извлекать ее параметры нужно так же, как показано в демонстрации. Вы можете использовать [предыдущий релиз](http://bigartm.readthedocs.io/en/v0.7.6/download.html) или [новый релиз](http://docs.bigartm.org/en/latest/download.html) на ваше усмотрение.\n",
    "\n",
    "Спецификации всех функций вы можете смотреть на странице [Python API](http://bigartm.readthedocs.io/en/stable/python_interface.html)."
   ]
  },
  {
   "cell_type": "code",
   "execution_count": 139,
   "metadata": {
    "collapsed": true
   },
   "outputs": [],
   "source": [
    "import artm"
   ]
  },
  {
   "cell_type": "code",
   "execution_count": 140,
   "metadata": {
    "collapsed": true
   },
   "outputs": [],
   "source": [
    "from matplotlib import pyplot as plt\n",
    "import seaborn\n",
    "%matplotlib inline\n",
    "seaborn.set_style(\"whitegrid\", {'axes.grid' : False})"
   ]
  },
  {
   "cell_type": "code",
   "execution_count": 141,
   "metadata": {
    "collapsed": true
   },
   "outputs": [],
   "source": [
    "import numpy as np\n",
    "import pandas as pd"
   ]
  },
  {
   "cell_type": "markdown",
   "metadata": {},
   "source": [
    "##### Считывание данных"
   ]
  },
  {
   "cell_type": "markdown",
   "metadata": {},
   "source": [
    "Создайте объект класса artm.BatchVectorizer, который будет ссылаться на директорию с пакетами данных (батчами). Чтобы библиотека могла преобразовать текстовый файл в батчи, создайте пустую директорию и укажите ее название в параметре target_folder. Размер батча для небольших коллекций (как наша) не важен, вы можете указать любой."
   ]
  },
  {
   "cell_type": "code",
   "execution_count": 164,
   "metadata": {
    "collapsed": true
   },
   "outputs": [],
   "source": [
    "import os\n",
    "os.environ[\"ARTM_SHARED_LIBRARY\"] = \"/Users/adrianoff/dev/BigARTM/build/lib/libartm.dylib\"\n",
    "batch_vectorizer = artm.BatchVectorizer(data_path=\"lectures.txt\", data_format=\"vowpal_wabbit\", \n",
    "                                       target_folder=\"lectures_batches\", \n",
    "                                       batch_size=32, gather_dictionary=True)\n",
    "# Ваш код\n"
   ]
  },
  {
   "cell_type": "markdown",
   "metadata": {},
   "source": [
    "##### Инициализация модели"
   ]
  },
  {
   "cell_type": "markdown",
   "metadata": {},
   "source": [
    "Создайте объект класса artm.Model с 30 темами, именами тем, указанными ниже и единичными весами обеих модальностей. Количество тем выбрано не очень большим, чтобы вам было удобнее работать с темами. На этой коллекции можно строить и большее число тем, тогда они будут более узко специализированы."
   ]
  },
  {
   "cell_type": "code",
   "execution_count": 166,
   "metadata": {
    "collapsed": true
   },
   "outputs": [],
   "source": [
    "T = 30   # количество тем\n",
    "topic_names=[\"sbj\"+str(i) for i in range(T-1)]+[\"bcg\"]\n",
    "# Ваш код\n",
    "model_artm = artm.ARTM(num_topics=T, cache_theta=True, topic_names=topic_names, class_ids={\"text\":1,\"author\":1})"
   ]
  },
  {
   "cell_type": "markdown",
   "metadata": {},
   "source": [
    "Мы будем строить 29 предметных тем и одну фоновую. \n",
    "\n",
    "Соберите словарь с помощью метода gather_dictionary и инициализируйте модель, указав random_seed=1. Обязательно укажите свое название словаря, оно понадобится при добавлении регуляризаторов."
   ]
  },
  {
   "cell_type": "code",
   "execution_count": 167,
   "metadata": {
    "collapsed": true
   },
   "outputs": [],
   "source": [
    "# Ваш код\n",
    "np.random.seed(1)\n",
    "dictionary = artm.Dictionary('dictionary')\n",
    "dictionary.gather(batch_vectorizer.data_path)\n",
    "model_artm.initialize('dictionary')"
   ]
  },
  {
   "cell_type": "markdown",
   "metadata": {},
   "source": [
    "##### Добавление score"
   ]
  },
  {
   "cell_type": "markdown",
   "metadata": {},
   "source": [
    "Создайте два измерителя качества artm.TopTokensScore - по одному для каждой модальности; количество токенов 15. Названия для score придумайте самостоятельно."
   ]
  },
  {
   "cell_type": "code",
   "execution_count": 168,
   "metadata": {
    "collapsed": true
   },
   "outputs": [],
   "source": [
    "# Ваш код\n",
    "model_artm.scores.add(artm.TopTokensScore(name=\"top_words_text\", num_tokens=15, class_id=\"text\"))\n",
    "model_artm.scores.add(artm.TopTokensScore(name=\"top_words_author\", num_tokens=15, class_id=\"author\"))"
   ]
  },
  {
   "cell_type": "markdown",
   "metadata": {},
   "source": [
    "##### Построение модели"
   ]
  },
  {
   "cell_type": "markdown",
   "metadata": {},
   "source": [
    "Мы будем строить модель в два этапа: сначала добавим сглаживающий регуляризатор фоновой темы и настроим параметры модели, затем - добавим разреживающий регуляризатор предметрых тем и выполним еще несколько итераций. Так мы сможем получить наиболее чистые от фоновых слов предметные темы. Сглаживающий и разреживающий регуляризаторы задаются одним и тем же классом artm.SmoothSparsePhiRegularizer: если коэффициент tau положительный, то регуляризатор будет сглаживающий, если отрицательный - разреживающий.\n",
    "\n",
    "Если вы хотите подробнее разобраться, как выполняется регуляризация тематической модели в BigARTM, вы можете прочитать [статью](https://s3-eu-west-1.amazonaws.com/artm/voron-potap14artm-rus.pdf), раздел 4."
   ]
  },
  {
   "cell_type": "markdown",
   "metadata": {},
   "source": [
    "Добавьте сглаживающий регуляризатор с коэффициентом tau = 1e5, указав название своего словаря в dictionary, модальность текста в class_ids и тему \"bcg\" в topic_names."
   ]
  },
  {
   "cell_type": "code",
   "execution_count": 169,
   "metadata": {
    "collapsed": true
   },
   "outputs": [],
   "source": [
    "# Ваш код\n",
    "model_artm.regularizers.add(artm.SmoothSparsePhiRegularizer(\n",
    "                                                            name='SparsePhi1', \n",
    "                                                            tau=1e5, \n",
    "                                                            dictionary=dictionary, \n",
    "                                                            class_ids=[\"text\"],\n",
    "                                                            topic_names=[\"bcg\"]\n",
    "                                                           )\n",
    "                           )"
   ]
  },
  {
   "cell_type": "markdown",
   "metadata": {},
   "source": [
    "Выполните 30 итераций по коллекции (num_collection_passes), количество внутренних итераций установите равным 1. Используйте метод fit_offline модели."
   ]
  },
  {
   "cell_type": "code",
   "execution_count": 170,
   "metadata": {
    "collapsed": true
   },
   "outputs": [],
   "source": [
    "# Ваш код\n",
    "model_artm.fit_offline(batch_vectorizer=batch_vectorizer, num_collection_passes=30)"
   ]
  },
  {
   "cell_type": "markdown",
   "metadata": {},
   "source": [
    "Добавьте разреживающий регуляризатор с коэффициентом tau=-1e5, указав название своего словаря, модальность текста в class_ids и все темы \"sbjX\" в topic_names."
   ]
  },
  {
   "cell_type": "code",
   "execution_count": 171,
   "metadata": {
    "collapsed": true
   },
   "outputs": [],
   "source": [
    "# Ваш код\n",
    "model_artm.regularizers.add(artm.SmoothSparsePhiRegularizer(\n",
    "                                                            name='SparsePhi2', \n",
    "                                                            tau=-1e5, \n",
    "                                                            dictionary=dictionary, \n",
    "                                                            class_ids=[\"text\"],\n",
    "                                                            topic_names=[\"sbj\"+str(i) for i in range(T-1)]\n",
    "                                                           )\n",
    "                           )"
   ]
  },
  {
   "cell_type": "markdown",
   "metadata": {},
   "source": [
    "Выполните еще 15 проходов по коллекции."
   ]
  },
  {
   "cell_type": "code",
   "execution_count": 172,
   "metadata": {
    "collapsed": true
   },
   "outputs": [],
   "source": [
    "# Ваш код\n",
    "model_artm.fit_offline(batch_vectorizer=batch_vectorizer, num_collection_passes=15)"
   ]
  },
  {
   "cell_type": "markdown",
   "metadata": {},
   "source": [
    "##### Интерпретация тем"
   ]
  },
  {
   "cell_type": "markdown",
   "metadata": {},
   "source": [
    "Используя созданные score, выведите топы слов и топы авторов в темах. Удобнее всего выводить топ слов каждой темы с новой строки, указывая название темы в начале строки, и аналогично с авторами."
   ]
  },
  {
   "cell_type": "code",
   "execution_count": 173,
   "metadata": {},
   "outputs": [
    {
     "name": "stdout",
     "output_type": "stream",
     "text": [
      "sbj0:  церковь русь средневековый император святой власть сага князь папа византийский поэзия церковный рим вера король\n",
      "sbj1:  планета земля атмосфера вода солнце солнечный белый карлик газ вокруг образовываться поверхность спутник радиус метр\n",
      "sbj2:  система трудность относительность тест задание преподавание отсчет системный научение компетенция адаптивный обществознание подготовка моделирование спиновый\n",
      "sbj3:  культура наука рассказывать понятие кандидат исторический каков доктор культурный сознание восприятие филологический феномен владимир личность\n",
      "sbj4:  право правовой римский юрист искусство суд юридический должник собственность обязательство договор владение собственник исполнение имущество\n",
      "sbj5:  материал свет оптический полимер применение импульс поверхность электронный использование лазерный углеродный прибор электроника бор трехмерный\n",
      "sbj6:  литература фильм текст литературный кино произведение автор герой жанр кинематограф поэт анекдот писатель читатель культовый\n",
      "sbj7:  смерть ритуал диктатура государь обряд правитель конвент орден террор монтаньяр баратынский подданный насилие похоронный якобинский\n",
      "sbj8:  структура вещество химический соединение химия давление углерод реакция металл органический кристалл водород алмаз кристаллический кислород\n",
      "sbj9:  частица энергия квантовый поле физика атом взаимодействие магнитный электрон кварк теория симметрия фотон элементарный нейтрино\n",
      "sbj10:  война россия советский русский власть российский германия мировой реформа историк петр немецкий против гражданский военный\n",
      "sbj11:  ребенок женщина семья мужчина возраст взрослый сон мать родитель старение конфликт женский травма катастрофа идентичность\n",
      "sbj12:  мозг животное нейрон растение эволюция отбор озеро эволюционный песня сердце популяция мышца птица нейронный сигнал\n",
      "sbj13:  территория христианский империя восток народ древний письменность христианство государство памятник цивилизация традиция китай восточный северный\n",
      "sbj14:  звезда галактика масса вселенная черный дыра волна излучение скорость телескоп объект расстояние диск скопление гравитационный\n",
      "sbj15:  задача информация память решение данные компьютер психология мышление когнитивный внимание психолог ошибка компьютерный зрительный психологический\n",
      "sbj16:  раса океан африка остров америка южный станислав географический монголоид дробышевский индия вакцина нос штамм индеец\n",
      "sbj17:  политический философия государство философский философ свобода идеология платон мысль враг критика партия чтение шмитт дух\n",
      "sbj18:  язык слово русский словарь текст предложение лингвист значение категория глагол корпус перевод лингвистика языковой грамматика\n",
      "sbj19:  революция французский франция театр король роман костюм нация национальный актер аргумент депутат конституция париж монархия\n",
      "sbj20:  город сеть робот городской интернет пользователь компания музей медиа горожанин технология программный библиотека метро цифровой\n",
      "sbj21:  болезнь заболевание пациент лечение медицина врач боль препарат медицинский операция лекарство опухоль рак кровь нарушение\n",
      "sbj22:  социальный знание социология социологический дисциплина познание социолог повседневный виктор машинный обучение общественный концепт повседневность фрейм\n",
      "sbj23:  микроорганизм матрица интеллект эмоция алгоритм вычислительный эмоциональный схема искусственный микроб глубина хищник микробный многоклеточный экология\n",
      "sbj24:  бог миф царь греческий море мифология душа грек андрей египетский египет мифологический фольклор гусейнов божество\n",
      "sbj25:  гласный согласный звук говор компилятор программирование мягкий диалект твердость столыпин древнерусский слог шахматы жест диалектный\n",
      "sbj26:  страна политика экономический экономика сталин кризис праздник крестьянин коллективный принятие государственный экономист прошлое благо деревня\n",
      "sbj27:  клетка ген днк белок организм молекула биологический генетический геном бактерия рнк мутация молекулярный ткань вирус\n",
      "sbj28:  температура университет сверхпроводимость сверхпроводник сверхпроводящий частота переход заимствование гумбольдт точность магнит профессор кельвин жидкий булгарский\n",
      "bcg:  быть что это который этот как они мочь такой очень для человек или тот один\n"
     ]
    }
   ],
   "source": [
    "# Ваш код\n",
    "for topic_name in model_artm.topic_names:\n",
    "    print topic_name + ': ',\n",
    "    tokens = model_artm.score_tracker[\"top_words_text\"].last_tokens\n",
    "    for word in tokens[topic_name]:    \n",
    "        print word,\n",
    "    print"
   ]
  },
  {
   "cell_type": "code",
   "execution_count": 174,
   "metadata": {},
   "outputs": [
    {
     "name": "stdout",
     "output_type": "stream",
     "text": [
      "sbj0:  Александр_Марей Фёдор_Успенский Алексей_Юдин Татьяна_Бобровникова Игорь_Данилевский Елена_Уханова Ольга_Брилева Владимир_Петрухин Елена_Браун Олег_Воскобойников Екатерина_Болтунова Ольга_Тогоева Ольга_Вайнштейн Павел_Уваров Григорий_Бондаренко\n",
      "sbj1:  Сергей_Попов Александр_Марков Дмитрий_Вибе Дмитрий_Титов Татьяна_Смоктунович Зоригто_Намсараев Валерий_Сулейманов Владимир_Кузнецов Наталья_Новикова Александр_Слободкин Елизавета_Ривкина Роман_Рафиков Андрей_Глазовский Владимир_Сурдин Сергей_Наугольных\n",
      "sbj2:  Елена_Брызгалина Михаил_Пантелеев Александр_Поддьяков Владимир_Мележик Эмиль_Ахмедов Даниэль_Сельва Антон_Суворов Владимир_Редько Михаил_Фейгельман Татьяна_Клячко Илья_Щуров Дэвид_Кайзер Александра_Скрипченко Кристофер_Уиншип Мартин_Вейс\n",
      "sbj3:  Виталий_Куренной Павел_Уваров Ольга_Артёмова Александр_Гофман Дмитрий_Громов Владимир_Бобровников Сергей_Арутюнов Алексей_Руткевич Владимир_Миронов Пётр_Турчин Андрей_Лукашов Николай_Плотников Ирина_Савельева Максим_Кронгауз Владимир_Каганский\n",
      "sbj4:  Дмитрий_Дождев Олег_Лекманов Денис_Новак Сергей_Зенкин Сергей_Майоров Виктор_Цетлин Александр_Парфенов Дмитрий_Полдников Марина_Бутовская Наталья_Смолянская Евгений_Рогожин Андрей_Кофман Мохамад_Кассаб Татьяна_Гусарова Джу_Йонг_Ли\n",
      "sbj5:  Дмитрий_Паращук Алексей_Акимов Владимир_Белотелов Владимир_Шалаев Дмитрий_Гольберг Шринивас_Шридхар Алексей_Желтиков Иван_Воробьев Павел_Плечов Сергей_Никитов Алексей_Хохлов Дмитрий_Клинов Виктор_Зайченко Владимир_Комлев Василий_Климов\n",
      "sbj6:  Александр_Павлов Павел_Руднев Ян_Левченко Ольга_Эдельман Александра_Архипова Мария_Штейнман Дмитрий_Бак Петр_Дружинин Мария_Неклюдова Владимир_Кантор Ольга_Вайнштейн Мария_Майофис Игорь_Чубаров Анна_Рогожина Анатолий_Гершман\n",
      "sbj7:  Михаил_Бойцов Михаил_Маяцкий Анна_Соколова Арсений_Хитров Дмитрий_Рогозин Олег_Ауров Алина_Бодрова Олег_Лекманов Игорь_Чубаров Игорь_Данилевский Сет_Ллойд Александр_Гофман Дмитрий_Бовыкин Михаил_Алексеевский Владимир_Емельянов\n",
      "sbj8:  Артем_Оганов Валерий_Фокин Валентин_Ненайденко Алла_Ножевникова Виктория_Битюкова Евгений_Гудилин Иван_Сорокин Александр_Беленький Александр_Апт Константин_Мирошников Дмитрий_Лось Валентин_Крапошин Пётр_Образцов Олег_Мельник Рафаэль_Арутюнян\n",
      "sbj9:  Дмитрий_Казаков Эмиль_Ахмедов Михаил_Данилов Алексей_Рубцов Виктор_Брагута Сергей_Троицкий Павел_Пахлов Наталья_Берлофф Сергей_Демокритов Игорь_Волобуев Андрей_Лосев Александр_Львовский Лев_Дудко Эдуард_Боос Кит_Моффат\n",
      "sbj10:  Илья_Женин Кирилл_Соловьев Борис_Морозов Кирилл_Кочегаров Олег_Будницкий Александр_Каменский Александр_Лаврентьев Борис_Колоницкий Игорь_Курукин Алексей_Киличенков Людмила_Новикова Илья_Виньковецкий Илья_Кукулин Екатерина_Щербакова Ольга_Тогоева\n",
      "sbj11:  Катерина_Поливанова Ольга_Сварник Мария_Падун Ольга_Исупова Ольга_Гулевич Юрий_Яшков Наталья_Харламенкова Владимир_Ковальзон Мария_Медникова Леонид_Марголис Дмитрий_Жуков Эмери_Браун Джеральд_де_Хаан Павел_Умрюхин Максим_Киселев\n",
      "sbj12:  Кирилл_Еськов Филипп_Хайтович Михаил_Бурцев Егор_Задереев Андрей_Цатурян Алексей_Кондрашов Варвара_Веденина Константин_Агладзе Ирина_Бёме Юлия_Краус Мария_Добровольская Александр_Петренко Наталья_Спасская Алишер_Тураев Дмитрий_Дорохов\n",
      "sbj13:  Алексей_Муравьёв Дмитрий_Беляев Марк_Ульянов Дмитрий_Худяков Нина_Сумбатова Алексей_Малашенко Андрей_Виноградов Сергей_Серёгичев Дмитрий_Арзютов Галина_Ершова Григорий_Бондаренко Олег_Ауров Анна_Дыбо Кирилл_Кожанов Анна_Рогожина\n",
      "sbj14:  Сергей_Попов Анатолий_Засов Алексей_Расторгуев Ольга_Сильченко Михаил_Ревнивцев Олег_Верходанов Дмитрий_Горбунов Андрей_Савельев-Трофимов Алексей_Старобинский Валерий_Рубаков Владимир_Сурдин Дмитрий_Вибе Юджин_Ползик Антон_Бирюков Макс_Тегмарк\n",
      "sbj15:  Мария_Фаликман Владимир_Спиридонов Павел_Балабан Константин_Анохин Александр_Каплан Игорь_Уточкин Александр_Войскунский Станислав_Протасов Иван_Луковников Махзарин_Банаджи Алексей_Созинов Станислав_Клименко Жанна_Резникова Ксения_Паниди Наталья_Кисельникова\n",
      "sbj16:  Станислав_Дробышевский Виталий_Кушниров Андрей_Летаров Андрей_Иванцов Сергей_Писарев Евгений_Рогожин Митчел_Резник Георгий_Базыкин Алиса_Вячеславова Владимир_Муронец Александр_Шацкий Александр_Воеводский Александра_Архипова Николай_Короновский Андрей_Глазовский\n",
      "sbj17:  Алексей_Козырев Кирилл_Мартынов Иван_Болдырев Владимир_Малахов Александр_Павлов Дина_Гусейнова Александр_Филиппов Петр_Резвых Павел_Соколов Василий_Жарков Александр_Доброхотов Михаил_Маяцкий Дмитрий_Балалыкин Валентина_Харитонова Михаил_Эпштейн\n",
      "sbj18:  Владимир_Плунгян Андрей_Кибрик Александр_Пиперски Кирилл_Бабаев Борис_Иомдин Алексей_Шмелев Светлана_Евграфова Дмитрий_Добровольский Леонид_Иомдин Анатолий_Баранов Надежда_Онипенко Петр_Аркадьев Мира_Бергельсон Вера_Подлесская Екатерина_Протасова\n",
      "sbj19:  Дмитрий_Бовыкин Алексей_Миллер Раиса_Кирсанова Алексей_Бартошевич Вера_Мильчина Дина_Гусейнова Мария_Майофис Мария_Неклюдова Александр_Дмитриев Марина_Новикова-Грунд Максим_Демин Илья_Иткин Ольга_Вайнштейн Борис_Колоницкий Андрей_Зорин\n",
      "sbj20:  ПостНаука Александр_Сафонов Алексей_Лебедев Руслан_Смелянский Екатерина_Ларионова Александр_Тормасов Екатерина_Лапина-Кратасюк Оксана_Запорожец Наталья_Зубаревич Евгений_Магид Джанмарко_Веруджио Лев_Беклемишев Мануэль_Маццара Ирина_Стародубровская Эдуард_Пройдаков\n",
      "sbj21:  Петр_Федичев Ярослав_Ашихмин Алексей_Алексеев Александр_Жаворонков Сергей_Румянцев Вера_Ижевская Алексей_Чжао Олег_Медведев Александр_Васильев Сергей_Яковенко Рауль_Гайнетдинов Елена_Брызгалина Александр_Габибов Инга_Полетаева Наталья_Савва\n",
      "sbj22:  Виктор_Вахштайн Александр_Филиппов Дмитрий_Рогозин Дмитрий_Ветров Леонид_Григорьев Светлана_Баньковская Сезар_Идальго Александр_Дьяконов Дэвид_Вайнберг Николай_Мощевитин Джозеф_Браун Aльберт_Давлетшин Александр_Гофман Михаил_Соколов Павел_Нерлер_(Полян)\n",
      "sbj23:  Елизавета_Бонч-Осмоловская Елена_Гороховская Николай_Пименов Иван_Оселедец Светлана_Дедыш Александр_Жданов Илья_Щуров Андрей_Чабовский Леонард_Полищук Максим_Таланов Игорь_Петров Сергей_Наугольных Сергей_Зыков Сергей_Гашков Виталий_Дунин-Барковский\n",
      "sbj24:  Гасан_Гусейнов Олег_Воскобойников Владимир_Емельянов Иван_Ладынин Галина_Зеленина Аскольд_Иванчик Мария_Штейнман Варвара_Добровольская Ахмет_Ярлыкапов Ивар_Максутов Кирилл_Зыбин Алексей_Гиппиус Александр_Воеводский Алексей_Юдин Андрей_Виноградов\n",
      "sbj25:  Игорь_Исаев Георгий_Старостин Владимир_Беликов Светлана_Бурлак Григорий_Крейдлин Екатерина_Лямина Андрей_Кофман Илья_Иткин Евгений_Зуев Яков_Тестелец Дмитрий_Дагаев Елена_Браун Ольга_Вендина Анастасия_Лопухина Антон_Чижов\n",
      "sbj26:  Фуад_Алескеров Олег_Хлевнюк Алексей_Белянин Ольга_Малинова Андрей_Зорин Сергей_Афонцев Сергей_Бобылев Владимир_Гимпельсон Сергей_Гуриев Виктор_Полтерович Сергей_Пекарский Александр_Аузан Сергей_Соколовский Ивар_Максутов Василий_Ключарев\n",
      "sbj27:  Евгений_Шеваль Константин_Северинов Михаил_Гельфанд Максим_Франк-Каменецкий Сергей_Киселев Антон_Буздин Светлана_Боринская Евгений_Куликов Сергей_Саложин Сергей_Науменко Роман_Ефремов Владимир_Муронец Георгий_Базыкин Константин_Лукьянов Антон_Бернс\n",
      "sbj28:  Михаил_Киселев Илья_Шкредов Наталья_Ростиславлева Владимир_Пудалов Елена_Вишленкова Евгений_Николаев Виталий_Пальчиков Анна_Дыбо Алексей_Кавокин Рой_Глаубер Алексей_Орлов Алексей_Касьян Герберт_Хупперт Мел_Сигел Александр_Шварцбург\n",
      "bcg:  Михаил_Соколов Сергей_Неклюдов Кирилл_Титаев Михаил_Алексеевский Алексей_Маслов Андрей_Журавлев Павел_Нерлер_(Полян) Татьяна_Ребеко Борис_Миркин Николай_Дронин Алексей_Семихатов Кирилл_Разлогов Денис_Сивков Дмитрий_Баюк Татьяна_Котова\n"
     ]
    }
   ],
   "source": [
    "for topic_name in model_artm.topic_names:\n",
    "    print topic_name + ': ',\n",
    "    tokens = model_artm.score_tracker[\"top_words_author\"].last_tokens\n",
    "    for word in tokens[topic_name]:    \n",
    "        print word,\n",
    "    print"
   ]
  },
  {
   "cell_type": "markdown",
   "metadata": {},
   "source": [
    "В последней теме \"bcg\" должны находиться общеупотребительные слова.\n",
    "\n",
    "Важный шаг в работе с тематической моделью, когда речь идет о визуализации или создании тематического навигатора, это именование тем. Понять, о чем каждая тема, можно по списку ее топовых слов. Например, тему\n",
    "    \n",
    "    частица взаимодействие физика кварк симметрия элементарный нейтрино стандартный материя протон бозон заряд масса ускоритель слабый\n",
    "    \n",
    "можно назвать \"Физика элементарных частиц\". \n",
    "\n",
    "Дайте названия 29 предметным темам. Если вы не знаете, как назвать тему, назовите ее первым встретившимся в ней существительным, хотя при таком подходе навигатор будет менее информативным. Из названий тем составьте список из 29 строк и запишите го в переменную sbj_topic_labels. В переменной topic_labels будут храниться названия всех тем, включая фоновую."
   ]
  },
  {
   "cell_type": "code",
   "execution_count": 175,
   "metadata": {
    "collapsed": true
   },
   "outputs": [],
   "source": [
    "sbj_topic_labels = [\"История\",\n",
    "    \"Планета\",\n",
    "    \"Учёба\",\n",
    "    \"Наука\",\n",
    "    \"Право\",\n",
    "    \"Материал\",\n",
    "    \"Литература\",\n",
    "    \"Смерть\",\n",
    "    \"Химия\",\n",
    "    \"Физика\",\n",
    "    \"Россия\",\n",
    "    \"Семья\",\n",
    "    \"Биология\",\n",
    "    \"Христианство\",\n",
    "    \"Космос\",\n",
    "    \"Информатика\",\n",
    "    \"География\",                \n",
    "    \"Философия\",\n",
    "    \"Грамматика\",\n",
    "    \"Революция\",\n",
    "    \"Город\",\n",
    "    \"Медицина\",\n",
    "    \"Социология\",\n",
    "    \"Схема\",\n",
    "    \"Мифы\",\n",
    "    \"Программирование\",\n",
    "    \"Политика\",\n",
    "    \"Генетика\",\n",
    "    \"Сверхпроводимость\",]   # запишите названия тем в список\n",
    "topic_labels = sbj_topic_labels + [\"Фоновая тема\"]"
   ]
  },
  {
   "cell_type": "markdown",
   "metadata": {},
   "source": [
    "##### Анализ тем"
   ]
  },
  {
   "cell_type": "markdown",
   "metadata": {},
   "source": [
    "Далее мы будем работать с распределениями тем в документах (матрица $\\Theta$) и авторов в темах (одна из двух матриц $\\Phi$, соответствующая модальности авторов). \n",
    "Создайте переменные, содержащие две этих матрицы, с помощью методов get_phi и get_theta модели. Назовите переменные theta и phi_a. Выведите формы обеих матриц, чтобы понять, по каким осям стоят темы."
   ]
  },
  {
   "cell_type": "code",
   "execution_count": 176,
   "metadata": {},
   "outputs": [
    {
     "name": "stdout",
     "output_type": "stream",
     "text": [
      "phi_a.shape: (539, 30) theta.shape: (30, 1728)\n"
     ]
    }
   ],
   "source": [
    "model_artm.theta_columns_naming = \"title\" # включает именование столбцов Theta их названиями-ссылками, а не внутренними id \n",
    "# Ваш код\n",
    "theta = model_artm.get_theta()\n",
    "phi_a = model_artm.get_phi(class_ids=['author'])\n",
    "print 'phi_a.shape:', phi_a.shape, 'theta.shape:', theta.shape"
   ]
  },
  {
   "cell_type": "markdown",
   "metadata": {},
   "source": [
    "Визуализируем фрагмент матрицы $\\Theta$ - первые 100 документов (это наиболее простой способ визуально оценить, как темы распределяются в документах). С помощью метода seaborn.heatmap выведите фрагмент theta как изображение. Рекомендация: создайте фигуру pyplot размера (20, 10)."
   ]
  },
  {
   "cell_type": "code",
   "execution_count": 177,
   "metadata": {},
   "outputs": [
    {
     "data": {
      "text/plain": [
       "<matplotlib.axes._subplots.AxesSubplot at 0x11f67ead0>"
      ]
     },
     "execution_count": 177,
     "metadata": {},
     "output_type": "execute_result"
    },
    {
     "data": {
      "image/png": "[encoded data removed]",
      "text/plain": [
       "<matplotlib.figure.Figure at 0x11f64f2d0>"
      ]
     },
     "metadata": {},
     "output_type": "display_data"
    }
   ],
   "source": [
    "# Ваш код\n",
    "fig, axes = plt.subplots(1, 1, figsize=(20, 10), sharey=True)\n",
    "seaborn.heatmap(theta[0:100], xticklabels=False)"
   ]
  },
  {
   "cell_type": "markdown",
   "metadata": {},
   "source": [
    "Вы должны увидеть, что фоновая тема имеет большую вероятность в почти каждом документе, и это логично. Кроме того, есть еще одна тема, которая чаще других встречается в документах. Судя по всему, это тема содержит много слов по науку в целом, а каждый документ (видео) в нашей коллекции связан с наукой. Можно (необязательно) дать этой теме название \"Наука\".\n",
    "\n",
    "Помимо этих двух тем, фоновой и общенаучной, каждый документ характеризуется малым числом других тем."
   ]
  },
  {
   "cell_type": "markdown",
   "metadata": {},
   "source": [
    "Оценим $p(t)$ - долю каждой темы во всей коллекции. По формуле полной вероятности вычислять эти величины нужно как\n",
    "$p(t) = \\sum_d p(t|d) p(d)$. Согласно вероятностной модели, $p(d)$ пропорционально длине документа d. Поступим проще: будем полагать, что все документы равновероятны. Тогда оценить $p(t)$ можно, просуммировав $p(t|d)$ по всем документам, а затем разделив полученный вектор на его сумму. \n",
    "\n",
    "Создайте переменную-датафрейм с T строками, индексированными названиями тем, и 1 столбцом, содержащим оценки $p(t)$. Выведите датафрейм на печать."
   ]
  },
  {
   "cell_type": "code",
   "execution_count": 178,
   "metadata": {},
   "outputs": [
    {
     "data": {
      "text/html": [
       "<div>\n",
       "<style>\n",
       "    .dataframe thead tr:only-child th {\n",
       "        text-align: right;\n",
       "    }\n",
       "\n",
       "    .dataframe thead th {\n",
       "        text-align: left;\n",
       "    }\n",
       "\n",
       "    .dataframe tbody tr th {\n",
       "        vertical-align: top;\n",
       "    }\n",
       "</style>\n",
       "<table border=\"1\" class=\"dataframe\">\n",
       "  <thead>\n",
       "    <tr style=\"text-align: right;\">\n",
       "      <th></th>\n",
       "      <th>p(t)</th>\n",
       "    </tr>\n",
       "  </thead>\n",
       "  <tbody>\n",
       "    <tr>\n",
       "      <th>Смерть</th>\n",
       "      <td>0.003850</td>\n",
       "    </tr>\n",
       "    <tr>\n",
       "      <th>Программирование</th>\n",
       "      <td>0.003986</td>\n",
       "    </tr>\n",
       "    <tr>\n",
       "      <th>Сверхпроводимость</th>\n",
       "      <td>0.005238</td>\n",
       "    </tr>\n",
       "    <tr>\n",
       "      <th>География</th>\n",
       "      <td>0.005796</td>\n",
       "    </tr>\n",
       "    <tr>\n",
       "      <th>Революция</th>\n",
       "      <td>0.005871</td>\n",
       "    </tr>\n",
       "    <tr>\n",
       "      <th>Учёба</th>\n",
       "      <td>0.005906</td>\n",
       "    </tr>\n",
       "    <tr>\n",
       "      <th>Схема</th>\n",
       "      <td>0.005917</td>\n",
       "    </tr>\n",
       "    <tr>\n",
       "      <th>Литература</th>\n",
       "      <td>0.007173</td>\n",
       "    </tr>\n",
       "    <tr>\n",
       "      <th>Семья</th>\n",
       "      <td>0.007344</td>\n",
       "    </tr>\n",
       "    <tr>\n",
       "      <th>Право</th>\n",
       "      <td>0.007676</td>\n",
       "    </tr>\n",
       "    <tr>\n",
       "      <th>Мифы</th>\n",
       "      <td>0.008250</td>\n",
       "    </tr>\n",
       "    <tr>\n",
       "      <th>Город</th>\n",
       "      <td>0.008766</td>\n",
       "    </tr>\n",
       "    <tr>\n",
       "      <th>Социология</th>\n",
       "      <td>0.009300</td>\n",
       "    </tr>\n",
       "    <tr>\n",
       "      <th>Медицина</th>\n",
       "      <td>0.009659</td>\n",
       "    </tr>\n",
       "    <tr>\n",
       "      <th>Материал</th>\n",
       "      <td>0.009931</td>\n",
       "    </tr>\n",
       "    <tr>\n",
       "      <th>Биология</th>\n",
       "      <td>0.010171</td>\n",
       "    </tr>\n",
       "    <tr>\n",
       "      <th>Информатика</th>\n",
       "      <td>0.010315</td>\n",
       "    </tr>\n",
       "    <tr>\n",
       "      <th>История</th>\n",
       "      <td>0.010334</td>\n",
       "    </tr>\n",
       "    <tr>\n",
       "      <th>Химия</th>\n",
       "      <td>0.010780</td>\n",
       "    </tr>\n",
       "    <tr>\n",
       "      <th>Планета</th>\n",
       "      <td>0.010865</td>\n",
       "    </tr>\n",
       "    <tr>\n",
       "      <th>Политика</th>\n",
       "      <td>0.010919</td>\n",
       "    </tr>\n",
       "    <tr>\n",
       "      <th>Грамматика</th>\n",
       "      <td>0.013233</td>\n",
       "    </tr>\n",
       "    <tr>\n",
       "      <th>Философия</th>\n",
       "      <td>0.013691</td>\n",
       "    </tr>\n",
       "    <tr>\n",
       "      <th>Христианство</th>\n",
       "      <td>0.013727</td>\n",
       "    </tr>\n",
       "    <tr>\n",
       "      <th>Россия</th>\n",
       "      <td>0.014185</td>\n",
       "    </tr>\n",
       "    <tr>\n",
       "      <th>Космос</th>\n",
       "      <td>0.015662</td>\n",
       "    </tr>\n",
       "    <tr>\n",
       "      <th>Физика</th>\n",
       "      <td>0.020970</td>\n",
       "    </tr>\n",
       "    <tr>\n",
       "      <th>Генетика</th>\n",
       "      <td>0.022148</td>\n",
       "    </tr>\n",
       "    <tr>\n",
       "      <th>Наука</th>\n",
       "      <td>0.041354</td>\n",
       "    </tr>\n",
       "    <tr>\n",
       "      <th>Фоновая тема</th>\n",
       "      <td>0.676983</td>\n",
       "    </tr>\n",
       "  </tbody>\n",
       "</table>\n",
       "</div>"
      ],
      "text/plain": [
       "                       p(t)\n",
       "Смерть             0.003850\n",
       "Программирование   0.003986\n",
       "Сверхпроводимость  0.005238\n",
       "География          0.005796\n",
       "Революция          0.005871\n",
       "Учёба              0.005906\n",
       "Схема              0.005917\n",
       "Литература         0.007173\n",
       "Семья              0.007344\n",
       "Право              0.007676\n",
       "Мифы               0.008250\n",
       "Город              0.008766\n",
       "Социология         0.009300\n",
       "Медицина           0.009659\n",
       "Материал           0.009931\n",
       "Биология           0.010171\n",
       "Информатика        0.010315\n",
       "История            0.010334\n",
       "Химия              0.010780\n",
       "Планета            0.010865\n",
       "Политика           0.010919\n",
       "Грамматика         0.013233\n",
       "Философия          0.013691\n",
       "Христианство       0.013727\n",
       "Россия             0.014185\n",
       "Космос             0.015662\n",
       "Физика             0.020970\n",
       "Генетика           0.022148\n",
       "Наука              0.041354\n",
       "Фоновая тема       0.676983"
      ]
     },
     "execution_count": 178,
     "metadata": {},
     "output_type": "execute_result"
    }
   ],
   "source": [
    "# Ваш код\n",
    "\n",
    "S = theta.sum( axis=1 )\n",
    "T = pd.DataFrame( data=S/S.sum(), columns=['p(t)'])\n",
    "T.index = topic_labels\n",
    "T.sort_values('p(t)')"
   ]
  },
  {
   "cell_type": "markdown",
   "metadata": {},
   "source": [
    "Найдите 5 самых распространенных и 3 наименее освещенных темы в коллекции (наибольшие и наименьшие $p(t)$ соответственно), не считая фоновую и общенаучную. Укажите названия, которые вы дали этим темам."
   ]
  },
  {
   "cell_type": "raw",
   "metadata": {},
   "source": [
    "Ваш ответ:\n",
    "5 тем с max p(t): Фоновая, Наука, Генетика, Физика, Космос\n",
    "3 темы с min p(t): Смерть, Программирование, Сверхпроводимость"
   ]
  },
  {
   "cell_type": "markdown",
   "metadata": {},
   "source": [
    "Визуализируйте матрицу $\\Phi$ модальности авторов в виде изображения. Рекомендация: установите yticklabels=False в heatmap."
   ]
  },
  {
   "cell_type": "code",
   "execution_count": 179,
   "metadata": {},
   "outputs": [
    {
     "data": {
      "text/plain": [
       "<matplotlib.axes._subplots.AxesSubplot at 0x1250f9790>"
      ]
     },
     "execution_count": 179,
     "metadata": {},
     "output_type": "execute_result"
    },
    {
     "data": {
      "image/png": "[encoded data removed]",
      "text/plain": [
       "<matplotlib.figure.Figure at 0x11e74da90>"
      ]
     },
     "metadata": {},
     "output_type": "display_data"
    }
   ],
   "source": [
    "# Ваш код\n",
    "plt.figure(figsize=(20,10))\n",
    "seaborn.heatmap(phi_a,yticklabels=False)"
   ]
  },
  {
   "cell_type": "markdown",
   "metadata": {},
   "source": [
    "Каждой теме соответствует не очень большое число авторов - матрица достаточно разреженная. Кроме того, некоторые темы имеют доминирующего автора $a$, имеющего большую вероятность $p(a|t)$ - этот автор записал больше всего лекций по теме. "
   ]
  },
  {
   "cell_type": "markdown",
   "metadata": {},
   "source": [
    "Будем считать, что автор $a$ значим в теме, если $p(a|t) > 0.01$. Для каждого автора посчитайте, в скольких темах он значим. Найдите авторов-рекордсменов, которые значимы (а значит, читали лекции) в >= 3 темах."
   ]
  },
  {
   "cell_type": "code",
   "execution_count": 181,
   "metadata": {},
   "outputs": [
    {
     "name": "stdout",
     "output_type": "stream",
     "text": [
      "Дэвид_Гросс 1\n",
      "Павел_Степанцов 1\n",
      "Ирина_Каспэ 1\n",
      "Александр_Беленький 1\n",
      "Татьяна_Гусарова 1\n",
      "Андрей_Коротаев 1\n",
      "Галина_Зеленина 1\n",
      "Ирина_Левонтина 1\n",
      "Алексей_Малашенко 1\n",
      "Дэвид_Кларк 1\n",
      "Михаил_Полуэктов 1\n",
      "Алексей_Москалев 1\n",
      "Екатерина_Болтунова 1\n",
      "Юрий_Рогулёв 1\n",
      "Антон_Чугунов 1\n",
      "Александр_Мещеряков 1\n",
      "Алексей_Котов 1\n",
      "Георгий_Старостин 1\n",
      "Илья_Виньковецкий 1\n",
      "Кирилл_Кожанов 1\n",
      "Сергей_Таскаев 1\n",
      "Сергей_Нечаев 1\n",
      "Кристофер_Карр 1\n",
      "Валерий_Рязанов 1\n",
      "Дмитрий_Дождев 1\n",
      "Илья_Кукулин 1\n",
      "Анна_Рогожина 2\n",
      "Марина_Корсакова-Крейн 1\n",
      "Андрей_Иванцов 1\n",
      "Дэвид_С._Джонс 1\n",
      "Андрей_Семенов 1\n",
      "Ирина_Секерина 1\n",
      "Георгий_Базыкин 2\n",
      "Игорь_Уточкин 1\n",
      "Петр_Аркадьев 1\n",
      "Роберт_Лэнгер 1\n",
      "Татьяна_Смоктунович 1\n",
      "Людмила_Новикова 1\n",
      "Сергей_Гашков 1\n",
      "Алексей_Гиппиус 1\n",
      "Сергей_Писарев 1\n",
      "Максим_Кронгауз 1\n",
      "Иван_Ладынин 1\n",
      "Сергей_Блинников 1\n",
      "Ольга_Тогоева 3\n",
      "Андрей_Лукашов 1\n",
      "Алексей_Кавокин 1\n",
      "Александр_Пиперски 1\n",
      "Игорь_Волобуев 1\n",
      "ПостНаука 2\n",
      "Дэвид_Синклер 1\n",
      "Евгений_Хоров 1\n",
      "Александр_Кислов 1\n",
      "Марина_Новикова-Грунд 1\n",
      "Григорий_Юдин 2\n",
      "Борис_Колоницкий 2\n",
      "Екатерина_Лютикова 1\n",
      "Валентина_Харитонова 1\n",
      "Станислав_Клименко 1\n",
      "Александр_Жданов 1\n",
      "Алексей_Киличенков 1\n",
      "Жанна_Резникова 1\n",
      "Владимир_Ковальзон 1\n",
      "Жан-Арыс_Джилкибаев 1\n",
      "Иван_Сорокин 1\n",
      "Дмитрий_Бовыкин 1\n",
      "Максим_Демин 2\n",
      "Надежда_Онипенко 1\n",
      "Владимир_Мележик 1\n",
      "Александр_Поддьяков 1\n",
      "Олег_Ауров 2\n",
      "Нина_Сумбатова 1\n",
      "Олег_Будницкий 1\n",
      "Джу_Йонг_Ли 1\n",
      "Сергей_Зенкин 1\n",
      "Ольга_Артёмова 1\n",
      "Ян_Левченко 1\n",
      "Арсений_Хитров 1\n",
      "Лев_Дудко 1\n",
      "Александр_Марей 1\n",
      "Джозеф_Браун 1\n",
      "Мануэль_Маццара 1\n",
      "Алексей_Алексеев 1\n",
      "Анатолий_Баранов 1\n",
      "Мохамад_Кассаб 1\n",
      "Зоя_Зорина 1\n",
      "Виктор_Веселаго 1\n",
      "Альберт_Насибулин 1\n",
      "Фёдор_Гиренок 1\n",
      "Михаил_Фейгельман 1\n",
      "Ксения_Паниди 1\n",
      "Виталий_Дунин-Барковский 1\n",
      "Игорь_Данилевский 2\n",
      "Сергей_Наугольных 2\n",
      "Ольга_Сильченко 1\n",
      "Александр_Шацкий 1\n",
      "Рауль_Гайнетдинов 1\n",
      "Марк_Харрисон 2\n",
      "Валерий_Сулейманов 1\n",
      "Александр_Гофман 2\n",
      "Джеймс_Коллинз 1\n",
      "Аркадий_Цейтлин 1\n",
      "Теунис_Клапвик 1\n",
      "Олег_Воскобойников 2\n",
      "Эрик_Мазур 1\n",
      "Вальтер_Кольч 0\n",
      "Василий_Климов 1\n",
      "Светлана_Дедыш 1\n",
      "Игорь_Петров 1\n",
      "Алексей_Старобинский 1\n",
      "Виталий_Куренной 1\n",
      "Яков_Фоминов 1\n",
      "Рудольф_Йениш 1\n",
      "Егор_Задереев 2\n",
      "Пётр_Турчин 1\n",
      "Лайман_Пейдж 1\n",
      "Михаил_Эпштейн 1\n",
      "Лев_Беклемишев 1\n",
      "Дарья_Радченко 1\n",
      "Виталий_Пальчиков 1\n",
      "Юрий_Вайнер 1\n",
      "Александр_Павлов 2\n",
      "Павел_Тищенко 1\n",
      "Андрей_Наумов 1\n",
      "Владимир_Комлев 1\n",
      "Анатолий_Гершман 1\n",
      "Василий_Жарков 1\n",
      "Владимир_Редько 1\n",
      "Александр_Никифоров 1\n",
      "Алексей_Созинов 1\n",
      "Виктор_Мурогов 1\n",
      "Денис_Загарин 1\n",
      "Владимир_Петрухин 1\n",
      "Николай_Короновский 1\n",
      "Оксана_Запорожец 1\n",
      "Армен_Мулкиджанян 1\n",
      "Сергей_Кулик 1\n",
      "Борис_Морозов 1\n",
      "Владимир_Миронов 1\n",
      "Александр_Каменский 1\n",
      "Ави_Лёб 1\n",
      "Татьяна_Ребеко 1\n",
      "Томас_Мюллер 1\n",
      "Дмитрий_Сорокин 1\n",
      "Алексей_Желтиков 1\n",
      "Анастасия_Лопухина 2\n",
      "Александр_Тхостов 1\n",
      "Вера_Мильчина 1\n",
      "Павел_Нерлер_(Полян) 1\n",
      "Владимир_Емельянов 1\n",
      "Игорь_Курукин 1\n",
      "Дмитрий_Паращук 1\n",
      "Дмитрий_Балалыкин 1\n",
      "Виктор_Быков 1\n",
      "Алексей_Руткевич 1\n",
      "Виктор_Зайченко 1\n",
      "Дмитрий_Жуков 1\n",
      "Алишер_Тураев 1\n",
      "Анна_Соколова 1\n",
      "Мария_Полински 1\n",
      "Александра_Архипова 1\n",
      "Наталья_Кисельникова 2\n",
      "Алексей_Муравьёв 1\n",
      "Михаил_Пантелеев 1\n",
      "Эдуард_Пройдаков 1\n",
      "Александр_Васильев 1\n",
      "Илья_Щуров 2\n",
      "Леонид_Григорьев 1\n",
      "Кирилл_Мартынов 1\n",
      "Ирина_Савельева 1\n",
      "Ольга_Столярова 1\n",
      "Александр_Аузан 1\n",
      "Пол_Грегори 1\n",
      "Рафаэль_Арутюнян 1\n",
      "Владимир_Кузнецов 1\n",
      "Владимир_Кантор 2\n",
      "Сергей_Морозов 1\n",
      "Инга_Полетаева 2\n",
      "Елена_Вишленкова 1\n",
      "Дмитрий_Ветров 1\n",
      "Екатерина_Лапина-Кратасюк 1\n",
      "Дмитрий_Чудаков 1\n",
      "Марк_Ульянов 1\n",
      "Наталья_Савва 1\n",
      "Михаил_Бойцов 1\n",
      "Надежда_Антипова 0\n",
      "Леонид_Иомдин 1\n",
      "Сергей_Киселев 1\n",
      "Олег_Медведев 1\n",
      "Марина_Бутовская 1\n",
      "Григорий_Крейдлин 1\n",
      "Андрей_Лосев 1\n",
      "Ольга_Вайнштейн 5\n",
      "Екатерина_Протасова 1\n",
      "Константин_Воронцов 1\n",
      "Николай_Плотников 1\n",
      "Иван_Болдырев 1\n",
      "Наталья_Спасская 1\n",
      "Иван_Оселедец 1\n",
      "Гасан_Гусейнов 1\n",
      "Раиса_Кирсанова 1\n",
      "Юрий_Яшков 1\n",
      "Сергей_Пекарский 1\n",
      "Алексей_Семихатов 1\n",
      "Александр_Апт 1\n",
      "Борис_Иомдин 1\n",
      "Александр_Воеводский 3\n",
      "Эрик_Мэскин 1\n",
      "Владимир_Малахов 1\n",
      "Кирилл_Кочегаров 1\n",
      "Сергей_Ландо 1\n",
      "Ирина_Стародубровская 1\n",
      "Филлип_Шарп 1\n",
      "Ахмет_Ярлыкапов 1\n",
      "Сергей_Майоров 1\n",
      "Харольд_Крото 1\n",
      "Андрей_Савельев-Трофимов 1\n",
      "Ольга_Гулевич 1\n",
      "Юджин_Ползик 2\n",
      "Дмитрий_Добровольский 1\n",
      "Ирина_Бёме 1\n",
      "Андрей_Чабовский 2\n",
      "Алексей_Маслов 1\n",
      "Михаил_Бурцев 1\n",
      "Сезар_Идальго 1\n",
      "Виктор_Полтерович 1\n",
      "Джеффри_Шнапп 1\n",
      "Дэвид_Кайзер 2\n",
      "Александр_Лазуткин 1\n",
      "Макс_Тегмарк 1\n",
      "Ричард_Янг 1\n",
      "Александр_Баландин 1\n",
      "Александр_Потехин 1\n",
      "Джеральд_де_Хаан 1\n",
      "Антон_Бирюков 1\n",
      "Дмитрий_Горбунов 1\n",
      "Михаил_Данилов 1\n",
      "Константин_Мирошников 1\n",
      "Сергей_Деев 1\n",
      "Александр_Дмитриев 2\n",
      "Вольфганг_Кеттерле 1\n",
      "Илья_Иткин 3\n",
      "Уолтер_Льюин 1\n",
      "Николай_Пименов 1\n",
      "Сет_Ллойд 2\n",
      "Максим_Франк-Каменецкий 1\n",
      "Махзарин_Банаджи 1\n",
      "Филипп_Хайтович 1\n",
      "Константин_Звездин 1\n",
      "Наталья_Зубаревич 1\n",
      "Дмитрий_Лось 2\n",
      "Андрей_Кофман 2\n",
      "Алексей_Северцов 2\n",
      "Алексей_Козырев 1\n",
      "Андрей_Шевельков 1\n",
      "Ирина_Новикова 1\n",
      "Юрий_Панчин 1\n",
      "Константин_Северинов 1\n",
      "Аскольд_Иванчик 1\n",
      "Сергей_Соколовский 2\n",
      "Александр_Доброхотов 2\n",
      "Станислав_Дробышевский 1\n",
      "Александр_Шварцбург 1\n",
      "Джефф_Лихтман 1\n",
      "Владимир_Муронец 1\n",
      "Кирилл_Соловьев 1\n",
      "Галина_Зверева 1\n",
      "Сергей_Карабасов 1\n",
      "Алла_Ножевникова 1\n",
      "Андрей_Летаров 1\n",
      "Дмитрий_Дагаев 1\n",
      "Евгений_Николаев 1\n",
      "Константин_Храпко 0\n",
      "Андрей_Журавлев 1\n",
      "Джанмарко_Веруджио 1\n",
      "Галина_Ершова 1\n",
      "Андрей_Глазовский 1\n",
      "Мел_Сигел 1\n",
      "Петр_Резвых 1\n",
      "Олег_Мельник 1\n",
      "Антон_Буздин 2\n",
      "Александр_Тормасов 1\n",
      "Катерина_Поливанова 1\n",
      "Кирилл_Еськов 1\n",
      "Сергей_Гуриев 1\n",
      "Евгений_Антипов 2\n",
      "Питер_Лэнсдорп 1\n",
      "Павел_Балабан 1\n",
      "Константин_Анохин 2\n",
      "Герберт_Хупперт 1\n",
      "Иван_Луковников 1\n",
      "Валентин_Ненайденко 1\n",
      "Ноам_Хомский 1\n",
      "Ольга_Вендина 2\n",
      "Светлана_Бурлак 1\n",
      "Георгий_Шляпников 1\n",
      "Сергей_Демокритов 1\n",
      "Эмиль_Ахмедов 2\n",
      "Дмитрий_Казаков 1\n",
      "Владимир_Пудалов 1\n",
      "Алина_Бодрова 3\n",
      "Деметрис_Зейналипур 1\n",
      "Сергей_Зайцев-Зотов 1\n",
      "Сергей_Шишкин 1\n",
      "Мария_Майофис 2\n",
      "Дмитрий_Клинов 1\n",
      "Александр_Петренко 1\n",
      "Екатерина_Щербакова 2\n",
      "Елена_Голубева 1\n",
      "Ольга_Малинова 1\n",
      "Сергей_Зыков 1\n",
      "Анатолий_Вишневский 1\n",
      "Станислав_Протасов 2\n",
      "Станислав_Полонский 1\n",
      "Дмитрий_Гольберг 1\n",
      "Ярослав_Исполатов 1\n",
      "Мира_Бергельсон 1\n",
      "Владимир_Гимпельсон 1\n",
      "Дмитрий_Харзеев 1\n",
      "Сергей_Арутюнов 1\n",
      "Александр_Войскунский 1\n",
      "Александра_Скрипченко 1\n",
      "Николай_Мощевитин 1\n",
      "Мария_Шутова 1\n",
      "Хопи_Хукстра 0\n",
      "Татьяна_Клячко 2\n",
      "Алексей_Касьян 1\n",
      "Алексей_Белянин 1\n",
      "Мартин_Вейс 1\n",
      "Евгений_Рогожин 2\n",
      "Наталья_Берлофф 1\n",
      "Владимир_Белотелов 1\n",
      "Елена_Брызгалина 2\n",
      "Алиса_Вячеславова 2\n",
      "Антон_Бернс 1\n",
      "Олег_Верходанов 1\n",
      "Ольга_Исупова 1\n",
      "Яков_Тестелец 1\n",
      "Дэвид_Вайнберг 1\n",
      "Алексей_Орлов 1\n",
      "Сергей_Науменко 1\n",
      "Алексей_Бартошевич 1\n",
      "Антон_Суворов 1\n",
      "Владимир_Польшаков 1\n",
      "Александр_Четверин 1\n",
      "Владик_Аветисов 1\n",
      "Мария_Штейнман 2\n",
      "Даниэль_Сельва 1\n",
      "Сергей_Кетов 1\n",
      "Владимир_Спиридонов 1\n",
      "Роман_Рафиков 1\n",
      "Рой_Глаубер 1\n",
      "Михаил_Гельфанд 1\n",
      "Евгений_Гудилин 1\n",
      "Кирилл_Титаев 1\n",
      "Фёдор_Успенский 1\n",
      "Максим_Киселев 2\n",
      "Павел_Пахлов 1\n",
      "Александр_Львовский 1\n",
      "Владимир_Сурдин 2\n",
      "Кирилл_Разлогов 1\n",
      "Александр_Жаворонков 1\n",
      "Олег_Хлевнюк 1\n",
      "Дмитрий_Рогозин 2\n",
      "Александр_Габибов 2\n",
      "Евгений_Зуев 1\n",
      "Илья_Женин 1\n",
      "Сергей_Саложин 1\n",
      "Константин_Агладзе 1\n",
      "Сергей_Бобылев 1\n",
      "Андрей_Цатурян 2\n",
      "Арчил_Балахванцев 1\n",
      "Светлана_Евграфова 1\n",
      "Наталья_Харламенкова 1\n",
      "Ильдар_Габитов 1\n",
      "Александр_Ватлин 1\n",
      "Владимир_Бобровников 1\n",
      "Михаил_Киселев 2\n",
      "Александр_Дьяконов 2\n",
      "Григорий_Кабатянский 1\n",
      "Светлана_Кузнецова 1\n",
      "Анатолий_Лиходед 1\n",
      "Роман_Мизюк 1\n",
      "Леонид_Марголис 1\n",
      "Виктория_Битюкова 1\n",
      "Мария_Падун 1\n",
      "Армен_Сергеев 1\n",
      "Алексей_Шмелев 1\n",
      "Павел_Лушников 1\n",
      "Ольга_Брилева 1\n",
      "Кит_Моффат 1\n",
      "Сергей_Попов 2\n",
      "Максим_Таланов 1\n",
      "Сергей_Троицкий 1\n",
      "Денис_Новак 1\n",
      "Сергей_Афонцев 1\n",
      "Дмитрий_Дорохов 1\n",
      "Ярослав_Ашихмин 1\n",
      "Дмитрий_Иванов 1\n",
      "Мария_Фаликман 1\n",
      "Анатолий_Засов 1\n",
      "Митчел_Резник 1\n",
      "Шринивас_Шридхар 1\n",
      "Екатерина_Лямина 1\n",
      "Михаил_Алексеевский 1\n",
      "Владимир_Каганский 1\n",
      "Дмитрий_Худяков 1\n",
      "Артем_Оганов 1\n",
      "Ивар_Максутов 2\n",
      "Александр_Мукасьян 1\n",
      "Алексей_Хохлов 1\n",
      "Анна_Севортьян 1\n",
      "Кирилл_Зыбин 1\n",
      "Андрей_Виноградов 1\n",
      "Игорь_Ломоносов 1\n",
      "Виктор_Брагута 1\n",
      "Григорий_Бондаренко 1\n",
      "Елизавета_Ривкина 1\n",
      "Анна_Дыбо 2\n",
      "Михаил_Соколов 1\n",
      "Андрей_Зорин 1\n",
      "Алексей_Чжао 1\n",
      "Иван_Воробьев 2\n",
      "Николай_Борисов 1\n",
      "Антон_Чижов 2\n",
      "Алексей_Рубцов 1\n",
      "Сергей_Яковенко 1\n",
      "Борис_Миркин 1\n",
      "Павел_Соколов 1\n",
      "Варвара_Веденина 1\n",
      "Кьянг_Ку 1\n",
      "Елизавета_Бонч-Осмоловская 1\n",
      "Зоригто_Намсараев 1\n",
      "Руслан_Хестанов 1\n",
      "Роман_Ефремов 1\n",
      "Юлия_Краус 1\n",
      "Валентин_Крапошин 2\n",
      "Татьяна_Котова 1\n",
      "Дмитрий_Куракин 1\n",
      "Екатерина_Ларионова 1\n",
      "Ольга_Сварник 1\n",
      "Фуад_Алескеров 1\n",
      "Дмитрий_Титов 1\n",
      "Руслан_Смелянский 1\n",
      "Елена_Браун 2\n",
      "Вера_Ижевская 1\n",
      "Павел_Руднев 1\n",
      "Владимир_Шалаев 1\n",
      "Петр_Дружинин 1\n",
      "Сергей_Никитов 1\n",
      "Евгений_Кац 1\n",
      "Павел_Умрюхин 1\n",
      "Вера_Подлесская 1\n",
      "Валерий_Рубаков 2\n",
      "Евгений_Куликов 1\n",
      "Варвара_Добровольская 1\n",
      "Алексей_Юдин 2\n",
      "Михаил_Лукин 0\n",
      "Aльберт_Давлетшин 1\n",
      "Наталья_Смолянская 2\n",
      "Михаил_Эльдаров 1\n",
      "Олег_Лукин 1\n",
      "Кристофер_Уиншип 1\n",
      "Игорь_Чубаров 2\n",
      "Дина_Гусейнова 2\n",
      "Павел_Плечов 1\n",
      "Алексей_Лебедев 1\n",
      "Виталий_Кушниров 1\n",
      "Дмитрий_Беляев 1\n",
      "Алексей_Кондрашов 1\n",
      "Александр_Слободкин 1\n",
      "Александр_Филиппов 2\n",
      "Владимир_Таточенко 1\n",
      "Мария_Медникова 1\n",
      "Наталья_Ростиславлева 1\n",
      "Олег_Лекманов 2\n",
      "Дмитрий_Бак 1\n",
      "Ольга_Эдельман 1\n",
      "Алексей_Акимов 1\n",
      "Дмитрий_Громов 1\n",
      "Владимир_Беликов 1\n",
      "Вадим_Бражкин 1\n",
      "Татьяна_Бобровникова 1\n",
      "Александр_Лаврентьев 1\n",
      "Елена_Гороховская 1\n",
      "Леонард_Полищук 1\n",
      "Олег_Фиговский 1\n",
      "Александр_Высоковский 1\n",
      "Эмери_Браун 1\n",
      "Дмитрий_Полдников 1\n",
      "Валерий_Фокин 1\n",
      "Дмитрий_Баюк 1\n",
      "Василий_Ключарев 1\n",
      "Евгений_Шеваль 1\n",
      "Сергей_Румянцев 1\n",
      "Мэтью_Басс 1\n",
      "Владимир_Кореняко 1\n",
      "Александр_Сафонов 1\n",
      "Кирилл_Бабаев 1\n",
      "Мария_Добровольская 1\n",
      "Алексей_Моисеев 1\n",
      "Александр_Парфенов 1\n"
     ]
    },
    {
     "name": "stdout",
     "output_type": "stream",
     "text": [
      "Дмитрий_Арзютов 1\n",
      "Игорь_Исаев 1\n",
      "Денис_Сивков 1\n",
      "Виктор_Вахштайн 1\n",
      "Наталья_Новикова 1\n",
      "Константин_Лукьянов 1\n",
      "Светлана_Баньковская 1\n",
      "Пётр_Образцов 1\n",
      "Эдуард_Боос 1\n",
      "Дмитрий_Казанцев 1\n",
      "Александр_Шень 1\n",
      "Александр_Каплан 1\n",
      "Дмитрий_Гитман 1\n",
      "Андрей_Головин 1\n",
      "Павел_Уваров 1\n",
      "Петр_Федичев 2\n",
      "Алексей_Витухновский 1\n",
      "Сергей_Серёгичев 1\n",
      "Архат_Абжанов 1\n",
      "Виктор_Задков 1\n",
      "Алексей_Расторгуев 1\n",
      "Александр_Марков 1\n",
      "Сергей_Неклюдов 1\n",
      "Евгений_Магид 1\n",
      "Андрей_Кибрик 1\n",
      "Михаил_Маяцкий 2\n",
      "Мария_Неклюдова 2\n",
      "Дмитрий_Вибе 2\n",
      "Михаил_Ревнивцев 1\n",
      "Виктор_Авдеев 1\n",
      "Илья_Шкредов 1\n",
      "Светлана_Боринская 1\n",
      "Елена_Уханова 1\n",
      "Алексей_Миллер 1\n",
      "Владимир_Плунгян 1\n",
      "Николай_Дронин 1\n",
      "Виктор_Цетлин 1\n",
      "\n",
      "Самые значимые:\n",
      "Ольга_Тогоева 3\n",
      "Ольга_Вайнштейн 5\n",
      "Александр_Воеводский 3\n",
      "Илья_Иткин 3\n",
      "Алина_Бодрова 3\n"
     ]
    }
   ],
   "source": [
    "#Ваш ответ:\n",
    "#авторы, значимые в не менее чем 3 темах:\n",
    "for ind, row in phi_a.iterrows():\n",
    "    cnt = row[row > 0.01].count()\n",
    "    print ind, cnt\n",
    "print '\\n' + 'Самые значимые:'\n",
    "for ind, row in phi_a.iterrows():\n",
    "    cnt = row[row > 0.01].count()\n",
    "    if cnt >= 3:\n",
    "        print ind, cnt"
   ]
  },
  {
   "cell_type": "markdown",
   "metadata": {},
   "source": [
    "Большинство авторов значимы в 1 теме, что логично."
   ]
  },
  {
   "cell_type": "markdown",
   "metadata": {},
   "source": [
    "##### Построение тематической карты авторов"
   ]
  },
  {
   "cell_type": "markdown",
   "metadata": {},
   "source": [
    "По сути, в матрице $\\Phi$, соответствующей модальности авторов, записаны тематические кластеры авторов. Для любого автора мы можем составить его тематический круг - авторов, разбирающихся в той же теме, что и данный. Интересующиеся слушатели могут попробовать выполнить эту процедуру для ученых, читающих лекции на Постнауке, которых они знают (например, на Постнауке есть лекции с К. В. Воронцовым - лектором текущего модуля :)\n",
    "\n",
    "Составим карту близости авторов по тематике их исследований. Для этого применим метод понижения размерности MDS к тематическим профилям авторов.\n",
    "\n",
    "Чтобы получить тематический профиль автора, распределение $p(t|a)$, нужно воспользоваться формулой Байеса: \n",
    "$p(t|a) = \\frac {p(a|t) p(t)} {\\sum_t' p(a|t') p(t')}$. Все необходимые для этого величины у вас есть и записаны в переменных phi и pt. \n",
    "\n",
    "Передайте матрицу тематических профилей авторов, записанных по строкам, в метод MDS с n_components=2. Используйте косинусную метрику (она хорошо подходит для поиска расстояний между векторами, имеющими фиксированную сумму компонент)."
   ]
  },
  {
   "cell_type": "code",
   "execution_count": 112,
   "metadata": {
    "collapsed": true
   },
   "outputs": [],
   "source": [
    "from sklearn.manifold import MDS\n",
    "from sklearn.metrics import pairwise_distances"
   ]
  },
  {
   "cell_type": "code",
   "execution_count": 182,
   "metadata": {
    "collapsed": true
   },
   "outputs": [],
   "source": [
    "# Ваш код\n",
    "p_ta = phi_a.get_values() * T.get_values().reshape((1,30)) / phi_a.get_values().dot(T.get_values())\n",
    "mds = MDS(n_components = 2, n_init = 1, max_iter = 100, dissimilarity='precomputed')\n",
    "p_ta_mds = mds.fit_transform(pairwise_distances(p_ta, metric='cosine'))"
   ]
  },
  {
   "cell_type": "markdown",
   "metadata": {},
   "source": [
    "Визуализируйте найденные двумерные представления с помощью функции scatter. "
   ]
  },
  {
   "cell_type": "code",
   "execution_count": 183,
   "metadata": {},
   "outputs": [
    {
     "data": {
      "text/plain": [
       "<matplotlib.collections.PathCollection at 0x11b532190>"
      ]
     },
     "execution_count": 183,
     "metadata": {},
     "output_type": "execute_result"
    },
    {
     "data": {
      "image/png": "[encoded data removed]",
      "text/plain": [
       "<matplotlib.figure.Figure at 0x11f7b2050>"
      ]
     },
     "metadata": {},
     "output_type": "display_data"
    }
   ],
   "source": [
    "# Ваш код\n",
    "plt.figure(figsize=(12, 8))\n",
    "plt.scatter(p_ta_mds[:, 0], p_ta_mds[:, 1])"
   ]
  },
  {
   "cell_type": "markdown",
   "metadata": {},
   "source": [
    "Должно получиться, что некоторые грппы авторов формируют сгустки, которые можно считать тематическими группами авторов.\n",
    "\n",
    "Раскрасим точки следующим образом: для каждого автора выберем наиболее вероятную для него тему ($\\max_t p(t|a)$), и каждой теме сопоставим цвет. Кроме того, добавим на карту имена и фамилии авторов, это можно сделать в цикле по всем точкам с помощью функции plt.annotate, указывая метку точки первым аргументом и ее координаты в аргументе xy. Рекомендуется сделать размер изображения большим, тогда маркеры точек тоже придется увеличить (s=100 в plt.scatter). Изобразите карту авторов и сохраните в pdf-файл с помощью функции plt.savefig. \n",
    "\n",
    "Метки авторов будут пересекаться. Будет очень хорошо, если вы найдете способ, как этого можно избежать."
   ]
  },
  {
   "cell_type": "code",
   "execution_count": 187,
   "metadata": {},
   "outputs": [
    {
     "data": {
      "image/png": "[encoded data removed]",
      "text/plain": [
       "<matplotlib.figure.Figure at 0x11b5c7810>"
      ]
     },
     "metadata": {},
     "output_type": "display_data"
    }
   ],
   "source": [
    "import matplotlib.cm as cm\n",
    "T = 30\n",
    "colors = cm.rainbow(np.linspace(0, 1, T)) # цвета для тем\n",
    "# Ваш код\n",
    "plt.figure(figsize=(100, 75))\n",
    "plt.scatter(p_ta_mds[:, 0], p_ta_mds[:, 1], s=150, c=colors, cmap=p_ta.argmax(axis=1))\n",
    "for idx, xy in enumerate( p_ta_mds ):\n",
    "    plt.annotate(phi_a.index[idx], xy=xy)\n",
    "plt.savefig('postnauka.pdf')"
   ]
  },
  {
   "cell_type": "markdown",
   "metadata": {},
   "source": [
    "##### Создание простого тематического навигатора по Постнауке"
   ]
  },
  {
   "cell_type": "markdown",
   "metadata": {},
   "source": [
    "Наш тематический навигатор будет для каждой темы показывать ее список слов, а также список релевантных теме документов. \n",
    "\n",
    "Нам понадобятся распределения $p(d|t)$. По формуле Байеса $p(d|t) = \\frac{p(t|d)p(d)}{\\sum_{d'}p(t|d')p(d')}$, но поскольку мы считаем документы равновероятными, достаточно разделить каждую строку $\\Theta$ на ее сумму, чтобы оценить распределение. \n",
    "\n",
    "Отсортируйте матрицу $p(d|t)$ по убыванию $p(d|t)$ в каждой теме (то есть построчно). Нам понадобятся индексы наиболее вероятных документов в каждой теме, поэтому используйте функцию argmax."
   ]
  },
  {
   "cell_type": "code",
   "execution_count": 189,
   "metadata": {},
   "outputs": [
    {
     "ename": "AttributeError",
     "evalue": "'numpy.ndarray' object has no attribute 'values'",
     "output_type": "error",
     "traceback": [
      "\u001b[0;31m---------------------------------------------------------------------------\u001b[0m",
      "\u001b[0;31mAttributeError\u001b[0m                            Traceback (most recent call last)",
      "\u001b[0;32m<ipython-input-189-372bff6bb49a>\u001b[0m in \u001b[0;36m<module>\u001b[0;34m()\u001b[0m\n\u001b[1;32m      1\u001b[0m \u001b[0;31m# Ваш код\u001b[0m\u001b[0;34m\u001b[0m\u001b[0;34m\u001b[0m\u001b[0m\n\u001b[1;32m      2\u001b[0m \u001b[0mp_dt\u001b[0m \u001b[0;34m=\u001b[0m \u001b[0mtheta\u001b[0m\u001b[0;34m.\u001b[0m\u001b[0mget_values\u001b[0m\u001b[0;34m(\u001b[0m\u001b[0;34m)\u001b[0m\u001b[0;34m/\u001b[0m\u001b[0mtheta\u001b[0m\u001b[0;34m.\u001b[0m\u001b[0msum\u001b[0m\u001b[0;34m(\u001b[0m\u001b[0maxis\u001b[0m\u001b[0;34m=\u001b[0m\u001b[0;36m1\u001b[0m\u001b[0;34m)\u001b[0m\u001b[0;34m.\u001b[0m\u001b[0mvalues\u001b[0m\u001b[0;34m.\u001b[0m\u001b[0mreshape\u001b[0m\u001b[0;34m(\u001b[0m\u001b[0;34m(\u001b[0m\u001b[0;36m30\u001b[0m\u001b[0;34m,\u001b[0m\u001b[0;36m1\u001b[0m\u001b[0;34m)\u001b[0m\u001b[0;34m)\u001b[0m\u001b[0;34m\u001b[0m\u001b[0m\n\u001b[0;32m----> 3\u001b[0;31m \u001b[0mi_p_dt\u001b[0m \u001b[0;34m=\u001b[0m \u001b[0mnp\u001b[0m\u001b[0;34m.\u001b[0m\u001b[0marray\u001b[0m\u001b[0;34m(\u001b[0m\u001b[0mp_dt\u001b[0m\u001b[0;34m.\u001b[0m\u001b[0margmax\u001b[0m\u001b[0;34m(\u001b[0m\u001b[0maxis\u001b[0m\u001b[0;34m=\u001b[0m\u001b[0;36m1\u001b[0m\u001b[0;34m)\u001b[0m\u001b[0;34m.\u001b[0m\u001b[0mvalues\u001b[0m\u001b[0;34m.\u001b[0m\u001b[0mreshape\u001b[0m\u001b[0;34m(\u001b[0m\u001b[0;34m(\u001b[0m\u001b[0;36m30\u001b[0m\u001b[0;34m,\u001b[0m\u001b[0;36m1\u001b[0m\u001b[0;34m)\u001b[0m\u001b[0;34m)\u001b[0m\u001b[0;34m)\u001b[0m\u001b[0;34m\u001b[0m\u001b[0m\n\u001b[0m\u001b[1;32m      4\u001b[0m \u001b[0;32mfor\u001b[0m \u001b[0mj\u001b[0m \u001b[0;32min\u001b[0m \u001b[0mrange\u001b[0m\u001b[0;34m(\u001b[0m\u001b[0;36m1\u001b[0m\u001b[0;34m,\u001b[0m\u001b[0mp_dt\u001b[0m\u001b[0;34m.\u001b[0m\u001b[0mshape\u001b[0m\u001b[0;34m[\u001b[0m\u001b[0;36m1\u001b[0m\u001b[0;34m]\u001b[0m\u001b[0;34m)\u001b[0m\u001b[0;34m:\u001b[0m\u001b[0;34m\u001b[0m\u001b[0m\n\u001b[1;32m      5\u001b[0m     \u001b[0;32mfor\u001b[0m \u001b[0mi\u001b[0m \u001b[0;32min\u001b[0m \u001b[0mrange\u001b[0m\u001b[0;34m(\u001b[0m\u001b[0mp_dt\u001b[0m\u001b[0;34m.\u001b[0m\u001b[0mshape\u001b[0m\u001b[0;34m[\u001b[0m\u001b[0;36m0\u001b[0m\u001b[0;34m]\u001b[0m\u001b[0;34m)\u001b[0m\u001b[0;34m:\u001b[0m\u001b[0;34m\u001b[0m\u001b[0m\n",
      "\u001b[0;31mAttributeError\u001b[0m: 'numpy.ndarray' object has no attribute 'values'"
     ]
    }
   ],
   "source": [
    "# Ваш код\n",
    "values"
   ]
  },
  {
   "cell_type": "markdown",
   "metadata": {},
   "source": [
    "Создавать навигатор мы будем прямо в jupiter notebook: это возможно благодаря тому факту, что при печати ссылки она автоматически превращается в гиперссылку."
   ]
  },
  {
   "cell_type": "code",
   "execution_count": 117,
   "metadata": {},
   "outputs": [
    {
     "name": "stdout",
     "output_type": "stream",
     "text": [
      "http://yandex.ru\n"
     ]
    }
   ],
   "source": [
    "print \"http://yandex.ru\"   # получится кликабельная ссылка"
   ]
  },
  {
   "cell_type": "markdown",
   "metadata": {},
   "source": [
    "Кроме того, подключив модуль [ipython.core.display](https://ipython.org/ipython-doc/2/api/generated/IPython.core.display.html), можно использовать html-разметку в выводе. Например:"
   ]
  },
  {
   "cell_type": "code",
   "execution_count": 118,
   "metadata": {},
   "outputs": [
    {
     "data": {
      "text/html": [
       "<h1>Заголовок</h1>"
      ],
      "text/plain": [
       "<IPython.core.display.HTML object>"
      ]
     },
     "metadata": {},
     "output_type": "display_data"
    },
    {
     "data": {
      "text/html": [
       "<ul><li>Пункт 1</li><li>Пункт 2</li></ul>"
      ],
      "text/plain": [
       "<IPython.core.display.HTML object>"
      ]
     },
     "metadata": {},
     "output_type": "display_data"
    },
    {
     "data": {
      "text/html": [
       "<font color=\"green\">Зеленый!</font>"
      ],
      "text/plain": [
       "<IPython.core.display.HTML object>"
      ]
     },
     "metadata": {},
     "output_type": "display_data"
    },
    {
     "data": {
      "text/html": [
       "<a href=\"http://yandex.ru\">Еще один вариант вывода ссылки</a>"
      ],
      "text/plain": [
       "<IPython.core.display.HTML object>"
      ]
     },
     "metadata": {},
     "output_type": "display_data"
    }
   ],
   "source": [
    "from IPython.core.display import display, HTML\n",
    "display(HTML(u\"<h1>Заголовок</h1>\"))   # также <h2>, <h3>\n",
    "display(HTML(u\"<ul><li>Пункт 1</li><li>Пункт 2</li></ul>\"))\n",
    "display(HTML(u'<font color=\"green\">Зеленый!</font>'))\n",
    "display(HTML(u'<a href=\"http://yandex.ru\">Еще один вариант вывода ссылки</a>'))"
   ]
  },
  {
   "cell_type": "markdown",
   "metadata": {},
   "source": [
    "В цикле для каждой темы выведите ее заголовок, в следующей строке - топ-10 слов темы, затем в виде списка ссылки на 10 наиболее релевантных (по $p(d|t)$) теме документов. Используйте html-разметку. Творчество приветствуется :)"
   ]
  },
  {
   "cell_type": "code",
   "execution_count": 195,
   "metadata": {},
   "outputs": [
    {
     "data": {
      "text/html": [
       "<h2>История</h2>"
      ],
      "text/plain": [
       "<IPython.core.display.HTML object>"
      ]
     },
     "metadata": {},
     "output_type": "display_data"
    },
    {
     "data": {
      "text/html": [
       "<h4>церковь русь средневековый император святой власть сага князь папа византийский</h4>"
      ],
      "text/plain": [
       "<IPython.core.display.HTML object>"
      ]
     },
     "metadata": {},
     "output_type": "display_data"
    },
    {
     "data": {
      "text/html": [
       "<ul><li><a href=\"http://postnauka.ru/video/3348\">http://postnauka.ru/video/3348</a></li></ul>"
      ],
      "text/plain": [
       "<IPython.core.display.HTML object>"
      ]
     },
     "metadata": {},
     "output_type": "display_data"
    },
    {
     "data": {
      "text/html": [
       "<ul><li><a href=\"http://postnauka.ru/video/24034\">http://postnauka.ru/video/24034</a></li></ul>"
      ],
      "text/plain": [
       "<IPython.core.display.HTML object>"
      ]
     },
     "metadata": {},
     "output_type": "display_data"
    },
    {
     "data": {
      "text/html": [
       "<ul><li><a href=\"http://postnauka.ru/video/9968\">http://postnauka.ru/video/9968</a></li></ul>"
      ],
      "text/plain": [
       "<IPython.core.display.HTML object>"
      ]
     },
     "metadata": {},
     "output_type": "display_data"
    },
    {
     "data": {
      "text/html": [
       "<ul><li><a href=\"http://postnauka.ru/video/9299\">http://postnauka.ru/video/9299</a></li></ul>"
      ],
      "text/plain": [
       "<IPython.core.display.HTML object>"
      ]
     },
     "metadata": {},
     "output_type": "display_data"
    },
    {
     "data": {
      "text/html": [
       "<ul><li><a href=\"http://postnauka.ru/video/24039\">http://postnauka.ru/video/24039</a></li></ul>"
      ],
      "text/plain": [
       "<IPython.core.display.HTML object>"
      ]
     },
     "metadata": {},
     "output_type": "display_data"
    },
    {
     "data": {
      "text/html": [
       "<ul><li><a href=\"http://postnauka.ru/video/24030\">http://postnauka.ru/video/24030</a></li></ul>"
      ],
      "text/plain": [
       "<IPython.core.display.HTML object>"
      ]
     },
     "metadata": {},
     "output_type": "display_data"
    },
    {
     "data": {
      "text/html": [
       "<ul><li><a href=\"http://postnauka.ru/video/28942\">http://postnauka.ru/video/28942</a></li></ul>"
      ],
      "text/plain": [
       "<IPython.core.display.HTML object>"
      ]
     },
     "metadata": {},
     "output_type": "display_data"
    },
    {
     "data": {
      "text/html": [
       "<ul><li><a href=\"http://postnauka.ru/video/23472\">http://postnauka.ru/video/23472</a></li></ul>"
      ],
      "text/plain": [
       "<IPython.core.display.HTML object>"
      ]
     },
     "metadata": {},
     "output_type": "display_data"
    },
    {
     "data": {
      "text/html": [
       "<ul><li><a href=\"http://postnauka.ru/video/50350\">http://postnauka.ru/video/50350</a></li></ul>"
      ],
      "text/plain": [
       "<IPython.core.display.HTML object>"
      ]
     },
     "metadata": {},
     "output_type": "display_data"
    },
    {
     "data": {
      "text/html": [
       "<ul><li><a href=\"http://postnauka.ru/video/5464\">http://postnauka.ru/video/5464</a></li></ul>"
      ],
      "text/plain": [
       "<IPython.core.display.HTML object>"
      ]
     },
     "metadata": {},
     "output_type": "display_data"
    },
    {
     "data": {
      "text/html": [
       "<h2>Планета</h2>"
      ],
      "text/plain": [
       "<IPython.core.display.HTML object>"
      ]
     },
     "metadata": {},
     "output_type": "display_data"
    },
    {
     "data": {
      "text/html": [
       "<h4>планета земля атмосфера вода солнце солнечный белый карлик газ вокруг</h4>"
      ],
      "text/plain": [
       "<IPython.core.display.HTML object>"
      ]
     },
     "metadata": {},
     "output_type": "display_data"
    },
    {
     "data": {
      "text/html": [
       "<ul><li><a href=\"http://postnauka.ru/video/53693\">http://postnauka.ru/video/53693</a></li></ul>"
      ],
      "text/plain": [
       "<IPython.core.display.HTML object>"
      ]
     },
     "metadata": {},
     "output_type": "display_data"
    },
    {
     "data": {
      "text/html": [
       "<ul><li><a href=\"http://postnauka.ru/video/24245\">http://postnauka.ru/video/24245</a></li></ul>"
      ],
      "text/plain": [
       "<IPython.core.display.HTML object>"
      ]
     },
     "metadata": {},
     "output_type": "display_data"
    },
    {
     "data": {
      "text/html": [
       "<ul><li><a href=\"http://postnauka.ru/video/32889\">http://postnauka.ru/video/32889</a></li></ul>"
      ],
      "text/plain": [
       "<IPython.core.display.HTML object>"
      ]
     },
     "metadata": {},
     "output_type": "display_data"
    },
    {
     "data": {
      "text/html": [
       "<ul><li><a href=\"http://postnauka.ru/video/9835\">http://postnauka.ru/video/9835</a></li></ul>"
      ],
      "text/plain": [
       "<IPython.core.display.HTML object>"
      ]
     },
     "metadata": {},
     "output_type": "display_data"
    },
    {
     "data": {
      "text/html": [
       "<ul><li><a href=\"http://postnauka.ru/video/31695\">http://postnauka.ru/video/31695</a></li></ul>"
      ],
      "text/plain": [
       "<IPython.core.display.HTML object>"
      ]
     },
     "metadata": {},
     "output_type": "display_data"
    },
    {
     "data": {
      "text/html": [
       "<ul><li><a href=\"http://postnauka.ru/video/13098\">http://postnauka.ru/video/13098</a></li></ul>"
      ],
      "text/plain": [
       "<IPython.core.display.HTML object>"
      ]
     },
     "metadata": {},
     "output_type": "display_data"
    },
    {
     "data": {
      "text/html": [
       "<ul><li><a href=\"http://postnauka.ru/video/12971\">http://postnauka.ru/video/12971</a></li></ul>"
      ],
      "text/plain": [
       "<IPython.core.display.HTML object>"
      ]
     },
     "metadata": {},
     "output_type": "display_data"
    },
    {
     "data": {
      "text/html": [
       "<ul><li><a href=\"http://postnauka.ru/video/49261\">http://postnauka.ru/video/49261</a></li></ul>"
      ],
      "text/plain": [
       "<IPython.core.display.HTML object>"
      ]
     },
     "metadata": {},
     "output_type": "display_data"
    },
    {
     "data": {
      "text/html": [
       "<ul><li><a href=\"http://postnauka.ru/video/36249\">http://postnauka.ru/video/36249</a></li></ul>"
      ],
      "text/plain": [
       "<IPython.core.display.HTML object>"
      ]
     },
     "metadata": {},
     "output_type": "display_data"
    },
    {
     "data": {
      "text/html": [
       "<ul><li><a href=\"http://postnauka.ru/video/3381\">http://postnauka.ru/video/3381</a></li></ul>"
      ],
      "text/plain": [
       "<IPython.core.display.HTML object>"
      ]
     },
     "metadata": {},
     "output_type": "display_data"
    },
    {
     "data": {
      "text/html": [
       "<h2>Учёба</h2>"
      ],
      "text/plain": [
       "<IPython.core.display.HTML object>"
      ]
     },
     "metadata": {},
     "output_type": "display_data"
    },
    {
     "data": {
      "text/html": [
       "<h4>система трудность относительность тест задание преподавание отсчет системный научение компетенция</h4>"
      ],
      "text/plain": [
       "<IPython.core.display.HTML object>"
      ]
     },
     "metadata": {},
     "output_type": "display_data"
    },
    {
     "data": {
      "text/html": [
       "<ul><li><a href=\"http://postnauka.ru/video/46317\">http://postnauka.ru/video/46317</a></li></ul>"
      ],
      "text/plain": [
       "<IPython.core.display.HTML object>"
      ]
     },
     "metadata": {},
     "output_type": "display_data"
    },
    {
     "data": {
      "text/html": [
       "<ul><li><a href=\"http://postnauka.ru/video/34426\">http://postnauka.ru/video/34426</a></li></ul>"
      ],
      "text/plain": [
       "<IPython.core.display.HTML object>"
      ]
     },
     "metadata": {},
     "output_type": "display_data"
    },
    {
     "data": {
      "text/html": [
       "<ul><li><a href=\"http://postnauka.ru/video/1856\">http://postnauka.ru/video/1856</a></li></ul>"
      ],
      "text/plain": [
       "<IPython.core.display.HTML object>"
      ]
     },
     "metadata": {},
     "output_type": "display_data"
    },
    {
     "data": {
      "text/html": [
       "<ul><li><a href=\"http://postnauka.ru/video/50347\">http://postnauka.ru/video/50347</a></li></ul>"
      ],
      "text/plain": [
       "<IPython.core.display.HTML object>"
      ]
     },
     "metadata": {},
     "output_type": "display_data"
    },
    {
     "data": {
      "text/html": [
       "<ul><li><a href=\"http://postnauka.ru/video/37982\">http://postnauka.ru/video/37982</a></li></ul>"
      ],
      "text/plain": [
       "<IPython.core.display.HTML object>"
      ]
     },
     "metadata": {},
     "output_type": "display_data"
    },
    {
     "data": {
      "text/html": [
       "<ul><li><a href=\"http://postnauka.ru/video/19570\">http://postnauka.ru/video/19570</a></li></ul>"
      ],
      "text/plain": [
       "<IPython.core.display.HTML object>"
      ]
     },
     "metadata": {},
     "output_type": "display_data"
    },
    {
     "data": {
      "text/html": [
       "<ul><li><a href=\"http://postnauka.ru/video/53415\">http://postnauka.ru/video/53415</a></li></ul>"
      ],
      "text/plain": [
       "<IPython.core.display.HTML object>"
      ]
     },
     "metadata": {},
     "output_type": "display_data"
    },
    {
     "data": {
      "text/html": [
       "<ul><li><a href=\"http://postnauka.ru/video/56618\">http://postnauka.ru/video/56618</a></li></ul>"
      ],
      "text/plain": [
       "<IPython.core.display.HTML object>"
      ]
     },
     "metadata": {},
     "output_type": "display_data"
    },
    {
     "data": {
      "text/html": [
       "<ul><li><a href=\"http://postnauka.ru/video/47457\">http://postnauka.ru/video/47457</a></li></ul>"
      ],
      "text/plain": [
       "<IPython.core.display.HTML object>"
      ]
     },
     "metadata": {},
     "output_type": "display_data"
    },
    {
     "data": {
      "text/html": [
       "<ul><li><a href=\"http://postnauka.ru/video/52548\">http://postnauka.ru/video/52548</a></li></ul>"
      ],
      "text/plain": [
       "<IPython.core.display.HTML object>"
      ]
     },
     "metadata": {},
     "output_type": "display_data"
    },
    {
     "data": {
      "text/html": [
       "<h2>Наука</h2>"
      ],
      "text/plain": [
       "<IPython.core.display.HTML object>"
      ]
     },
     "metadata": {},
     "output_type": "display_data"
    },
    {
     "data": {
      "text/html": [
       "<h4>культура наука рассказывать понятие кандидат исторический каков доктор культурный сознание</h4>"
      ],
      "text/plain": [
       "<IPython.core.display.HTML object>"
      ]
     },
     "metadata": {},
     "output_type": "display_data"
    },
    {
     "data": {
      "text/html": [
       "<ul><li><a href=\"http://postnauka.ru/video/11034\">http://postnauka.ru/video/11034</a></li></ul>"
      ],
      "text/plain": [
       "<IPython.core.display.HTML object>"
      ]
     },
     "metadata": {},
     "output_type": "display_data"
    },
    {
     "data": {
      "text/html": [
       "<ul><li><a href=\"http://postnauka.ru/video/10749\">http://postnauka.ru/video/10749</a></li></ul>"
      ],
      "text/plain": [
       "<IPython.core.display.HTML object>"
      ]
     },
     "metadata": {},
     "output_type": "display_data"
    },
    {
     "data": {
      "text/html": [
       "<ul><li><a href=\"http://postnauka.ru/video/7549\">http://postnauka.ru/video/7549</a></li></ul>"
      ],
      "text/plain": [
       "<IPython.core.display.HTML object>"
      ]
     },
     "metadata": {},
     "output_type": "display_data"
    },
    {
     "data": {
      "text/html": [
       "<ul><li><a href=\"http://postnauka.ru/video/5891\">http://postnauka.ru/video/5891</a></li></ul>"
      ],
      "text/plain": [
       "<IPython.core.display.HTML object>"
      ]
     },
     "metadata": {},
     "output_type": "display_data"
    },
    {
     "data": {
      "text/html": [
       "<ul><li><a href=\"http://postnauka.ru/video/3602\">http://postnauka.ru/video/3602</a></li></ul>"
      ],
      "text/plain": [
       "<IPython.core.display.HTML object>"
      ]
     },
     "metadata": {},
     "output_type": "display_data"
    },
    {
     "data": {
      "text/html": [
       "<ul><li><a href=\"http://postnauka.ru/video/7757\">http://postnauka.ru/video/7757</a></li></ul>"
      ],
      "text/plain": [
       "<IPython.core.display.HTML object>"
      ]
     },
     "metadata": {},
     "output_type": "display_data"
    },
    {
     "data": {
      "text/html": [
       "<ul><li><a href=\"http://postnauka.ru/video/12524\">http://postnauka.ru/video/12524</a></li></ul>"
      ],
      "text/plain": [
       "<IPython.core.display.HTML object>"
      ]
     },
     "metadata": {},
     "output_type": "display_data"
    },
    {
     "data": {
      "text/html": [
       "<ul><li><a href=\"http://postnauka.ru/video/7351\">http://postnauka.ru/video/7351</a></li></ul>"
      ],
      "text/plain": [
       "<IPython.core.display.HTML object>"
      ]
     },
     "metadata": {},
     "output_type": "display_data"
    },
    {
     "data": {
      "text/html": [
       "<ul><li><a href=\"http://postnauka.ru/video/7065\">http://postnauka.ru/video/7065</a></li></ul>"
      ],
      "text/plain": [
       "<IPython.core.display.HTML object>"
      ]
     },
     "metadata": {},
     "output_type": "display_data"
    },
    {
     "data": {
      "text/html": [
       "<ul><li><a href=\"http://postnauka.ru/video/2524\">http://postnauka.ru/video/2524</a></li></ul>"
      ],
      "text/plain": [
       "<IPython.core.display.HTML object>"
      ]
     },
     "metadata": {},
     "output_type": "display_data"
    },
    {
     "data": {
      "text/html": [
       "<h2>Право</h2>"
      ],
      "text/plain": [
       "<IPython.core.display.HTML object>"
      ]
     },
     "metadata": {},
     "output_type": "display_data"
    },
    {
     "data": {
      "text/html": [
       "<h4>право правовой римский юрист искусство суд юридический должник собственность обязательство</h4>"
      ],
      "text/plain": [
       "<IPython.core.display.HTML object>"
      ]
     },
     "metadata": {},
     "output_type": "display_data"
    },
    {
     "data": {
      "text/html": [
       "<ul><li><a href=\"http://postnauka.ru/video/17913\">http://postnauka.ru/video/17913</a></li></ul>"
      ],
      "text/plain": [
       "<IPython.core.display.HTML object>"
      ]
     },
     "metadata": {},
     "output_type": "display_data"
    },
    {
     "data": {
      "text/html": [
       "<ul><li><a href=\"http://postnauka.ru/video/31688\">http://postnauka.ru/video/31688</a></li></ul>"
      ],
      "text/plain": [
       "<IPython.core.display.HTML object>"
      ]
     },
     "metadata": {},
     "output_type": "display_data"
    },
    {
     "data": {
      "text/html": [
       "<ul><li><a href=\"http://postnauka.ru/video/17825\">http://postnauka.ru/video/17825</a></li></ul>"
      ],
      "text/plain": [
       "<IPython.core.display.HTML object>"
      ]
     },
     "metadata": {},
     "output_type": "display_data"
    },
    {
     "data": {
      "text/html": [
       "<ul><li><a href=\"http://postnauka.ru/video/38009\">http://postnauka.ru/video/38009</a></li></ul>"
      ],
      "text/plain": [
       "<IPython.core.display.HTML object>"
      ]
     },
     "metadata": {},
     "output_type": "display_data"
    },
    {
     "data": {
      "text/html": [
       "<ul><li><a href=\"http://postnauka.ru/video/34414\">http://postnauka.ru/video/34414</a></li></ul>"
      ],
      "text/plain": [
       "<IPython.core.display.HTML object>"
      ]
     },
     "metadata": {},
     "output_type": "display_data"
    },
    {
     "data": {
      "text/html": [
       "<ul><li><a href=\"http://postnauka.ru/video/49455\">http://postnauka.ru/video/49455</a></li></ul>"
      ],
      "text/plain": [
       "<IPython.core.display.HTML object>"
      ]
     },
     "metadata": {},
     "output_type": "display_data"
    },
    {
     "data": {
      "text/html": [
       "<ul><li><a href=\"http://postnauka.ru/video/42221\">http://postnauka.ru/video/42221</a></li></ul>"
      ],
      "text/plain": [
       "<IPython.core.display.HTML object>"
      ]
     },
     "metadata": {},
     "output_type": "display_data"
    },
    {
     "data": {
      "text/html": [
       "<ul><li><a href=\"http://postnauka.ru/video/31666\">http://postnauka.ru/video/31666</a></li></ul>"
      ],
      "text/plain": [
       "<IPython.core.display.HTML object>"
      ]
     },
     "metadata": {},
     "output_type": "display_data"
    },
    {
     "data": {
      "text/html": [
       "<ul><li><a href=\"http://postnauka.ru/video/16822\">http://postnauka.ru/video/16822</a></li></ul>"
      ],
      "text/plain": [
       "<IPython.core.display.HTML object>"
      ]
     },
     "metadata": {},
     "output_type": "display_data"
    },
    {
     "data": {
      "text/html": [
       "<ul><li><a href=\"http://postnauka.ru/video/42220\">http://postnauka.ru/video/42220</a></li></ul>"
      ],
      "text/plain": [
       "<IPython.core.display.HTML object>"
      ]
     },
     "metadata": {},
     "output_type": "display_data"
    },
    {
     "data": {
      "text/html": [
       "<h2>Материал</h2>"
      ],
      "text/plain": [
       "<IPython.core.display.HTML object>"
      ]
     },
     "metadata": {},
     "output_type": "display_data"
    },
    {
     "data": {
      "text/html": [
       "<h4>материал свет оптический полимер применение импульс поверхность электронный использование лазерный</h4>"
      ],
      "text/plain": [
       "<IPython.core.display.HTML object>"
      ]
     },
     "metadata": {},
     "output_type": "display_data"
    },
    {
     "data": {
      "text/html": [
       "<ul><li><a href=\"http://postnauka.ru/video/35065\">http://postnauka.ru/video/35065</a></li></ul>"
      ],
      "text/plain": [
       "<IPython.core.display.HTML object>"
      ]
     },
     "metadata": {},
     "output_type": "display_data"
    },
    {
     "data": {
      "text/html": [
       "<ul><li><a href=\"http://postnauka.ru/video/36187\">http://postnauka.ru/video/36187</a></li></ul>"
      ],
      "text/plain": [
       "<IPython.core.display.HTML object>"
      ]
     },
     "metadata": {},
     "output_type": "display_data"
    },
    {
     "data": {
      "text/html": [
       "<ul><li><a href=\"http://postnauka.ru/video/36655\">http://postnauka.ru/video/36655</a></li></ul>"
      ],
      "text/plain": [
       "<IPython.core.display.HTML object>"
      ]
     },
     "metadata": {},
     "output_type": "display_data"
    },
    {
     "data": {
      "text/html": [
       "<ul><li><a href=\"http://postnauka.ru/video/59579\">http://postnauka.ru/video/59579</a></li></ul>"
      ],
      "text/plain": [
       "<IPython.core.display.HTML object>"
      ]
     },
     "metadata": {},
     "output_type": "display_data"
    },
    {
     "data": {
      "text/html": [
       "<ul><li><a href=\"http://postnauka.ru/video/41686\">http://postnauka.ru/video/41686</a></li></ul>"
      ],
      "text/plain": [
       "<IPython.core.display.HTML object>"
      ]
     },
     "metadata": {},
     "output_type": "display_data"
    },
    {
     "data": {
      "text/html": [
       "<ul><li><a href=\"http://postnauka.ru/video/47818\">http://postnauka.ru/video/47818</a></li></ul>"
      ],
      "text/plain": [
       "<IPython.core.display.HTML object>"
      ]
     },
     "metadata": {},
     "output_type": "display_data"
    },
    {
     "data": {
      "text/html": [
       "<ul><li><a href=\"http://postnauka.ru/video/31182\">http://postnauka.ru/video/31182</a></li></ul>"
      ],
      "text/plain": [
       "<IPython.core.display.HTML object>"
      ]
     },
     "metadata": {},
     "output_type": "display_data"
    },
    {
     "data": {
      "text/html": [
       "<ul><li><a href=\"http://postnauka.ru/video/9144\">http://postnauka.ru/video/9144</a></li></ul>"
      ],
      "text/plain": [
       "<IPython.core.display.HTML object>"
      ]
     },
     "metadata": {},
     "output_type": "display_data"
    },
    {
     "data": {
      "text/html": [
       "<ul><li><a href=\"http://postnauka.ru/video/10379\">http://postnauka.ru/video/10379</a></li></ul>"
      ],
      "text/plain": [
       "<IPython.core.display.HTML object>"
      ]
     },
     "metadata": {},
     "output_type": "display_data"
    },
    {
     "data": {
      "text/html": [
       "<ul><li><a href=\"http://postnauka.ru/video/36490\">http://postnauka.ru/video/36490</a></li></ul>"
      ],
      "text/plain": [
       "<IPython.core.display.HTML object>"
      ]
     },
     "metadata": {},
     "output_type": "display_data"
    },
    {
     "data": {
      "text/html": [
       "<h2>Литература</h2>"
      ],
      "text/plain": [
       "<IPython.core.display.HTML object>"
      ]
     },
     "metadata": {},
     "output_type": "display_data"
    },
    {
     "data": {
      "text/html": [
       "<h4>литература фильм текст литературный кино произведение автор герой жанр кинематограф</h4>"
      ],
      "text/plain": [
       "<IPython.core.display.HTML object>"
      ]
     },
     "metadata": {},
     "output_type": "display_data"
    },
    {
     "data": {
      "text/html": [
       "<ul><li><a href=\"http://postnauka.ru/video/14297\">http://postnauka.ru/video/14297</a></li></ul>"
      ],
      "text/plain": [
       "<IPython.core.display.HTML object>"
      ]
     },
     "metadata": {},
     "output_type": "display_data"
    },
    {
     "data": {
      "text/html": [
       "<ul><li><a href=\"http://postnauka.ru/video/39723\">http://postnauka.ru/video/39723</a></li></ul>"
      ],
      "text/plain": [
       "<IPython.core.display.HTML object>"
      ]
     },
     "metadata": {},
     "output_type": "display_data"
    },
    {
     "data": {
      "text/html": [
       "<ul><li><a href=\"http://postnauka.ru/video/7551\">http://postnauka.ru/video/7551</a></li></ul>"
      ],
      "text/plain": [
       "<IPython.core.display.HTML object>"
      ]
     },
     "metadata": {},
     "output_type": "display_data"
    },
    {
     "data": {
      "text/html": [
       "<ul><li><a href=\"http://postnauka.ru/video/10759\">http://postnauka.ru/video/10759</a></li></ul>"
      ],
      "text/plain": [
       "<IPython.core.display.HTML object>"
      ]
     },
     "metadata": {},
     "output_type": "display_data"
    },
    {
     "data": {
      "text/html": [
       "<ul><li><a href=\"http://postnauka.ru/video/2946\">http://postnauka.ru/video/2946</a></li></ul>"
      ],
      "text/plain": [
       "<IPython.core.display.HTML object>"
      ]
     },
     "metadata": {},
     "output_type": "display_data"
    },
    {
     "data": {
      "text/html": [
       "<ul><li><a href=\"http://postnauka.ru/video/57127\">http://postnauka.ru/video/57127</a></li></ul>"
      ],
      "text/plain": [
       "<IPython.core.display.HTML object>"
      ]
     },
     "metadata": {},
     "output_type": "display_data"
    },
    {
     "data": {
      "text/html": [
       "<ul><li><a href=\"http://postnauka.ru/video/13541\">http://postnauka.ru/video/13541</a></li></ul>"
      ],
      "text/plain": [
       "<IPython.core.display.HTML object>"
      ]
     },
     "metadata": {},
     "output_type": "display_data"
    },
    {
     "data": {
      "text/html": [
       "<ul><li><a href=\"http://postnauka.ru/video/52416\">http://postnauka.ru/video/52416</a></li></ul>"
      ],
      "text/plain": [
       "<IPython.core.display.HTML object>"
      ]
     },
     "metadata": {},
     "output_type": "display_data"
    },
    {
     "data": {
      "text/html": [
       "<ul><li><a href=\"http://postnauka.ru/video/38510\">http://postnauka.ru/video/38510</a></li></ul>"
      ],
      "text/plain": [
       "<IPython.core.display.HTML object>"
      ]
     },
     "metadata": {},
     "output_type": "display_data"
    },
    {
     "data": {
      "text/html": [
       "<ul><li><a href=\"http://postnauka.ru/video/42807\">http://postnauka.ru/video/42807</a></li></ul>"
      ],
      "text/plain": [
       "<IPython.core.display.HTML object>"
      ]
     },
     "metadata": {},
     "output_type": "display_data"
    },
    {
     "data": {
      "text/html": [
       "<h2>Смерть</h2>"
      ],
      "text/plain": [
       "<IPython.core.display.HTML object>"
      ]
     },
     "metadata": {},
     "output_type": "display_data"
    },
    {
     "data": {
      "text/html": [
       "<h4>смерть ритуал диктатура государь обряд правитель конвент орден террор монтаньяр</h4>"
      ],
      "text/plain": [
       "<IPython.core.display.HTML object>"
      ]
     },
     "metadata": {},
     "output_type": "display_data"
    },
    {
     "data": {
      "text/html": [
       "<ul><li><a href=\"http://postnauka.ru/video/1893\">http://postnauka.ru/video/1893</a></li></ul>"
      ],
      "text/plain": [
       "<IPython.core.display.HTML object>"
      ]
     },
     "metadata": {},
     "output_type": "display_data"
    },
    {
     "data": {
      "text/html": [
       "<ul><li><a href=\"http://postnauka.ru/video/1899\">http://postnauka.ru/video/1899</a></li></ul>"
      ],
      "text/plain": [
       "<IPython.core.display.HTML object>"
      ]
     },
     "metadata": {},
     "output_type": "display_data"
    },
    {
     "data": {
      "text/html": [
       "<ul><li><a href=\"http://postnauka.ru/video/12374\">http://postnauka.ru/video/12374</a></li></ul>"
      ],
      "text/plain": [
       "<IPython.core.display.HTML object>"
      ]
     },
     "metadata": {},
     "output_type": "display_data"
    },
    {
     "data": {
      "text/html": [
       "<ul><li><a href=\"http://postnauka.ru/video/34963\">http://postnauka.ru/video/34963</a></li></ul>"
      ],
      "text/plain": [
       "<IPython.core.display.HTML object>"
      ]
     },
     "metadata": {},
     "output_type": "display_data"
    },
    {
     "data": {
      "text/html": [
       "<ul><li><a href=\"http://postnauka.ru/video/41680\">http://postnauka.ru/video/41680</a></li></ul>"
      ],
      "text/plain": [
       "<IPython.core.display.HTML object>"
      ]
     },
     "metadata": {},
     "output_type": "display_data"
    },
    {
     "data": {
      "text/html": [
       "<ul><li><a href=\"http://postnauka.ru/video/19472\">http://postnauka.ru/video/19472</a></li></ul>"
      ],
      "text/plain": [
       "<IPython.core.display.HTML object>"
      ]
     },
     "metadata": {},
     "output_type": "display_data"
    },
    {
     "data": {
      "text/html": [
       "<ul><li><a href=\"http://postnauka.ru/video/37958\">http://postnauka.ru/video/37958</a></li></ul>"
      ],
      "text/plain": [
       "<IPython.core.display.HTML object>"
      ]
     },
     "metadata": {},
     "output_type": "display_data"
    },
    {
     "data": {
      "text/html": [
       "<ul><li><a href=\"http://postnauka.ru/video/48480\">http://postnauka.ru/video/48480</a></li></ul>"
      ],
      "text/plain": [
       "<IPython.core.display.HTML object>"
      ]
     },
     "metadata": {},
     "output_type": "display_data"
    },
    {
     "data": {
      "text/html": [
       "<ul><li><a href=\"http://postnauka.ru/video/37992\">http://postnauka.ru/video/37992</a></li></ul>"
      ],
      "text/plain": [
       "<IPython.core.display.HTML object>"
      ]
     },
     "metadata": {},
     "output_type": "display_data"
    },
    {
     "data": {
      "text/html": [
       "<ul><li><a href=\"http://postnauka.ru/video/32882\">http://postnauka.ru/video/32882</a></li></ul>"
      ],
      "text/plain": [
       "<IPython.core.display.HTML object>"
      ]
     },
     "metadata": {},
     "output_type": "display_data"
    },
    {
     "data": {
      "text/html": [
       "<h2>Химия</h2>"
      ],
      "text/plain": [
       "<IPython.core.display.HTML object>"
      ]
     },
     "metadata": {},
     "output_type": "display_data"
    },
    {
     "data": {
      "text/html": [
       "<h4>структура вещество химический соединение химия давление углерод реакция металл органический</h4>"
      ],
      "text/plain": [
       "<IPython.core.display.HTML object>"
      ]
     },
     "metadata": {},
     "output_type": "display_data"
    },
    {
     "data": {
      "text/html": [
       "<ul><li><a href=\"http://postnauka.ru/video/8953\">http://postnauka.ru/video/8953</a></li></ul>"
      ],
      "text/plain": [
       "<IPython.core.display.HTML object>"
      ]
     },
     "metadata": {},
     "output_type": "display_data"
    },
    {
     "data": {
      "text/html": [
       "<ul><li><a href=\"http://postnauka.ru/video/48107\">http://postnauka.ru/video/48107</a></li></ul>"
      ],
      "text/plain": [
       "<IPython.core.display.HTML object>"
      ]
     },
     "metadata": {},
     "output_type": "display_data"
    },
    {
     "data": {
      "text/html": [
       "<ul><li><a href=\"http://postnauka.ru/video/18048\">http://postnauka.ru/video/18048</a></li></ul>"
      ],
      "text/plain": [
       "<IPython.core.display.HTML object>"
      ]
     },
     "metadata": {},
     "output_type": "display_data"
    },
    {
     "data": {
      "text/html": [
       "<ul><li><a href=\"http://postnauka.ru/video/51490\">http://postnauka.ru/video/51490</a></li></ul>"
      ],
      "text/plain": [
       "<IPython.core.display.HTML object>"
      ]
     },
     "metadata": {},
     "output_type": "display_data"
    },
    {
     "data": {
      "text/html": [
       "<ul><li><a href=\"http://postnauka.ru/video/32668\">http://postnauka.ru/video/32668</a></li></ul>"
      ],
      "text/plain": [
       "<IPython.core.display.HTML object>"
      ]
     },
     "metadata": {},
     "output_type": "display_data"
    },
    {
     "data": {
      "text/html": [
       "<ul><li><a href=\"http://postnauka.ru/video/13700\">http://postnauka.ru/video/13700</a></li></ul>"
      ],
      "text/plain": [
       "<IPython.core.display.HTML object>"
      ]
     },
     "metadata": {},
     "output_type": "display_data"
    },
    {
     "data": {
      "text/html": [
       "<ul><li><a href=\"http://postnauka.ru/video/19086\">http://postnauka.ru/video/19086</a></li></ul>"
      ],
      "text/plain": [
       "<IPython.core.display.HTML object>"
      ]
     },
     "metadata": {},
     "output_type": "display_data"
    },
    {
     "data": {
      "text/html": [
       "<ul><li><a href=\"http://postnauka.ru/video/16171\">http://postnauka.ru/video/16171</a></li></ul>"
      ],
      "text/plain": [
       "<IPython.core.display.HTML object>"
      ]
     },
     "metadata": {},
     "output_type": "display_data"
    },
    {
     "data": {
      "text/html": [
       "<ul><li><a href=\"http://postnauka.ru/video/23253\">http://postnauka.ru/video/23253</a></li></ul>"
      ],
      "text/plain": [
       "<IPython.core.display.HTML object>"
      ]
     },
     "metadata": {},
     "output_type": "display_data"
    },
    {
     "data": {
      "text/html": [
       "<ul><li><a href=\"http://postnauka.ru/video/56295\">http://postnauka.ru/video/56295</a></li></ul>"
      ],
      "text/plain": [
       "<IPython.core.display.HTML object>"
      ]
     },
     "metadata": {},
     "output_type": "display_data"
    },
    {
     "data": {
      "text/html": [
       "<h2>Физика</h2>"
      ],
      "text/plain": [
       "<IPython.core.display.HTML object>"
      ]
     },
     "metadata": {},
     "output_type": "display_data"
    },
    {
     "data": {
      "text/html": [
       "<h4>частица энергия квантовый поле физика атом взаимодействие магнитный электрон кварк</h4>"
      ],
      "text/plain": [
       "<IPython.core.display.HTML object>"
      ]
     },
     "metadata": {},
     "output_type": "display_data"
    },
    {
     "data": {
      "text/html": [
       "<ul><li><a href=\"http://postnauka.ru/video/13043\">http://postnauka.ru/video/13043</a></li></ul>"
      ],
      "text/plain": [
       "<IPython.core.display.HTML object>"
      ]
     },
     "metadata": {},
     "output_type": "display_data"
    },
    {
     "data": {
      "text/html": [
       "<ul><li><a href=\"http://postnauka.ru/video/18870\">http://postnauka.ru/video/18870</a></li></ul>"
      ],
      "text/plain": [
       "<IPython.core.display.HTML object>"
      ]
     },
     "metadata": {},
     "output_type": "display_data"
    },
    {
     "data": {
      "text/html": [
       "<ul><li><a href=\"http://postnauka.ru/video/22760\">http://postnauka.ru/video/22760</a></li></ul>"
      ],
      "text/plain": [
       "<IPython.core.display.HTML object>"
      ]
     },
     "metadata": {},
     "output_type": "display_data"
    },
    {
     "data": {
      "text/html": [
       "<ul><li><a href=\"http://postnauka.ru/video/2945\">http://postnauka.ru/video/2945</a></li></ul>"
      ],
      "text/plain": [
       "<IPython.core.display.HTML object>"
      ]
     },
     "metadata": {},
     "output_type": "display_data"
    },
    {
     "data": {
      "text/html": [
       "<ul><li><a href=\"http://postnauka.ru/video/18873\">http://postnauka.ru/video/18873</a></li></ul>"
      ],
      "text/plain": [
       "<IPython.core.display.HTML object>"
      ]
     },
     "metadata": {},
     "output_type": "display_data"
    },
    {
     "data": {
      "text/html": [
       "<ul><li><a href=\"http://postnauka.ru/video/14283\">http://postnauka.ru/video/14283</a></li></ul>"
      ],
      "text/plain": [
       "<IPython.core.display.HTML object>"
      ]
     },
     "metadata": {},
     "output_type": "display_data"
    },
    {
     "data": {
      "text/html": [
       "<ul><li><a href=\"http://postnauka.ru/video/7753\">http://postnauka.ru/video/7753</a></li></ul>"
      ],
      "text/plain": [
       "<IPython.core.display.HTML object>"
      ]
     },
     "metadata": {},
     "output_type": "display_data"
    },
    {
     "data": {
      "text/html": [
       "<ul><li><a href=\"http://postnauka.ru/video/7311\">http://postnauka.ru/video/7311</a></li></ul>"
      ],
      "text/plain": [
       "<IPython.core.display.HTML object>"
      ]
     },
     "metadata": {},
     "output_type": "display_data"
    },
    {
     "data": {
      "text/html": [
       "<ul><li><a href=\"http://postnauka.ru/video/19457\">http://postnauka.ru/video/19457</a></li></ul>"
      ],
      "text/plain": [
       "<IPython.core.display.HTML object>"
      ]
     },
     "metadata": {},
     "output_type": "display_data"
    },
    {
     "data": {
      "text/html": [
       "<ul><li><a href=\"http://postnauka.ru/video/11651\">http://postnauka.ru/video/11651</a></li></ul>"
      ],
      "text/plain": [
       "<IPython.core.display.HTML object>"
      ]
     },
     "metadata": {},
     "output_type": "display_data"
    },
    {
     "data": {
      "text/html": [
       "<h2>Россия</h2>"
      ],
      "text/plain": [
       "<IPython.core.display.HTML object>"
      ]
     },
     "metadata": {},
     "output_type": "display_data"
    },
    {
     "data": {
      "text/html": [
       "<h4>война россия советский русский власть российский германия мировой реформа историк</h4>"
      ],
      "text/plain": [
       "<IPython.core.display.HTML object>"
      ]
     },
     "metadata": {},
     "output_type": "display_data"
    },
    {
     "data": {
      "text/html": [
       "<ul><li><a href=\"http://postnauka.ru/video/19574\">http://postnauka.ru/video/19574</a></li></ul>"
      ],
      "text/plain": [
       "<IPython.core.display.HTML object>"
      ]
     },
     "metadata": {},
     "output_type": "display_data"
    },
    {
     "data": {
      "text/html": [
       "<ul><li><a href=\"http://postnauka.ru/video/46939\">http://postnauka.ru/video/46939</a></li></ul>"
      ],
      "text/plain": [
       "<IPython.core.display.HTML object>"
      ]
     },
     "metadata": {},
     "output_type": "display_data"
    },
    {
     "data": {
      "text/html": [
       "<ul><li><a href=\"http://postnauka.ru/video/25906\">http://postnauka.ru/video/25906</a></li></ul>"
      ],
      "text/plain": [
       "<IPython.core.display.HTML object>"
      ]
     },
     "metadata": {},
     "output_type": "display_data"
    },
    {
     "data": {
      "text/html": [
       "<ul><li><a href=\"http://postnauka.ru/video/31183\">http://postnauka.ru/video/31183</a></li></ul>"
      ],
      "text/plain": [
       "<IPython.core.display.HTML object>"
      ]
     },
     "metadata": {},
     "output_type": "display_data"
    },
    {
     "data": {
      "text/html": [
       "<ul><li><a href=\"http://postnauka.ru/video/35041\">http://postnauka.ru/video/35041</a></li></ul>"
      ],
      "text/plain": [
       "<IPython.core.display.HTML object>"
      ]
     },
     "metadata": {},
     "output_type": "display_data"
    },
    {
     "data": {
      "text/html": [
       "<ul><li><a href=\"http://postnauka.ru/video/36246\">http://postnauka.ru/video/36246</a></li></ul>"
      ],
      "text/plain": [
       "<IPython.core.display.HTML object>"
      ]
     },
     "metadata": {},
     "output_type": "display_data"
    },
    {
     "data": {
      "text/html": [
       "<ul><li><a href=\"http://postnauka.ru/video/34936\">http://postnauka.ru/video/34936</a></li></ul>"
      ],
      "text/plain": [
       "<IPython.core.display.HTML object>"
      ]
     },
     "metadata": {},
     "output_type": "display_data"
    },
    {
     "data": {
      "text/html": [
       "<ul><li><a href=\"http://postnauka.ru/video/25283\">http://postnauka.ru/video/25283</a></li></ul>"
      ],
      "text/plain": [
       "<IPython.core.display.HTML object>"
      ]
     },
     "metadata": {},
     "output_type": "display_data"
    },
    {
     "data": {
      "text/html": [
       "<ul><li><a href=\"http://postnauka.ru/video/52936\">http://postnauka.ru/video/52936</a></li></ul>"
      ],
      "text/plain": [
       "<IPython.core.display.HTML object>"
      ]
     },
     "metadata": {},
     "output_type": "display_data"
    },
    {
     "data": {
      "text/html": [
       "<ul><li><a href=\"http://postnauka.ru/video/36581\">http://postnauka.ru/video/36581</a></li></ul>"
      ],
      "text/plain": [
       "<IPython.core.display.HTML object>"
      ]
     },
     "metadata": {},
     "output_type": "display_data"
    },
    {
     "data": {
      "text/html": [
       "<h2>Семья</h2>"
      ],
      "text/plain": [
       "<IPython.core.display.HTML object>"
      ]
     },
     "metadata": {},
     "output_type": "display_data"
    },
    {
     "data": {
      "text/html": [
       "<h4>ребенок женщина семья мужчина возраст взрослый сон мать родитель старение</h4>"
      ],
      "text/plain": [
       "<IPython.core.display.HTML object>"
      ]
     },
     "metadata": {},
     "output_type": "display_data"
    },
    {
     "data": {
      "text/html": [
       "<ul><li><a href=\"http://postnauka.ru/video/22892\">http://postnauka.ru/video/22892</a></li></ul>"
      ],
      "text/plain": [
       "<IPython.core.display.HTML object>"
      ]
     },
     "metadata": {},
     "output_type": "display_data"
    },
    {
     "data": {
      "text/html": [
       "<ul><li><a href=\"http://postnauka.ru/video/11361\">http://postnauka.ru/video/11361</a></li></ul>"
      ],
      "text/plain": [
       "<IPython.core.display.HTML object>"
      ]
     },
     "metadata": {},
     "output_type": "display_data"
    },
    {
     "data": {
      "text/html": [
       "<ul><li><a href=\"http://postnauka.ru/video/30678\">http://postnauka.ru/video/30678</a></li></ul>"
      ],
      "text/plain": [
       "<IPython.core.display.HTML object>"
      ]
     },
     "metadata": {},
     "output_type": "display_data"
    },
    {
     "data": {
      "text/html": [
       "<ul><li><a href=\"http://postnauka.ru/video/10753\">http://postnauka.ru/video/10753</a></li></ul>"
      ],
      "text/plain": [
       "<IPython.core.display.HTML object>"
      ]
     },
     "metadata": {},
     "output_type": "display_data"
    },
    {
     "data": {
      "text/html": [
       "<ul><li><a href=\"http://postnauka.ru/video/59638\">http://postnauka.ru/video/59638</a></li></ul>"
      ],
      "text/plain": [
       "<IPython.core.display.HTML object>"
      ]
     },
     "metadata": {},
     "output_type": "display_data"
    },
    {
     "data": {
      "text/html": [
       "<ul><li><a href=\"http://postnauka.ru/video/31220\">http://postnauka.ru/video/31220</a></li></ul>"
      ],
      "text/plain": [
       "<IPython.core.display.HTML object>"
      ]
     },
     "metadata": {},
     "output_type": "display_data"
    },
    {
     "data": {
      "text/html": [
       "<ul><li><a href=\"http://postnauka.ru/video/60527\">http://postnauka.ru/video/60527</a></li></ul>"
      ],
      "text/plain": [
       "<IPython.core.display.HTML object>"
      ]
     },
     "metadata": {},
     "output_type": "display_data"
    },
    {
     "data": {
      "text/html": [
       "<ul><li><a href=\"http://postnauka.ru/video/52948\">http://postnauka.ru/video/52948</a></li></ul>"
      ],
      "text/plain": [
       "<IPython.core.display.HTML object>"
      ]
     },
     "metadata": {},
     "output_type": "display_data"
    },
    {
     "data": {
      "text/html": [
       "<ul><li><a href=\"http://postnauka.ru/video/40266\">http://postnauka.ru/video/40266</a></li></ul>"
      ],
      "text/plain": [
       "<IPython.core.display.HTML object>"
      ]
     },
     "metadata": {},
     "output_type": "display_data"
    },
    {
     "data": {
      "text/html": [
       "<ul><li><a href=\"http://postnauka.ru/video/57866\">http://postnauka.ru/video/57866</a></li></ul>"
      ],
      "text/plain": [
       "<IPython.core.display.HTML object>"
      ]
     },
     "metadata": {},
     "output_type": "display_data"
    },
    {
     "data": {
      "text/html": [
       "<h2>Биология</h2>"
      ],
      "text/plain": [
       "<IPython.core.display.HTML object>"
      ]
     },
     "metadata": {},
     "output_type": "display_data"
    },
    {
     "data": {
      "text/html": [
       "<h4>мозг животное нейрон растение эволюция отбор озеро эволюционный песня сердце</h4>"
      ],
      "text/plain": [
       "<IPython.core.display.HTML object>"
      ]
     },
     "metadata": {},
     "output_type": "display_data"
    },
    {
     "data": {
      "text/html": [
       "<ul><li><a href=\"http://postnauka.ru/video/25097\">http://postnauka.ru/video/25097</a></li></ul>"
      ],
      "text/plain": [
       "<IPython.core.display.HTML object>"
      ]
     },
     "metadata": {},
     "output_type": "display_data"
    },
    {
     "data": {
      "text/html": [
       "<ul><li><a href=\"http://postnauka.ru/video/34413\">http://postnauka.ru/video/34413</a></li></ul>"
      ],
      "text/plain": [
       "<IPython.core.display.HTML object>"
      ]
     },
     "metadata": {},
     "output_type": "display_data"
    },
    {
     "data": {
      "text/html": [
       "<ul><li><a href=\"http://postnauka.ru/video/16821\">http://postnauka.ru/video/16821</a></li></ul>"
      ],
      "text/plain": [
       "<IPython.core.display.HTML object>"
      ]
     },
     "metadata": {},
     "output_type": "display_data"
    },
    {
     "data": {
      "text/html": [
       "<ul><li><a href=\"http://postnauka.ru/video/18007\">http://postnauka.ru/video/18007</a></li></ul>"
      ],
      "text/plain": [
       "<IPython.core.display.HTML object>"
      ]
     },
     "metadata": {},
     "output_type": "display_data"
    },
    {
     "data": {
      "text/html": [
       "<ul><li><a href=\"http://postnauka.ru/video/25890\">http://postnauka.ru/video/25890</a></li></ul>"
      ],
      "text/plain": [
       "<IPython.core.display.HTML object>"
      ]
     },
     "metadata": {},
     "output_type": "display_data"
    },
    {
     "data": {
      "text/html": [
       "<ul><li><a href=\"http://postnauka.ru/video/30261\">http://postnauka.ru/video/30261</a></li></ul>"
      ],
      "text/plain": [
       "<IPython.core.display.HTML object>"
      ]
     },
     "metadata": {},
     "output_type": "display_data"
    },
    {
     "data": {
      "text/html": [
       "<ul><li><a href=\"http://postnauka.ru/video/36350\">http://postnauka.ru/video/36350</a></li></ul>"
      ],
      "text/plain": [
       "<IPython.core.display.HTML object>"
      ]
     },
     "metadata": {},
     "output_type": "display_data"
    },
    {
     "data": {
      "text/html": [
       "<ul><li><a href=\"http://postnauka.ru/video/25321\">http://postnauka.ru/video/25321</a></li></ul>"
      ],
      "text/plain": [
       "<IPython.core.display.HTML object>"
      ]
     },
     "metadata": {},
     "output_type": "display_data"
    },
    {
     "data": {
      "text/html": [
       "<ul><li><a href=\"http://postnauka.ru/video/22077\">http://postnauka.ru/video/22077</a></li></ul>"
      ],
      "text/plain": [
       "<IPython.core.display.HTML object>"
      ]
     },
     "metadata": {},
     "output_type": "display_data"
    },
    {
     "data": {
      "text/html": [
       "<ul><li><a href=\"http://postnauka.ru/video/23172\">http://postnauka.ru/video/23172</a></li></ul>"
      ],
      "text/plain": [
       "<IPython.core.display.HTML object>"
      ]
     },
     "metadata": {},
     "output_type": "display_data"
    },
    {
     "data": {
      "text/html": [
       "<h2>Христианство</h2>"
      ],
      "text/plain": [
       "<IPython.core.display.HTML object>"
      ]
     },
     "metadata": {},
     "output_type": "display_data"
    },
    {
     "data": {
      "text/html": [
       "<h4>территория христианский империя восток народ древний письменность христианство государство памятник</h4>"
      ],
      "text/plain": [
       "<IPython.core.display.HTML object>"
      ]
     },
     "metadata": {},
     "output_type": "display_data"
    },
    {
     "data": {
      "text/html": [
       "<ul><li><a href=\"http://postnauka.ru/video/53171\">http://postnauka.ru/video/53171</a></li></ul>"
      ],
      "text/plain": [
       "<IPython.core.display.HTML object>"
      ]
     },
     "metadata": {},
     "output_type": "display_data"
    },
    {
     "data": {
      "text/html": [
       "<ul><li><a href=\"http://postnauka.ru/video/2527\">http://postnauka.ru/video/2527</a></li></ul>"
      ],
      "text/plain": [
       "<IPython.core.display.HTML object>"
      ]
     },
     "metadata": {},
     "output_type": "display_data"
    },
    {
     "data": {
      "text/html": [
       "<ul><li><a href=\"http://postnauka.ru/video/50071\">http://postnauka.ru/video/50071</a></li></ul>"
      ],
      "text/plain": [
       "<IPython.core.display.HTML object>"
      ]
     },
     "metadata": {},
     "output_type": "display_data"
    },
    {
     "data": {
      "text/html": [
       "<ul><li><a href=\"http://postnauka.ru/video/59201\">http://postnauka.ru/video/59201</a></li></ul>"
      ],
      "text/plain": [
       "<IPython.core.display.HTML object>"
      ]
     },
     "metadata": {},
     "output_type": "display_data"
    },
    {
     "data": {
      "text/html": [
       "<ul><li><a href=\"http://postnauka.ru/video/58742\">http://postnauka.ru/video/58742</a></li></ul>"
      ],
      "text/plain": [
       "<IPython.core.display.HTML object>"
      ]
     },
     "metadata": {},
     "output_type": "display_data"
    },
    {
     "data": {
      "text/html": [
       "<ul><li><a href=\"http://postnauka.ru/video/50066\">http://postnauka.ru/video/50066</a></li></ul>"
      ],
      "text/plain": [
       "<IPython.core.display.HTML object>"
      ]
     },
     "metadata": {},
     "output_type": "display_data"
    },
    {
     "data": {
      "text/html": [
       "<ul><li><a href=\"http://postnauka.ru/video/48959\">http://postnauka.ru/video/48959</a></li></ul>"
      ],
      "text/plain": [
       "<IPython.core.display.HTML object>"
      ]
     },
     "metadata": {},
     "output_type": "display_data"
    },
    {
     "data": {
      "text/html": [
       "<ul><li><a href=\"http://postnauka.ru/video/49203\">http://postnauka.ru/video/49203</a></li></ul>"
      ],
      "text/plain": [
       "<IPython.core.display.HTML object>"
      ]
     },
     "metadata": {},
     "output_type": "display_data"
    },
    {
     "data": {
      "text/html": [
       "<ul><li><a href=\"http://postnauka.ru/video/10751\">http://postnauka.ru/video/10751</a></li></ul>"
      ],
      "text/plain": [
       "<IPython.core.display.HTML object>"
      ]
     },
     "metadata": {},
     "output_type": "display_data"
    },
    {
     "data": {
      "text/html": [
       "<ul><li><a href=\"http://postnauka.ru/video/46313\">http://postnauka.ru/video/46313</a></li></ul>"
      ],
      "text/plain": [
       "<IPython.core.display.HTML object>"
      ]
     },
     "metadata": {},
     "output_type": "display_data"
    },
    {
     "data": {
      "text/html": [
       "<h2>Космос</h2>"
      ],
      "text/plain": [
       "<IPython.core.display.HTML object>"
      ]
     },
     "metadata": {},
     "output_type": "display_data"
    },
    {
     "data": {
      "text/html": [
       "<h4>звезда галактика масса вселенная черный дыра волна излучение скорость телескоп</h4>"
      ],
      "text/plain": [
       "<IPython.core.display.HTML object>"
      ]
     },
     "metadata": {},
     "output_type": "display_data"
    },
    {
     "data": {
      "text/html": [
       "<ul><li><a href=\"http://postnauka.ru/video/31193\">http://postnauka.ru/video/31193</a></li></ul>"
      ],
      "text/plain": [
       "<IPython.core.display.HTML object>"
      ]
     },
     "metadata": {},
     "output_type": "display_data"
    },
    {
     "data": {
      "text/html": [
       "<ul><li><a href=\"http://postnauka.ru/video/17780\">http://postnauka.ru/video/17780</a></li></ul>"
      ],
      "text/plain": [
       "<IPython.core.display.HTML object>"
      ]
     },
     "metadata": {},
     "output_type": "display_data"
    },
    {
     "data": {
      "text/html": [
       "<ul><li><a href=\"http://postnauka.ru/video/2971\">http://postnauka.ru/video/2971</a></li></ul>"
      ],
      "text/plain": [
       "<IPython.core.display.HTML object>"
      ]
     },
     "metadata": {},
     "output_type": "display_data"
    },
    {
     "data": {
      "text/html": [
       "<ul><li><a href=\"http://postnauka.ru/video/45644\">http://postnauka.ru/video/45644</a></li></ul>"
      ],
      "text/plain": [
       "<IPython.core.display.HTML object>"
      ]
     },
     "metadata": {},
     "output_type": "display_data"
    },
    {
     "data": {
      "text/html": [
       "<ul><li><a href=\"http://postnauka.ru/video/48109\">http://postnauka.ru/video/48109</a></li></ul>"
      ],
      "text/plain": [
       "<IPython.core.display.HTML object>"
      ]
     },
     "metadata": {},
     "output_type": "display_data"
    },
    {
     "data": {
      "text/html": [
       "<ul><li><a href=\"http://postnauka.ru/video/30015\">http://postnauka.ru/video/30015</a></li></ul>"
      ],
      "text/plain": [
       "<IPython.core.display.HTML object>"
      ]
     },
     "metadata": {},
     "output_type": "display_data"
    },
    {
     "data": {
      "text/html": [
       "<ul><li><a href=\"http://postnauka.ru/video/57338\">http://postnauka.ru/video/57338</a></li></ul>"
      ],
      "text/plain": [
       "<IPython.core.display.HTML object>"
      ]
     },
     "metadata": {},
     "output_type": "display_data"
    },
    {
     "data": {
      "text/html": [
       "<ul><li><a href=\"http://postnauka.ru/video/17779\">http://postnauka.ru/video/17779</a></li></ul>"
      ],
      "text/plain": [
       "<IPython.core.display.HTML object>"
      ]
     },
     "metadata": {},
     "output_type": "display_data"
    },
    {
     "data": {
      "text/html": [
       "<ul><li><a href=\"http://postnauka.ru/video/23506\">http://postnauka.ru/video/23506</a></li></ul>"
      ],
      "text/plain": [
       "<IPython.core.display.HTML object>"
      ]
     },
     "metadata": {},
     "output_type": "display_data"
    },
    {
     "data": {
      "text/html": [
       "<ul><li><a href=\"http://postnauka.ru/video/23502\">http://postnauka.ru/video/23502</a></li></ul>"
      ],
      "text/plain": [
       "<IPython.core.display.HTML object>"
      ]
     },
     "metadata": {},
     "output_type": "display_data"
    },
    {
     "data": {
      "text/html": [
       "<h2>Информатика</h2>"
      ],
      "text/plain": [
       "<IPython.core.display.HTML object>"
      ]
     },
     "metadata": {},
     "output_type": "display_data"
    },
    {
     "data": {
      "text/html": [
       "<h4>задача информация память решение данные компьютер психология мышление когнитивный внимание</h4>"
      ],
      "text/plain": [
       "<IPython.core.display.HTML object>"
      ]
     },
     "metadata": {},
     "output_type": "display_data"
    },
    {
     "data": {
      "text/html": [
       "<ul><li><a href=\"http://postnauka.ru/video/56052\">http://postnauka.ru/video/56052</a></li></ul>"
      ],
      "text/plain": [
       "<IPython.core.display.HTML object>"
      ]
     },
     "metadata": {},
     "output_type": "display_data"
    },
    {
     "data": {
      "text/html": [
       "<ul><li><a href=\"http://postnauka.ru/video/24451\">http://postnauka.ru/video/24451</a></li></ul>"
      ],
      "text/plain": [
       "<IPython.core.display.HTML object>"
      ]
     },
     "metadata": {},
     "output_type": "display_data"
    },
    {
     "data": {
      "text/html": [
       "<ul><li><a href=\"http://postnauka.ru/video/24182\">http://postnauka.ru/video/24182</a></li></ul>"
      ],
      "text/plain": [
       "<IPython.core.display.HTML object>"
      ]
     },
     "metadata": {},
     "output_type": "display_data"
    },
    {
     "data": {
      "text/html": [
       "<ul><li><a href=\"http://postnauka.ru/video/5181\">http://postnauka.ru/video/5181</a></li></ul>"
      ],
      "text/plain": [
       "<IPython.core.display.HTML object>"
      ]
     },
     "metadata": {},
     "output_type": "display_data"
    },
    {
     "data": {
      "text/html": [
       "<ul><li><a href=\"http://postnauka.ru/video/26633\">http://postnauka.ru/video/26633</a></li></ul>"
      ],
      "text/plain": [
       "<IPython.core.display.HTML object>"
      ]
     },
     "metadata": {},
     "output_type": "display_data"
    },
    {
     "data": {
      "text/html": [
       "<ul><li><a href=\"http://postnauka.ru/video/57336\">http://postnauka.ru/video/57336</a></li></ul>"
      ],
      "text/plain": [
       "<IPython.core.display.HTML object>"
      ]
     },
     "metadata": {},
     "output_type": "display_data"
    },
    {
     "data": {
      "text/html": [
       "<ul><li><a href=\"http://postnauka.ru/video/53949\">http://postnauka.ru/video/53949</a></li></ul>"
      ],
      "text/plain": [
       "<IPython.core.display.HTML object>"
      ]
     },
     "metadata": {},
     "output_type": "display_data"
    },
    {
     "data": {
      "text/html": [
       "<ul><li><a href=\"http://postnauka.ru/video/19577\">http://postnauka.ru/video/19577</a></li></ul>"
      ],
      "text/plain": [
       "<IPython.core.display.HTML object>"
      ]
     },
     "metadata": {},
     "output_type": "display_data"
    },
    {
     "data": {
      "text/html": [
       "<ul><li><a href=\"http://postnauka.ru/video/17421\">http://postnauka.ru/video/17421</a></li></ul>"
      ],
      "text/plain": [
       "<IPython.core.display.HTML object>"
      ]
     },
     "metadata": {},
     "output_type": "display_data"
    },
    {
     "data": {
      "text/html": [
       "<ul><li><a href=\"http://postnauka.ru/video/54916\">http://postnauka.ru/video/54916</a></li></ul>"
      ],
      "text/plain": [
       "<IPython.core.display.HTML object>"
      ]
     },
     "metadata": {},
     "output_type": "display_data"
    },
    {
     "data": {
      "text/html": [
       "<h2>География</h2>"
      ],
      "text/plain": [
       "<IPython.core.display.HTML object>"
      ]
     },
     "metadata": {},
     "output_type": "display_data"
    },
    {
     "data": {
      "text/html": [
       "<h4>раса океан африка остров америка южный станислав географический монголоид дробышевский</h4>"
      ],
      "text/plain": [
       "<IPython.core.display.HTML object>"
      ]
     },
     "metadata": {},
     "output_type": "display_data"
    },
    {
     "data": {
      "text/html": [
       "<ul><li><a href=\"http://postnauka.ru/video/17397\">http://postnauka.ru/video/17397</a></li></ul>"
      ],
      "text/plain": [
       "<IPython.core.display.HTML object>"
      ]
     },
     "metadata": {},
     "output_type": "display_data"
    },
    {
     "data": {
      "text/html": [
       "<ul><li><a href=\"http://postnauka.ru/video/31707\">http://postnauka.ru/video/31707</a></li></ul>"
      ],
      "text/plain": [
       "<IPython.core.display.HTML object>"
      ]
     },
     "metadata": {},
     "output_type": "display_data"
    },
    {
     "data": {
      "text/html": [
       "<ul><li><a href=\"http://postnauka.ru/video/37732\">http://postnauka.ru/video/37732</a></li></ul>"
      ],
      "text/plain": [
       "<IPython.core.display.HTML object>"
      ]
     },
     "metadata": {},
     "output_type": "display_data"
    },
    {
     "data": {
      "text/html": [
       "<ul><li><a href=\"http://postnauka.ru/video/49262\">http://postnauka.ru/video/49262</a></li></ul>"
      ],
      "text/plain": [
       "<IPython.core.display.HTML object>"
      ]
     },
     "metadata": {},
     "output_type": "display_data"
    },
    {
     "data": {
      "text/html": [
       "<ul><li><a href=\"http://postnauka.ru/video/32898\">http://postnauka.ru/video/32898</a></li></ul>"
      ],
      "text/plain": [
       "<IPython.core.display.HTML object>"
      ]
     },
     "metadata": {},
     "output_type": "display_data"
    },
    {
     "data": {
      "text/html": [
       "<ul><li><a href=\"http://postnauka.ru/video/42735\">http://postnauka.ru/video/42735</a></li></ul>"
      ],
      "text/plain": [
       "<IPython.core.display.HTML object>"
      ]
     },
     "metadata": {},
     "output_type": "display_data"
    },
    {
     "data": {
      "text/html": [
       "<ul><li><a href=\"http://postnauka.ru/video/42707\">http://postnauka.ru/video/42707</a></li></ul>"
      ],
      "text/plain": [
       "<IPython.core.display.HTML object>"
      ]
     },
     "metadata": {},
     "output_type": "display_data"
    },
    {
     "data": {
      "text/html": [
       "<ul><li><a href=\"http://postnauka.ru/video/35150\">http://postnauka.ru/video/35150</a></li></ul>"
      ],
      "text/plain": [
       "<IPython.core.display.HTML object>"
      ]
     },
     "metadata": {},
     "output_type": "display_data"
    },
    {
     "data": {
      "text/html": [
       "<ul><li><a href=\"http://postnauka.ru/video/40880\">http://postnauka.ru/video/40880</a></li></ul>"
      ],
      "text/plain": [
       "<IPython.core.display.HTML object>"
      ]
     },
     "metadata": {},
     "output_type": "display_data"
    },
    {
     "data": {
      "text/html": [
       "<ul><li><a href=\"http://postnauka.ru/video/36253\">http://postnauka.ru/video/36253</a></li></ul>"
      ],
      "text/plain": [
       "<IPython.core.display.HTML object>"
      ]
     },
     "metadata": {},
     "output_type": "display_data"
    },
    {
     "data": {
      "text/html": [
       "<h2>Философия</h2>"
      ],
      "text/plain": [
       "<IPython.core.display.HTML object>"
      ]
     },
     "metadata": {},
     "output_type": "display_data"
    },
    {
     "data": {
      "text/html": [
       "<h4>политический философия государство философский философ свобода идеология платон мысль враг</h4>"
      ],
      "text/plain": [
       "<IPython.core.display.HTML object>"
      ]
     },
     "metadata": {},
     "output_type": "display_data"
    },
    {
     "data": {
      "text/html": [
       "<ul><li><a href=\"http://postnauka.ru/video/12738\">http://postnauka.ru/video/12738</a></li></ul>"
      ],
      "text/plain": [
       "<IPython.core.display.HTML object>"
      ]
     },
     "metadata": {},
     "output_type": "display_data"
    },
    {
     "data": {
      "text/html": [
       "<ul><li><a href=\"http://postnauka.ru/video/3418\">http://postnauka.ru/video/3418</a></li></ul>"
      ],
      "text/plain": [
       "<IPython.core.display.HTML object>"
      ]
     },
     "metadata": {},
     "output_type": "display_data"
    },
    {
     "data": {
      "text/html": [
       "<ul><li><a href=\"http://postnauka.ru/video/32906\">http://postnauka.ru/video/32906</a></li></ul>"
      ],
      "text/plain": [
       "<IPython.core.display.HTML object>"
      ]
     },
     "metadata": {},
     "output_type": "display_data"
    },
    {
     "data": {
      "text/html": [
       "<ul><li><a href=\"http://postnauka.ru/video/37965\">http://postnauka.ru/video/37965</a></li></ul>"
      ],
      "text/plain": [
       "<IPython.core.display.HTML object>"
      ]
     },
     "metadata": {},
     "output_type": "display_data"
    },
    {
     "data": {
      "text/html": [
       "<ul><li><a href=\"http://postnauka.ru/video/53513\">http://postnauka.ru/video/53513</a></li></ul>"
      ],
      "text/plain": [
       "<IPython.core.display.HTML object>"
      ]
     },
     "metadata": {},
     "output_type": "display_data"
    },
    {
     "data": {
      "text/html": [
       "<ul><li><a href=\"http://postnauka.ru/video/42088\">http://postnauka.ru/video/42088</a></li></ul>"
      ],
      "text/plain": [
       "<IPython.core.display.HTML object>"
      ]
     },
     "metadata": {},
     "output_type": "display_data"
    },
    {
     "data": {
      "text/html": [
       "<ul><li><a href=\"http://postnauka.ru/video/2526\">http://postnauka.ru/video/2526</a></li></ul>"
      ],
      "text/plain": [
       "<IPython.core.display.HTML object>"
      ]
     },
     "metadata": {},
     "output_type": "display_data"
    },
    {
     "data": {
      "text/html": [
       "<ul><li><a href=\"http://postnauka.ru/video/36976\">http://postnauka.ru/video/36976</a></li></ul>"
      ],
      "text/plain": [
       "<IPython.core.display.HTML object>"
      ]
     },
     "metadata": {},
     "output_type": "display_data"
    },
    {
     "data": {
      "text/html": [
       "<ul><li><a href=\"http://postnauka.ru/video/9728\">http://postnauka.ru/video/9728</a></li></ul>"
      ],
      "text/plain": [
       "<IPython.core.display.HTML object>"
      ]
     },
     "metadata": {},
     "output_type": "display_data"
    },
    {
     "data": {
      "text/html": [
       "<ul><li><a href=\"http://postnauka.ru/video/31690\">http://postnauka.ru/video/31690</a></li></ul>"
      ],
      "text/plain": [
       "<IPython.core.display.HTML object>"
      ]
     },
     "metadata": {},
     "output_type": "display_data"
    },
    {
     "data": {
      "text/html": [
       "<h2>Грамматика</h2>"
      ],
      "text/plain": [
       "<IPython.core.display.HTML object>"
      ]
     },
     "metadata": {},
     "output_type": "display_data"
    },
    {
     "data": {
      "text/html": [
       "<h4>язык слово русский словарь текст предложение лингвист значение категория глагол</h4>"
      ],
      "text/plain": [
       "<IPython.core.display.HTML object>"
      ]
     },
     "metadata": {},
     "output_type": "display_data"
    },
    {
     "data": {
      "text/html": [
       "<ul><li><a href=\"http://postnauka.ru/video/22433\">http://postnauka.ru/video/22433</a></li></ul>"
      ],
      "text/plain": [
       "<IPython.core.display.HTML object>"
      ]
     },
     "metadata": {},
     "output_type": "display_data"
    },
    {
     "data": {
      "text/html": [
       "<ul><li><a href=\"http://postnauka.ru/video/36272\">http://postnauka.ru/video/36272</a></li></ul>"
      ],
      "text/plain": [
       "<IPython.core.display.HTML object>"
      ]
     },
     "metadata": {},
     "output_type": "display_data"
    },
    {
     "data": {
      "text/html": [
       "<ul><li><a href=\"http://postnauka.ru/video/3403\">http://postnauka.ru/video/3403</a></li></ul>"
      ],
      "text/plain": [
       "<IPython.core.display.HTML object>"
      ]
     },
     "metadata": {},
     "output_type": "display_data"
    },
    {
     "data": {
      "text/html": [
       "<ul><li><a href=\"http://postnauka.ru/video/2961\">http://postnauka.ru/video/2961</a></li></ul>"
      ],
      "text/plain": [
       "<IPython.core.display.HTML object>"
      ]
     },
     "metadata": {},
     "output_type": "display_data"
    },
    {
     "data": {
      "text/html": [
       "<ul><li><a href=\"http://postnauka.ru/video/1898\">http://postnauka.ru/video/1898</a></li></ul>"
      ],
      "text/plain": [
       "<IPython.core.display.HTML object>"
      ]
     },
     "metadata": {},
     "output_type": "display_data"
    },
    {
     "data": {
      "text/html": [
       "<ul><li><a href=\"http://postnauka.ru/video/51374\">http://postnauka.ru/video/51374</a></li></ul>"
      ],
      "text/plain": [
       "<IPython.core.display.HTML object>"
      ]
     },
     "metadata": {},
     "output_type": "display_data"
    },
    {
     "data": {
      "text/html": [
       "<ul><li><a href=\"http://postnauka.ru/video/53644\">http://postnauka.ru/video/53644</a></li></ul>"
      ],
      "text/plain": [
       "<IPython.core.display.HTML object>"
      ]
     },
     "metadata": {},
     "output_type": "display_data"
    },
    {
     "data": {
      "text/html": [
       "<ul><li><a href=\"http://postnauka.ru/video/56616\">http://postnauka.ru/video/56616</a></li></ul>"
      ],
      "text/plain": [
       "<IPython.core.display.HTML object>"
      ]
     },
     "metadata": {},
     "output_type": "display_data"
    },
    {
     "data": {
      "text/html": [
       "<ul><li><a href=\"http://postnauka.ru/video/30017\">http://postnauka.ru/video/30017</a></li></ul>"
      ],
      "text/plain": [
       "<IPython.core.display.HTML object>"
      ]
     },
     "metadata": {},
     "output_type": "display_data"
    },
    {
     "data": {
      "text/html": [
       "<ul><li><a href=\"http://postnauka.ru/video/51499\">http://postnauka.ru/video/51499</a></li></ul>"
      ],
      "text/plain": [
       "<IPython.core.display.HTML object>"
      ]
     },
     "metadata": {},
     "output_type": "display_data"
    },
    {
     "data": {
      "text/html": [
       "<h2>Революция</h2>"
      ],
      "text/plain": [
       "<IPython.core.display.HTML object>"
      ]
     },
     "metadata": {},
     "output_type": "display_data"
    },
    {
     "data": {
      "text/html": [
       "<h4>революция французский франция театр король роман костюм нация национальный актер</h4>"
      ],
      "text/plain": [
       "<IPython.core.display.HTML object>"
      ]
     },
     "metadata": {},
     "output_type": "display_data"
    },
    {
     "data": {
      "text/html": [
       "<ul><li><a href=\"http://postnauka.ru/video/24279\">http://postnauka.ru/video/24279</a></li></ul>"
      ],
      "text/plain": [
       "<IPython.core.display.HTML object>"
      ]
     },
     "metadata": {},
     "output_type": "display_data"
    },
    {
     "data": {
      "text/html": [
       "<ul><li><a href=\"http://postnauka.ru/video/48492\">http://postnauka.ru/video/48492</a></li></ul>"
      ],
      "text/plain": [
       "<IPython.core.display.HTML object>"
      ]
     },
     "metadata": {},
     "output_type": "display_data"
    },
    {
     "data": {
      "text/html": [
       "<ul><li><a href=\"http://postnauka.ru/video/40004\">http://postnauka.ru/video/40004</a></li></ul>"
      ],
      "text/plain": [
       "<IPython.core.display.HTML object>"
      ]
     },
     "metadata": {},
     "output_type": "display_data"
    },
    {
     "data": {
      "text/html": [
       "<ul><li><a href=\"http://postnauka.ru/video/47823\">http://postnauka.ru/video/47823</a></li></ul>"
      ],
      "text/plain": [
       "<IPython.core.display.HTML object>"
      ]
     },
     "metadata": {},
     "output_type": "display_data"
    },
    {
     "data": {
      "text/html": [
       "<ul><li><a href=\"http://postnauka.ru/video/43843\">http://postnauka.ru/video/43843</a></li></ul>"
      ],
      "text/plain": [
       "<IPython.core.display.HTML object>"
      ]
     },
     "metadata": {},
     "output_type": "display_data"
    },
    {
     "data": {
      "text/html": [
       "<ul><li><a href=\"http://postnauka.ru/video/54175\">http://postnauka.ru/video/54175</a></li></ul>"
      ],
      "text/plain": [
       "<IPython.core.display.HTML object>"
      ]
     },
     "metadata": {},
     "output_type": "display_data"
    },
    {
     "data": {
      "text/html": [
       "<ul><li><a href=\"http://postnauka.ru/video/48455\">http://postnauka.ru/video/48455</a></li></ul>"
      ],
      "text/plain": [
       "<IPython.core.display.HTML object>"
      ]
     },
     "metadata": {},
     "output_type": "display_data"
    },
    {
     "data": {
      "text/html": [
       "<ul><li><a href=\"http://postnauka.ru/video/58542\">http://postnauka.ru/video/58542</a></li></ul>"
      ],
      "text/plain": [
       "<IPython.core.display.HTML object>"
      ]
     },
     "metadata": {},
     "output_type": "display_data"
    },
    {
     "data": {
      "text/html": [
       "<ul><li><a href=\"http://postnauka.ru/video/22079\">http://postnauka.ru/video/22079</a></li></ul>"
      ],
      "text/plain": [
       "<IPython.core.display.HTML object>"
      ]
     },
     "metadata": {},
     "output_type": "display_data"
    },
    {
     "data": {
      "text/html": [
       "<ul><li><a href=\"http://postnauka.ru/video/23470\">http://postnauka.ru/video/23470</a></li></ul>"
      ],
      "text/plain": [
       "<IPython.core.display.HTML object>"
      ]
     },
     "metadata": {},
     "output_type": "display_data"
    },
    {
     "data": {
      "text/html": [
       "<h2>Город</h2>"
      ],
      "text/plain": [
       "<IPython.core.display.HTML object>"
      ]
     },
     "metadata": {},
     "output_type": "display_data"
    },
    {
     "data": {
      "text/html": [
       "<h4>город сеть робот городской интернет пользователь компания музей медиа горожанин</h4>"
      ],
      "text/plain": [
       "<IPython.core.display.HTML object>"
      ]
     },
     "metadata": {},
     "output_type": "display_data"
    },
    {
     "data": {
      "text/html": [
       "<ul><li><a href=\"http://postnauka.ru/video/13742\">http://postnauka.ru/video/13742</a></li></ul>"
      ],
      "text/plain": [
       "<IPython.core.display.HTML object>"
      ]
     },
     "metadata": {},
     "output_type": "display_data"
    },
    {
     "data": {
      "text/html": [
       "<ul><li><a href=\"http://postnauka.ru/video/12515\">http://postnauka.ru/video/12515</a></li></ul>"
      ],
      "text/plain": [
       "<IPython.core.display.HTML object>"
      ]
     },
     "metadata": {},
     "output_type": "display_data"
    },
    {
     "data": {
      "text/html": [
       "<ul><li><a href=\"http://postnauka.ru/video/11634\">http://postnauka.ru/video/11634</a></li></ul>"
      ],
      "text/plain": [
       "<IPython.core.display.HTML object>"
      ]
     },
     "metadata": {},
     "output_type": "display_data"
    },
    {
     "data": {
      "text/html": [
       "<ul><li><a href=\"http://postnauka.ru/video/34424\">http://postnauka.ru/video/34424</a></li></ul>"
      ],
      "text/plain": [
       "<IPython.core.display.HTML object>"
      ]
     },
     "metadata": {},
     "output_type": "display_data"
    },
    {
     "data": {
      "text/html": [
       "<ul><li><a href=\"http://postnauka.ru/video/9998\">http://postnauka.ru/video/9998</a></li></ul>"
      ],
      "text/plain": [
       "<IPython.core.display.HTML object>"
      ]
     },
     "metadata": {},
     "output_type": "display_data"
    },
    {
     "data": {
      "text/html": [
       "<ul><li><a href=\"http://postnauka.ru/video/7068\">http://postnauka.ru/video/7068</a></li></ul>"
      ],
      "text/plain": [
       "<IPython.core.display.HTML object>"
      ]
     },
     "metadata": {},
     "output_type": "display_data"
    },
    {
     "data": {
      "text/html": [
       "<ul><li><a href=\"http://postnauka.ru/video/17604\">http://postnauka.ru/video/17604</a></li></ul>"
      ],
      "text/plain": [
       "<IPython.core.display.HTML object>"
      ]
     },
     "metadata": {},
     "output_type": "display_data"
    },
    {
     "data": {
      "text/html": [
       "<ul><li><a href=\"http://postnauka.ru/video/47301\">http://postnauka.ru/video/47301</a></li></ul>"
      ],
      "text/plain": [
       "<IPython.core.display.HTML object>"
      ]
     },
     "metadata": {},
     "output_type": "display_data"
    },
    {
     "data": {
      "text/html": [
       "<ul><li><a href=\"http://postnauka.ru/video/8313\">http://postnauka.ru/video/8313</a></li></ul>"
      ],
      "text/plain": [
       "<IPython.core.display.HTML object>"
      ]
     },
     "metadata": {},
     "output_type": "display_data"
    },
    {
     "data": {
      "text/html": [
       "<ul><li><a href=\"http://postnauka.ru/video/25253\">http://postnauka.ru/video/25253</a></li></ul>"
      ],
      "text/plain": [
       "<IPython.core.display.HTML object>"
      ]
     },
     "metadata": {},
     "output_type": "display_data"
    },
    {
     "data": {
      "text/html": [
       "<h2>Медицина</h2>"
      ],
      "text/plain": [
       "<IPython.core.display.HTML object>"
      ]
     },
     "metadata": {},
     "output_type": "display_data"
    },
    {
     "data": {
      "text/html": [
       "<h4>болезнь заболевание пациент лечение медицина врач боль препарат медицинский операция</h4>"
      ],
      "text/plain": [
       "<IPython.core.display.HTML object>"
      ]
     },
     "metadata": {},
     "output_type": "display_data"
    },
    {
     "data": {
      "text/html": [
       "<ul><li><a href=\"http://postnauka.ru/video/2541\">http://postnauka.ru/video/2541</a></li></ul>"
      ],
      "text/plain": [
       "<IPython.core.display.HTML object>"
      ]
     },
     "metadata": {},
     "output_type": "display_data"
    },
    {
     "data": {
      "text/html": [
       "<ul><li><a href=\"http://postnauka.ru/video/54325\">http://postnauka.ru/video/54325</a></li></ul>"
      ],
      "text/plain": [
       "<IPython.core.display.HTML object>"
      ]
     },
     "metadata": {},
     "output_type": "display_data"
    },
    {
     "data": {
      "text/html": [
       "<ul><li><a href=\"http://postnauka.ru/video/12974\">http://postnauka.ru/video/12974</a></li></ul>"
      ],
      "text/plain": [
       "<IPython.core.display.HTML object>"
      ]
     },
     "metadata": {},
     "output_type": "display_data"
    },
    {
     "data": {
      "text/html": [
       "<ul><li><a href=\"http://postnauka.ru/video/49206\">http://postnauka.ru/video/49206</a></li></ul>"
      ],
      "text/plain": [
       "<IPython.core.display.HTML object>"
      ]
     },
     "metadata": {},
     "output_type": "display_data"
    },
    {
     "data": {
      "text/html": [
       "<ul><li><a href=\"http://postnauka.ru/video/13746\">http://postnauka.ru/video/13746</a></li></ul>"
      ],
      "text/plain": [
       "<IPython.core.display.HTML object>"
      ]
     },
     "metadata": {},
     "output_type": "display_data"
    },
    {
     "data": {
      "text/html": [
       "<ul><li><a href=\"http://postnauka.ru/video/45961\">http://postnauka.ru/video/45961</a></li></ul>"
      ],
      "text/plain": [
       "<IPython.core.display.HTML object>"
      ]
     },
     "metadata": {},
     "output_type": "display_data"
    },
    {
     "data": {
      "text/html": [
       "<ul><li><a href=\"http://postnauka.ru/video/532\">http://postnauka.ru/video/532</a></li></ul>"
      ],
      "text/plain": [
       "<IPython.core.display.HTML object>"
      ]
     },
     "metadata": {},
     "output_type": "display_data"
    },
    {
     "data": {
      "text/html": [
       "<ul><li><a href=\"http://postnauka.ru/video/51384\">http://postnauka.ru/video/51384</a></li></ul>"
      ],
      "text/plain": [
       "<IPython.core.display.HTML object>"
      ]
     },
     "metadata": {},
     "output_type": "display_data"
    },
    {
     "data": {
      "text/html": [
       "<ul><li><a href=\"http://postnauka.ru/video/27925\">http://postnauka.ru/video/27925</a></li></ul>"
      ],
      "text/plain": [
       "<IPython.core.display.HTML object>"
      ]
     },
     "metadata": {},
     "output_type": "display_data"
    },
    {
     "data": {
      "text/html": [
       "<ul><li><a href=\"http://postnauka.ru/video/17049\">http://postnauka.ru/video/17049</a></li></ul>"
      ],
      "text/plain": [
       "<IPython.core.display.HTML object>"
      ]
     },
     "metadata": {},
     "output_type": "display_data"
    },
    {
     "data": {
      "text/html": [
       "<h2>Социология</h2>"
      ],
      "text/plain": [
       "<IPython.core.display.HTML object>"
      ]
     },
     "metadata": {},
     "output_type": "display_data"
    },
    {
     "data": {
      "text/html": [
       "<h4>социальный знание социология социологический дисциплина познание социолог повседневный виктор машинный</h4>"
      ],
      "text/plain": [
       "<IPython.core.display.HTML object>"
      ]
     },
     "metadata": {},
     "output_type": "display_data"
    },
    {
     "data": {
      "text/html": [
       "<ul><li><a href=\"http://postnauka.ru/video/10783\">http://postnauka.ru/video/10783</a></li></ul>"
      ],
      "text/plain": [
       "<IPython.core.display.HTML object>"
      ]
     },
     "metadata": {},
     "output_type": "display_data"
    },
    {
     "data": {
      "text/html": [
       "<ul><li><a href=\"http://postnauka.ru/video/434\">http://postnauka.ru/video/434</a></li></ul>"
      ],
      "text/plain": [
       "<IPython.core.display.HTML object>"
      ]
     },
     "metadata": {},
     "output_type": "display_data"
    },
    {
     "data": {
      "text/html": [
       "<ul><li><a href=\"http://postnauka.ru/video/12083\">http://postnauka.ru/video/12083</a></li></ul>"
      ],
      "text/plain": [
       "<IPython.core.display.HTML object>"
      ]
     },
     "metadata": {},
     "output_type": "display_data"
    },
    {
     "data": {
      "text/html": [
       "<ul><li><a href=\"http://postnauka.ru/video/17491\">http://postnauka.ru/video/17491</a></li></ul>"
      ],
      "text/plain": [
       "<IPython.core.display.HTML object>"
      ]
     },
     "metadata": {},
     "output_type": "display_data"
    },
    {
     "data": {
      "text/html": [
       "<ul><li><a href=\"http://postnauka.ru/video/6380\">http://postnauka.ru/video/6380</a></li></ul>"
      ],
      "text/plain": [
       "<IPython.core.display.HTML object>"
      ]
     },
     "metadata": {},
     "output_type": "display_data"
    },
    {
     "data": {
      "text/html": [
       "<ul><li><a href=\"http://postnauka.ru/video/20720\">http://postnauka.ru/video/20720</a></li></ul>"
      ],
      "text/plain": [
       "<IPython.core.display.HTML object>"
      ]
     },
     "metadata": {},
     "output_type": "display_data"
    },
    {
     "data": {
      "text/html": [
       "<ul><li><a href=\"http://postnauka.ru/video/2530\">http://postnauka.ru/video/2530</a></li></ul>"
      ],
      "text/plain": [
       "<IPython.core.display.HTML object>"
      ]
     },
     "metadata": {},
     "output_type": "display_data"
    },
    {
     "data": {
      "text/html": [
       "<ul><li><a href=\"http://postnauka.ru/video/3628\">http://postnauka.ru/video/3628</a></li></ul>"
      ],
      "text/plain": [
       "<IPython.core.display.HTML object>"
      ]
     },
     "metadata": {},
     "output_type": "display_data"
    },
    {
     "data": {
      "text/html": [
       "<ul><li><a href=\"http://postnauka.ru/video/11640\">http://postnauka.ru/video/11640</a></li></ul>"
      ],
      "text/plain": [
       "<IPython.core.display.HTML object>"
      ]
     },
     "metadata": {},
     "output_type": "display_data"
    },
    {
     "data": {
      "text/html": [
       "<ul><li><a href=\"http://postnauka.ru/video/23361\">http://postnauka.ru/video/23361</a></li></ul>"
      ],
      "text/plain": [
       "<IPython.core.display.HTML object>"
      ]
     },
     "metadata": {},
     "output_type": "display_data"
    },
    {
     "data": {
      "text/html": [
       "<h2>Схема</h2>"
      ],
      "text/plain": [
       "<IPython.core.display.HTML object>"
      ]
     },
     "metadata": {},
     "output_type": "display_data"
    },
    {
     "data": {
      "text/html": [
       "<h4>микроорганизм матрица интеллект эмоция алгоритм вычислительный эмоциональный схема искусственный микроб</h4>"
      ],
      "text/plain": [
       "<IPython.core.display.HTML object>"
      ]
     },
     "metadata": {},
     "output_type": "display_data"
    },
    {
     "data": {
      "text/html": [
       "<ul><li><a href=\"http://postnauka.ru/video/31671\">http://postnauka.ru/video/31671</a></li></ul>"
      ],
      "text/plain": [
       "<IPython.core.display.HTML object>"
      ]
     },
     "metadata": {},
     "output_type": "display_data"
    },
    {
     "data": {
      "text/html": [
       "<ul><li><a href=\"http://postnauka.ru/video/2531\">http://postnauka.ru/video/2531</a></li></ul>"
      ],
      "text/plain": [
       "<IPython.core.display.HTML object>"
      ]
     },
     "metadata": {},
     "output_type": "display_data"
    },
    {
     "data": {
      "text/html": [
       "<ul><li><a href=\"http://postnauka.ru/video/49437\">http://postnauka.ru/video/49437</a></li></ul>"
      ],
      "text/plain": [
       "<IPython.core.display.HTML object>"
      ]
     },
     "metadata": {},
     "output_type": "display_data"
    },
    {
     "data": {
      "text/html": [
       "<ul><li><a href=\"http://postnauka.ru/video/42416\">http://postnauka.ru/video/42416</a></li></ul>"
      ],
      "text/plain": [
       "<IPython.core.display.HTML object>"
      ]
     },
     "metadata": {},
     "output_type": "display_data"
    },
    {
     "data": {
      "text/html": [
       "<ul><li><a href=\"http://postnauka.ru/video/15981\">http://postnauka.ru/video/15981</a></li></ul>"
      ],
      "text/plain": [
       "<IPython.core.display.HTML object>"
      ]
     },
     "metadata": {},
     "output_type": "display_data"
    },
    {
     "data": {
      "text/html": [
       "<ul><li><a href=\"http://postnauka.ru/video/52738\">http://postnauka.ru/video/52738</a></li></ul>"
      ],
      "text/plain": [
       "<IPython.core.display.HTML object>"
      ]
     },
     "metadata": {},
     "output_type": "display_data"
    },
    {
     "data": {
      "text/html": [
       "<ul><li><a href=\"http://postnauka.ru/video/33788\">http://postnauka.ru/video/33788</a></li></ul>"
      ],
      "text/plain": [
       "<IPython.core.display.HTML object>"
      ]
     },
     "metadata": {},
     "output_type": "display_data"
    },
    {
     "data": {
      "text/html": [
       "<ul><li><a href=\"http://postnauka.ru/video/3352\">http://postnauka.ru/video/3352</a></li></ul>"
      ],
      "text/plain": [
       "<IPython.core.display.HTML object>"
      ]
     },
     "metadata": {},
     "output_type": "display_data"
    },
    {
     "data": {
      "text/html": [
       "<ul><li><a href=\"http://postnauka.ru/video/34964\">http://postnauka.ru/video/34964</a></li></ul>"
      ],
      "text/plain": [
       "<IPython.core.display.HTML object>"
      ]
     },
     "metadata": {},
     "output_type": "display_data"
    },
    {
     "data": {
      "text/html": [
       "<ul><li><a href=\"http://postnauka.ru/video/38018\">http://postnauka.ru/video/38018</a></li></ul>"
      ],
      "text/plain": [
       "<IPython.core.display.HTML object>"
      ]
     },
     "metadata": {},
     "output_type": "display_data"
    },
    {
     "data": {
      "text/html": [
       "<h2>Мифы</h2>"
      ],
      "text/plain": [
       "<IPython.core.display.HTML object>"
      ]
     },
     "metadata": {},
     "output_type": "display_data"
    },
    {
     "data": {
      "text/html": [
       "<h4>бог миф царь греческий море мифология душа грек андрей египетский</h4>"
      ],
      "text/plain": [
       "<IPython.core.display.HTML object>"
      ]
     },
     "metadata": {},
     "output_type": "display_data"
    },
    {
     "data": {
      "text/html": [
       "<ul><li><a href=\"http://postnauka.ru/video/10779\">http://postnauka.ru/video/10779</a></li></ul>"
      ],
      "text/plain": [
       "<IPython.core.display.HTML object>"
      ]
     },
     "metadata": {},
     "output_type": "display_data"
    },
    {
     "data": {
      "text/html": [
       "<ul><li><a href=\"http://postnauka.ru/video/9997\">http://postnauka.ru/video/9997</a></li></ul>"
      ],
      "text/plain": [
       "<IPython.core.display.HTML object>"
      ]
     },
     "metadata": {},
     "output_type": "display_data"
    },
    {
     "data": {
      "text/html": [
       "<ul><li><a href=\"http://postnauka.ru/video/12527\">http://postnauka.ru/video/12527</a></li></ul>"
      ],
      "text/plain": [
       "<IPython.core.display.HTML object>"
      ]
     },
     "metadata": {},
     "output_type": "display_data"
    },
    {
     "data": {
      "text/html": [
       "<ul><li><a href=\"http://postnauka.ru/video/21631\">http://postnauka.ru/video/21631</a></li></ul>"
      ],
      "text/plain": [
       "<IPython.core.display.HTML object>"
      ]
     },
     "metadata": {},
     "output_type": "display_data"
    },
    {
     "data": {
      "text/html": [
       "<ul><li><a href=\"http://postnauka.ru/video/43664\">http://postnauka.ru/video/43664</a></li></ul>"
      ],
      "text/plain": [
       "<IPython.core.display.HTML object>"
      ]
     },
     "metadata": {},
     "output_type": "display_data"
    },
    {
     "data": {
      "text/html": [
       "<ul><li><a href=\"http://postnauka.ru/video/31580\">http://postnauka.ru/video/31580</a></li></ul>"
      ],
      "text/plain": [
       "<IPython.core.display.HTML object>"
      ]
     },
     "metadata": {},
     "output_type": "display_data"
    },
    {
     "data": {
      "text/html": [
       "<ul><li><a href=\"http://postnauka.ru/video/5999\">http://postnauka.ru/video/5999</a></li></ul>"
      ],
      "text/plain": [
       "<IPython.core.display.HTML object>"
      ]
     },
     "metadata": {},
     "output_type": "display_data"
    },
    {
     "data": {
      "text/html": [
       "<ul><li><a href=\"http://postnauka.ru/video/46429\">http://postnauka.ru/video/46429</a></li></ul>"
      ],
      "text/plain": [
       "<IPython.core.display.HTML object>"
      ]
     },
     "metadata": {},
     "output_type": "display_data"
    },
    {
     "data": {
      "text/html": [
       "<ul><li><a href=\"http://postnauka.ru/video/54238\">http://postnauka.ru/video/54238</a></li></ul>"
      ],
      "text/plain": [
       "<IPython.core.display.HTML object>"
      ]
     },
     "metadata": {},
     "output_type": "display_data"
    },
    {
     "data": {
      "text/html": [
       "<ul><li><a href=\"http://postnauka.ru/video/47300\">http://postnauka.ru/video/47300</a></li></ul>"
      ],
      "text/plain": [
       "<IPython.core.display.HTML object>"
      ]
     },
     "metadata": {},
     "output_type": "display_data"
    },
    {
     "data": {
      "text/html": [
       "<h2>Программирование</h2>"
      ],
      "text/plain": [
       "<IPython.core.display.HTML object>"
      ]
     },
     "metadata": {},
     "output_type": "display_data"
    },
    {
     "data": {
      "text/html": [
       "<h4>гласный согласный звук говор компилятор программирование мягкий диалект твердость столыпин</h4>"
      ],
      "text/plain": [
       "<IPython.core.display.HTML object>"
      ]
     },
     "metadata": {},
     "output_type": "display_data"
    },
    {
     "data": {
      "text/html": [
       "<ul><li><a href=\"http://postnauka.ru/video/48114\">http://postnauka.ru/video/48114</a></li></ul>"
      ],
      "text/plain": [
       "<IPython.core.display.HTML object>"
      ]
     },
     "metadata": {},
     "output_type": "display_data"
    },
    {
     "data": {
      "text/html": [
       "<ul><li><a href=\"http://postnauka.ru/video/13041\">http://postnauka.ru/video/13041</a></li></ul>"
      ],
      "text/plain": [
       "<IPython.core.display.HTML object>"
      ]
     },
     "metadata": {},
     "output_type": "display_data"
    },
    {
     "data": {
      "text/html": [
       "<ul><li><a href=\"http://postnauka.ru/video/51171\">http://postnauka.ru/video/51171</a></li></ul>"
      ],
      "text/plain": [
       "<IPython.core.display.HTML object>"
      ]
     },
     "metadata": {},
     "output_type": "display_data"
    },
    {
     "data": {
      "text/html": [
       "<ul><li><a href=\"http://postnauka.ru/video/8964\">http://postnauka.ru/video/8964</a></li></ul>"
      ],
      "text/plain": [
       "<IPython.core.display.HTML object>"
      ]
     },
     "metadata": {},
     "output_type": "display_data"
    },
    {
     "data": {
      "text/html": [
       "<ul><li><a href=\"http://postnauka.ru/video/10773\">http://postnauka.ru/video/10773</a></li></ul>"
      ],
      "text/plain": [
       "<IPython.core.display.HTML object>"
      ]
     },
     "metadata": {},
     "output_type": "display_data"
    },
    {
     "data": {
      "text/html": [
       "<ul><li><a href=\"http://postnauka.ru/video/15341\">http://postnauka.ru/video/15341</a></li></ul>"
      ],
      "text/plain": [
       "<IPython.core.display.HTML object>"
      ]
     },
     "metadata": {},
     "output_type": "display_data"
    },
    {
     "data": {
      "text/html": [
       "<ul><li><a href=\"http://postnauka.ru/video/40001\">http://postnauka.ru/video/40001</a></li></ul>"
      ],
      "text/plain": [
       "<IPython.core.display.HTML object>"
      ]
     },
     "metadata": {},
     "output_type": "display_data"
    },
    {
     "data": {
      "text/html": [
       "<ul><li><a href=\"http://postnauka.ru/video/14284\">http://postnauka.ru/video/14284</a></li></ul>"
      ],
      "text/plain": [
       "<IPython.core.display.HTML object>"
      ]
     },
     "metadata": {},
     "output_type": "display_data"
    },
    {
     "data": {
      "text/html": [
       "<ul><li><a href=\"http://postnauka.ru/video/27944\">http://postnauka.ru/video/27944</a></li></ul>"
      ],
      "text/plain": [
       "<IPython.core.display.HTML object>"
      ]
     },
     "metadata": {},
     "output_type": "display_data"
    },
    {
     "data": {
      "text/html": [
       "<ul><li><a href=\"http://postnauka.ru/video/15343\">http://postnauka.ru/video/15343</a></li></ul>"
      ],
      "text/plain": [
       "<IPython.core.display.HTML object>"
      ]
     },
     "metadata": {},
     "output_type": "display_data"
    },
    {
     "data": {
      "text/html": [
       "<h2>Политика</h2>"
      ],
      "text/plain": [
       "<IPython.core.display.HTML object>"
      ]
     },
     "metadata": {},
     "output_type": "display_data"
    },
    {
     "data": {
      "text/html": [
       "<h4>страна политика экономический экономика сталин кризис праздник крестьянин коллективный принятие</h4>"
      ],
      "text/plain": [
       "<IPython.core.display.HTML object>"
      ]
     },
     "metadata": {},
     "output_type": "display_data"
    },
    {
     "data": {
      "text/html": [
       "<ul><li><a href=\"http://postnauka.ru/video/9389\">http://postnauka.ru/video/9389</a></li></ul>"
      ],
      "text/plain": [
       "<IPython.core.display.HTML object>"
      ]
     },
     "metadata": {},
     "output_type": "display_data"
    },
    {
     "data": {
      "text/html": [
       "<ul><li><a href=\"http://postnauka.ru/video/7781\">http://postnauka.ru/video/7781</a></li></ul>"
      ],
      "text/plain": [
       "<IPython.core.display.HTML object>"
      ]
     },
     "metadata": {},
     "output_type": "display_data"
    },
    {
     "data": {
      "text/html": [
       "<ul><li><a href=\"http://postnauka.ru/video/31684\">http://postnauka.ru/video/31684</a></li></ul>"
      ],
      "text/plain": [
       "<IPython.core.display.HTML object>"
      ]
     },
     "metadata": {},
     "output_type": "display_data"
    },
    {
     "data": {
      "text/html": [
       "<ul><li><a href=\"http://postnauka.ru/video/10380\">http://postnauka.ru/video/10380</a></li></ul>"
      ],
      "text/plain": [
       "<IPython.core.display.HTML object>"
      ]
     },
     "metadata": {},
     "output_type": "display_data"
    },
    {
     "data": {
      "text/html": [
       "<ul><li><a href=\"http://postnauka.ru/video/6758\">http://postnauka.ru/video/6758</a></li></ul>"
      ],
      "text/plain": [
       "<IPython.core.display.HTML object>"
      ]
     },
     "metadata": {},
     "output_type": "display_data"
    },
    {
     "data": {
      "text/html": [
       "<ul><li><a href=\"http://postnauka.ru/video/13152\">http://postnauka.ru/video/13152</a></li></ul>"
      ],
      "text/plain": [
       "<IPython.core.display.HTML object>"
      ]
     },
     "metadata": {},
     "output_type": "display_data"
    },
    {
     "data": {
      "text/html": [
       "<ul><li><a href=\"http://postnauka.ru/video/30601\">http://postnauka.ru/video/30601</a></li></ul>"
      ],
      "text/plain": [
       "<IPython.core.display.HTML object>"
      ]
     },
     "metadata": {},
     "output_type": "display_data"
    },
    {
     "data": {
      "text/html": [
       "<ul><li><a href=\"http://postnauka.ru/video/36242\">http://postnauka.ru/video/36242</a></li></ul>"
      ],
      "text/plain": [
       "<IPython.core.display.HTML object>"
      ]
     },
     "metadata": {},
     "output_type": "display_data"
    },
    {
     "data": {
      "text/html": [
       "<ul><li><a href=\"http://postnauka.ru/video/9429\">http://postnauka.ru/video/9429</a></li></ul>"
      ],
      "text/plain": [
       "<IPython.core.display.HTML object>"
      ]
     },
     "metadata": {},
     "output_type": "display_data"
    },
    {
     "data": {
      "text/html": [
       "<ul><li><a href=\"http://postnauka.ru/video/26616\">http://postnauka.ru/video/26616</a></li></ul>"
      ],
      "text/plain": [
       "<IPython.core.display.HTML object>"
      ]
     },
     "metadata": {},
     "output_type": "display_data"
    },
    {
     "data": {
      "text/html": [
       "<h2>Генетика</h2>"
      ],
      "text/plain": [
       "<IPython.core.display.HTML object>"
      ]
     },
     "metadata": {},
     "output_type": "display_data"
    },
    {
     "data": {
      "text/html": [
       "<h4>клетка ген днк белок организм молекула биологический генетический геном бактерия</h4>"
      ],
      "text/plain": [
       "<IPython.core.display.HTML object>"
      ]
     },
     "metadata": {},
     "output_type": "display_data"
    },
    {
     "data": {
      "text/html": [
       "<ul><li><a href=\"http://postnauka.ru/video/7113\">http://postnauka.ru/video/7113</a></li></ul>"
      ],
      "text/plain": [
       "<IPython.core.display.HTML object>"
      ]
     },
     "metadata": {},
     "output_type": "display_data"
    },
    {
     "data": {
      "text/html": [
       "<ul><li><a href=\"http://postnauka.ru/video/5915\">http://postnauka.ru/video/5915</a></li></ul>"
      ],
      "text/plain": [
       "<IPython.core.display.HTML object>"
      ]
     },
     "metadata": {},
     "output_type": "display_data"
    },
    {
     "data": {
      "text/html": [
       "<ul><li><a href=\"http://postnauka.ru/video/5390\">http://postnauka.ru/video/5390</a></li></ul>"
      ],
      "text/plain": [
       "<IPython.core.display.HTML object>"
      ]
     },
     "metadata": {},
     "output_type": "display_data"
    },
    {
     "data": {
      "text/html": [
       "<ul><li><a href=\"http://postnauka.ru/video/19436\">http://postnauka.ru/video/19436</a></li></ul>"
      ],
      "text/plain": [
       "<IPython.core.display.HTML object>"
      ]
     },
     "metadata": {},
     "output_type": "display_data"
    },
    {
     "data": {
      "text/html": [
       "<ul><li><a href=\"http://postnauka.ru/video/10754\">http://postnauka.ru/video/10754</a></li></ul>"
      ],
      "text/plain": [
       "<IPython.core.display.HTML object>"
      ]
     },
     "metadata": {},
     "output_type": "display_data"
    },
    {
     "data": {
      "text/html": [
       "<ul><li><a href=\"http://postnauka.ru/video/10475\">http://postnauka.ru/video/10475</a></li></ul>"
      ],
      "text/plain": [
       "<IPython.core.display.HTML object>"
      ]
     },
     "metadata": {},
     "output_type": "display_data"
    },
    {
     "data": {
      "text/html": [
       "<ul><li><a href=\"http://postnauka.ru/video/17051\">http://postnauka.ru/video/17051</a></li></ul>"
      ],
      "text/plain": [
       "<IPython.core.display.HTML object>"
      ]
     },
     "metadata": {},
     "output_type": "display_data"
    },
    {
     "data": {
      "text/html": [
       "<ul><li><a href=\"http://postnauka.ru/video/35051\">http://postnauka.ru/video/35051</a></li></ul>"
      ],
      "text/plain": [
       "<IPython.core.display.HTML object>"
      ]
     },
     "metadata": {},
     "output_type": "display_data"
    },
    {
     "data": {
      "text/html": [
       "<ul><li><a href=\"http://postnauka.ru/video/9854\">http://postnauka.ru/video/9854</a></li></ul>"
      ],
      "text/plain": [
       "<IPython.core.display.HTML object>"
      ]
     },
     "metadata": {},
     "output_type": "display_data"
    },
    {
     "data": {
      "text/html": [
       "<ul><li><a href=\"http://postnauka.ru/video/32881\">http://postnauka.ru/video/32881</a></li></ul>"
      ],
      "text/plain": [
       "<IPython.core.display.HTML object>"
      ]
     },
     "metadata": {},
     "output_type": "display_data"
    },
    {
     "data": {
      "text/html": [
       "<h2>Сверхпроводимость</h2>"
      ],
      "text/plain": [
       "<IPython.core.display.HTML object>"
      ]
     },
     "metadata": {},
     "output_type": "display_data"
    },
    {
     "data": {
      "text/html": [
       "<h4>температура университет сверхпроводимость сверхпроводник сверхпроводящий частота переход заимствование гумбольдт точность</h4>"
      ],
      "text/plain": [
       "<IPython.core.display.HTML object>"
      ]
     },
     "metadata": {},
     "output_type": "display_data"
    },
    {
     "data": {
      "text/html": [
       "<ul><li><a href=\"http://postnauka.ru/video/2973\">http://postnauka.ru/video/2973</a></li></ul>"
      ],
      "text/plain": [
       "<IPython.core.display.HTML object>"
      ]
     },
     "metadata": {},
     "output_type": "display_data"
    },
    {
     "data": {
      "text/html": [
       "<ul><li><a href=\"http://postnauka.ru/video/49448\">http://postnauka.ru/video/49448</a></li></ul>"
      ],
      "text/plain": [
       "<IPython.core.display.HTML object>"
      ]
     },
     "metadata": {},
     "output_type": "display_data"
    },
    {
     "data": {
      "text/html": [
       "<ul><li><a href=\"http://postnauka.ru/video/51380\">http://postnauka.ru/video/51380</a></li></ul>"
      ],
      "text/plain": [
       "<IPython.core.display.HTML object>"
      ]
     },
     "metadata": {},
     "output_type": "display_data"
    },
    {
     "data": {
      "text/html": [
       "<ul><li><a href=\"http://postnauka.ru/video/50340\">http://postnauka.ru/video/50340</a></li></ul>"
      ],
      "text/plain": [
       "<IPython.core.display.HTML object>"
      ]
     },
     "metadata": {},
     "output_type": "display_data"
    },
    {
     "data": {
      "text/html": [
       "<ul><li><a href=\"http://postnauka.ru/video/31198\">http://postnauka.ru/video/31198</a></li></ul>"
      ],
      "text/plain": [
       "<IPython.core.display.HTML object>"
      ]
     },
     "metadata": {},
     "output_type": "display_data"
    },
    {
     "data": {
      "text/html": [
       "<ul><li><a href=\"http://postnauka.ru/video/55756\">http://postnauka.ru/video/55756</a></li></ul>"
      ],
      "text/plain": [
       "<IPython.core.display.HTML object>"
      ]
     },
     "metadata": {},
     "output_type": "display_data"
    },
    {
     "data": {
      "text/html": [
       "<ul><li><a href=\"http://postnauka.ru/video/51174\">http://postnauka.ru/video/51174</a></li></ul>"
      ],
      "text/plain": [
       "<IPython.core.display.HTML object>"
      ]
     },
     "metadata": {},
     "output_type": "display_data"
    },
    {
     "data": {
      "text/html": [
       "<ul><li><a href=\"http://postnauka.ru/video/50699\">http://postnauka.ru/video/50699</a></li></ul>"
      ],
      "text/plain": [
       "<IPython.core.display.HTML object>"
      ]
     },
     "metadata": {},
     "output_type": "display_data"
    },
    {
     "data": {
      "text/html": [
       "<ul><li><a href=\"http://postnauka.ru/video/19461\">http://postnauka.ru/video/19461</a></li></ul>"
      ],
      "text/plain": [
       "<IPython.core.display.HTML object>"
      ]
     },
     "metadata": {},
     "output_type": "display_data"
    },
    {
     "data": {
      "text/html": [
       "<ul><li><a href=\"http://postnauka.ru/video/40889\">http://postnauka.ru/video/40889</a></li></ul>"
      ],
      "text/plain": [
       "<IPython.core.display.HTML object>"
      ]
     },
     "metadata": {},
     "output_type": "display_data"
    },
    {
     "data": {
      "text/html": [
       "<h2>Фоновая тема</h2>"
      ],
      "text/plain": [
       "<IPython.core.display.HTML object>"
      ]
     },
     "metadata": {},
     "output_type": "display_data"
    },
    {
     "data": {
      "text/html": [
       "<h4>быть что это который этот как они мочь такой очень</h4>"
      ],
      "text/plain": [
       "<IPython.core.display.HTML object>"
      ]
     },
     "metadata": {},
     "output_type": "display_data"
    },
    {
     "data": {
      "text/html": [
       "<ul><li><a href=\"http://postnauka.ru/video/51184\">http://postnauka.ru/video/51184</a></li></ul>"
      ],
      "text/plain": [
       "<IPython.core.display.HTML object>"
      ]
     },
     "metadata": {},
     "output_type": "display_data"
    },
    {
     "data": {
      "text/html": [
       "<ul><li><a href=\"http://postnauka.ru/video/51365\">http://postnauka.ru/video/51365</a></li></ul>"
      ],
      "text/plain": [
       "<IPython.core.display.HTML object>"
      ]
     },
     "metadata": {},
     "output_type": "display_data"
    },
    {
     "data": {
      "text/html": [
       "<ul><li><a href=\"http://postnauka.ru/video/49851\">http://postnauka.ru/video/49851</a></li></ul>"
      ],
      "text/plain": [
       "<IPython.core.display.HTML object>"
      ]
     },
     "metadata": {},
     "output_type": "display_data"
    },
    {
     "data": {
      "text/html": [
       "<ul><li><a href=\"http://postnauka.ru/video/31214\">http://postnauka.ru/video/31214</a></li></ul>"
      ],
      "text/plain": [
       "<IPython.core.display.HTML object>"
      ]
     },
     "metadata": {},
     "output_type": "display_data"
    },
    {
     "data": {
      "text/html": [
       "<ul><li><a href=\"http://postnauka.ru/video/34427\">http://postnauka.ru/video/34427</a></li></ul>"
      ],
      "text/plain": [
       "<IPython.core.display.HTML object>"
      ]
     },
     "metadata": {},
     "output_type": "display_data"
    },
    {
     "data": {
      "text/html": [
       "<ul><li><a href=\"http://postnauka.ru/video/42436\">http://postnauka.ru/video/42436</a></li></ul>"
      ],
      "text/plain": [
       "<IPython.core.display.HTML object>"
      ]
     },
     "metadata": {},
     "output_type": "display_data"
    },
    {
     "data": {
      "text/html": [
       "<ul><li><a href=\"http://postnauka.ru/video/45956\">http://postnauka.ru/video/45956</a></li></ul>"
      ],
      "text/plain": [
       "<IPython.core.display.HTML object>"
      ]
     },
     "metadata": {},
     "output_type": "display_data"
    },
    {
     "data": {
      "text/html": [
       "<ul><li><a href=\"http://postnauka.ru/video/51178\">http://postnauka.ru/video/51178</a></li></ul>"
      ],
      "text/plain": [
       "<IPython.core.display.HTML object>"
      ]
     },
     "metadata": {},
     "output_type": "display_data"
    },
    {
     "data": {
      "text/html": [
       "<ul><li><a href=\"http://postnauka.ru/video/50706\">http://postnauka.ru/video/50706</a></li></ul>"
      ],
      "text/plain": [
       "<IPython.core.display.HTML object>"
      ]
     },
     "metadata": {},
     "output_type": "display_data"
    },
    {
     "data": {
      "text/html": [
       "<ul><li><a href=\"http://postnauka.ru/video/50659\">http://postnauka.ru/video/50659</a></li></ul>"
      ],
      "text/plain": [
       "<IPython.core.display.HTML object>"
      ]
     },
     "metadata": {},
     "output_type": "display_data"
    }
   ],
   "source": [
    "# Ваш код\n",
    "tokens = model_artm.score_tracker[\"top_words_text\"].last_tokens\n",
    "for idx, topic_name in enumerate(topic_labels):\n",
    "    display(HTML(u\"<h2>\"+topic_name.decode('UTF-8')+\"</h2>\"))\n",
    "    display(HTML(u'<h4>'+' '.join(tokens[topic_names[idx]][:10] )+'</h4>'))\n",
    "    url_arr = []\n",
    "    for n in range(10): \n",
    "        display(HTML(u\"<ul>\"+'<li>'+u'<a href=\"'+theta.columns[i_p_dt[idx][n]]+'\">'+\n",
    "                     theta.columns[i_p_dt[idx][n]]+'</a>'+'</li>'+\"</ul>\"))"
   ]
  },
  {
   "cell_type": "markdown",
   "metadata": {},
   "source": [
    "##### Заключение"
   ]
  },
  {
   "cell_type": "markdown",
   "metadata": {},
   "source": [
    "В этом Peer Review мы познакомились с базовыми возможностями библиотеки BigARTM и с методами визуализации тематических моделей. Визуализация тематических моделей - это широкая и активно развивающаяся область научных исследований. Мы рассмотрели только самые простые приемы. Желающие могут попробовать применить [Serendip](http://vep.cs.wisc.edu/serendip/#serendipHero), разработанный в  University of Wisconsin-Madison, к построенной модели. Эта библиотека позволяет максимально полно охарактеризовать темы и написана для языка python. \n",
    "\n",
    "Сделав задание, вы можете выбрать в навигаторе наиболее интересную для вас тему и посмотреть видеолекции :) На Постнауке очень много интересных материалов. "
   ]
  }
 ],
 "metadata": {
  "kernelspec": {
   "display_name": "Python 2",
   "language": "python",
   "name": "python2"
  },
  "language_info": {
   "codemirror_mode": {
    "name": "ipython",
    "version": 2
   },
   "file_extension": ".py",
   "mimetype": "text/x-python",
   "name": "python",
   "nbconvert_exporter": "python",
   "pygments_lexer": "ipython2",
   "version": "2.7.13"
  }
 },
 "nbformat": 4,
 "nbformat_minor": 1
}
