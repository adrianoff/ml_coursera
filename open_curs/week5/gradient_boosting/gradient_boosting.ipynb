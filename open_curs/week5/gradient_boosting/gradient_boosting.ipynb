{
 "cells": [
  {
   "cell_type": "code",
   "execution_count": 31,
   "metadata": {},
   "outputs": [],
   "source": [
    "import numpy as np\n",
    "import pandas as pd\n",
    "import sklearn as sk\n",
    "import matplotlib.pyplot as plt\n",
    "from sklearn.metrics import log_loss\n",
    "\n",
    "from sklearn.ensemble import GradientBoostingClassifier, RandomForestClassifier"
   ]
  },
  {
   "cell_type": "code",
   "execution_count": 2,
   "metadata": {},
   "outputs": [],
   "source": [
    "data = pd.read_csv('gbm-data.csv')"
   ]
  },
  {
   "cell_type": "code",
   "execution_count": 4,
   "metadata": {},
   "outputs": [],
   "source": [
    "y = data.Activity.values"
   ]
  },
  {
   "cell_type": "code",
   "execution_count": 5,
   "metadata": {},
   "outputs": [
    {
     "data": {
      "text/html": [
       "<div>\n",
       "<style scoped>\n",
       "    .dataframe tbody tr th:only-of-type {\n",
       "        vertical-align: middle;\n",
       "    }\n",
       "\n",
       "    .dataframe tbody tr th {\n",
       "        vertical-align: top;\n",
       "    }\n",
       "\n",
       "    .dataframe thead th {\n",
       "        text-align: right;\n",
       "    }\n",
       "</style>\n",
       "<table border=\"1\" class=\"dataframe\">\n",
       "  <thead>\n",
       "    <tr style=\"text-align: right;\">\n",
       "      <th></th>\n",
       "      <th>Activity</th>\n",
       "      <th>D1</th>\n",
       "      <th>D2</th>\n",
       "      <th>D3</th>\n",
       "      <th>D4</th>\n",
       "      <th>D5</th>\n",
       "      <th>D6</th>\n",
       "      <th>D7</th>\n",
       "      <th>D8</th>\n",
       "      <th>D9</th>\n",
       "      <th>...</th>\n",
       "      <th>D1767</th>\n",
       "      <th>D1768</th>\n",
       "      <th>D1769</th>\n",
       "      <th>D1770</th>\n",
       "      <th>D1771</th>\n",
       "      <th>D1772</th>\n",
       "      <th>D1773</th>\n",
       "      <th>D1774</th>\n",
       "      <th>D1775</th>\n",
       "      <th>D1776</th>\n",
       "    </tr>\n",
       "  </thead>\n",
       "  <tbody>\n",
       "    <tr>\n",
       "      <th>0</th>\n",
       "      <td>1</td>\n",
       "      <td>0.000000</td>\n",
       "      <td>0.497009</td>\n",
       "      <td>0.10</td>\n",
       "      <td>0.0</td>\n",
       "      <td>0.132956</td>\n",
       "      <td>0.678031</td>\n",
       "      <td>0.273166</td>\n",
       "      <td>0.585445</td>\n",
       "      <td>0.743663</td>\n",
       "      <td>...</td>\n",
       "      <td>0</td>\n",
       "      <td>0</td>\n",
       "      <td>0</td>\n",
       "      <td>0</td>\n",
       "      <td>0</td>\n",
       "      <td>0</td>\n",
       "      <td>0</td>\n",
       "      <td>0</td>\n",
       "      <td>0</td>\n",
       "      <td>0</td>\n",
       "    </tr>\n",
       "    <tr>\n",
       "      <th>1</th>\n",
       "      <td>1</td>\n",
       "      <td>0.366667</td>\n",
       "      <td>0.606291</td>\n",
       "      <td>0.05</td>\n",
       "      <td>0.0</td>\n",
       "      <td>0.111209</td>\n",
       "      <td>0.803455</td>\n",
       "      <td>0.106105</td>\n",
       "      <td>0.411754</td>\n",
       "      <td>0.836582</td>\n",
       "      <td>...</td>\n",
       "      <td>1</td>\n",
       "      <td>1</td>\n",
       "      <td>1</td>\n",
       "      <td>1</td>\n",
       "      <td>0</td>\n",
       "      <td>1</td>\n",
       "      <td>0</td>\n",
       "      <td>0</td>\n",
       "      <td>1</td>\n",
       "      <td>0</td>\n",
       "    </tr>\n",
       "    <tr>\n",
       "      <th>2</th>\n",
       "      <td>1</td>\n",
       "      <td>0.033300</td>\n",
       "      <td>0.480124</td>\n",
       "      <td>0.00</td>\n",
       "      <td>0.0</td>\n",
       "      <td>0.209791</td>\n",
       "      <td>0.610350</td>\n",
       "      <td>0.356453</td>\n",
       "      <td>0.517720</td>\n",
       "      <td>0.679051</td>\n",
       "      <td>...</td>\n",
       "      <td>0</td>\n",
       "      <td>0</td>\n",
       "      <td>0</td>\n",
       "      <td>0</td>\n",
       "      <td>0</td>\n",
       "      <td>0</td>\n",
       "      <td>0</td>\n",
       "      <td>0</td>\n",
       "      <td>0</td>\n",
       "      <td>0</td>\n",
       "    </tr>\n",
       "    <tr>\n",
       "      <th>3</th>\n",
       "      <td>1</td>\n",
       "      <td>0.000000</td>\n",
       "      <td>0.538825</td>\n",
       "      <td>0.00</td>\n",
       "      <td>0.5</td>\n",
       "      <td>0.196344</td>\n",
       "      <td>0.724230</td>\n",
       "      <td>0.235606</td>\n",
       "      <td>0.288764</td>\n",
       "      <td>0.805110</td>\n",
       "      <td>...</td>\n",
       "      <td>0</td>\n",
       "      <td>0</td>\n",
       "      <td>0</td>\n",
       "      <td>0</td>\n",
       "      <td>0</td>\n",
       "      <td>0</td>\n",
       "      <td>0</td>\n",
       "      <td>0</td>\n",
       "      <td>0</td>\n",
       "      <td>0</td>\n",
       "    </tr>\n",
       "    <tr>\n",
       "      <th>4</th>\n",
       "      <td>0</td>\n",
       "      <td>0.100000</td>\n",
       "      <td>0.517794</td>\n",
       "      <td>0.00</td>\n",
       "      <td>0.0</td>\n",
       "      <td>0.494734</td>\n",
       "      <td>0.781422</td>\n",
       "      <td>0.154361</td>\n",
       "      <td>0.303809</td>\n",
       "      <td>0.812646</td>\n",
       "      <td>...</td>\n",
       "      <td>0</td>\n",
       "      <td>0</td>\n",
       "      <td>0</td>\n",
       "      <td>0</td>\n",
       "      <td>0</td>\n",
       "      <td>0</td>\n",
       "      <td>0</td>\n",
       "      <td>0</td>\n",
       "      <td>0</td>\n",
       "      <td>0</td>\n",
       "    </tr>\n",
       "  </tbody>\n",
       "</table>\n",
       "<p>5 rows × 1777 columns</p>\n",
       "</div>"
      ],
      "text/plain": [
       "   Activity        D1        D2    D3   D4        D5        D6        D7  \\\n",
       "0         1  0.000000  0.497009  0.10  0.0  0.132956  0.678031  0.273166   \n",
       "1         1  0.366667  0.606291  0.05  0.0  0.111209  0.803455  0.106105   \n",
       "2         1  0.033300  0.480124  0.00  0.0  0.209791  0.610350  0.356453   \n",
       "3         1  0.000000  0.538825  0.00  0.5  0.196344  0.724230  0.235606   \n",
       "4         0  0.100000  0.517794  0.00  0.0  0.494734  0.781422  0.154361   \n",
       "\n",
       "         D8        D9  ...    D1767  D1768  D1769  D1770  D1771  D1772  D1773  \\\n",
       "0  0.585445  0.743663  ...        0      0      0      0      0      0      0   \n",
       "1  0.411754  0.836582  ...        1      1      1      1      0      1      0   \n",
       "2  0.517720  0.679051  ...        0      0      0      0      0      0      0   \n",
       "3  0.288764  0.805110  ...        0      0      0      0      0      0      0   \n",
       "4  0.303809  0.812646  ...        0      0      0      0      0      0      0   \n",
       "\n",
       "   D1774  D1775  D1776  \n",
       "0      0      0      0  \n",
       "1      0      1      0  \n",
       "2      0      0      0  \n",
       "3      0      0      0  \n",
       "4      0      0      0  \n",
       "\n",
       "[5 rows x 1777 columns]"
      ]
     },
     "execution_count": 5,
     "metadata": {},
     "output_type": "execute_result"
    }
   ],
   "source": [
    "data.head()"
   ]
  },
  {
   "cell_type": "code",
   "execution_count": 7,
   "metadata": {},
   "outputs": [],
   "source": [
    "X = data.loc[:, 'D1':]"
   ]
  },
  {
   "cell_type": "code",
   "execution_count": 20,
   "metadata": {},
   "outputs": [],
   "source": [
    "from sklearn.cross_validation import train_test_split"
   ]
  },
  {
   "cell_type": "code",
   "execution_count": 21,
   "metadata": {},
   "outputs": [],
   "source": [
    "X_train, X_test, y_train, y_test = train_test_split(X, y, test_size=0.8, random_state=241)"
   ]
  },
  {
   "cell_type": "code",
   "execution_count": 22,
   "metadata": {},
   "outputs": [],
   "source": [
    "def sigmoid(y_pred):\n",
    "    return 1 / (1 + np.exp(-y_pred))\n",
    "\n",
    "\n",
    "def loss(model, x_array, y_array):\n",
    "    res = []\n",
    "    for i in model.staged_decision_function(x_array):\n",
    "        # noinspection PyShadowingNames,SpellCheckingInspection\n",
    "        res.append(log_loss(y_array, [sigmoid(y_pred) for y_pred in i]))\n",
    "\n",
    "    return res"
   ]
  },
  {
   "cell_type": "code",
   "execution_count": 28,
   "metadata": {},
   "outputs": [
    {
     "name": "stdout",
     "output_type": "stream",
     "text": [
      "      Iter       Train Loss   Remaining Time \n",
      "         1           1.0190           15.71s\n",
      "         2           0.9192           13.45s\n",
      "         3           0.8272           11.30s\n",
      "         4           0.7834            9.76s\n",
      "         5           0.7109            9.32s\n",
      "         6           0.6368           10.11s\n",
      "         7           0.5797            9.90s\n",
      "         8           0.5610            9.18s\n",
      "         9           0.5185            8.90s\n",
      "        10           0.4984            8.44s\n",
      "        20           0.1999            7.72s\n",
      "        30           0.1313            7.34s\n",
      "        40           0.0790            6.95s\n",
      "        50           0.0511            6.56s\n",
      "        60           0.0352            6.10s\n",
      "        70           0.0245            5.63s\n",
      "        80           0.0162            5.25s\n",
      "        90           0.0114            4.90s\n",
      "       100           0.0077            4.66s\n",
      "       200           0.0004            1.33s\n",
      "      Iter       Train Loss   Remaining Time \n",
      "         1           1.1255           11.41s\n",
      "         2           1.0035           11.36s\n",
      "         3           0.9386           11.38s\n",
      "         4           0.8844           10.78s\n",
      "         5           0.8381           10.67s\n",
      "         6           0.7995           10.30s\n",
      "         7           0.7559            9.97s\n",
      "         8           0.7205            9.69s\n",
      "         9           0.6958            9.32s\n",
      "        10           0.6725            9.07s\n",
      "        20           0.4672            7.63s\n",
      "        30           0.3179            7.30s\n",
      "        40           0.2274            7.30s\n",
      "        50           0.1774            6.81s\n",
      "        60           0.1394            6.33s\n",
      "        70           0.1050            5.96s\n",
      "        80           0.0805            5.56s\n",
      "        90           0.0650            5.12s\n",
      "       100           0.0511            4.79s\n",
      "       200           0.0058            1.48s\n",
      "      Iter       Train Loss   Remaining Time \n",
      "         1           1.2095           11.36s\n",
      "         2           1.1006           11.39s\n",
      "         3           1.0240           11.46s\n",
      "         4           0.9729           12.23s\n",
      "         5           0.9387           11.43s\n",
      "         6           0.8948           12.15s\n",
      "         7           0.8621           11.75s\n",
      "         8           0.8360           11.28s\n",
      "         9           0.8171           10.90s\n",
      "        10           0.7883           10.78s\n",
      "        20           0.6164            8.64s\n",
      "        30           0.4933            7.68s\n",
      "        40           0.4248            7.07s\n",
      "        50           0.3345            6.79s\n",
      "        60           0.2760            6.51s\n",
      "        70           0.2263            6.23s\n",
      "        80           0.1971            5.82s\n",
      "        90           0.1693            5.42s\n",
      "       100           0.1388            5.20s\n",
      "       200           0.0294            1.72s\n",
      "      Iter       Train Loss   Remaining Time \n",
      "         1           1.2613           13.64s\n",
      "         2           1.1715           13.62s\n",
      "         3           1.1009           13.61s\n",
      "         4           1.0529           13.43s\n",
      "         5           1.0130           13.33s\n",
      "         6           0.9740           13.21s\n",
      "         7           0.9475           12.38s\n",
      "         8           0.9197           12.43s\n",
      "         9           0.8979           12.03s\n",
      "        10           0.8730           11.99s\n",
      "        20           0.7207            9.91s\n",
      "        30           0.6055            9.06s\n",
      "        40           0.5244            8.19s\n",
      "        50           0.4501            7.51s\n",
      "        60           0.3908            6.96s\n",
      "        70           0.3372            6.58s\n",
      "        80           0.3009            6.26s\n",
      "        90           0.2603            5.94s\n",
      "       100           0.2327            5.62s\n",
      "       200           0.0835            1.86s\n",
      "      Iter       Train Loss   Remaining Time \n",
      "         1           1.3199           11.46s\n",
      "         2           1.2645           11.41s\n",
      "         3           1.2170           11.56s\n",
      "         4           1.1775           12.43s\n",
      "         5           1.1404           12.75s\n",
      "         6           1.1106           13.29s\n",
      "         7           1.0844           15.46s\n",
      "         8           1.0617           17.43s\n",
      "         9           1.0411           17.43s\n",
      "        10           1.0223           17.32s\n",
      "        20           0.8864           14.17s\n",
      "        30           0.7844           11.71s\n",
      "        40           0.7176           10.10s\n",
      "        50           0.6590            8.85s\n",
      "        60           0.6120            7.88s\n",
      "        70           0.5599            7.19s\n",
      "        80           0.5242            6.53s\n",
      "        90           0.4829            6.01s\n",
      "       100           0.4473            5.51s\n",
      "       200           0.2379            1.71s\n"
     ]
    },
    {
     "data": {
      "image/png": "[encoded data removed]",
      "text/plain": [
       "<Figure size 432x288 with 1 Axes>"
      ]
     },
     "metadata": {},
     "output_type": "display_data"
    },
    {
     "data": {
      "image/png": "[encoded data removed]",
      "text/plain": [
       "<Figure size 432x288 with 1 Axes>"
      ]
     },
     "metadata": {},
     "output_type": "display_data"
    },
    {
     "data": {
      "image/png": "[encoded data removed]",
      "text/plain": [
       "<Figure size 432x288 with 1 Axes>"
      ]
     },
     "metadata": {},
     "output_type": "display_data"
    },
    {
     "data": {
      "image/png": "[encoded data removed]",
      "text/plain": [
       "<Figure size 432x288 with 1 Axes>"
      ]
     },
     "metadata": {},
     "output_type": "display_data"
    },
    {
     "data": {
      "image/png": "[encoded data removed]",
      "text/plain": [
       "<Figure size 432x288 with 1 Axes>"
      ]
     },
     "metadata": {},
     "output_type": "display_data"
    }
   ],
   "source": [
    "min_loss_val = 0\n",
    "min_less_idx = 0\n",
    "\n",
    "for lr in [1, 0.5, 0.3, 0.2, 0.1]:\n",
    "    model = GradientBoostingClassifier(\n",
    "        n_estimators=250, \n",
    "        verbose=True, \n",
    "        random_state=241, \n",
    "        learning_rate=lr)\n",
    "    \n",
    "    model.fit(X_train, y_train)\n",
    "    \n",
    "    train_loss = loss(model, X_train, y_train)\n",
    "    test_loss = loss(model, X_test, y_test)\n",
    "    \n",
    "    plt.figure()\n",
    "    plt.plot(test_loss, 'r', linewidth=2)\n",
    "    plt.plot(train_loss, 'g', linewidth=2)\n",
    "    plt.legend(['test', 'train'])\n",
    "    plt.savefig('figures/figure_' + str(lr) + '.png')\n",
    "    \n",
    "    if lr == 0.2:\n",
    "        min_loss_val = min(test_loss)\n",
    "        min_less_idx = test_loss.index(min_loss_val)"
   ]
  },
  {
   "cell_type": "code",
   "execution_count": 29,
   "metadata": {},
   "outputs": [
    {
     "data": {
      "text/plain": [
       "0.531094637596885"
      ]
     },
     "execution_count": 29,
     "metadata": {},
     "output_type": "execute_result"
    }
   ],
   "source": [
    "min_loss_val"
   ]
  },
  {
   "cell_type": "code",
   "execution_count": 30,
   "metadata": {},
   "outputs": [
    {
     "data": {
      "text/plain": [
       "36"
      ]
     },
     "execution_count": 30,
     "metadata": {},
     "output_type": "execute_result"
    }
   ],
   "source": [
    "min_less_idx"
   ]
  },
  {
   "cell_type": "code",
   "execution_count": 34,
   "metadata": {},
   "outputs": [],
   "source": [
    "clf = RandomForestClassifier(n_estimators=min_less_idx, random_state=241)\n",
    "clf.fit(X_train, y_train)\n",
    "# noinspection SpellCheckingInspection\n",
    "y_pred = clf.predict_proba(X_test)\n",
    "loss = log_loss(y_test, y_pred)"
   ]
  },
  {
   "cell_type": "code",
   "execution_count": 35,
   "metadata": {},
   "outputs": [
    {
     "data": {
      "text/plain": [
       "0.5413812861804069"
      ]
     },
     "execution_count": 35,
     "metadata": {},
     "output_type": "execute_result"
    }
   ],
   "source": [
    "loss"
   ]
  },
  {
   "cell_type": "code",
   "execution_count": null,
   "metadata": {},
   "outputs": [],
   "source": []
  }
 ],
 "metadata": {
  "kernelspec": {
   "display_name": "Python 3",
   "language": "python",
   "name": "python3"
  },
  "language_info": {
   "codemirror_mode": {
    "name": "ipython",
    "version": 3
   },
   "file_extension": ".py",
   "mimetype": "text/x-python",
   "name": "python",
   "nbconvert_exporter": "python",
   "pygments_lexer": "ipython3",
   "version": "3.5.2"
  }
 },
 "nbformat": 4,
 "nbformat_minor": 2
}
