{
 "cells": [
  {
   "cell_type": "code",
   "execution_count": 1,
   "metadata": {},
   "outputs": [],
   "source": [
    "import pandas\n",
    "import sklearn.ensemble\n",
    "from sklearn.model_selection import GridSearchCV\n",
    "from sklearn.model_selection import cross_val_score\n",
    "from sklearn import datasets, linear_model\n",
    "import numpy as np\n",
    "import time\n",
    "import datetime"
   ]
  },
  {
   "cell_type": "markdown",
   "metadata": {},
   "source": [
    "1. Считайте таблицу с признаками из файла features.csv с помощью кода, приведенного выше. Удалите признаки, связанные с итогами матча (они помечены в описании данных как отсутствующие в тестовой выборке)."
   ]
  },
  {
   "cell_type": "code",
   "execution_count": 2,
   "metadata": {},
   "outputs": [],
   "source": [
    "features = pandas.read_csv('./features.csv', index_col='match_id')\n",
    "Y = features[['duration', 'radiant_win','tower_status_radiant','tower_status_dire','barracks_status_radiant','barracks_status_dire']]\n",
    "X = features.drop(columns=['duration', 'radiant_win','tower_status_radiant','tower_status_dire','barracks_status_radiant','barracks_status_dire'])\n",
    "\n",
    "X_test = pandas.read_csv('./features_test.csv', index_col='match_id')"
   ]
  },
  {
   "cell_type": "markdown",
   "metadata": {},
   "source": [
    "2. Проверьте выборку на наличие пропусков с помощью функции count(), которая для каждого столбца показывает число заполненных значений. Много ли пропусков в данных? Запишите названия признаков, имеющих пропуски, и попробуйте для любых двух из них дать обоснование, почему их значения могут быть пропущены."
   ]
  },
  {
   "cell_type": "markdown",
   "metadata": {},
   "source": [
    "Всего матчей 97230. Ниже представлены признаки с пропусками и их количество."
   ]
  },
  {
   "cell_type": "code",
   "execution_count": 3,
   "metadata": {},
   "outputs": [
    {
     "name": "stdout",
     "output_type": "stream",
     "text": [
      "first_blood_time: 19553\n",
      "first_blood_team: 19553\n",
      "first_blood_player1: 19553\n",
      "first_blood_player2: 43987\n",
      "radiant_bottle_time: 15691\n",
      "radiant_courier_time: 692\n",
      "radiant_flying_courier_time: 27479\n",
      "radiant_first_ward_time: 1836\n",
      "dire_bottle_time: 16143\n",
      "dire_courier_time: 676\n",
      "dire_flying_courier_time: 26098\n",
      "dire_first_ward_time: 1826\n"
     ]
    }
   ],
   "source": [
    "for column in X:\n",
    "    if X[column].count() < 97230:\n",
    "        print(column + \":\", end = \" \")\n",
    "        print(97230 - X[column].count())"
   ]
  },
  {
   "cell_type": "markdown",
   "metadata": {},
   "source": [
    "3. Замените пропуски на нули с помощью функции fillna(). "
   ]
  },
  {
   "cell_type": "code",
   "execution_count": 4,
   "metadata": {},
   "outputs": [],
   "source": [
    "X = X.fillna(0)"
   ]
  },
  {
   "cell_type": "markdown",
   "metadata": {},
   "source": [
    "4. Какой столбец содержит целевую переменную? Запишите его название."
   ]
  },
  {
   "cell_type": "code",
   "execution_count": 5,
   "metadata": {},
   "outputs": [],
   "source": [
    "y = Y[\"radiant_win\"]"
   ]
  },
  {
   "cell_type": "markdown",
   "metadata": {},
   "source": [
    "5. Забудем, что в выборке есть категориальные признаки, и попробуем обучить градиентный бустинг над деревьями на имеющейся матрице \"объекты-признаки\". Зафиксируйте генератор разбиений для кросс-валидации по 5 блокам (KFold), не забудьте перемешать при этом выборку (shuffle=True), поскольку данные в таблице отсортированы по времени, и без перемешивания можно столкнуться с нежелательными эффектами при оценивании качества. Оцените качество градиентного бустинга (GradientBoostingClassifier) с помощью данной кросс-валидации, попробуйте при этом разное количество деревьев (как минимум протестируйте следующие значения для количества деревьев: 10, 20, 30)."
   ]
  },
  {
   "cell_type": "code",
   "execution_count": 6,
   "metadata": {},
   "outputs": [
    {
     "name": "stdout",
     "output_type": "stream",
     "text": [
      "Score: 0.6654545784998508 Time elapsed: 0:00:17.967523\n",
      "Score: 0.6827753235965335 Time elapsed: 0:00:32.290937\n",
      "Score: 0.6898725167014496 Time elapsed: 0:00:48.647249\n",
      "Score: 0.6940015727520114 Time elapsed: 0:01:02.774887\n",
      "Score: 0.6978576573970536 Time elapsed: 0:01:16.734847\n",
      "Score: 0.7003294559662276 Time elapsed: 0:01:31.726160\n"
     ]
    }
   ],
   "source": [
    "kf = sklearn.model_selection.KFold(n_splits=5, shuffle=True)\n",
    "\n",
    "n_est = [10, 20, 30, 40, 50, 60]\n",
    "for i in n_est:\n",
    "    clf = sklearn.ensemble.GradientBoostingClassifier(n_estimators=i)\n",
    "    start_time = datetime.datetime.now()\n",
    "    score = cross_val_score(clf, X, y, cv=kf, scoring='roc_auc')\n",
    "    print('Score:', np.mean(score), end=\" \")\n",
    "    print('Time elapsed:', datetime.datetime.now() - start_time)"
   ]
  },
  {
   "cell_type": "code",
   "execution_count": null,
   "metadata": {},
   "outputs": [],
   "source": []
  }
 ],
 "metadata": {
  "kernelspec": {
   "display_name": "Python 3",
   "language": "python",
   "name": "python3"
  },
  "language_info": {
   "codemirror_mode": {
    "name": "ipython",
    "version": 3
   },
   "file_extension": ".py",
   "mimetype": "text/x-python",
   "name": "python",
   "nbconvert_exporter": "python",
   "pygments_lexer": "ipython3",
   "version": "3.7.0"
  }
 },
 "nbformat": 4,
 "nbformat_minor": 2
}
