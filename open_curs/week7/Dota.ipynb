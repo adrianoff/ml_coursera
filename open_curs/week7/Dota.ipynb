{
 "cells": [
  {
   "cell_type": "code",
   "execution_count": 6,
   "metadata": {},
   "outputs": [],
   "source": [
    "import pandas\n",
    "import numpy as np\n",
    "from sklearn.ensemble import GradientBoostingClassifier\n",
    "from sklearn.model_selection import KFold\n",
    "from sklearn.metrics import roc_auc_score\n",
    "\n",
    "import time\n",
    "import datetime"
   ]
  },
  {
   "cell_type": "code",
   "execution_count": 32,
   "metadata": {},
   "outputs": [
    {
     "data": {
      "text/html": [
       "<div>\n",
       "<style scoped>\n",
       "    .dataframe tbody tr th:only-of-type {\n",
       "        vertical-align: middle;\n",
       "    }\n",
       "\n",
       "    .dataframe tbody tr th {\n",
       "        vertical-align: top;\n",
       "    }\n",
       "\n",
       "    .dataframe thead th {\n",
       "        text-align: right;\n",
       "    }\n",
       "</style>\n",
       "<table border=\"1\" class=\"dataframe\">\n",
       "  <thead>\n",
       "    <tr style=\"text-align: right;\">\n",
       "      <th></th>\n",
       "      <th>start_time</th>\n",
       "      <th>lobby_type</th>\n",
       "      <th>r1_hero</th>\n",
       "      <th>r1_level</th>\n",
       "      <th>r1_xp</th>\n",
       "      <th>r1_gold</th>\n",
       "      <th>r1_lh</th>\n",
       "      <th>r1_kills</th>\n",
       "      <th>r1_deaths</th>\n",
       "      <th>r1_items</th>\n",
       "      <th>...</th>\n",
       "      <th>dire_boots_count</th>\n",
       "      <th>dire_ward_observer_count</th>\n",
       "      <th>dire_ward_sentry_count</th>\n",
       "      <th>dire_first_ward_time</th>\n",
       "      <th>duration</th>\n",
       "      <th>radiant_win</th>\n",
       "      <th>tower_status_radiant</th>\n",
       "      <th>tower_status_dire</th>\n",
       "      <th>barracks_status_radiant</th>\n",
       "      <th>barracks_status_dire</th>\n",
       "    </tr>\n",
       "    <tr>\n",
       "      <th>match_id</th>\n",
       "      <th></th>\n",
       "      <th></th>\n",
       "      <th></th>\n",
       "      <th></th>\n",
       "      <th></th>\n",
       "      <th></th>\n",
       "      <th></th>\n",
       "      <th></th>\n",
       "      <th></th>\n",
       "      <th></th>\n",
       "      <th></th>\n",
       "      <th></th>\n",
       "      <th></th>\n",
       "      <th></th>\n",
       "      <th></th>\n",
       "      <th></th>\n",
       "      <th></th>\n",
       "      <th></th>\n",
       "      <th></th>\n",
       "      <th></th>\n",
       "      <th></th>\n",
       "    </tr>\n",
       "  </thead>\n",
       "  <tbody>\n",
       "    <tr>\n",
       "      <th>0</th>\n",
       "      <td>1430198770</td>\n",
       "      <td>7</td>\n",
       "      <td>11</td>\n",
       "      <td>5</td>\n",
       "      <td>2098</td>\n",
       "      <td>1489</td>\n",
       "      <td>20</td>\n",
       "      <td>0</td>\n",
       "      <td>0</td>\n",
       "      <td>7</td>\n",
       "      <td>...</td>\n",
       "      <td>4</td>\n",
       "      <td>2</td>\n",
       "      <td>2</td>\n",
       "      <td>-52.0</td>\n",
       "      <td>2874</td>\n",
       "      <td>1</td>\n",
       "      <td>1796</td>\n",
       "      <td>0</td>\n",
       "      <td>51</td>\n",
       "      <td>0</td>\n",
       "    </tr>\n",
       "    <tr>\n",
       "      <th>1</th>\n",
       "      <td>1430220345</td>\n",
       "      <td>0</td>\n",
       "      <td>42</td>\n",
       "      <td>4</td>\n",
       "      <td>1188</td>\n",
       "      <td>1033</td>\n",
       "      <td>9</td>\n",
       "      <td>0</td>\n",
       "      <td>1</td>\n",
       "      <td>12</td>\n",
       "      <td>...</td>\n",
       "      <td>4</td>\n",
       "      <td>3</td>\n",
       "      <td>1</td>\n",
       "      <td>-5.0</td>\n",
       "      <td>2463</td>\n",
       "      <td>1</td>\n",
       "      <td>1974</td>\n",
       "      <td>0</td>\n",
       "      <td>63</td>\n",
       "      <td>1</td>\n",
       "    </tr>\n",
       "    <tr>\n",
       "      <th>2</th>\n",
       "      <td>1430227081</td>\n",
       "      <td>7</td>\n",
       "      <td>33</td>\n",
       "      <td>4</td>\n",
       "      <td>1319</td>\n",
       "      <td>1270</td>\n",
       "      <td>22</td>\n",
       "      <td>0</td>\n",
       "      <td>0</td>\n",
       "      <td>12</td>\n",
       "      <td>...</td>\n",
       "      <td>4</td>\n",
       "      <td>3</td>\n",
       "      <td>1</td>\n",
       "      <td>13.0</td>\n",
       "      <td>2130</td>\n",
       "      <td>0</td>\n",
       "      <td>0</td>\n",
       "      <td>1830</td>\n",
       "      <td>0</td>\n",
       "      <td>63</td>\n",
       "    </tr>\n",
       "    <tr>\n",
       "      <th>3</th>\n",
       "      <td>1430263531</td>\n",
       "      <td>1</td>\n",
       "      <td>29</td>\n",
       "      <td>4</td>\n",
       "      <td>1779</td>\n",
       "      <td>1056</td>\n",
       "      <td>14</td>\n",
       "      <td>0</td>\n",
       "      <td>0</td>\n",
       "      <td>5</td>\n",
       "      <td>...</td>\n",
       "      <td>4</td>\n",
       "      <td>2</td>\n",
       "      <td>0</td>\n",
       "      <td>27.0</td>\n",
       "      <td>1459</td>\n",
       "      <td>0</td>\n",
       "      <td>1920</td>\n",
       "      <td>2047</td>\n",
       "      <td>50</td>\n",
       "      <td>63</td>\n",
       "    </tr>\n",
       "    <tr>\n",
       "      <th>4</th>\n",
       "      <td>1430282290</td>\n",
       "      <td>7</td>\n",
       "      <td>13</td>\n",
       "      <td>4</td>\n",
       "      <td>1431</td>\n",
       "      <td>1090</td>\n",
       "      <td>8</td>\n",
       "      <td>1</td>\n",
       "      <td>0</td>\n",
       "      <td>8</td>\n",
       "      <td>...</td>\n",
       "      <td>3</td>\n",
       "      <td>3</td>\n",
       "      <td>0</td>\n",
       "      <td>-16.0</td>\n",
       "      <td>2449</td>\n",
       "      <td>0</td>\n",
       "      <td>4</td>\n",
       "      <td>1974</td>\n",
       "      <td>3</td>\n",
       "      <td>63</td>\n",
       "    </tr>\n",
       "  </tbody>\n",
       "</table>\n",
       "<p>5 rows × 108 columns</p>\n",
       "</div>"
      ],
      "text/plain": [
       "          start_time  lobby_type  r1_hero  r1_level  r1_xp  r1_gold  r1_lh  \\\n",
       "match_id                                                                     \n",
       "0         1430198770           7       11         5   2098     1489     20   \n",
       "1         1430220345           0       42         4   1188     1033      9   \n",
       "2         1430227081           7       33         4   1319     1270     22   \n",
       "3         1430263531           1       29         4   1779     1056     14   \n",
       "4         1430282290           7       13         4   1431     1090      8   \n",
       "\n",
       "          r1_kills  r1_deaths  r1_items          ...           \\\n",
       "match_id                                         ...            \n",
       "0                0          0         7          ...            \n",
       "1                0          1        12          ...            \n",
       "2                0          0        12          ...            \n",
       "3                0          0         5          ...            \n",
       "4                1          0         8          ...            \n",
       "\n",
       "          dire_boots_count  dire_ward_observer_count  dire_ward_sentry_count  \\\n",
       "match_id                                                                       \n",
       "0                        4                         2                       2   \n",
       "1                        4                         3                       1   \n",
       "2                        4                         3                       1   \n",
       "3                        4                         2                       0   \n",
       "4                        3                         3                       0   \n",
       "\n",
       "          dire_first_ward_time  duration  radiant_win  tower_status_radiant  \\\n",
       "match_id                                                                      \n",
       "0                        -52.0      2874            1                  1796   \n",
       "1                         -5.0      2463            1                  1974   \n",
       "2                         13.0      2130            0                     0   \n",
       "3                         27.0      1459            0                  1920   \n",
       "4                        -16.0      2449            0                     4   \n",
       "\n",
       "          tower_status_dire  barracks_status_radiant  barracks_status_dire  \n",
       "match_id                                                                    \n",
       "0                         0                       51                     0  \n",
       "1                         0                       63                     1  \n",
       "2                      1830                        0                    63  \n",
       "3                      2047                       50                    63  \n",
       "4                      1974                        3                    63  \n",
       "\n",
       "[5 rows x 108 columns]"
      ]
     },
     "execution_count": 32,
     "metadata": {},
     "output_type": "execute_result"
    }
   ],
   "source": [
    "features = pandas.read_csv('./features.csv', index_col='match_id')\n",
    "features.head()"
   ]
  },
  {
   "cell_type": "code",
   "execution_count": 8,
   "metadata": {},
   "outputs": [],
   "source": [
    "X = features.loc[:, 'lobby_type':'dire_first_ward_time']\n",
    "y = features.radiant_win # Целевая переменная"
   ]
  },
  {
   "cell_type": "code",
   "execution_count": 9,
   "metadata": {},
   "outputs": [
    {
     "data": {
      "text/plain": [
       "['first_blood_time',\n",
       " 'first_blood_team',\n",
       " 'first_blood_player1',\n",
       " 'first_blood_player2',\n",
       " 'radiant_bottle_time',\n",
       " 'radiant_courier_time',\n",
       " 'radiant_flying_courier_time',\n",
       " 'radiant_first_ward_time',\n",
       " 'dire_bottle_time',\n",
       " 'dire_courier_time',\n",
       " 'dire_flying_courier_time',\n",
       " 'dire_first_ward_time']"
      ]
     },
     "execution_count": 9,
     "metadata": {},
     "output_type": "execute_result"
    }
   ],
   "source": [
    "# Признаки которые имеют пропуски\n",
    "X.columns[X.isna().any()].tolist()"
   ]
  },
  {
   "cell_type": "markdown",
   "metadata": {},
   "source": [
    "first_blood_time - Первой крови за первые 5 минут может и не быть.\n",
    "\n",
    "first_blood_player2 - Даже если первая кровь была, она могла быть сделана без ассиста."
   ]
  },
  {
   "cell_type": "code",
   "execution_count": 10,
   "metadata": {},
   "outputs": [],
   "source": [
    "# Заменим пропуски на среднее.\n",
    "na_columns = X.columns[X.isna().any()].tolist()\n",
    "for na_column in na_columns:\n",
    "    X[na_column].fillna(X[na_column].mean(), inplace=True)"
   ]
  },
  {
   "cell_type": "code",
   "execution_count": 11,
   "metadata": {},
   "outputs": [
    {
     "name": "stdout",
     "output_type": "stream",
     "text": [
      "Time elapsed:  0:00:16.955408\n",
      "10 :  0.66\n",
      "\n",
      "Time elapsed:  0:00:32.010233\n",
      "20 :  0.68\n",
      "\n",
      "Time elapsed:  0:00:48.251998\n",
      "30 :  0.69\n",
      "\n",
      "Time elapsed:  0:01:06.852765\n",
      "40 :  0.69\n",
      "\n",
      "Time elapsed:  0:01:19.986767\n",
      "50 :  0.7\n",
      "\n",
      "Time elapsed:  0:01:34.421635\n",
      "60 :  0.7\n",
      "\n",
      "Time elapsed:  0:01:46.024453\n",
      "70 :  0.7\n",
      "\n",
      "Time elapsed:  0:02:05.403555\n",
      "80 :  0.7\n",
      "\n"
     ]
    }
   ],
   "source": [
    "cv = KFold(n_splits=5, shuffle=True, random_state=241)\n",
    "for e in [10, 20, 30, 40, 50, 60, 70, 80]:\n",
    "    scores = []\n",
    "    \n",
    "    start_time = datetime.datetime.now()\n",
    "    \n",
    "    for train_index, test_index in cv.split(X):\n",
    "        X_train = X.iloc[train_index]\n",
    "        y_train = y.iloc[train_index]\n",
    "\n",
    "        X_test = X.iloc[test_index]\n",
    "        y_test = y.iloc[test_index]\n",
    "\n",
    "        model = GradientBoostingClassifier(n_estimators=e, random_state=241)\n",
    "        model.fit(X_train, y_train)\n",
    "\n",
    "        predicts = model.predict_proba(X_test)[:, 1]\n",
    "        scores.append(roc_auc_score(y_true=y_test, y_score=predicts))\n",
    "        \n",
    "    print('Time elapsed: ', datetime.datetime.now() - start_time)\n",
    "    print(e, ': ', round(np.mean(scores), 2))\n",
    "    print('')"
   ]
  },
  {
   "cell_type": "markdown",
   "metadata": {},
   "source": [
    "При 30 деревьях качество 0.69. Расчеты длились 46 секунд.\n",
    "Наилучшее качество получилось при 50 деревьях. Далее, при добавлении деревьев качество не улучшалось, а время расчетов быстро расло. Чтобы ускорить расчеты можно использовать меньшую выборку и установить ограничение на максимальную глубину деревьев."
   ]
  },
  {
   "cell_type": "markdown",
   "metadata": {},
   "source": [
    "## Логистическая регрессия"
   ]
  },
  {
   "cell_type": "code",
   "execution_count": 13,
   "metadata": {},
   "outputs": [],
   "source": [
    "from sklearn.preprocessing import StandardScaler\n",
    "from sklearn.linear_model import LogisticRegression"
   ]
  },
  {
   "cell_type": "code",
   "execution_count": 14,
   "metadata": {},
   "outputs": [],
   "source": [
    "X = features.loc[:, 'lobby_type':'dire_first_ward_time']\n",
    "y = features.radiant_win # Целевая переменная"
   ]
  },
  {
   "cell_type": "code",
   "execution_count": 15,
   "metadata": {},
   "outputs": [],
   "source": [
    "# Заменим пропуски на среднее.\n",
    "na_columns = X.columns[X.isna().any()].tolist()\n",
    "for na_column in na_columns:\n",
    "    X[na_column].fillna(X[na_column].mean(), inplace=True)"
   ]
  },
  {
   "cell_type": "code",
   "execution_count": 16,
   "metadata": {},
   "outputs": [],
   "source": [
    "scaler = StandardScaler()\n",
    "X_scaled = pandas.DataFrame(scaler.fit_transform(X))"
   ]
  },
  {
   "cell_type": "code",
   "execution_count": 17,
   "metadata": {},
   "outputs": [
    {
     "name": "stdout",
     "output_type": "stream",
     "text": [
      "Time elapsed:  0:00:10.045954\n",
      "0.001 :  0.7166502568\n",
      "\n",
      "Time elapsed:  0:00:09.993703\n",
      "0.01 :  0.7167419258\n",
      "\n",
      "Time elapsed:  0:00:09.549398\n",
      "0.1 :  0.7167478859\n",
      "\n",
      "Time elapsed:  0:00:09.781853\n",
      "0.4 :  0.7169114199\n",
      "\n",
      "Time elapsed:  0:00:10.197858\n",
      "0.8 :  0.7166747426\n",
      "\n",
      "Time elapsed:  0:00:10.124864\n",
      "1.0 :  0.7167092857\n",
      "\n",
      "Time elapsed:  0:00:11.002961\n",
      "1.5 :  0.7168975698\n",
      "\n",
      "Time elapsed:  0:00:10.000777\n",
      "2.0 :  0.7168783176\n",
      "\n"
     ]
    }
   ],
   "source": [
    "cv = KFold(n_splits=5, shuffle=True)\n",
    "\n",
    "for C in [0.001, 0.01, 0.1, 0.4, 0.8, 1.0, 1.5, 2.0]:\n",
    "    scores = []\n",
    "    start_time = datetime.datetime.now()\n",
    "    \n",
    "    for train_index, test_index in cv.split(X_scaled):\n",
    "        X_train = X_scaled.iloc[train_index]\n",
    "        y_train = y.iloc[train_index]\n",
    "\n",
    "        X_test = X_scaled.iloc[test_index]\n",
    "        y_test = y.iloc[test_index]\n",
    "\n",
    "        model = LogisticRegression(penalty='l2')\n",
    "        model.fit(X_train, y_train)\n",
    "        \n",
    "        predicts = model.predict_proba(X_test)[:, 1]\n",
    "        scores.append(roc_auc_score(y_true=y_test, y_score=predicts))\n",
    "        \n",
    "    print('Time elapsed: ', datetime.datetime.now() - start_time)\n",
    "    print(C, ': ', round(np.mean(scores), 10))\n",
    "    print('')"
   ]
  },
  {
   "cell_type": "markdown",
   "metadata": {},
   "source": [
    "Качество 0.7169 - выше чем у градиентного бустинга в \"лоб\". Работает немного быстрее. Чем объяснить не знаю. Я ожидал что при нрадиентном бустинге качество будет выше. Видимо, такова особенность данных."
   ]
  },
  {
   "cell_type": "code",
   "execution_count": 18,
   "metadata": {},
   "outputs": [],
   "source": [
    "categorical_features = [\n",
    "    'lobby_type', \n",
    "    'r1_hero', \n",
    "    'r2_hero',\n",
    "    'r3_hero',\n",
    "    'r4_hero',\n",
    "    'r5_hero', \n",
    "    'd1_hero', \n",
    "    'd2_hero',\n",
    "    'd3_hero',\n",
    "    'd4_hero',\n",
    "    'd5_hero'\n",
    "]"
   ]
  },
  {
   "cell_type": "code",
   "execution_count": 19,
   "metadata": {},
   "outputs": [],
   "source": [
    "X_scaled_no_categorical = pandas.DataFrame(\n",
    "    scaler.fit_transform(X.drop(categorical_features, axis=1))\n",
    ")"
   ]
  },
  {
   "cell_type": "code",
   "execution_count": 20,
   "metadata": {},
   "outputs": [
    {
     "name": "stdout",
     "output_type": "stream",
     "text": [
      "Time elapsed:  0:00:09.174038\n",
      "0.001 :  0.7167824971\n",
      "\n",
      "Time elapsed:  0:00:09.518603\n",
      "0.01 :  0.7167842853\n",
      "\n",
      "Time elapsed:  0:00:08.846918\n",
      "0.1 :  0.7168074123\n",
      "\n",
      "Time elapsed:  0:00:09.113286\n",
      "0.4 :  0.7168273442\n",
      "\n",
      "Time elapsed:  0:00:08.881563\n",
      "0.8 :  0.716808573\n",
      "\n",
      "Time elapsed:  0:00:09.465885\n",
      "1.0 :  0.7167540532\n",
      "\n",
      "Time elapsed:  0:00:08.813715\n",
      "1.5 :  0.7167853514\n",
      "\n",
      "Time elapsed:  0:00:09.222205\n",
      "2.0 :  0.7166540247\n",
      "\n"
     ]
    }
   ],
   "source": [
    "cv = KFold(n_splits=5, shuffle=True)\n",
    "\n",
    "for C in [0.001, 0.01, 0.1, 0.4, 0.8, 1.0, 1.5, 2.0]:\n",
    "    scores = []\n",
    "    start_time = datetime.datetime.now()\n",
    "    \n",
    "    for train_index, test_index in cv.split(X_scaled_no_categorical):\n",
    "        X_train = X_scaled_no_categorical.iloc[train_index]\n",
    "        y_train = y.iloc[train_index]\n",
    "\n",
    "        X_test = X_scaled_no_categorical.iloc[test_index]\n",
    "        y_test = y.iloc[test_index]\n",
    "\n",
    "        model = LogisticRegression(penalty='l2')\n",
    "        model.fit(X_train, y_train)\n",
    "        \n",
    "        predicts = model.predict_proba(X_test)[:, 1]\n",
    "        scores.append(roc_auc_score(y_true=y_test, y_score=predicts))\n",
    "        \n",
    "    print('Time elapsed: ', datetime.datetime.now() - start_time)\n",
    "    print(C, ': ', round(np.mean(scores), 10))\n",
    "    print('')"
   ]
  },
  {
   "cell_type": "markdown",
   "metadata": {},
   "source": [
    "При удалении категориальных признаков качество осталось прежним, . Я думаю это связано с тем что использование категориальных признаков как вещественных не имеет никакого смысло и никак не влияет на качество."
   ]
  },
  {
   "cell_type": "code",
   "execution_count": 49,
   "metadata": {},
   "outputs": [
    {
     "data": {
      "text/plain": [
       "108"
      ]
     },
     "execution_count": 49,
     "metadata": {},
     "output_type": "execute_result"
    }
   ],
   "source": [
    "len(X.d5_hero.unique())"
   ]
  },
  {
   "cell_type": "markdown",
   "metadata": {},
   "source": [
    "На время создания этой выборки в доте было 108 героев."
   ]
  },
  {
   "cell_type": "code",
   "execution_count": 67,
   "metadata": {},
   "outputs": [
    {
     "name": "stdout",
     "output_type": "stream",
     "text": [
      "Heroes number = 112\n"
     ]
    }
   ],
   "source": [
    "heroes = pandas.read_csv('./heroes.csv')\n",
    "n_heroes = len(heroes)\n",
    "print('Heroes number =', n_heroes)"
   ]
  },
  {
   "cell_type": "code",
   "execution_count": 78,
   "metadata": {},
   "outputs": [
    {
     "data": {
      "text/html": [
       "<div>\n",
       "<style scoped>\n",
       "    .dataframe tbody tr th:only-of-type {\n",
       "        vertical-align: middle;\n",
       "    }\n",
       "\n",
       "    .dataframe tbody tr th {\n",
       "        vertical-align: top;\n",
       "    }\n",
       "\n",
       "    .dataframe thead th {\n",
       "        text-align: right;\n",
       "    }\n",
       "</style>\n",
       "<table border=\"1\" class=\"dataframe\">\n",
       "  <thead>\n",
       "    <tr style=\"text-align: right;\">\n",
       "      <th></th>\n",
       "      <th>id</th>\n",
       "      <th>localized_name</th>\n",
       "      <th>name</th>\n",
       "    </tr>\n",
       "  </thead>\n",
       "  <tbody>\n",
       "    <tr>\n",
       "      <th>0</th>\n",
       "      <td>1</td>\n",
       "      <td>Anti-Mage</td>\n",
       "      <td>antimage</td>\n",
       "    </tr>\n",
       "    <tr>\n",
       "      <th>1</th>\n",
       "      <td>2</td>\n",
       "      <td>Axe</td>\n",
       "      <td>axe</td>\n",
       "    </tr>\n",
       "    <tr>\n",
       "      <th>2</th>\n",
       "      <td>3</td>\n",
       "      <td>Bane</td>\n",
       "      <td>bane</td>\n",
       "    </tr>\n",
       "    <tr>\n",
       "      <th>3</th>\n",
       "      <td>4</td>\n",
       "      <td>Bloodseeker</td>\n",
       "      <td>bloodseeker</td>\n",
       "    </tr>\n",
       "    <tr>\n",
       "      <th>4</th>\n",
       "      <td>5</td>\n",
       "      <td>Crystal Maiden</td>\n",
       "      <td>crystal_maiden</td>\n",
       "    </tr>\n",
       "  </tbody>\n",
       "</table>\n",
       "</div>"
      ],
      "text/plain": [
       "   id  localized_name            name\n",
       "0   1       Anti-Mage        antimage\n",
       "1   2             Axe             axe\n",
       "2   3            Bane            bane\n",
       "3   4     Bloodseeker     bloodseeker\n",
       "4   5  Crystal Maiden  crystal_maiden"
      ]
     },
     "execution_count": 78,
     "metadata": {},
     "output_type": "execute_result"
    }
   ],
   "source": [
    "heroes.head()"
   ]
  },
  {
   "cell_type": "code",
   "execution_count": 77,
   "metadata": {},
   "outputs": [],
   "source": [
    "in_data = pandas.read_csv('./features.csv', index_col='match_id')\n",
    "\n",
    "x_pick = np.zeros((data.shape[0], 108))\n",
    "x_pick = np.zeros((in_data.shape[0], n_heroes))\n",
    "for i, match_id in enumerate(in_data.index):\n",
    "    for p in range(5):\n",
    "        x_pick[i, in_data.loc[match_id, 'r%d_hero' % (p+1)]-1] = 1\n",
    "        x_pick[i, in_data.loc[match_id, 'd%d_hero' % (p+1)]-1] = -1\n",
    "        \n",
    "x_pick = pandas.DataFrame(x_pick, index=in_data.index)"
   ]
  },
  {
   "cell_type": "code",
   "execution_count": 81,
   "metadata": {},
   "outputs": [],
   "source": [
    "X_no_categorical = pandas.DataFrame(X.drop(categorical_features, axis=1))\n",
    "\n",
    "final_x = pandas.concat([X_no_categorical, x_pick], axis=1)\n",
    "scale_x =  pandas.DataFrame(scaler.fit_transform(final_x))"
   ]
  },
  {
   "cell_type": "code",
   "execution_count": 82,
   "metadata": {},
   "outputs": [
    {
     "name": "stdout",
     "output_type": "stream",
     "text": [
      "Time elapsed:  0:00:18.030924\n",
      "0.001 :  0.7517072389\n",
      "\n",
      "Time elapsed:  0:00:17.643991\n",
      "0.01 :  0.7519869075\n",
      "\n",
      "Time elapsed:  0:00:17.107909\n",
      "0.1 :  0.7520997274\n",
      "\n",
      "Time elapsed:  0:00:17.892382\n",
      "0.4 :  0.7519681654\n",
      "\n",
      "Time elapsed:  0:00:17.680313\n",
      "0.8 :  0.7519902589\n",
      "\n",
      "Time elapsed:  0:00:17.499091\n",
      "1.0 :  0.7519422375\n",
      "\n",
      "Time elapsed:  0:00:17.560783\n",
      "1.5 :  0.7518564396\n",
      "\n",
      "Time elapsed:  0:00:17.603676\n",
      "2.0 :  0.7519952152\n",
      "\n"
     ]
    }
   ],
   "source": [
    "cv = KFold(n_splits=5, shuffle=True)\n",
    "\n",
    "for C in [0.001, 0.01, 0.1, 0.4, 0.8, 1.0, 1.5, 2.0]:\n",
    "    scores = []\n",
    "    start_time = datetime.datetime.now()\n",
    "    \n",
    "    for train_index, test_index in cv.split(scale_x):\n",
    "        X_train = scale_x.iloc[train_index]\n",
    "        y_train = y.iloc[train_index]\n",
    "\n",
    "        X_test = scale_x.iloc[test_index]\n",
    "        y_test = y.iloc[test_index]\n",
    "\n",
    "        model = LogisticRegression(penalty='l2')\n",
    "        model.fit(X_train, y_train)\n",
    "        \n",
    "        predicts = model.predict_proba(X_test)[:, 1]\n",
    "        scores.append(roc_auc_score(y_true=y_test, y_score=predicts))\n",
    "        \n",
    "    print('Time elapsed: ', datetime.datetime.now() - start_time)\n",
    "    print(C, ': ', round(np.mean(scores), 10))\n",
    "    print('')"
   ]
  },
  {
   "cell_type": "code",
   "execution_count": null,
   "metadata": {},
   "outputs": [],
   "source": []
  }
 ],
 "metadata": {
  "kernelspec": {
   "display_name": "Python 3",
   "language": "python",
   "name": "python3"
  },
  "language_info": {
   "codemirror_mode": {
    "name": "ipython",
    "version": 3
   },
   "file_extension": ".py",
   "mimetype": "text/x-python",
   "name": "python",
   "nbconvert_exporter": "python",
   "pygments_lexer": "ipython3",
   "version": "3.5.2"
  }
 },
 "nbformat": 4,
 "nbformat_minor": 2
}
