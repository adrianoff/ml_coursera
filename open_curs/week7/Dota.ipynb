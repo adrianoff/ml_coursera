{
 "cells": [
  {
   "cell_type": "code",
   "execution_count": 74,
   "metadata": {},
   "outputs": [],
   "source": [
    "import pandas\n",
    "import numpy as np\n",
    "from sklearn.ensemble import GradientBoostingClassifier\n",
    "from sklearn.model_selection import KFold\n",
    "from sklearn.metrics import roc_auc_score\n",
    "\n",
    "import time\n",
    "import datetime\n",
    "import matplotlib.pyplot as plt"
   ]
  },
  {
   "cell_type": "code",
   "execution_count": 75,
   "metadata": {},
   "outputs": [
    {
     "data": {
      "text/html": [
       "<div>\n",
       "<style scoped>\n",
       "    .dataframe tbody tr th:only-of-type {\n",
       "        vertical-align: middle;\n",
       "    }\n",
       "\n",
       "    .dataframe tbody tr th {\n",
       "        vertical-align: top;\n",
       "    }\n",
       "\n",
       "    .dataframe thead th {\n",
       "        text-align: right;\n",
       "    }\n",
       "</style>\n",
       "<table border=\"1\" class=\"dataframe\">\n",
       "  <thead>\n",
       "    <tr style=\"text-align: right;\">\n",
       "      <th></th>\n",
       "      <th>start_time</th>\n",
       "      <th>lobby_type</th>\n",
       "      <th>r1_hero</th>\n",
       "      <th>r1_level</th>\n",
       "      <th>r1_xp</th>\n",
       "      <th>r1_gold</th>\n",
       "      <th>r1_lh</th>\n",
       "      <th>r1_kills</th>\n",
       "      <th>r1_deaths</th>\n",
       "      <th>r1_items</th>\n",
       "      <th>...</th>\n",
       "      <th>dire_boots_count</th>\n",
       "      <th>dire_ward_observer_count</th>\n",
       "      <th>dire_ward_sentry_count</th>\n",
       "      <th>dire_first_ward_time</th>\n",
       "      <th>duration</th>\n",
       "      <th>radiant_win</th>\n",
       "      <th>tower_status_radiant</th>\n",
       "      <th>tower_status_dire</th>\n",
       "      <th>barracks_status_radiant</th>\n",
       "      <th>barracks_status_dire</th>\n",
       "    </tr>\n",
       "    <tr>\n",
       "      <th>match_id</th>\n",
       "      <th></th>\n",
       "      <th></th>\n",
       "      <th></th>\n",
       "      <th></th>\n",
       "      <th></th>\n",
       "      <th></th>\n",
       "      <th></th>\n",
       "      <th></th>\n",
       "      <th></th>\n",
       "      <th></th>\n",
       "      <th></th>\n",
       "      <th></th>\n",
       "      <th></th>\n",
       "      <th></th>\n",
       "      <th></th>\n",
       "      <th></th>\n",
       "      <th></th>\n",
       "      <th></th>\n",
       "      <th></th>\n",
       "      <th></th>\n",
       "      <th></th>\n",
       "    </tr>\n",
       "  </thead>\n",
       "  <tbody>\n",
       "    <tr>\n",
       "      <th>0</th>\n",
       "      <td>1430198770</td>\n",
       "      <td>7</td>\n",
       "      <td>11</td>\n",
       "      <td>5</td>\n",
       "      <td>2098</td>\n",
       "      <td>1489</td>\n",
       "      <td>20</td>\n",
       "      <td>0</td>\n",
       "      <td>0</td>\n",
       "      <td>7</td>\n",
       "      <td>...</td>\n",
       "      <td>4</td>\n",
       "      <td>2</td>\n",
       "      <td>2</td>\n",
       "      <td>-52.0</td>\n",
       "      <td>2874</td>\n",
       "      <td>1</td>\n",
       "      <td>1796</td>\n",
       "      <td>0</td>\n",
       "      <td>51</td>\n",
       "      <td>0</td>\n",
       "    </tr>\n",
       "    <tr>\n",
       "      <th>1</th>\n",
       "      <td>1430220345</td>\n",
       "      <td>0</td>\n",
       "      <td>42</td>\n",
       "      <td>4</td>\n",
       "      <td>1188</td>\n",
       "      <td>1033</td>\n",
       "      <td>9</td>\n",
       "      <td>0</td>\n",
       "      <td>1</td>\n",
       "      <td>12</td>\n",
       "      <td>...</td>\n",
       "      <td>4</td>\n",
       "      <td>3</td>\n",
       "      <td>1</td>\n",
       "      <td>-5.0</td>\n",
       "      <td>2463</td>\n",
       "      <td>1</td>\n",
       "      <td>1974</td>\n",
       "      <td>0</td>\n",
       "      <td>63</td>\n",
       "      <td>1</td>\n",
       "    </tr>\n",
       "    <tr>\n",
       "      <th>2</th>\n",
       "      <td>1430227081</td>\n",
       "      <td>7</td>\n",
       "      <td>33</td>\n",
       "      <td>4</td>\n",
       "      <td>1319</td>\n",
       "      <td>1270</td>\n",
       "      <td>22</td>\n",
       "      <td>0</td>\n",
       "      <td>0</td>\n",
       "      <td>12</td>\n",
       "      <td>...</td>\n",
       "      <td>4</td>\n",
       "      <td>3</td>\n",
       "      <td>1</td>\n",
       "      <td>13.0</td>\n",
       "      <td>2130</td>\n",
       "      <td>0</td>\n",
       "      <td>0</td>\n",
       "      <td>1830</td>\n",
       "      <td>0</td>\n",
       "      <td>63</td>\n",
       "    </tr>\n",
       "    <tr>\n",
       "      <th>3</th>\n",
       "      <td>1430263531</td>\n",
       "      <td>1</td>\n",
       "      <td>29</td>\n",
       "      <td>4</td>\n",
       "      <td>1779</td>\n",
       "      <td>1056</td>\n",
       "      <td>14</td>\n",
       "      <td>0</td>\n",
       "      <td>0</td>\n",
       "      <td>5</td>\n",
       "      <td>...</td>\n",
       "      <td>4</td>\n",
       "      <td>2</td>\n",
       "      <td>0</td>\n",
       "      <td>27.0</td>\n",
       "      <td>1459</td>\n",
       "      <td>0</td>\n",
       "      <td>1920</td>\n",
       "      <td>2047</td>\n",
       "      <td>50</td>\n",
       "      <td>63</td>\n",
       "    </tr>\n",
       "    <tr>\n",
       "      <th>4</th>\n",
       "      <td>1430282290</td>\n",
       "      <td>7</td>\n",
       "      <td>13</td>\n",
       "      <td>4</td>\n",
       "      <td>1431</td>\n",
       "      <td>1090</td>\n",
       "      <td>8</td>\n",
       "      <td>1</td>\n",
       "      <td>0</td>\n",
       "      <td>8</td>\n",
       "      <td>...</td>\n",
       "      <td>3</td>\n",
       "      <td>3</td>\n",
       "      <td>0</td>\n",
       "      <td>-16.0</td>\n",
       "      <td>2449</td>\n",
       "      <td>0</td>\n",
       "      <td>4</td>\n",
       "      <td>1974</td>\n",
       "      <td>3</td>\n",
       "      <td>63</td>\n",
       "    </tr>\n",
       "  </tbody>\n",
       "</table>\n",
       "<p>5 rows × 108 columns</p>\n",
       "</div>"
      ],
      "text/plain": [
       "          start_time  lobby_type  r1_hero  r1_level  r1_xp  r1_gold  r1_lh  \\\n",
       "match_id                                                                     \n",
       "0         1430198770           7       11         5   2098     1489     20   \n",
       "1         1430220345           0       42         4   1188     1033      9   \n",
       "2         1430227081           7       33         4   1319     1270     22   \n",
       "3         1430263531           1       29         4   1779     1056     14   \n",
       "4         1430282290           7       13         4   1431     1090      8   \n",
       "\n",
       "          r1_kills  r1_deaths  r1_items          ...           \\\n",
       "match_id                                         ...            \n",
       "0                0          0         7          ...            \n",
       "1                0          1        12          ...            \n",
       "2                0          0        12          ...            \n",
       "3                0          0         5          ...            \n",
       "4                1          0         8          ...            \n",
       "\n",
       "          dire_boots_count  dire_ward_observer_count  dire_ward_sentry_count  \\\n",
       "match_id                                                                       \n",
       "0                        4                         2                       2   \n",
       "1                        4                         3                       1   \n",
       "2                        4                         3                       1   \n",
       "3                        4                         2                       0   \n",
       "4                        3                         3                       0   \n",
       "\n",
       "          dire_first_ward_time  duration  radiant_win  tower_status_radiant  \\\n",
       "match_id                                                                      \n",
       "0                        -52.0      2874            1                  1796   \n",
       "1                         -5.0      2463            1                  1974   \n",
       "2                         13.0      2130            0                     0   \n",
       "3                         27.0      1459            0                  1920   \n",
       "4                        -16.0      2449            0                     4   \n",
       "\n",
       "          tower_status_dire  barracks_status_radiant  barracks_status_dire  \n",
       "match_id                                                                    \n",
       "0                         0                       51                     0  \n",
       "1                         0                       63                     1  \n",
       "2                      1830                        0                    63  \n",
       "3                      2047                       50                    63  \n",
       "4                      1974                        3                    63  \n",
       "\n",
       "[5 rows x 108 columns]"
      ]
     },
     "execution_count": 75,
     "metadata": {},
     "output_type": "execute_result"
    }
   ],
   "source": [
    "features = pandas.read_csv('./features.csv', index_col='match_id')\n",
    "features.head()"
   ]
  },
  {
   "cell_type": "markdown",
   "metadata": {},
   "source": [
    "# Градиентный бустинг в \"лоб\""
   ]
  },
  {
   "cell_type": "code",
   "execution_count": 76,
   "metadata": {},
   "outputs": [],
   "source": [
    "X = features.loc[:, 'lobby_type':'dire_first_ward_time']\n",
    "y = features.radiant_win # Целевая переменная"
   ]
  },
  {
   "cell_type": "code",
   "execution_count": 77,
   "metadata": {},
   "outputs": [
    {
     "data": {
      "text/plain": [
       "['first_blood_time',\n",
       " 'first_blood_team',\n",
       " 'first_blood_player1',\n",
       " 'first_blood_player2',\n",
       " 'radiant_bottle_time',\n",
       " 'radiant_courier_time',\n",
       " 'radiant_flying_courier_time',\n",
       " 'radiant_first_ward_time',\n",
       " 'dire_bottle_time',\n",
       " 'dire_courier_time',\n",
       " 'dire_flying_courier_time',\n",
       " 'dire_first_ward_time']"
      ]
     },
     "execution_count": 77,
     "metadata": {},
     "output_type": "execute_result"
    }
   ],
   "source": [
    "# Признаки которые имеют пропуски\n",
    "X.columns[X.isna().any()].tolist()"
   ]
  },
  {
   "cell_type": "markdown",
   "metadata": {},
   "source": [
    "* ***first_blood_time*** - Первой крови за первые 5 минут может и не быть.\n",
    "\n",
    "* ***first_blood_player2*** - Даже если первая кровь была, она могла быть сделана без ассиста.\n",
    "\n",
    "* ***dire_first_ward_time*** - Если команда за первые 5 минут не установила \"наблюдателя\", то данное поле не заполнено."
   ]
  },
  {
   "cell_type": "code",
   "execution_count": 78,
   "metadata": {},
   "outputs": [],
   "source": [
    "# Заменим пропуски на среднее.\n",
    "na_columns = X.columns[X.isna().any()].tolist()\n",
    "for na_column in na_columns:\n",
    "    X[na_column].fillna(X[na_column].mean(), inplace=True)"
   ]
  },
  {
   "cell_type": "code",
   "execution_count": 79,
   "metadata": {},
   "outputs": [],
   "source": [
    "# Функция рисования графиков\n",
    "def draw_chart(x, y, label_x, label_y):\n",
    "    plt.plot(x, y)\n",
    "    plt.xlabel(label_x)\n",
    "    plt.ylabel(label_y)\n",
    "    plt.show()\n",
    "\n",
    "# Функция обучения модели\n",
    "def do_fit(X, y, parameters, model_type):\n",
    "    cv = KFold(n_splits=5, shuffle=True, random_state=241)\n",
    "    means = []\n",
    "    \n",
    "    for p in parameters:\n",
    "        scores = []\n",
    "        start_time = datetime.datetime.now()\n",
    "        \n",
    "        for train_index, test_index in cv.split(X):\n",
    "            X_train = X.iloc[train_index]\n",
    "            y_train = y.iloc[train_index]\n",
    "\n",
    "            X_test = X.iloc[test_index]\n",
    "            y_test = y.iloc[test_index]\n",
    "            \n",
    "            if model_type == 'gradient_boosting':\n",
    "                parameter_name = 'n_estimators'\n",
    "                model = GradientBoostingClassifier(n_estimators=p)\n",
    "            elif model_type == 'logistic_regression':\n",
    "                parameter_name = 'C'\n",
    "                model = LogisticRegression(penalty='l2', C=p)\n",
    "            else:\n",
    "                raise ValueError('Wrong model_type')\n",
    "                \n",
    "            model.fit(X_train, y_train)\n",
    "            \n",
    "            predicts = model.predict_proba(X_test)[:, 1]\n",
    "            scores.append(roc_auc_score(y_true=y_test, y_score=predicts))\n",
    "        \n",
    "        means.append(np.mean(scores))\n",
    "            \n",
    "        print('Time elapsed: ', datetime.datetime.now() - start_time)\n",
    "        print(parameter_name, '=', p, ': ', round(np.mean(scores), 5))\n",
    "        print('')\n",
    "        \n",
    "    return means, parameters"
   ]
  },
  {
   "cell_type": "code",
   "execution_count": 80,
   "metadata": {},
   "outputs": [
    {
     "name": "stdout",
     "output_type": "stream",
     "text": [
      "Time elapsed:  0:00:17.710655\n",
      "n_estimators = 10 :  0.66453\n",
      "\n",
      "Time elapsed:  0:00:31.451544\n",
      "n_estimators = 20 :  0.6817\n",
      "\n",
      "Time elapsed:  0:00:45.743872\n",
      "n_estimators = 30 :  0.68918\n",
      "\n",
      "Time elapsed:  0:01:01.118005\n",
      "n_estimators = 40 :  0.69371\n",
      "\n",
      "Time elapsed:  0:01:15.687134\n",
      "n_estimators = 50 :  0.69698\n",
      "\n",
      "Time elapsed:  0:01:32.338945\n",
      "n_estimators = 60 :  0.69972\n",
      "\n",
      "Time elapsed:  0:01:42.931667\n",
      "n_estimators = 70 :  0.70203\n",
      "\n",
      "Time elapsed:  0:02:05.854725\n",
      "n_estimators = 80 :  0.70374\n",
      "\n",
      "Time elapsed:  0:02:30.737135\n",
      "n_estimators = 100 :  0.70622\n",
      "\n",
      "Time elapsed:  0:05:10.306130\n",
      "n_estimators = 200 :  0.71395\n",
      "\n",
      "Time elapsed:  0:07:53.684036\n",
      "n_estimators = 300 :  0.71788\n",
      "\n"
     ]
    },
    {
     "data": {
      "image/png": "[encoded data removed]",
      "text/plain": [
       "<Figure size 432x288 with 1 Axes>"
      ]
     },
     "metadata": {
      "needs_background": "light"
     },
     "output_type": "display_data"
    }
   ],
   "source": [
    "means, parameters = do_fit(X, y, [10, 20, 30, 40, 50, 60, 70, 80, 100, 200, 300], 'gradient_boosting')\n",
    "draw_chart(parameters, means, 'estimators_number', 'mean')"
   ]
  },
  {
   "cell_type": "markdown",
   "metadata": {},
   "source": [
    "При 30 деревьях качество 0.69. Расчеты длились 46 секунд.\n",
    "Качество улучшается при добавлении деревьев, но время расчетов быстро растет. Чтобы ускорить расчеты можно использовать меньшую выборку и установить ограничение на максимальную глубину деревьев."
   ]
  },
  {
   "cell_type": "markdown",
   "metadata": {},
   "source": [
    "## Логистическая регрессия"
   ]
  },
  {
   "cell_type": "code",
   "execution_count": 31,
   "metadata": {},
   "outputs": [],
   "source": [
    "from sklearn.preprocessing import StandardScaler\n",
    "from sklearn.linear_model import LogisticRegression"
   ]
  },
  {
   "cell_type": "code",
   "execution_count": 32,
   "metadata": {},
   "outputs": [],
   "source": [
    "X = features.loc[:, 'lobby_type':'dire_first_ward_time']\n",
    "y = features.radiant_win # Целевая переменная"
   ]
  },
  {
   "cell_type": "code",
   "execution_count": 33,
   "metadata": {},
   "outputs": [],
   "source": [
    "# Заменим пропуски на среднее.\n",
    "na_columns = X.columns[X.isna().any()].tolist()\n",
    "for na_column in na_columns:\n",
    "    X[na_column].fillna(X[na_column].mean(), inplace=True)"
   ]
  },
  {
   "cell_type": "code",
   "execution_count": 34,
   "metadata": {},
   "outputs": [],
   "source": [
    "scaler = StandardScaler()\n",
    "X_scaled = pandas.DataFrame(scaler.fit_transform(X))"
   ]
  },
  {
   "cell_type": "code",
   "execution_count": 35,
   "metadata": {},
   "outputs": [
    {
     "name": "stdout",
     "output_type": "stream",
     "text": [
      "Time elapsed:  0:00:07.189918\n",
      "C = 0.001 :  0.71657\n",
      "\n",
      "Time elapsed:  0:00:09.525911\n",
      "C = 0.01 :  0.71669\n",
      "\n",
      "Time elapsed:  0:00:09.719815\n",
      "C = 0.1 :  0.71666\n",
      "\n",
      "Time elapsed:  0:00:10.248192\n",
      "C = 0.4 :  0.71666\n",
      "\n",
      "Time elapsed:  0:00:10.267391\n",
      "C = 0.8 :  0.71666\n",
      "\n",
      "Time elapsed:  0:00:10.028837\n",
      "C = 1.0 :  0.71666\n",
      "\n",
      "Time elapsed:  0:00:10.102470\n",
      "C = 1.5 :  0.71666\n",
      "\n",
      "Time elapsed:  0:00:10.004721\n",
      "C = 2.0 :  0.71666\n",
      "\n"
     ]
    },
    {
     "data": {
      "image/png": "[encoded data removed]",
      "text/plain": [
       "<Figure size 432x288 with 1 Axes>"
      ]
     },
     "metadata": {
      "needs_background": "light"
     },
     "output_type": "display_data"
    }
   ],
   "source": [
    "means, parameters = do_fit(X_scaled, y, [0.001, 0.01, 0.1, 0.4, 0.8, 1.0, 1.5, 2.0], 'logistic_regression')\n",
    "draw_chart(parameters, means, 'C', 'mean')"
   ]
  },
  {
   "cell_type": "code",
   "execution_count": 41,
   "metadata": {},
   "outputs": [
    {
     "name": "stdout",
     "output_type": "stream",
     "text": [
      "Best C = 0.01\n",
      "Max Score = 0.71669\n"
     ]
    }
   ],
   "source": [
    "max_score, best_c = max(zip(means, parameters))\n",
    "print('Best C =', best_c)\n",
    "print('Max Score =', round(max_score, 5))"
   ]
  },
  {
   "cell_type": "markdown",
   "metadata": {},
   "source": [
    "Качество 0.71669 (при С = 0.01) - выше чем у градиентного бустинга в \"лоб\". Работает немного быстрее. Чем объяснить не знаю. Я ожидал что при градиентном бустинге качество будет выше. Видимо, такова особенность данных. Но возможно для градиентного бустинга нужно больше деревьев."
   ]
  },
  {
   "cell_type": "markdown",
   "metadata": {},
   "source": [
    "#### Удалим категориальные признаки"
   ]
  },
  {
   "cell_type": "code",
   "execution_count": 38,
   "metadata": {},
   "outputs": [],
   "source": [
    "categorical_features = [\n",
    "    'lobby_type', \n",
    "    'r1_hero', \n",
    "    'r2_hero',\n",
    "    'r3_hero',\n",
    "    'r4_hero',\n",
    "    'r5_hero', \n",
    "    'd1_hero', \n",
    "    'd2_hero',\n",
    "    'd3_hero',\n",
    "    'd4_hero',\n",
    "    'd5_hero'\n",
    "]"
   ]
  },
  {
   "cell_type": "code",
   "execution_count": 39,
   "metadata": {},
   "outputs": [],
   "source": [
    "X_scaled_no_categorical = pandas.DataFrame(\n",
    "    scaler.fit_transform(X.drop(categorical_features, axis=1))\n",
    ")"
   ]
  },
  {
   "cell_type": "code",
   "execution_count": 40,
   "metadata": {},
   "outputs": [
    {
     "name": "stdout",
     "output_type": "stream",
     "text": [
      "Time elapsed:  0:00:07.743050\n",
      "C = 0.001 :  0.71657\n",
      "\n",
      "Time elapsed:  0:00:09.658903\n",
      "C = 0.01 :  0.71669\n",
      "\n",
      "Time elapsed:  0:00:09.703632\n",
      "C = 0.1 :  0.71666\n",
      "\n",
      "Time elapsed:  0:00:09.762351\n",
      "C = 0.4 :  0.71666\n",
      "\n",
      "Time elapsed:  0:00:09.745854\n",
      "C = 0.8 :  0.71666\n",
      "\n",
      "Time elapsed:  0:00:09.804312\n",
      "C = 1.0 :  0.71666\n",
      "\n",
      "Time elapsed:  0:00:09.947705\n",
      "C = 1.5 :  0.71666\n",
      "\n",
      "Time elapsed:  0:00:09.911852\n",
      "C = 2.0 :  0.71666\n",
      "\n"
     ]
    },
    {
     "data": {
      "image/png": "[encoded data removed]",
      "text/plain": [
       "<Figure size 432x288 with 1 Axes>"
      ]
     },
     "metadata": {
      "needs_background": "light"
     },
     "output_type": "display_data"
    }
   ],
   "source": [
    "means, parameters = do_fit(X_scaled_no_categorical, y, [0.001, 0.01, 0.1, 0.4, 0.8, 1.0, 1.5, 2.0], 'logistic_regression')\n",
    "draw_chart(parameters, means, 'C', 'mean')"
   ]
  },
  {
   "cell_type": "code",
   "execution_count": 42,
   "metadata": {},
   "outputs": [
    {
     "name": "stdout",
     "output_type": "stream",
     "text": [
      "Best C = 0.01\n",
      "Max Score = 0.71669\n"
     ]
    }
   ],
   "source": [
    "max_score, best_c = max(zip(means, parameters))\n",
    "print('Best C =', best_c)\n",
    "print('Max Score =', round(max_score, 5))"
   ]
  },
  {
   "cell_type": "markdown",
   "metadata": {},
   "source": [
    "##### При удалении категориальных признаков качество осталось прежним, . Я думаю это связано с тем что использование категориальных признаков как вещественных не имеет никакого смысло и не оказывает влияния на качество."
   ]
  },
  {
   "cell_type": "markdown",
   "metadata": {},
   "source": [
    "### \"Мешок слов\" для категориальных признаков"
   ]
  },
  {
   "cell_type": "code",
   "execution_count": 43,
   "metadata": {},
   "outputs": [
    {
     "name": "stdout",
     "output_type": "stream",
     "text": [
      "Heroes number = 112\n"
     ]
    }
   ],
   "source": [
    "heroes = pandas.read_csv('./heroes.csv')\n",
    "n_heroes = len(heroes)\n",
    "print('Heroes number =', n_heroes)"
   ]
  },
  {
   "cell_type": "code",
   "execution_count": 44,
   "metadata": {},
   "outputs": [
    {
     "data": {
      "text/html": [
       "<div>\n",
       "<style scoped>\n",
       "    .dataframe tbody tr th:only-of-type {\n",
       "        vertical-align: middle;\n",
       "    }\n",
       "\n",
       "    .dataframe tbody tr th {\n",
       "        vertical-align: top;\n",
       "    }\n",
       "\n",
       "    .dataframe thead th {\n",
       "        text-align: right;\n",
       "    }\n",
       "</style>\n",
       "<table border=\"1\" class=\"dataframe\">\n",
       "  <thead>\n",
       "    <tr style=\"text-align: right;\">\n",
       "      <th></th>\n",
       "      <th>id</th>\n",
       "      <th>localized_name</th>\n",
       "      <th>name</th>\n",
       "    </tr>\n",
       "  </thead>\n",
       "  <tbody>\n",
       "    <tr>\n",
       "      <th>0</th>\n",
       "      <td>1</td>\n",
       "      <td>Anti-Mage</td>\n",
       "      <td>antimage</td>\n",
       "    </tr>\n",
       "    <tr>\n",
       "      <th>1</th>\n",
       "      <td>2</td>\n",
       "      <td>Axe</td>\n",
       "      <td>axe</td>\n",
       "    </tr>\n",
       "    <tr>\n",
       "      <th>2</th>\n",
       "      <td>3</td>\n",
       "      <td>Bane</td>\n",
       "      <td>bane</td>\n",
       "    </tr>\n",
       "    <tr>\n",
       "      <th>3</th>\n",
       "      <td>4</td>\n",
       "      <td>Bloodseeker</td>\n",
       "      <td>bloodseeker</td>\n",
       "    </tr>\n",
       "    <tr>\n",
       "      <th>4</th>\n",
       "      <td>5</td>\n",
       "      <td>Crystal Maiden</td>\n",
       "      <td>crystal_maiden</td>\n",
       "    </tr>\n",
       "  </tbody>\n",
       "</table>\n",
       "</div>"
      ],
      "text/plain": [
       "   id  localized_name            name\n",
       "0   1       Anti-Mage        antimage\n",
       "1   2             Axe             axe\n",
       "2   3            Bane            bane\n",
       "3   4     Bloodseeker     bloodseeker\n",
       "4   5  Crystal Maiden  crystal_maiden"
      ]
     },
     "execution_count": 44,
     "metadata": {},
     "output_type": "execute_result"
    }
   ],
   "source": [
    "heroes.head()"
   ]
  },
  {
   "cell_type": "code",
   "execution_count": 47,
   "metadata": {},
   "outputs": [],
   "source": [
    "X_heroes = np.zeros((features.shape[0], n_heroes))\n",
    "for i, match_id in enumerate(features.index):\n",
    "    for p in range(5):\n",
    "        X_heroes[i, features.loc[match_id, 'r%d_hero' % (p+1)]-1] = 1\n",
    "        X_heroes[i, features.loc[match_id, 'd%d_hero' % (p+1)]-1] = -1\n",
    "        \n",
    "X_heroes = pandas.DataFrame(X_heroes, index=features.index)"
   ]
  },
  {
   "cell_type": "code",
   "execution_count": 48,
   "metadata": {},
   "outputs": [],
   "source": [
    "X_no_categorical = pandas.DataFrame(X.drop(categorical_features, axis=1))\n",
    "\n",
    "final_x = pandas.concat([X_no_categorical, X_heroes], axis=1)\n",
    "final_scaled_x =  pandas.DataFrame(scaler.fit_transform(final_x))"
   ]
  },
  {
   "cell_type": "code",
   "execution_count": 49,
   "metadata": {},
   "outputs": [
    {
     "name": "stdout",
     "output_type": "stream",
     "text": [
      "Time elapsed:  0:00:11.975266\n",
      "C = 0.001 :  0.75171\n",
      "\n",
      "Time elapsed:  0:00:16.457604\n",
      "C = 0.01 :  0.75199\n",
      "\n",
      "Time elapsed:  0:00:19.198561\n",
      "C = 0.1 :  0.75195\n",
      "\n",
      "Time elapsed:  0:00:19.282452\n",
      "C = 0.4 :  0.75194\n",
      "\n",
      "Time elapsed:  0:00:20.269587\n",
      "C = 0.8 :  0.75194\n",
      "\n",
      "Time elapsed:  0:00:19.208160\n",
      "C = 1.0 :  0.75194\n",
      "\n",
      "Time elapsed:  0:00:21.677570\n",
      "C = 1.5 :  0.75194\n",
      "\n",
      "Time elapsed:  0:00:24.712326\n",
      "C = 2.0 :  0.75194\n",
      "\n"
     ]
    },
    {
     "data": {
      "image/png": "[encoded data removed]",
      "text/plain": [
       "<Figure size 432x288 with 1 Axes>"
      ]
     },
     "metadata": {
      "needs_background": "light"
     },
     "output_type": "display_data"
    }
   ],
   "source": [
    "means, parameters = do_fit(final_scaled_x, y, [0.001, 0.01, 0.1, 0.4, 0.8, 1.0, 1.5, 2.0], 'logistic_regression')\n",
    "draw_chart(parameters, means, 'C', 'mean')"
   ]
  },
  {
   "cell_type": "code",
   "execution_count": 50,
   "metadata": {},
   "outputs": [
    {
     "name": "stdout",
     "output_type": "stream",
     "text": [
      "Best C = 0.01\n",
      "Max Score = 0.75199\n"
     ]
    }
   ],
   "source": [
    "max_score, best_c = max(zip(means, parameters))\n",
    "print('Best C =', best_c)\n",
    "print('Max Score =', round(max_score, 5))"
   ]
  },
  {
   "cell_type": "markdown",
   "metadata": {},
   "source": [
    "При добавлении мешка слов по героям значение оценки качесва классификации заметно улучшилось. Это связано с тем, что теперь мы используем категориальные признаки более разумно, т. к. герои имеют разные характеристики, и некоторые из них выигрывают чаще, чем другие. Наилучшего качества логистическая регрессия с мешком слов по героям достигает при параметре регуляризации C = 0.01, при этом оценка качества составляет 0.75199."
   ]
  },
  {
   "cell_type": "markdown",
   "metadata": {},
   "source": [
    "### Проверка на тестовых данных"
   ]
  },
  {
   "cell_type": "code",
   "execution_count": 67,
   "metadata": {},
   "outputs": [],
   "source": [
    "# Подготовка тестовых данных\n",
    "features_test = pandas.read_csv('features_test.csv', index_col='match_id')\n",
    "\n",
    "X_test = features_test.loc[:, 'lobby_type':'dire_first_ward_time']\n",
    "\n",
    "na_columns = X_test.columns[X_test.isna().any()].tolist()\n",
    "for na_column in na_columns:\n",
    "    X_test[na_column].fillna(X_test[na_column].mean(), inplace=True)\n",
    "    \n",
    "X_test_no_categorical = X_test.drop(categorical_features, axis=1)\n",
    "\n",
    "X_heroes = np.zeros((features_test.shape[0], n_heroes))\n",
    "for i, match_id in enumerate(features_test.index):\n",
    "    for p in range(5):\n",
    "        X_heroes[i, features_test.loc[match_id, 'r%d_hero' % (p+1)]-1] = 1\n",
    "        X_heroes[i, features_test.loc[match_id, 'd%d_hero' % (p+1)]-1] = -1\n",
    "        \n",
    "X_heroes = pandas.DataFrame(X_heroes, index=features_test.index)\n",
    "\n",
    "final_X_test = pandas.concat([X_test_no_categorical, X_heroes], axis=1)\n",
    "final_scaled_X_test =  pandas.DataFrame(scaler.fit_transform(final_X_test))"
   ]
  },
  {
   "cell_type": "code",
   "execution_count": 69,
   "metadata": {},
   "outputs": [],
   "source": [
    "model = LogisticRegression(C=0.01, random_state=241)\n",
    "model.fit(final_scaled_x, y)\n",
    "y_test = model.predict_proba(final_scaled_X_test)\n",
    "p = list(map(lambda v: max(v), y_test))"
   ]
  },
  {
   "cell_type": "code",
   "execution_count": 71,
   "metadata": {},
   "outputs": [
    {
     "data": {
      "text/plain": [
       "0.9965010070400059"
      ]
     },
     "execution_count": 71,
     "metadata": {},
     "output_type": "execute_result"
    }
   ],
   "source": [
    "max(p)"
   ]
  },
  {
   "cell_type": "code",
   "execution_count": 72,
   "metadata": {
    "scrolled": false
   },
   "outputs": [
    {
     "data": {
      "text/plain": [
       "0.5000333853546345"
      ]
     },
     "execution_count": 72,
     "metadata": {},
     "output_type": "execute_result"
    }
   ],
   "source": [
    "min(p)"
   ]
  },
  {
   "cell_type": "markdown",
   "metadata": {},
   "source": [
    "Предсказанные вероятности адекватные — находятся на отрезке [0, 1], не совпадают между собой."
   ]
  }
 ],
 "metadata": {
  "kernelspec": {
   "display_name": "Python 3",
   "language": "python",
   "name": "python3"
  },
  "language_info": {
   "codemirror_mode": {
    "name": "ipython",
    "version": 3
   },
   "file_extension": ".py",
   "mimetype": "text/x-python",
   "name": "python",
   "nbconvert_exporter": "python",
   "pygments_lexer": "ipython3",
   "version": "3.5.2"
  }
 },
 "nbformat": 4,
 "nbformat_minor": 2
}
