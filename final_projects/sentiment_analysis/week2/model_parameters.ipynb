{
 "cells": [
  {
   "cell_type": "code",
   "execution_count": 2,
   "metadata": {},
   "outputs": [],
   "source": [
    "from nltk.corpus import movie_reviews\n",
    "from sklearn.feature_extraction.text import CountVectorizer\n",
    "from sklearn.feature_extraction.text import TfidfVectorizer\n",
    "from sklearn.pipeline import Pipeline\n",
    "from sklearn.linear_model import LogisticRegression\n",
    "from sklearn.cross_validation import cross_val_score\n",
    "import numpy as np"
   ]
  },
  {
   "cell_type": "code",
   "execution_count": 5,
   "metadata": {},
   "outputs": [],
   "source": [
    "negids = movie_reviews.fileids('neg')\n",
    "posids = movie_reviews.fileids('pos')\n",
    "\n",
    "negfeats = [movie_reviews.words(fileids=[f]) for f in negids]\n",
    "posfeats = [movie_reviews.words(fileids=[f]) for f in posids]\n",
    "\n",
    "negfeats_raw = [movie_reviews.raw(fileids=[f]) for f in negids]\n",
    "posfeats_raw = [movie_reviews.raw(fileids=[f]) for f in posids]\n",
    "\n",
    "negfeats_imploded = [' '.join(words) for words in negfeats]\n",
    "posfeats_imploded = [' '.join(words) for words in posfeats]\n",
    "imploded = negfeats_imploded + posfeats_imploded\n",
    "labels = [0] * len(negfeats) + [1] * len(posfeats)"
   ]
  },
  {
   "cell_type": "code",
   "execution_count": 6,
   "metadata": {},
   "outputs": [],
   "source": [
    "pipeline1 = Pipeline([(\"vectorizer\", CountVectorizer()), (\"classifier\", LogisticRegression())])\n",
    "scores1 = cross_val_score(estimator=pipeline1, X=imploded, y=labels, cv=10)\n",
    "\n",
    "pipeline2 = Pipeline([(\"vectorizer\", TfidfVectorizer()), (\"classifier\", LogisticRegression())])\n",
    "scores2 = cross_val_score(estimator=pipeline2, X=imploded, y=labels, cv=10)"
   ]
  },
  {
   "cell_type": "code",
   "execution_count": 18,
   "metadata": {},
   "outputs": [
    {
     "name": "stdout",
     "output_type": "stream",
     "text": [
      "0.84   0.02   0.82   0.02\n"
     ]
    }
   ],
   "source": [
    "print round(scores1.mean(), 2), ' ', round(scores1.std(), 2), ' ', round(scores2.mean(), 2), ' ', round(scores2.std(), 2)"
   ]
  },
  {
   "cell_type": "code",
   "execution_count": 23,
   "metadata": {},
   "outputs": [
    {
     "name": "stdout",
     "output_type": "stream",
     "text": [
      "0.82\n"
     ]
    }
   ],
   "source": [
    "pipeline1 = Pipeline([(\"vectorizer\", CountVectorizer(min_df=50)), (\"classifier\", LogisticRegression())])\n",
    "scores1 = cross_val_score(estimator=pipeline1, X=imploded, y=labels, cv=10)\n",
    "print round(scores1.mean(), 2)"
   ]
  },
  {
   "cell_type": "code",
   "execution_count": 25,
   "metadata": {},
   "outputs": [
    {
     "name": "stdout",
     "output_type": "stream",
     "text": [
      "0.84\n"
     ]
    }
   ],
   "source": [
    "pipeline = Pipeline([(\"vectorizer\", CountVectorizer()), (\"classifier\", LogisticRegression())])\n",
    "scores = cross_val_score(estimator=pipeline, X=imploded, y=labels, cv=10)\n",
    "print round(scores.mean(), 2)"
   ]
  },
  {
   "cell_type": "code",
   "execution_count": 29,
   "metadata": {
    "collapsed": true
   },
   "outputs": [],
   "source": [
    "from sklearn.svm import LinearSVC\n",
    "from sklearn.linear_model import SGDClassifier"
   ]
  },
  {
   "cell_type": "code",
   "execution_count": 27,
   "metadata": {},
   "outputs": [
    {
     "name": "stdout",
     "output_type": "stream",
     "text": [
      "0.83\n"
     ]
    }
   ],
   "source": [
    "pipeline = Pipeline([(\"vectorizer\", CountVectorizer()), (\"classifier\", LinearSVC())])\n",
    "scores = cross_val_score(estimator=pipeline, X=imploded, y=labels, cv=10)\n",
    "print round(scores.mean(), 2)"
   ]
  },
  {
   "cell_type": "code",
   "execution_count": 30,
   "metadata": {},
   "outputs": [
    {
     "name": "stdout",
     "output_type": "stream",
     "text": [
      "0.77\n"
     ]
    }
   ],
   "source": [
    "pipeline = Pipeline([(\"vectorizer\", CountVectorizer()), (\"classifier\", SGDClassifier())])\n",
    "scores = cross_val_score(estimator=pipeline, X=imploded, y=labels, cv=10)\n",
    "print round(scores.mean(), 2)"
   ]
  },
  {
   "cell_type": "code",
   "execution_count": 31,
   "metadata": {
    "collapsed": true
   },
   "outputs": [],
   "source": [
    "from nltk.corpus import stopwords"
   ]
  },
  {
   "cell_type": "code",
   "execution_count": 36,
   "metadata": {},
   "outputs": [
    {
     "name": "stdout",
     "output_type": "stream",
     "text": [
      "0.85\n"
     ]
    }
   ],
   "source": [
    "pipeline = Pipeline([(\"vectorizer\", CountVectorizer(stop_words=stopwords.words('english'))), (\"classifier\", LogisticRegression())])\n",
    "scores = cross_val_score(estimator=pipeline, X=imploded, y=labels, cv=10)\n",
    "print round(scores.mean(), 2)"
   ]
  },
  {
   "cell_type": "code",
   "execution_count": 37,
   "metadata": {},
   "outputs": [
    {
     "name": "stdout",
     "output_type": "stream",
     "text": [
      "0.85\n"
     ]
    }
   ],
   "source": [
    "pipeline = Pipeline([(\"vectorizer\", CountVectorizer(stop_words='english')), (\"classifier\", LogisticRegression())])\n",
    "scores = cross_val_score(estimator=pipeline, X=imploded, y=labels, cv=10)\n",
    "print round(scores.mean(), 2)"
   ]
  },
  {
   "cell_type": "code",
   "execution_count": 9,
   "metadata": {},
   "outputs": [
    {
     "name": "stdout",
     "output_type": "stream",
     "text": [
      "0.85\n"
     ]
    }
   ],
   "source": [
    "pipeline = Pipeline([(\"vectorizer\", CountVectorizer(stop_words='english', ngram_range=(1, 2), analyzer='word')), (\"classifier\", LogisticRegression())])\n",
    "scores = cross_val_score(estimator=pipeline, X=imploded, y=labels, cv=10)\n",
    "print round(scores.mean(), 2)"
   ]
  },
  {
   "cell_type": "code",
   "execution_count": 10,
   "metadata": {},
   "outputs": [
    {
     "name": "stdout",
     "output_type": "stream",
     "text": [
      "0.83\n"
     ]
    }
   ],
   "source": [
    "pipeline = Pipeline([(\"vectorizer\", CountVectorizer(stop_words='english', ngram_range=(3, 5), analyzer='char_wb')), (\"classifier\", LogisticRegression())])\n",
    "scores = cross_val_score(estimator=pipeline, X=imploded, y=labels, cv=10)\n",
    "print round(scores.mean(), 2)"
   ]
  },
  {
   "cell_type": "code",
   "execution_count": null,
   "metadata": {
    "collapsed": true
   },
   "outputs": [],
   "source": []
  }
 ],
 "metadata": {
  "kernelspec": {
   "display_name": "Python 2",
   "language": "python",
   "name": "python2"
  },
  "language_info": {
   "codemirror_mode": {
    "name": "ipython",
    "version": 2
   },
   "file_extension": ".py",
   "mimetype": "text/x-python",
   "name": "python",
   "nbconvert_exporter": "python",
   "pygments_lexer": "ipython2",
   "version": "2.7.13"
  }
 },
 "nbformat": 4,
 "nbformat_minor": 2
}
