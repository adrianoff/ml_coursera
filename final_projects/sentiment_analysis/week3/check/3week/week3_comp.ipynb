{
 "cells": [
  {
   "cell_type": "code",
   "execution_count": 1,
   "metadata": {
    "collapsed": true
   },
   "outputs": [],
   "source": [
    "# импортируем все нужные функции \n",
    "from sklearn.feature_extraction.text import CountVectorizer\n",
    "from sklearn.ensemble import RandomForestClassifier\n",
    "from sklearn.linear_model import LogisticRegression\n",
    "from sklearn.model_selection import cross_val_score\n",
    "from sklearn import model_selection\n",
    "import pandas as pd\n",
    "import numpy as np\n",
    "from sklearn import model_selection\n",
    "from sklearn.pipeline import Pipeline\n",
    "from sklearn.feature_extraction.text import TfidfTransformer"
   ]
  },
  {
   "cell_type": "markdown",
   "metadata": {},
   "source": [
    "Поиск неплохого решения занял много времени. В ходе работы оказалось, что стемминг, леммитизация, а так же исключение знаков препинания плохо влияют на качество классификации, по крайней accuracy. Так же оказалось, что примитивная модель может быть намного лучше сложных и страшных и что логистическая регрессия лучший классификатор для данной задачи. Модели основанные символьных нграммах сложны и при этом работают хуже, поэтому здесь также не рассматриваются"
   ]
  },
  {
   "cell_type": "markdown",
   "metadata": {},
   "source": [
    "В данном ноутбуке не показано, как находился оптимальный алгоритм классификации (делал это на данной выборке + несколько выборок из nltk), показан только поиск гиперпараметров для выбранных методов преобразования и классификации текста"
   ]
  },
  {
   "cell_type": "code",
   "execution_count": 8,
   "metadata": {},
   "outputs": [],
   "source": [
    "# сначала считаем данные\n",
    "data_train = pd.read_csv('products_sentiment_train .tsv', sep='\\t', header=None)\n",
    "data_test = pd.read_csv('products_sentiment_test .tsv', sep='\\t', index_col='Id')\n",
    "labels = data_train.iloc[:,1]\n",
    "data_train.columns = ['text', 'lab']"
   ]
  },
  {
   "cell_type": "code",
   "execution_count": 9,
   "metadata": {},
   "outputs": [
    {
     "data": {
      "text/html": [
       "<div>\n",
       "<style>\n",
       "    .dataframe thead tr:only-child th {\n",
       "        text-align: right;\n",
       "    }\n",
       "\n",
       "    .dataframe thead th {\n",
       "        text-align: left;\n",
       "    }\n",
       "\n",
       "    .dataframe tbody tr th {\n",
       "        vertical-align: top;\n",
       "    }\n",
       "</style>\n",
       "<table border=\"1\" class=\"dataframe\">\n",
       "  <thead>\n",
       "    <tr style=\"text-align: right;\">\n",
       "      <th></th>\n",
       "      <th>text</th>\n",
       "      <th>lab</th>\n",
       "    </tr>\n",
       "  </thead>\n",
       "  <tbody>\n",
       "    <tr>\n",
       "      <th>0</th>\n",
       "      <td>2 . take around 10,000 640x480 pictures .</td>\n",
       "      <td>1</td>\n",
       "    </tr>\n",
       "    <tr>\n",
       "      <th>1</th>\n",
       "      <td>i downloaded a trial version of computer assoc...</td>\n",
       "      <td>1</td>\n",
       "    </tr>\n",
       "    <tr>\n",
       "      <th>2</th>\n",
       "      <td>the wrt54g plus the hga7t is a perfect solutio...</td>\n",
       "      <td>1</td>\n",
       "    </tr>\n",
       "    <tr>\n",
       "      <th>3</th>\n",
       "      <td>i dont especially like how music files are uns...</td>\n",
       "      <td>0</td>\n",
       "    </tr>\n",
       "    <tr>\n",
       "      <th>4</th>\n",
       "      <td>i was using the cheapie pail ... and it worked...</td>\n",
       "      <td>1</td>\n",
       "    </tr>\n",
       "  </tbody>\n",
       "</table>\n",
       "</div>"
      ],
      "text/plain": [
       "                                                text  lab\n",
       "0          2 . take around 10,000 640x480 pictures .    1\n",
       "1  i downloaded a trial version of computer assoc...    1\n",
       "2  the wrt54g plus the hga7t is a perfect solutio...    1\n",
       "3  i dont especially like how music files are uns...    0\n",
       "4  i was using the cheapie pail ... and it worked...    1"
      ]
     },
     "execution_count": 9,
     "metadata": {},
     "output_type": "execute_result"
    }
   ],
   "source": [
    "data_train.head()"
   ]
  },
  {
   "cell_type": "code",
   "execution_count": 10,
   "metadata": {
    "collapsed": true
   },
   "outputs": [],
   "source": [
    "# создадим pipeline из векторизатора и классификатора\n",
    "pl = Pipeline([('vectorizer', CountVectorizer()),('classifier', LogisticRegression())])"
   ]
  },
  {
   "cell_type": "code",
   "execution_count": 11,
   "metadata": {
    "collapsed": true
   },
   "outputs": [],
   "source": [
    "#создадим сетку разумных для модели параметров\n",
    "from sklearn import model_selection\n",
    "parameters_grid = {\n",
    "    'vectorizer__ngram_range' : [(1,2),(1,3),(1,4)],\n",
    "    'vectorizer__stop_words': [None, 'english'],\n",
    "    'vectorizer__min_df' : [1,3,5],\n",
    "    'classifier__class_weight': [None, 'balanced']\n",
    "}\n",
    "grid_cv = model_selection.GridSearchCV(pl, parameters_grid, scoring = 'accuracy', cv = 4)"
   ]
  },
  {
   "cell_type": "code",
   "execution_count": 12,
   "metadata": {},
   "outputs": [
    {
     "name": "stdout",
     "output_type": "stream",
     "text": [
      "0.7685\n",
      "{'vectorizer__min_df': 1, 'classifier__class_weight': 'balanced', 'vectorizer__ngram_range': (1, 2), 'vectorizer__stop_words': None}\n"
     ]
    }
   ],
   "source": [
    "#запускаем полный поиск по сетке (2 рандомных поиска до этого не увенчались успехом, поэтому полный)\n",
    "grid_cv.fit(data_train.text, labels)\n",
    "print grid_cv.best_score_\n",
    "print grid_cv.best_params_"
   ]
  },
  {
   "cell_type": "code",
   "execution_count": 13,
   "metadata": {
    "collapsed": true
   },
   "outputs": [],
   "source": [
    "#смотрим на параметры и добавляем tfidf, с ним оказалось на 2 ошибки меньше)\n",
    "from sklearn.feature_extraction.text import TfidfTransformer\n",
    "cv = CountVectorizer(ngram_range=(1,2), min_df=1)\n",
    "tf =  TfidfTransformer()\n",
    "lr =  LogisticRegression(class_weight='balanced', solver='sag')\n",
    "a = cv.fit_transform(data_train.text)\n",
    "a1 = cv.transform(data_test.text)\n",
    "b = tf.fit_transform(a)\n",
    "b1 = tf.transform(a1)\n",
    "lr.fit(b, labels)\n",
    "pre = lr.predict(b1)\n",
    "lab = range(len(pre))"
   ]
  },
  {
   "cell_type": "code",
   "execution_count": 14,
   "metadata": {
    "collapsed": true
   },
   "outputs": [],
   "source": [
    "#записываем результат \n",
    "d = {'id': lab, 'y': pre}\n",
    "data1 = pd.DataFrame(data=d)\n",
    "data1.to_csv('otvety1.csv', index=False)"
   ]
  },
  {
   "cell_type": "code",
   "execution_count": 15,
   "metadata": {
    "collapsed": true
   },
   "outputs": [],
   "source": [
    "#проведем нормализацию и стеммизацию текста. еще раз проведем поиск и сравним качество\n",
    "import nltk\n",
    "from nltk.stem import SnowballStemmer\n",
    "stop_symbols = '.,:;\"-\\n\\r'\n",
    "stop_words= nltk.corpus.stopwords.words('english')\n",
    "stemmer = SnowballStemmer('english')\n",
    "# работаем с начальной выборкой\n",
    "good_texts = []\n",
    "for text in data_train.text:\n",
    "    v=([stemmer.stem(x) for x in [y.strip(stop_symbols) for y in text.lower().split()] if x and (x not in stop_words)])\n",
    "    d = ' '\n",
    "    for word in v:\n",
    "        d = d+word+\" \"\n",
    "    good_texts.append(d)\n",
    "# теперь с тестовой\n",
    "good_texts_test = []\n",
    "for text in data_test.iloc[:,0]:\n",
    "    v=([stemmer.stem(x) for x in [y.strip(stop_symbols) for y in text.lower().split()] if x and (x not in stop_words)])\n",
    "    d = ''\n",
    "    for word in v:\n",
    "        d = d+word+\" \"\n",
    "    good_texts_test.append(d)    "
   ]
  },
  {
   "cell_type": "code",
   "execution_count": 21,
   "metadata": {},
   "outputs": [
    {
     "name": "stdout",
     "output_type": "stream",
     "text": [
      "0.7595\n",
      "{'vectorizer__min_df': 1, 'classifier__class_weight': 'balanced', 'vectorizer__ngram_range': (1, 3), 'vectorizer__stop_words': None}\n"
     ]
    }
   ],
   "source": [
    "#создаем pipeline сразу с трансформером, сетка параметров остается такой же\n",
    "pl1 = Pipeline([('vectorizer', CountVectorizer()),('transformer',TfidfTransformer()),('classifier', LogisticRegression())])\n",
    "grid_cv1 = model_selection.GridSearchCV(pl1, parameters_grid, scoring = 'accuracy', cv = 4)\n",
    "grid_cv1.fit(good_texts, labels)\n",
    "print grid_cv1.best_score_\n",
    "print grid_cv1.best_params_"
   ]
  },
  {
   "cell_type": "markdown",
   "metadata": {},
   "source": [
    "Как видно качество ухудщилось по сравнению с первой моделью без обработки текста, хотя там не было tfidf."
   ]
  },
  {
   "cell_type": "code",
   "execution_count": 25,
   "metadata": {},
   "outputs": [],
   "source": [
    "#записываем результат \n",
    "pre = grid_cv1.predict(good_texts_test)\n",
    "lab = range(len(pre))\n",
    "d = {'id': lab, 'y': pre}\n",
    "data1 = pd.DataFrame(data=d)\n",
    "data1.to_csv('otvety1.csv', index=False)"
   ]
  },
  {
   "cell_type": "markdown",
   "metadata": {},
   "source": [
    "На kaggle такое предсказание оказалось худшим)"
   ]
  },
  {
   "cell_type": "markdown",
   "metadata": {},
   "source": [
    "Если есть желание обсудить задачу, попробовать вместе найти пути дальнейшего улучшения качества, разобраться с казалось бы простой библиотекой gensim word2vec и doc2vec пишите на почту: andrei322glotov@yandex.ru \n",
    "Так же можем обсудить задачи по идентификации и оттоку"
   ]
  }
 ],
 "metadata": {
  "kernelspec": {
   "display_name": "Python 2",
   "language": "python",
   "name": "python2"
  },
  "language_info": {
   "codemirror_mode": {
    "name": "ipython",
    "version": 2
   },
   "file_extension": ".py",
   "mimetype": "text/x-python",
   "name": "python",
   "nbconvert_exporter": "python",
   "pygments_lexer": "ipython2",
   "version": "2.7.13"
  }
 },
 "nbformat": 4,
 "nbformat_minor": 2
}
