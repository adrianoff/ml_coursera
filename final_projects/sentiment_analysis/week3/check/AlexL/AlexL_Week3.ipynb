{
 "cells": [
  {
   "cell_type": "code",
   "execution_count": 97,
   "metadata": {
    "collapsed": true
   },
   "outputs": [],
   "source": [
    "import pandas as pd\n",
    "import nltk\n",
    "import numpy as np"
   ]
  },
  {
   "cell_type": "markdown",
   "metadata": {},
   "source": [
    "Загрузим данные"
   ]
  },
  {
   "cell_type": "code",
   "execution_count": 98,
   "metadata": {
    "collapsed": true
   },
   "outputs": [],
   "source": [
    "data = pd.read_table('products_sentiment_train.tsv', header=None)"
   ]
  },
  {
   "cell_type": "markdown",
   "metadata": {},
   "source": [
    "Сформируем список меток классов и текстов"
   ]
  },
  {
   "cell_type": "code",
   "execution_count": 99,
   "metadata": {
    "collapsed": true
   },
   "outputs": [],
   "source": [
    "labels = data[1].tolist()\n",
    "data = data[0].tolist()"
   ]
  },
  {
   "cell_type": "code",
   "execution_count": 100,
   "metadata": {
    "collapsed": true
   },
   "outputs": [],
   "source": [
    "texts = [word for word in data]"
   ]
  },
  {
   "cell_type": "markdown",
   "metadata": {},
   "source": [
    "Обучим классификатор"
   ]
  },
  {
   "cell_type": "code",
   "execution_count": 113,
   "metadata": {
    "collapsed": true
   },
   "outputs": [],
   "source": [
    "from sklearn.pipeline import Pipeline\n",
    "from sklearn.feature_extraction.text import TfidfTransformer\n",
    "from sklearn.cross_validation import cross_val_score\n",
    "from sklearn.linear_model import LogisticRegression\n",
    "from sklearn.model_selection import GridSearchCV"
   ]
  },
  {
   "cell_type": "code",
   "execution_count": 117,
   "metadata": {
    "scrolled": true
   },
   "outputs": [
    {
     "data": {
      "text/plain": [
       "0.79248073425458909"
      ]
     },
     "execution_count": 117,
     "metadata": {},
     "output_type": "execute_result"
    }
   ],
   "source": [
    "pipeline = Pipeline(steps = [('vect', CountVectorizer(max_df=0.5, ngram_range=(1, 3))), \n",
    "                              ('tfidf', TfidfTransformer(norm='l2', use_idf=True)),\n",
    "                              ('clf', LogisticRegression(C=10000, penalty='l2'))])\n",
    "cross_val_score(pipeline, texts, labels, cv=5).mean()"
   ]
  },
  {
   "cell_type": "code",
   "execution_count": 124,
   "metadata": {
    "collapsed": true
   },
   "outputs": [],
   "source": [
    "def lemmatization_data(data):\n",
    "    wnl = nltk.WordNetLemmatizer()\n",
    "    tokens_list = [nltk.word_tokenize(raw) for raw in data]\n",
    "    for tokens in tokens_list:\n",
    "        tokens = [wnl.lemmatize(t) for t in tokens]\n",
    "        \n",
    "    data_processing = [' '.join(x) for x in tokens_list]\n",
    "    return data_processing"
   ]
  },
  {
   "cell_type": "code",
   "execution_count": 139,
   "metadata": {},
   "outputs": [
    {
     "data": {
      "text/plain": [
       "0.79398449365308532"
      ]
     },
     "execution_count": 139,
     "metadata": {},
     "output_type": "execute_result"
    }
   ],
   "source": [
    "pipeline = Pipeline(steps = [('vect', CountVectorizer(max_df=0.5, ngram_range=(1, 3))), \n",
    "                              ('tfidf', TfidfTransformer(norm='l2', use_idf=True)),\n",
    "                              ('clf', LogisticRegression(C=10000, penalty='l2'))])\n",
    "cross_val_score(pipeline, lemmatization_data(texts), labels, cv=5).mean()"
   ]
  },
  {
   "cell_type": "code",
   "execution_count": 140,
   "metadata": {
    "collapsed": true
   },
   "outputs": [],
   "source": [
    "test = pd.read_csv('products_sentiment_test.tsv', sep='\\t')\n",
    "X_test = test.text\n",
    "\n",
    "\n",
    "pipeline.fit(texts, labels)\n",
    "y = pipeline.predict(lemmatization_data(X_test))\n",
    "\n",
    "for_submission = pd.DataFrame(np.vstack((test.Id, y)).T, columns=['Id', 'y'])\n",
    "for_submission.to_csv('test_for_submission_LinearSVC.csv', index=None)"
   ]
  }
 ],
 "metadata": {
  "kernelspec": {
   "display_name": "Python 2",
   "language": "python",
   "name": "python2"
  },
  "language_info": {
   "codemirror_mode": {
    "name": "ipython",
    "version": 2
   },
   "file_extension": ".py",
   "mimetype": "text/x-python",
   "name": "python",
   "nbconvert_exporter": "python",
   "pygments_lexer": "ipython2",
   "version": "2.7.13"
  }
 },
 "nbformat": 4,
 "nbformat_minor": 2
}
