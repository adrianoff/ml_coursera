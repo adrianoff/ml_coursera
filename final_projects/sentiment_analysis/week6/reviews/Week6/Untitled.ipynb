{
 "cells": [
  {
   "cell_type": "markdown",
   "metadata": {},
   "source": [
    "# Сентимент-анализ отзывов на товары"
   ]
  },
  {
   "cell_type": "markdown",
   "metadata": {},
   "source": [
    "К вашей компании пришел заказчик, которому нужно решение задачи анализа тональности отзывов на товары. Заказчик хочет, чтобы вы оценили возможное качество работы такого алгоритма на небольшой тестовой выборке. При этом больше никаких данных вам не предоставляется. Требуется, чтобы качество работы вашего алгоритма (по accuracy) было строго больше 85%.\n",
    "\n",
    "Оценка качества в этом задании реализована через контест на Kaggle Inclass:\n",
    "\n",
    "https://inclass.kaggle.com/c/product-reviews-sentiment-analysis\n",
    "\n",
    "Вам предстоит посмотреть на предоставленные заказчиком отзывы, собрать похожие отзывы в качестве обучающей выборки, и поэкспериментировать с постановкой задачи (разметкой вашей выборки на позитивные и негативные примеры) так, чтобы результат на примерах заказчика был по возможности получше.\n",
    "\n",
    "Обратите внимание, что заказчик предоставил всего 100 примеров в качестве тестовой выборки - ситуация, когда размеченных данных почти нет - вообще очень частая в индустриальном анализе данных. Конечно, эти отзывы можно было бы идеально разметить вручную и получить максимальное качество, но вы сами не заинтересованы в таком подходе, т.к. потом придется и на всех новых примерах демонстрировать заказчику идеальную работу, что, конечно, вряд ли будет по силам алгоритму. В любом случае рано или поздно алгоритм придется разрабатывать, поэтому попытки \"сжульничать\" и не делать никакой модели не одобряются."
   ]
  },
  {
   "cell_type": "markdown",
   "metadata": {},
   "source": [
    "# Парсинг"
   ]
  },
  {
   "cell_type": "code",
   "execution_count": 29,
   "metadata": {
    "collapsed": true
   },
   "outputs": [],
   "source": [
    "import requests\n",
    "from bs4 import BeautifulSoup\n",
    "from random import randint\n",
    "import csv\n",
    "from time import sleep"
   ]
  },
  {
   "cell_type": "code",
   "execution_count": 118,
   "metadata": {
    "collapsed": true
   },
   "outputs": [],
   "source": [
    "def csv_write(x):\n",
    "    with open('train.csv', 'a') as f:\n",
    "        writer = csv.writer(f)\n",
    "        writer.writerow((x[0], x[1]))"
   ]
  },
  {
   "cell_type": "code",
   "execution_count": 119,
   "metadata": {
    "collapsed": true
   },
   "outputs": [],
   "source": [
    "data = []"
   ]
  },
  {
   "cell_type": "code",
   "execution_count": 120,
   "metadata": {
    "collapsed": true
   },
   "outputs": [],
   "source": [
    "url = 'https://torg.mail.ru/review/goods/mobilephones/?page='"
   ]
  },
  {
   "cell_type": "code",
   "execution_count": 122,
   "metadata": {
    "collapsed": true,
    "scrolled": true
   },
   "outputs": [],
   "source": [
    "for i in range(1, 1200):\n",
    "    url_i = url + str(i)\n",
    "    r = requests.get(url_i)\n",
    "    soup = BeautifulSoup(r.text, 'lxml')\n",
    "    ads = soup.find_all('div', class_='review-item__body')\n",
    "    for ad in ads:\n",
    "        try:\n",
    "            review = ad.find('div', class_='review-item__content').text.strip()\n",
    "        except:\n",
    "            review = ''\n",
    "        try:\n",
    "            rating = ad.find('span', class_='review-item__rating-counter').text.strip()\n",
    "        except:\n",
    "            rating = ''\n",
    "            \n",
    "        csv_write([review, rating])"
   ]
  },
  {
   "cell_type": "markdown",
   "metadata": {},
   "source": [
    "# Подготовка данных"
   ]
  },
  {
   "cell_type": "code",
   "execution_count": 1,
   "metadata": {
    "collapsed": true
   },
   "outputs": [],
   "source": [
    "import pandas as pd\n",
    "import re"
   ]
  },
  {
   "cell_type": "code",
   "execution_count": 2,
   "metadata": {
    "collapsed": true
   },
   "outputs": [],
   "source": [
    "data = pd.read_csv('train.csv', header=None)\n",
    "data.columns = ['text','rating']"
   ]
  },
  {
   "cell_type": "code",
   "execution_count": 3,
   "metadata": {
    "scrolled": true
   },
   "outputs": [
    {
     "data": {
      "text/plain": [
       "5      7895\n",
       "4,5    3709\n",
       "4      2581\n",
       "3      1337\n",
       "1      1026\n",
       "3,5     927\n",
       "2       351\n",
       "2,5     340\n",
       "1,5      94\n",
       "0         4\n",
       "Name: rating, dtype: int64"
      ]
     },
     "execution_count": 3,
     "metadata": {},
     "output_type": "execute_result"
    }
   ],
   "source": [
    "data.rating.value_counts()"
   ]
  },
  {
   "cell_type": "markdown",
   "metadata": {},
   "source": [
    "За положительный отзыв будем считать с рейтингом 5, за отрицательный - с рейтингом 1"
   ]
  },
  {
   "cell_type": "code",
   "execution_count": 4,
   "metadata": {
    "collapsed": true
   },
   "outputs": [],
   "source": [
    "data_train = pd.concat([data[data['rating'] == '1'], data[data['rating'] == '5']])"
   ]
  },
  {
   "cell_type": "markdown",
   "metadata": {},
   "source": [
    "Негативный отзыв - 0, положительный отзыв - 1"
   ]
  },
  {
   "cell_type": "code",
   "execution_count": 5,
   "metadata": {
    "collapsed": true
   },
   "outputs": [],
   "source": [
    "data_train.rating = data_train.rating.replace(['1', '5'], [0, 1])"
   ]
  },
  {
   "cell_type": "markdown",
   "metadata": {},
   "source": [
    "Посмотрим на сбалансированность классов"
   ]
  },
  {
   "cell_type": "code",
   "execution_count": 6,
   "metadata": {},
   "outputs": [
    {
     "data": {
      "text/plain": [
       "1    0.88499\n",
       "0    0.11501\n",
       "Name: rating, dtype: float64"
      ]
     },
     "execution_count": 6,
     "metadata": {},
     "output_type": "execute_result"
    }
   ],
   "source": [
    "data_train.rating.value_counts(normalize=True)"
   ]
  },
  {
   "cell_type": "markdown",
   "metadata": {},
   "source": [
    "Выборка является несбалансированной. Продублируем для балансировки класс с меткой 0"
   ]
  },
  {
   "cell_type": "code",
   "execution_count": 7,
   "metadata": {
    "collapsed": true
   },
   "outputs": [],
   "source": [
    "data_train = pd.concat([data_train[data_train['rating'] == 1], \n",
    "                        data_train[data_train['rating'] == 0],\n",
    "                        data_train[data_train['rating'] == 0],\n",
    "                        data_train[data_train['rating'] == 0],\n",
    "                        data_train[data_train['rating'] == 0],\n",
    "                        data_train[data_train['rating'] == 0],\n",
    "                        data_train[data_train['rating'] == 0],\n",
    "                        data_train[data_train['rating'] == 0],\n",
    "                        data_train[data_train['rating'] == 0]]\n",
    "                      )"
   ]
  },
  {
   "cell_type": "code",
   "execution_count": 8,
   "metadata": {
    "scrolled": true
   },
   "outputs": [
    {
     "data": {
      "text/plain": [
       "0    0.509719\n",
       "1    0.490281\n",
       "Name: rating, dtype: float64"
      ]
     },
     "execution_count": 8,
     "metadata": {},
     "output_type": "execute_result"
    }
   ],
   "source": [
    "data_train.rating.value_counts(normalize=True)"
   ]
  },
  {
   "cell_type": "markdown",
   "metadata": {},
   "source": [
    "Выборка сбалансирова"
   ]
  },
  {
   "cell_type": "markdown",
   "metadata": {},
   "source": [
    "Подготовим текст. Очистим его от небуквенных символов и лишних пробелов. Приведем текст к нижнему регистру"
   ]
  },
  {
   "cell_type": "code",
   "execution_count": 9,
   "metadata": {
    "collapsed": true
   },
   "outputs": [],
   "source": [
    "def text_pred(str_text):\n",
    "    str_text = str_text.replace('.', ' ')\n",
    "    str_text = str_text.replace('!', ' ')\n",
    "    str_text = str_text.replace(',', ' ')\n",
    "    str_text = str_text.replace(';', ' ')\n",
    "    str_text = str_text.replace(':', ' ')\n",
    "    str_text = str_text.replace('?', ' ')\n",
    "    str_text = str_text.replace('+', ' ')\n",
    "    str_text = str_text.replace('-', ' ')\n",
    "    str_text = str_text.replace('(', ' ')\n",
    "    str_text = str_text.replace(')', ' ')\n",
    "    str_text = str_text.replace('/', ' ')\n",
    "    str_text = str_text.replace('[', ' ')\n",
    "    str_text = str_text.replace(']', ' ')\n",
    "    str_text = str_text.replace('{', ' ')\n",
    "    str_text = str_text.replace('}', ' ')\n",
    "    str_text = str_text.replace('=', ' ')\n",
    "    str_text = str_text.replace('_', ' ')\n",
    "    str_text = str_text.replace('№', ' ')\n",
    "    str_text = str_text.replace('#', ' ')\n",
    "    str_text = str_text.replace('%', ' ')\n",
    "    str_text = str_text.replace('?', ' ')\n",
    "    str_text = re.sub('[\\n\\t\\r\\s]',' ', str_text)\n",
    "    str_text = re.sub('Достоинства',' ', str_text)\n",
    "    str_text = re.sub('Читать полностью',' ', str_text)\n",
    "    str_text = re.sub('Недостатки',' ', str_text)\n",
    "    str_text = re.sub('[^а-яА-Я.,\\-\\s]', ' ', str_text)\n",
    "    str_text = str_text.lower()\n",
    "    str_text = re.sub(r'\\s+', ' ', str_text)\n",
    "    \n",
    "    return str_text"
   ]
  },
  {
   "cell_type": "code",
   "execution_count": 10,
   "metadata": {
    "collapsed": true
   },
   "outputs": [],
   "source": [
    "texts = []\n",
    "\n",
    "for row in data_train.text:\n",
    "    texts.append(text_pred(row))"
   ]
  },
  {
   "cell_type": "code",
   "execution_count": 11,
   "metadata": {
    "collapsed": true
   },
   "outputs": [],
   "source": [
    "labels = data_train.rating"
   ]
  },
  {
   "cell_type": "markdown",
   "metadata": {},
   "source": [
    "# Построение модели"
   ]
  },
  {
   "cell_type": "code",
   "execution_count": 12,
   "metadata": {},
   "outputs": [
    {
     "name": "stderr",
     "output_type": "stream",
     "text": [
      "/Library/Frameworks/Python.framework/Versions/3.5/lib/python3.5/site-packages/sklearn/cross_validation.py:44: DeprecationWarning: This module was deprecated in version 0.18 in favor of the model_selection module into which all the refactored classes and functions are moved. Also note that the interface of the new CV iterators are different from that of this module. This module will be removed in 0.20.\n",
      "  \"This module will be removed in 0.20.\", DeprecationWarning)\n"
     ]
    }
   ],
   "source": [
    "from sklearn.pipeline import Pipeline\n",
    "from sklearn.linear_model import LogisticRegression\n",
    "from sklearn.feature_extraction.text import CountVectorizer\n",
    "from sklearn.feature_extraction.text import TfidfTransformer\n",
    "from sklearn.cross_validation import cross_val_score"
   ]
  },
  {
   "cell_type": "markdown",
   "metadata": {},
   "source": [
    "Обучим pipeline с параметрами по умолчанию"
   ]
  },
  {
   "cell_type": "code",
   "execution_count": 13,
   "metadata": {},
   "outputs": [
    {
     "data": {
      "text/plain": [
       "0.94988719216477269"
      ]
     },
     "execution_count": 13,
     "metadata": {},
     "output_type": "execute_result"
    }
   ],
   "source": [
    "pipeline = Pipeline(steps = [('vect', CountVectorizer()), \n",
    "                             ('tfidf', TfidfTransformer()),\n",
    "                              ('clf', LogisticRegression())])\n",
    "cross_val_score(pipeline, texts, labels, cv=5, scoring='accuracy').mean()"
   ]
  },
  {
   "cell_type": "code",
   "execution_count": 14,
   "metadata": {},
   "outputs": [
    {
     "data": {
      "text/plain": [
       "Pipeline(steps=[('vect', CountVectorizer(analyzer='word', binary=False, decode_error='strict',\n",
       "        dtype=<class 'numpy.int64'>, encoding='utf-8', input='content',\n",
       "        lowercase=True, max_df=1.0, max_features=None, min_df=1,\n",
       "        ngram_range=(1, 1), preprocessor=None, stop_words=None,\n",
       "        strip...ty='l2', random_state=None, solver='liblinear', tol=0.0001,\n",
       "          verbose=0, warm_start=False))])"
      ]
     },
     "execution_count": 14,
     "metadata": {},
     "output_type": "execute_result"
    }
   ],
   "source": [
    "pipeline.fit(texts, labels)"
   ]
  },
  {
   "cell_type": "markdown",
   "metadata": {},
   "source": [
    "# Предсказание на тестовой выборке"
   ]
  },
  {
   "cell_type": "code",
   "execution_count": 25,
   "metadata": {
    "collapsed": true
   },
   "outputs": [],
   "source": [
    "from lxml import etree\n",
    "\n",
    "f = open(\"test_file.xml\",'w')\n",
    "f.write('<root>\\n')\n",
    "f2 = open('test.csv','r')\n",
    "lines = f2.readlines()\n",
    "\n",
    "for line in lines: \n",
    "    f.write(line)\n",
    "f2.close()\n",
    "f.write('</root>')\n",
    "f.close()\n",
    "\n",
    "f = open('test_file.xml', 'r')\n",
    "xml = etree.parse(f)\n",
    "test = xml.findall('review')\n",
    "test_unicode = [t.text for t in test]"
   ]
  },
  {
   "cell_type": "markdown",
   "metadata": {},
   "source": [
    "Преобразование данных"
   ]
  },
  {
   "cell_type": "code",
   "execution_count": 26,
   "metadata": {
    "collapsed": true
   },
   "outputs": [],
   "source": [
    "test_texts = []\n",
    "for elem in test_unicode:\n",
    "    test_texts.append(text_pred(elem))"
   ]
  },
  {
   "cell_type": "code",
   "execution_count": 30,
   "metadata": {
    "collapsed": true
   },
   "outputs": [],
   "source": [
    "predict_label = (pipeline.predict_proba(test_texts)[:, 1] > 0.70).astype(int)"
   ]
  },
  {
   "cell_type": "code",
   "execution_count": 31,
   "metadata": {},
   "outputs": [
    {
     "data": {
      "text/plain": [
       "50"
      ]
     },
     "execution_count": 31,
     "metadata": {},
     "output_type": "execute_result"
    }
   ],
   "source": [
    "sum(predict_label)"
   ]
  },
  {
   "cell_type": "code",
   "execution_count": 32,
   "metadata": {
    "collapsed": true
   },
   "outputs": [],
   "source": [
    "predict_label = predict_label.tolist()"
   ]
  },
  {
   "cell_type": "code",
   "execution_count": 33,
   "metadata": {
    "collapsed": true
   },
   "outputs": [],
   "source": [
    "for i in range(len(predict_label)):\n",
    "    if predict_label[i] == 0:\n",
    "        predict_label[i] = 'neg'\n",
    "    if predict_label[i] == 1:\n",
    "        predict_label[i] = 'pos'"
   ]
  },
  {
   "cell_type": "code",
   "execution_count": 34,
   "metadata": {
    "collapsed": true
   },
   "outputs": [],
   "source": [
    "data_result = []\n",
    "data_result.append(['Id', 'y'])\n",
    "\n",
    "for i in range(len(predict_label)):\n",
    "    data_result.append([i, predict_label[i]])"
   ]
  },
  {
   "cell_type": "code",
   "execution_count": 35,
   "metadata": {
    "collapsed": true
   },
   "outputs": [],
   "source": [
    "outfile = open('result.csv', 'w')\n",
    "writer = csv.writer(outfile)\n",
    "for row in data_result:\n",
    "    writer.writerow(row)\n",
    "outfile.close()"
   ]
  },
  {
   "cell_type": "code",
   "execution_count": null,
   "metadata": {
    "collapsed": true
   },
   "outputs": [],
   "source": []
  }
 ],
 "metadata": {
  "kernelspec": {
   "display_name": "Python 3",
   "language": "python",
   "name": "python3"
  },
  "language_info": {
   "codemirror_mode": {
    "name": "ipython",
    "version": 3
   },
   "file_extension": ".py",
   "mimetype": "text/x-python",
   "name": "python",
   "nbconvert_exporter": "python",
   "pygments_lexer": "ipython3",
   "version": "3.5.2"
  }
 },
 "nbformat": 4,
 "nbformat_minor": 2
}
