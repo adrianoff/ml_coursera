{
 "cells": [
  {
   "cell_type": "code",
   "execution_count": 4,
   "metadata": {},
   "outputs": [],
   "source": [
    "# -*- coding: utf-8 -*-\n",
    "\n",
    "import pandas as pd\n",
    "import numpy as np\n",
    "from sklearn.feature_extraction.text import TfidfVectorizer\n",
    "\n",
    "from sklearn.pipeline import Pipeline\n",
    "from sklearn.grid_search import GridSearchCV \n",
    "from sklearn.grid_search import RandomizedSearchCV \n",
    "\n",
    "from sklearn.cross_validation import cross_val_score\n",
    "from sklearn.cross_validation import StratifiedKFold\n",
    "\n",
    "from sklearn.linear_model import LogisticRegression\n",
    "from nltk.corpus import stopwords\n",
    "from nltk.stem.snowball import RussianStemmer\n",
    "import pymorphy2\n",
    "import re\n",
    "\n",
    "import sys\n",
    "\n",
    "reload(sys)\n",
    "sys.setdefaultencoding('utf8')"
   ]
  },
  {
   "cell_type": "code",
   "execution_count": 5,
   "metadata": {
    "collapsed": true
   },
   "outputs": [],
   "source": [
    "data = pd.read_csv('./data/data.csv')\n",
    "del data['Unnamed: 0']"
   ]
  },
  {
   "cell_type": "code",
   "execution_count": 6,
   "metadata": {},
   "outputs": [
    {
     "data": {
      "text/html": [
       "<div>\n",
       "<table border=\"1\" class=\"dataframe\">\n",
       "  <thead>\n",
       "    <tr style=\"text-align: right;\">\n",
       "      <th></th>\n",
       "      <th>grade</th>\n",
       "      <th>link</th>\n",
       "      <th>text</th>\n",
       "      <th>content</th>\n",
       "    </tr>\n",
       "  </thead>\n",
       "  <tbody>\n",
       "    <tr>\n",
       "      <th>0</th>\n",
       "      <td>5</td>\n",
       "      <td>https://technopoint.ru/product/42db0e393aab333...</td>\n",
       "      <td>большой экран, мощный аккумулятор, режим для ч...</td>\n",
       "      <td>https://technopoint.ru/product/42db0e393aab333...</td>\n",
       "    </tr>\n",
       "    <tr>\n",
       "      <th>1</th>\n",
       "      <td>5</td>\n",
       "      <td>https://technopoint.ru/product/da39313444f8333...</td>\n",
       "      <td>Телефоном пользуюсь немного и это скорее перв...</td>\n",
       "      <td>https://technopoint.ru/product/da39313444f8333...</td>\n",
       "    </tr>\n",
       "    <tr>\n",
       "      <th>2</th>\n",
       "      <td>4</td>\n",
       "      <td>https://technopoint.ru/product/44b2f37e4035333...</td>\n",
       "      <td>Цена, брал за 7900 руб.  Яркий экран, хорошо ...</td>\n",
       "      <td>https://technopoint.ru/product/44b2f37e4035333...</td>\n",
       "    </tr>\n",
       "    <tr>\n",
       "      <th>3</th>\n",
       "      <td>5</td>\n",
       "      <td>https://technopoint.ru/product/305c1b434efe333...</td>\n",
       "      <td>Цельный качественный корпус с большой батарее...</td>\n",
       "      <td>https://technopoint.ru/product/305c1b434efe333...</td>\n",
       "    </tr>\n",
       "    <tr>\n",
       "      <th>4</th>\n",
       "      <td>5</td>\n",
       "      <td>https://technopoint.ru/product/0ecb5f413466333...</td>\n",
       "      <td>камера, металл корпус , андроид отличный бюдже...</td>\n",
       "      <td>https://technopoint.ru/product/0ecb5f413466333...</td>\n",
       "    </tr>\n",
       "  </tbody>\n",
       "</table>\n",
       "</div>"
      ],
      "text/plain": [
       "   grade                                               link  \\\n",
       "0      5  https://technopoint.ru/product/42db0e393aab333...   \n",
       "1      5  https://technopoint.ru/product/da39313444f8333...   \n",
       "2      4  https://technopoint.ru/product/44b2f37e4035333...   \n",
       "3      5  https://technopoint.ru/product/305c1b434efe333...   \n",
       "4      5  https://technopoint.ru/product/0ecb5f413466333...   \n",
       "\n",
       "                                                text  \\\n",
       "0  большой экран, мощный аккумулятор, режим для ч...   \n",
       "1   Телефоном пользуюсь немного и это скорее перв...   \n",
       "2   Цена, брал за 7900 руб.  Яркий экран, хорошо ...   \n",
       "3   Цельный качественный корпус с большой батарее...   \n",
       "4  камера, металл корпус , андроид отличный бюдже...   \n",
       "\n",
       "                                             content  \n",
       "0  https://technopoint.ru/product/42db0e393aab333...  \n",
       "1  https://technopoint.ru/product/da39313444f8333...  \n",
       "2  https://technopoint.ru/product/44b2f37e4035333...  \n",
       "3  https://technopoint.ru/product/305c1b434efe333...  \n",
       "4  https://technopoint.ru/product/0ecb5f413466333...  "
      ]
     },
     "execution_count": 6,
     "metadata": {},
     "output_type": "execute_result"
    }
   ],
   "source": [
    "data.head()"
   ]
  },
  {
   "cell_type": "code",
   "execution_count": 7,
   "metadata": {},
   "outputs": [
    {
     "data": {
      "text/plain": [
       "5    8766\n",
       "4    2408\n",
       "3    1060\n",
       "1     652\n",
       "2     640\n",
       "Name: grade, dtype: int64"
      ]
     },
     "execution_count": 7,
     "metadata": {},
     "output_type": "execute_result"
    }
   ],
   "source": [
    "data.grade.value_counts()"
   ]
  },
  {
   "cell_type": "code",
   "execution_count": 8,
   "metadata": {
    "collapsed": true
   },
   "outputs": [],
   "source": [
    "data['label'] = data.grade.apply(lambda x: 0 if x < 4 else 1)"
   ]
  },
  {
   "cell_type": "code",
   "execution_count": 9,
   "metadata": {},
   "outputs": [
    {
     "data": {
      "text/plain": [
       "1    11174\n",
       "0     2352\n",
       "Name: label, dtype: int64"
      ]
     },
     "execution_count": 9,
     "metadata": {},
     "output_type": "execute_result"
    }
   ],
   "source": [
    "data.label.value_counts()"
   ]
  },
  {
   "cell_type": "code",
   "execution_count": 20,
   "metadata": {
    "collapsed": true
   },
   "outputs": [],
   "source": [
    "corpus = data[['text', 'label']]"
   ]
  },
  {
   "cell_type": "code",
   "execution_count": 21,
   "metadata": {},
   "outputs": [
    {
     "data": {
      "text/plain": [
       "1    2424\n",
       "0    2352\n",
       "Name: label, dtype: int64"
      ]
     },
     "execution_count": 21,
     "metadata": {},
     "output_type": "execute_result"
    }
   ],
   "source": [
    "drop_indices = np.random.choice(corpus[corpus.label == 1].index, 8750, replace=False)\n",
    "corpus = corpus.drop(drop_indices)\n",
    "corpus.label.value_counts()"
   ]
  },
  {
   "cell_type": "code",
   "execution_count": 22,
   "metadata": {
    "collapsed": true
   },
   "outputs": [],
   "source": [
    "def clean_str(string):\n",
    "    morph = pymorphy2.MorphAnalyzer()\n",
    "    \n",
    "    symbols = [\n",
    "        ',', '.', '-', '*', '#', ')', '(', '/', '<', '>', ':', '+', '?', '!', '\"', '\"', '%', '=', '\\\\', '}'\n",
    "    ]\n",
    "    \n",
    "    for symbol in symbols:\n",
    "        string = str(string).replace(symbol, ' ')\n",
    "        \n",
    "    words = string.split()\n",
    "    normalized_words = []\n",
    "    \n",
    "    for word in words:\n",
    "        normalized_words.append(morph.parse(unicode(word.strip()))[0].normal_form)\n",
    "        \n",
    "    string = unicode(' '.join(normalized_words))\n",
    "    \n",
    "    return string\n",
    "\n",
    "corpus['text'] = corpus.text.apply(clean_str)"
   ]
  },
  {
   "cell_type": "code",
   "execution_count": 25,
   "metadata": {},
   "outputs": [
    {
     "data": {
      "text/html": [
       "<div>\n",
       "<table border=\"1\" class=\"dataframe\">\n",
       "  <thead>\n",
       "    <tr style=\"text-align: right;\">\n",
       "      <th></th>\n",
       "      <th>text</th>\n",
       "      <th>label</th>\n",
       "    </tr>\n",
       "  </thead>\n",
       "  <tbody>\n",
       "    <tr>\n",
       "      <th>0</th>\n",
       "      <td>большой экран мощный аккумулятор режим для чте...</td>\n",
       "      <td>1</td>\n",
       "    </tr>\n",
       "    <tr>\n",
       "      <th>1</th>\n",
       "      <td>телефон пользоваться немного и это скорее перв...</td>\n",
       "      <td>1</td>\n",
       "    </tr>\n",
       "    <tr>\n",
       "      <th>2</th>\n",
       "      <td>цена брать за 7900 рубль яркий экран хорошо ви...</td>\n",
       "      <td>1</td>\n",
       "    </tr>\n",
       "    <tr>\n",
       "      <th>6</th>\n",
       "      <td>пользоваться телефон 4 месяц не однократно лов...</td>\n",
       "      <td>0</td>\n",
       "    </tr>\n",
       "    <tr>\n",
       "      <th>7</th>\n",
       "      <td>звук комплект камера материал дизайн характери...</td>\n",
       "      <td>1</td>\n",
       "    </tr>\n",
       "  </tbody>\n",
       "</table>\n",
       "</div>"
      ],
      "text/plain": [
       "                                                text  label\n",
       "0  большой экран мощный аккумулятор режим для чте...      1\n",
       "1  телефон пользоваться немного и это скорее перв...      1\n",
       "2  цена брать за 7900 рубль яркий экран хорошо ви...      1\n",
       "6  пользоваться телефон 4 месяц не однократно лов...      0\n",
       "7  звук комплект камера материал дизайн характери...      1"
      ]
     },
     "execution_count": 25,
     "metadata": {},
     "output_type": "execute_result"
    }
   ],
   "source": [
    "corpus.head()"
   ]
  },
  {
   "cell_type": "code",
   "execution_count": 29,
   "metadata": {},
   "outputs": [
    {
     "data": {
      "text/plain": [
       "0.9876465661641541"
      ]
     },
     "execution_count": 29,
     "metadata": {},
     "output_type": "execute_result"
    }
   ],
   "source": [
    "cv = StratifiedKFold(corpus.label, n_folds=10, shuffle=True, random_state=1)\n",
    "\n",
    "pipeline = Pipeline([\n",
    "    ('vectorizer', TfidfVectorizer(analyzer='word')),\n",
    "    ('classifier', LogisticRegression())\n",
    "])\n",
    "\n",
    "pipeline_params = {\n",
    "    'classifier__penalty': ['l1', 'l2'],\n",
    "    'vectorizer__stop_words': [stopwords.words('russian'), None],\n",
    "    'vectorizer__ngram_range': [(1, 1), (1, 2), (1, 3), (1, 4)],\n",
    "    'vectorizer__norm': ['l1', 'l2']\n",
    "}\n",
    "\n",
    "grid = GridSearchCV(pipeline, pipeline_params, cv=cv, refit=True, verbose=1, n_jobs=4)\n",
    "\n",
    "grid.fit(corpus.text.values.astype('U'), corpus.label)\n",
    "best = grid.best_estimator_\n",
    "print(\n",
    "    \"Accuracy (TfidfVectorizer + LogisticRegression): {}, params {}\" . format(grid.best_score_, grid.best_params_)\n",
    ")\n",
    "grid.best_score_"
   ]
  },
  {
   "cell_type": "code",
   "execution_count": 57,
   "metadata": {},
   "outputs": [],
   "source": [
    "vectorizer = TfidfVectorizer(\n",
    "    ngram_range=(1, 3), analyzer='word' #, stop_words=stopwords.words('russian'),norm='l2'\n",
    ")\n",
    "X_vect = vectorizer.fit_transform(corpus.text.values.astype('U'))\n",
    "\n",
    "classifier = LogisticRegression(penalty='l2')\n",
    "fitted = classifier.fit(X_vect, corpus.label)"
   ]
  },
  {
   "cell_type": "code",
   "execution_count": 60,
   "metadata": {},
   "outputs": [
    {
     "data": {
      "text/plain": [
       "array([[ 0.70440239,  0.29559761]])"
      ]
     },
     "execution_count": 60,
     "metadata": {},
     "output_type": "execute_result"
    }
   ],
   "source": [
    "X_test = vectorizer.transform([clean_str('я любительница громкой музыки. Тише телефона у меня еще не было!! Приложений мало, память маленькая. Толком ни чего скачать не можешь. Вечно приходится что то удалять. Бывало такое что сенсор заедал без особых на то причин. Телефону 1,5 месяца. Есть телефоны намного лучше. НЕ БЕРИТЕ !!! Я пожалела...')])\n",
    "fitted.predict_proba(X_test)"
   ]
  },
  {
   "cell_type": "code",
   "execution_count": 56,
   "metadata": {},
   "outputs": [
    {
     "data": {
      "text/plain": [
       "array([0])"
      ]
     },
     "execution_count": 56,
     "metadata": {},
     "output_type": "execute_result"
    }
   ],
   "source": [
    "fitted.predict(X_test)"
   ]
  },
  {
   "cell_type": "code",
   "execution_count": 66,
   "metadata": {
    "collapsed": true
   },
   "outputs": [],
   "source": [
    "data_test = pd.read_csv('./data/test_data_to_predict.csv')\n",
    "data_test['text'] = data_test.text.apply(clean_str)"
   ]
  },
  {
   "cell_type": "code",
   "execution_count": 67,
   "metadata": {
    "collapsed": true
   },
   "outputs": [],
   "source": [
    "texts_to_predict = data_test.text.values.astype('U')"
   ]
  },
  {
   "cell_type": "code",
   "execution_count": 72,
   "metadata": {},
   "outputs": [
    {
     "data": {
      "text/plain": [
       "array([0, 0, 0, 0, 1, 1, 1, 0, 0, 1, 0, 0, 1, 1, 1, 1, 1, 0, 1, 1, 1, 1, 0,\n",
       "       1, 1, 0, 1, 1, 0, 0, 0, 1, 0, 1, 0, 1, 0, 0, 1, 0, 1, 1, 1, 0, 0, 1,\n",
       "       1, 0, 0, 0, 0, 0, 0, 0, 0, 1, 1, 1, 1, 1, 0, 1, 0, 0, 0, 0, 0, 0, 0,\n",
       "       0, 1, 0, 0, 0, 0, 1, 0, 0, 0, 0, 0, 1, 0, 0, 1, 0, 1, 1, 0, 0, 0, 1,\n",
       "       0, 1, 0, 0, 1, 0, 1, 1])"
      ]
     },
     "execution_count": 72,
     "metadata": {},
     "output_type": "execute_result"
    }
   ],
   "source": [
    "X_test = vectorizer.transform(texts_to_predict)\n",
    "predicts = fitted.predict(X_test)\n",
    "predicts"
   ]
  },
  {
   "cell_type": "code",
   "execution_count": null,
   "metadata": {
    "collapsed": true
   },
   "outputs": [],
   "source": []
  }
 ],
 "metadata": {
  "kernelspec": {
   "display_name": "Python 2",
   "language": "python",
   "name": "python2"
  },
  "language_info": {
   "codemirror_mode": {
    "name": "ipython",
    "version": 2
   },
   "file_extension": ".py",
   "mimetype": "text/x-python",
   "name": "python",
   "nbconvert_exporter": "python",
   "pygments_lexer": "ipython2",
   "version": "2.7.12"
  }
 },
 "nbformat": 4,
 "nbformat_minor": 2
}
