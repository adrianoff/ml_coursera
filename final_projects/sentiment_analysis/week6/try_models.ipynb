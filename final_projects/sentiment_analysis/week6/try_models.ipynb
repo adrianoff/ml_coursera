{
 "cells": [
  {
   "cell_type": "code",
   "execution_count": 18,
   "metadata": {},
   "outputs": [],
   "source": [
    "# -*- coding: utf-8 -*-\n",
    "\n",
    "import pandas as pd\n",
    "import numpy as np\n",
    "from sklearn.feature_extraction.text import TfidfVectorizer\n",
    "\n",
    "from sklearn.pipeline import Pipeline\n",
    "from sklearn.grid_search import GridSearchCV \n",
    "from sklearn.grid_search import RandomizedSearchCV \n",
    "\n",
    "from sklearn.cross_validation import cross_val_score\n",
    "from sklearn.cross_validation import StratifiedKFold\n",
    "\n",
    "from sklearn.linear_model import LogisticRegression\n",
    "from nltk.corpus import stopwords\n",
    "from nltk.stem.snowball import RussianStemmer\n",
    "import pymorphy2\n",
    "import re\n",
    "\n",
    "import sys\n",
    "\n",
    "reload(sys)\n",
    "sys.setdefaultencoding('utf8')"
   ]
  },
  {
   "cell_type": "code",
   "execution_count": 19,
   "metadata": {},
   "outputs": [
    {
     "data": {
      "text/plain": [
       "'\\xd0\\xa1\\xd1 \\xd0\\xbe\\xd1\\x8f\\xd0\\xbb\\xd0\\xb8 \\xd0\\xb7\\xd0\\xb2\\xd0\\xb5\\xd1 \\xd0\\xb8    d asdd    1    3123 \\xd0\\xbe\\xd0\\xba\\xd0\\xbe\\xd0\\xbb\\xd0\\xbe \\xd0\\xb4\\xd0\\xb2\\xd0\\xb5\\xd1 \\xd0\\xb8 tets test'"
      ]
     },
     "execution_count": 19,
     "metadata": {},
     "output_type": "execute_result"
    }
   ],
   "source": [
    "import re\n",
    "somestring='Стояли звери, **d asdd () 1) - 3123 около двери tets test'\n",
    "#re.compile('[^a-zA-ZА-Яа-яёЁ]')\n",
    "rx = re.compile('[^a-zA-ZА-Яа-яёЁ0-9]')\n",
    "res = rx.sub(' ', somestring).strip()\n",
    "res"
   ]
  },
  {
   "cell_type": "code",
   "execution_count": 92,
   "metadata": {},
   "outputs": [
    {
     "data": {
      "text/plain": [
       "u'\\u043a\\u0430\\u043c\\u0435\\u0440\\u043e\\u0439,'"
      ]
     },
     "execution_count": 92,
     "metadata": {},
     "output_type": "execute_result"
    }
   ],
   "source": [
    "morph = pymorphy2.MorphAnalyzer()\n",
    "morph.parse(u'камерой,')[0].normal_form"
   ]
  },
  {
   "cell_type": "code",
   "execution_count": 21,
   "metadata": {},
   "outputs": [
    {
     "data": {
      "text/plain": [
       "u'\\u043a\\u0430\\u043c\\u0435\\u0440\\u043e\\u0439,'"
      ]
     },
     "execution_count": 21,
     "metadata": {},
     "output_type": "execute_result"
    }
   ],
   "source": [
    "stemmer = RussianStemmer()\n",
    "stemmer.stem(u'камерой,')"
   ]
  },
  {
   "cell_type": "code",
   "execution_count": 22,
   "metadata": {
    "collapsed": true
   },
   "outputs": [],
   "source": [
    "data = pd.read_csv('./data/data.csv')\n",
    "del data['Unnamed: 0']"
   ]
  },
  {
   "cell_type": "code",
   "execution_count": 23,
   "metadata": {},
   "outputs": [
    {
     "data": {
      "text/html": [
       "<div>\n",
       "<table border=\"1\" class=\"dataframe\">\n",
       "  <thead>\n",
       "    <tr style=\"text-align: right;\">\n",
       "      <th></th>\n",
       "      <th>grade</th>\n",
       "      <th>link</th>\n",
       "      <th>text</th>\n",
       "      <th>content</th>\n",
       "    </tr>\n",
       "  </thead>\n",
       "  <tbody>\n",
       "    <tr>\n",
       "      <th>0</th>\n",
       "      <td>5</td>\n",
       "      <td>https://technopoint.ru/product/42db0e393aab333...</td>\n",
       "      <td>большой экран, мощный аккумулятор, режим для ч...</td>\n",
       "      <td>https://technopoint.ru/product/42db0e393aab333...</td>\n",
       "    </tr>\n",
       "    <tr>\n",
       "      <th>1</th>\n",
       "      <td>5</td>\n",
       "      <td>https://technopoint.ru/product/da39313444f8333...</td>\n",
       "      <td>Телефоном пользуюсь немного и это скорее перв...</td>\n",
       "      <td>https://technopoint.ru/product/da39313444f8333...</td>\n",
       "    </tr>\n",
       "    <tr>\n",
       "      <th>2</th>\n",
       "      <td>4</td>\n",
       "      <td>https://technopoint.ru/product/44b2f37e4035333...</td>\n",
       "      <td>Цена, брал за 7900 руб.  Яркий экран, хорошо ...</td>\n",
       "      <td>https://technopoint.ru/product/44b2f37e4035333...</td>\n",
       "    </tr>\n",
       "    <tr>\n",
       "      <th>3</th>\n",
       "      <td>5</td>\n",
       "      <td>https://technopoint.ru/product/305c1b434efe333...</td>\n",
       "      <td>Цельный качественный корпус с большой батарее...</td>\n",
       "      <td>https://technopoint.ru/product/305c1b434efe333...</td>\n",
       "    </tr>\n",
       "    <tr>\n",
       "      <th>4</th>\n",
       "      <td>5</td>\n",
       "      <td>https://technopoint.ru/product/0ecb5f413466333...</td>\n",
       "      <td>камера, металл корпус , андроид отличный бюдже...</td>\n",
       "      <td>https://technopoint.ru/product/0ecb5f413466333...</td>\n",
       "    </tr>\n",
       "  </tbody>\n",
       "</table>\n",
       "</div>"
      ],
      "text/plain": [
       "   grade                                               link  \\\n",
       "0      5  https://technopoint.ru/product/42db0e393aab333...   \n",
       "1      5  https://technopoint.ru/product/da39313444f8333...   \n",
       "2      4  https://technopoint.ru/product/44b2f37e4035333...   \n",
       "3      5  https://technopoint.ru/product/305c1b434efe333...   \n",
       "4      5  https://technopoint.ru/product/0ecb5f413466333...   \n",
       "\n",
       "                                                text  \\\n",
       "0  большой экран, мощный аккумулятор, режим для ч...   \n",
       "1   Телефоном пользуюсь немного и это скорее перв...   \n",
       "2   Цена, брал за 7900 руб.  Яркий экран, хорошо ...   \n",
       "3   Цельный качественный корпус с большой батарее...   \n",
       "4  камера, металл корпус , андроид отличный бюдже...   \n",
       "\n",
       "                                             content  \n",
       "0  https://technopoint.ru/product/42db0e393aab333...  \n",
       "1  https://technopoint.ru/product/da39313444f8333...  \n",
       "2  https://technopoint.ru/product/44b2f37e4035333...  \n",
       "3  https://technopoint.ru/product/305c1b434efe333...  \n",
       "4  https://technopoint.ru/product/0ecb5f413466333...  "
      ]
     },
     "execution_count": 23,
     "metadata": {},
     "output_type": "execute_result"
    }
   ],
   "source": [
    "data.head()"
   ]
  },
  {
   "cell_type": "code",
   "execution_count": 24,
   "metadata": {},
   "outputs": [
    {
     "data": {
      "text/plain": [
       "5    8766\n",
       "4    2408\n",
       "3    1060\n",
       "1     652\n",
       "2     640\n",
       "Name: grade, dtype: int64"
      ]
     },
     "execution_count": 24,
     "metadata": {},
     "output_type": "execute_result"
    }
   ],
   "source": [
    "data.grade.value_counts()"
   ]
  },
  {
   "cell_type": "code",
   "execution_count": 30,
   "metadata": {
    "collapsed": true
   },
   "outputs": [],
   "source": [
    "data['label'] = data.grade.apply(lambda x: 0 if x < 4 else 1)"
   ]
  },
  {
   "cell_type": "code",
   "execution_count": 95,
   "metadata": {},
   "outputs": [
    {
     "data": {
      "text/plain": [
       "1    11174\n",
       "0     2352\n",
       "Name: label, dtype: int64"
      ]
     },
     "execution_count": 95,
     "metadata": {},
     "output_type": "execute_result"
    }
   ],
   "source": [
    "data.label.value_counts()"
   ]
  },
  {
   "cell_type": "code",
   "execution_count": 116,
   "metadata": {},
   "outputs": [],
   "source": [
    "corpus = data[['text', 'label']]\n",
    "\n",
    "def clean_str(string):\n",
    "    morph = pymorphy2.MorphAnalyzer()\n",
    "    \n",
    "    symbols = [\n",
    "        ',', '.', '-', '*', '#', ')', '(', '/', '<', '>', ':', '+', '?', '!', '\"', '\"', '%', '=', '\\\\', '}'\n",
    "    ]\n",
    "    \n",
    "    for symbol in symbols:\n",
    "        print string\n",
    "        string = str(string).replace(symbol, ' ')\n",
    "        \n",
    "    words = string.split()\n",
    "    normalized_words = []\n",
    "    \n",
    "    for word in words:\n",
    "        normalized_words.append(morph.parse(unicode(word.strip()))[0].normal_form)\n",
    "        \n",
    "    string = unicode(' '.join(normalized_words))\n",
    "    \n",
    "    return string\n",
    "\n",
    "#corpus['text'] = corpus.text.apply(clean_str)"
   ]
  },
  {
   "cell_type": "code",
   "execution_count": 117,
   "metadata": {},
   "outputs": [
    {
     "data": {
      "text/plain": [
       "0    2352\n",
       "1     174\n",
       "Name: label, dtype: int64"
      ]
     },
     "execution_count": 117,
     "metadata": {},
     "output_type": "execute_result"
    }
   ],
   "source": [
    "drop_indices = np.random.choice(corpus[corpus.label == 1].index, 11000, replace=False)\n",
    "corpus = corpus.drop(drop_indices)\n",
    "corpus.label.value_counts()"
   ]
  },
  {
   "cell_type": "code",
   "execution_count": 118,
   "metadata": {},
   "outputs": [],
   "source": [
    "def clean_str(string):\n",
    "    morph = pymorphy2.MorphAnalyzer()\n",
    "    \n",
    "    symbols = [\n",
    "        ',', '.', '-', '*', '#', ')', '(', '/', '<', '>', ':', '+', '?', '!', '\"', '\"', '%', '=', '\\\\', '}'\n",
    "    ]\n",
    "    \n",
    "    for symbol in symbols:\n",
    "        string = str(string).replace(symbol, ' ')\n",
    "        \n",
    "    words = string.split()\n",
    "    normalized_words = []\n",
    "    \n",
    "    for word in words:\n",
    "        normalized_words.append(morph.parse(unicode(word.strip()))[0].normal_form)\n",
    "        \n",
    "    string = unicode(' '.join(normalized_words))\n",
    "    \n",
    "    return string\n",
    "\n",
    "corpus['text'] = corpus.text.apply(clean_str)"
   ]
  },
  {
   "cell_type": "code",
   "execution_count": 119,
   "metadata": {},
   "outputs": [
    {
     "data": {
      "text/html": [
       "<div>\n",
       "<table border=\"1\" class=\"dataframe\">\n",
       "  <thead>\n",
       "    <tr style=\"text-align: right;\">\n",
       "      <th></th>\n",
       "      <th>text</th>\n",
       "      <th>label</th>\n",
       "    </tr>\n",
       "  </thead>\n",
       "  <tbody>\n",
       "    <tr>\n",
       "      <th>6</th>\n",
       "      <td>пользоваться телефон 4 месяц не однократно лов...</td>\n",
       "      <td>0</td>\n",
       "    </tr>\n",
       "    <tr>\n",
       "      <th>9</th>\n",
       "      <td>отвратительный оболочка от samsung на android ...</td>\n",
       "      <td>0</td>\n",
       "    </tr>\n",
       "    <tr>\n",
       "      <th>20</th>\n",
       "      <td>1 очень медленный автоматический подстройка яр...</td>\n",
       "      <td>0</td>\n",
       "    </tr>\n",
       "    <tr>\n",
       "      <th>21</th>\n",
       "      <td>тупить пользоваться имя почти половина год и з...</td>\n",
       "      <td>0</td>\n",
       "    </tr>\n",
       "    <tr>\n",
       "      <th>24</th>\n",
       "      <td>не работать сервис google о это честно написат...</td>\n",
       "      <td>0</td>\n",
       "    </tr>\n",
       "  </tbody>\n",
       "</table>\n",
       "</div>"
      ],
      "text/plain": [
       "                                                 text  label\n",
       "6   пользоваться телефон 4 месяц не однократно лов...      0\n",
       "9   отвратительный оболочка от samsung на android ...      0\n",
       "20  1 очень медленный автоматический подстройка яр...      0\n",
       "21  тупить пользоваться имя почти половина год и з...      0\n",
       "24  не работать сервис google о это честно написат...      0"
      ]
     },
     "execution_count": 119,
     "metadata": {},
     "output_type": "execute_result"
    }
   ],
   "source": [
    "corpus.head()"
   ]
  },
  {
   "cell_type": "code",
   "execution_count": 120,
   "metadata": {},
   "outputs": [
    {
     "data": {
      "text/plain": [
       "u'\\u043f\\u043e\\u043b\\u044c\\u0437\\u043e\\u0432\\u0430\\u0442\\u044c\\u0441\\u044f \\u0442\\u0435\\u043b\\u0435\\u0444\\u043e\\u043d 4 \\u043c\\u0435\\u0441\\u044f\\u0446 \\u043d\\u0435 \\u043e\\u0434\\u043d\\u043e\\u043a\\u0440\\u0430\\u0442\\u043d\\u043e \\u043b\\u043e\\u0432\\u0438\\u0442\\u044c \\u0434\\u0438\\u043a\\u0438\\u0439 \\u0437\\u0430\\u0432\\u0438\\u0441\\u043e\\u043d \\u043f\\u0440\\u0438\\u0445\\u043e\\u0434\\u0438\\u0442\\u044c\\u0441\\u044f \\u0441\\u043d\\u0438\\u043c\\u0430\\u0442\\u044c \\u0430\\u043a\\u0443\\u043c\\u0430 \\u043a\\u0430\\u043c\\u0435\\u0440\\u0430 \\u043e\\u0442\\u043a\\u0430\\u0437\\u0430\\u0442\\u044c \\u0440\\u0430\\u0431\\u043e\\u0442\\u0430\\u0442\\u044c \\u043d\\u0430\\u043f\\u0440\\u043e\\u0447\\u044c \\u043e\\u0441\\u0442\\u0430\\u0442\\u044c\\u0441\\u044f \\u0442\\u043e\\u043b\\u044c\\u043a\\u043e \\u0444\\u0440\\u043e\\u043d\\u0442\\u0430\\u043b\\u043a\\u0430 \\u043e\\u043d\\u0430 \\u043d\\u0430\\u0444\\u0438\\u0433 \\u044f \\u043d\\u0435 \\u043d\\u0443\\u0436\\u043d\\u044b\\u0439 \\u0432\\u043c\\u0435\\u0441\\u0442\\u0435 \\u0441 \\u043a\\u0430\\u043c\\u0435\\u0440\\u0430 \\u0441\\u0434\\u043e\\u0445\\u043d\\u0443\\u0442\\u044c \\u0438 \\u0444\\u043e\\u043d\\u0430\\u0440\\u0438\\u043a \\u043e\\u0431\\u043d\\u043e\\u0432\\u043b\\u0435\\u043d\\u0438\\u0435 \\u043f\\u043e \\u043e\\u0442\\u0441\\u0443\\u0442\\u0441\\u0442\\u0432\\u043e\\u0432\\u0430\\u0442\\u044c bq \\u043f\\u043b\\u043e\\u0445\\u043e \\u043e\\u0431\\u0441\\u043b\\u0443\\u0436\\u0438\\u0432\\u0430\\u0442\\u044c \\u0441\\u0432\\u043e\\u0439 \\u0442\\u0435\\u043b\\u0435\\u0444\\u043e\\u043d \\u0433\\u043e\\u0442\\u043e\\u0432\\u044b\\u0439 \\u0432\\u044b\\u043a\\u0438\\u043d\\u0443\\u0442\\u044c \\u043e\\u043d \\u0430\\u043a\\u0443\\u043c\\u0430 \\u0441\\u0442\\u0430\\u0442\\u044c \\u0441\\u0430\\u0434\\u0438\\u0442\\u044c\\u0441\\u044f \\u0435\\u0449\\u0451 \\u0431\\u044b\\u0441\\u0442\\u0440\\u044b\\u0439 \\u0447\\u0435\\u043c \\u0440\\u0430\\u043d\\u043d\\u0438\\u0439 \\u0431\\u044e\\u0434\\u0436\\u0435\\u0442\\u043d\\u0438\\u043a \\u043f\\u043e\\u0445\\u043e\\u0434 \\u0434\\u0435\\u043b\\u0430\\u0442\\u044c \\u043d\\u0438\\u043a\\u0442\\u043e \\u0442\\u0430\\u043a \\u0438 \\u043d\\u0435 \\u043d\\u0430\\u0443\\u0447\\u0438\\u0442\\u044c\\u0441\\u044f \\u043a\\u0430\\u0447\\u0435\\u0441\\u0442\\u0432\\u043e \\u0443\\u0436\\u0430\\u0441\\u043d\\u044b\\u0439 \\u0430 \\u0431\\u0440\\u0430\\u0442\\u044c \\u0434\\u043e\\u0440\\u043e\\u0433\\u043e\\u0439 \\u0440\\u043e\\u0441\\u0441\\u0438\\u0439\\u0441\\u043a\\u0438\\u0439 \\u0444\\u0435\\u0434\\u0435\\u0440\\u0430\\u0446\\u0438\\u044f \\u043d\\u0435 \\u043f\\u043e\\u0437\\u0432\\u043e\\u043b\\u044f\\u0442\\u044c'"
      ]
     },
     "execution_count": 120,
     "metadata": {},
     "output_type": "execute_result"
    }
   ],
   "source": [
    "corpus.text.values[0]"
   ]
  },
  {
   "cell_type": "code",
   "execution_count": 30,
   "metadata": {},
   "outputs": [
    {
     "data": {
      "text/plain": [
       "0.980777761348514"
      ]
     },
     "execution_count": 30,
     "metadata": {},
     "output_type": "execute_result"
    }
   ],
   "source": [
    "cv = StratifiedKFold(corpus.label, n_folds=10, shuffle=True, random_state=1)\n",
    "\n",
    "pipeline = Pipeline([\n",
    "    ('vectorizer', TfidfVectorizer()),\n",
    "    ('classifier', LogisticRegression())\n",
    "])\n",
    "\n",
    "pipeline_params = {'classifier__penalty': ['l1', 'l2']}\n",
    "\n",
    "grid = GridSearchCV(pipeline, pipeline_params, cv=cv, refit=True, verbose=1, n_jobs=4)\n",
    "\n",
    "grid.fit(corpus.text.values.astype('U'), corpus.label)\n",
    "best = grid.best_estimator_\n",
    "print(\n",
    "    \"Accuracy (TfidfVectorizer + LogisticRegression): {}, params {}\" . format(grid.best_score_, grid.best_params_)\n",
    ")\n",
    "grid.best_score_"
   ]
  },
  {
   "cell_type": "code",
   "execution_count": 31,
   "metadata": {},
   "outputs": [
    {
     "data": {
      "text/plain": [
       "{'classifier__penalty': 'l2'}"
      ]
     },
     "execution_count": 31,
     "metadata": {},
     "output_type": "execute_result"
    }
   ],
   "source": [
    "grid.best_params_"
   ]
  },
  {
   "cell_type": "code",
   "execution_count": 28,
   "metadata": {
    "collapsed": true
   },
   "outputs": [],
   "source": [
    "vectorizer = TfidfVectorizer(\n",
    "    ngram_range=(1, 2), max_df=1.0, analyzer='word', use_idf=True,\n",
    "    norm='l2', stop_words=stopwords.words('russian')\n",
    ")\n",
    "X_vect = vectorizer.fit_transform(corpus.text.values.astype('U'))\n",
    "\n",
    "classifier = LogisticRegression(penalty='l2')\n",
    "fitted = classifier.fit(X_vect, corpus.label)"
   ]
  },
  {
   "cell_type": "code",
   "execution_count": 29,
   "metadata": {},
   "outputs": [
    {
     "data": {
      "text/plain": [
       "array([[ 0.23646965,  0.76353035]])"
      ]
     },
     "execution_count": 29,
     "metadata": {},
     "output_type": "execute_result"
    }
   ],
   "source": [
    "X_test = vectorizer.transform([unicode('Пользуюсь 3 месяца.  На выбор повлиял большой 5,5 дюймовый  HD экран и мощный аккумулятор 4500 м Ач.  Экран действительно весьма большой и с качественной картинкой.  Удобно читать книги на таком экране.  Тем более что есть режим для комфортного чтения, свет на экране становится более теплым для глаз.  Можно к телефону подключать клавиатуру, компьютер и флэшку через  USB кабель.  Это мне часто помогает в работе.  Дома компа временно нет- отдал в ремонт,  а отчеты нужно отправлять вовремя, поэтому приходится пользоваться телефоном дома.  Аккумулятора хватает на 2 дня, заряжаю через день.  Камера снимает в разных режимах.  Я снимаю обычно серийную съемку, камера делает сразу 30 снимков, из них потом легче выбирать.')])\n",
    "fitted.predict_proba(X_test)"
   ]
  },
  {
   "cell_type": "code",
   "execution_count": 30,
   "metadata": {},
   "outputs": [
    {
     "data": {
      "text/plain": [
       "array([1])"
      ]
     },
     "execution_count": 30,
     "metadata": {},
     "output_type": "execute_result"
    }
   ],
   "source": [
    "fitted.predict(X_test)"
   ]
  },
  {
   "cell_type": "code",
   "execution_count": null,
   "metadata": {
    "collapsed": true
   },
   "outputs": [],
   "source": []
  }
 ],
 "metadata": {
  "kernelspec": {
   "display_name": "Python 2",
   "language": "python",
   "name": "python2"
  },
  "language_info": {
   "codemirror_mode": {
    "name": "ipython",
    "version": 2
   },
   "file_extension": ".py",
   "mimetype": "text/x-python",
   "name": "python",
   "nbconvert_exporter": "python",
   "pygments_lexer": "ipython2",
   "version": "2.7.12"
  }
 },
 "nbformat": 4,
 "nbformat_minor": 2
}
