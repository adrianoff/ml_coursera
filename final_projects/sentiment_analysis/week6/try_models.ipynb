{
 "cells": [
  {
   "cell_type": "code",
   "execution_count": 52,
   "metadata": {},
   "outputs": [],
   "source": [
    "# -*- coding: utf-8 -*-\n",
    "\n",
    "import pandas as pd\n",
    "import numpy as np\n",
    "from sklearn.feature_extraction.text import TfidfVectorizer\n",
    "\n",
    "from sklearn.pipeline import Pipeline\n",
    "from sklearn.grid_search import GridSearchCV \n",
    "from sklearn.grid_search import RandomizedSearchCV \n",
    "\n",
    "from sklearn.cross_validation import cross_val_score\n",
    "from sklearn.cross_validation import StratifiedKFold\n",
    "\n",
    "from sklearn.linear_model import LogisticRegression\n",
    "from nltk.corpus import stopwords\n",
    "from nltk.stem.snowball import RussianStemmer\n",
    "import pymorphy2\n",
    "\n",
    "import sys\n",
    "\n",
    "reload(sys)\n",
    "sys.setdefaultencoding('utf8')"
   ]
  },
  {
   "cell_type": "code",
   "execution_count": 61,
   "metadata": {},
   "outputs": [
    {
     "data": {
      "text/plain": [
       "[Parse(word=u'\\u043a\\u0430\\u043c\\u0435\\u0440\\u043e\\u0439,', tag=OpencorporaTag('UNKN'), normal_form=u'\\u043a\\u0430\\u043c\\u0435\\u0440\\u043e\\u0439,', score=1.0, methods_stack=((<UnknAnalyzer>, u'\\u043a\\u0430\\u043c\\u0435\\u0440\\u043e\\u0439,'),))]"
      ]
     },
     "execution_count": 61,
     "metadata": {},
     "output_type": "execute_result"
    }
   ],
   "source": [
    "morph = pymorphy2.MorphAnalyzer()\n",
    "morph.parse(u'камерой,')"
   ]
  },
  {
   "cell_type": "code",
   "execution_count": 59,
   "metadata": {},
   "outputs": [
    {
     "data": {
      "text/plain": [
       "u'\\u043a\\u0430\\u043c\\u0435\\u0440\\u043e\\u0439,'"
      ]
     },
     "execution_count": 59,
     "metadata": {},
     "output_type": "execute_result"
    }
   ],
   "source": [
    "stemmer = RussianStemmer()\n",
    "stemmer.stem(u'камерой,')"
   ]
  },
  {
   "cell_type": "code",
   "execution_count": 6,
   "metadata": {
    "collapsed": true
   },
   "outputs": [],
   "source": [
    "data = pd.read_csv('./data/data.csv')\n",
    "del data['Unnamed: 0']"
   ]
  },
  {
   "cell_type": "code",
   "execution_count": 7,
   "metadata": {},
   "outputs": [
    {
     "data": {
      "text/html": [
       "<div>\n",
       "<table border=\"1\" class=\"dataframe\">\n",
       "  <thead>\n",
       "    <tr style=\"text-align: right;\">\n",
       "      <th></th>\n",
       "      <th>grade</th>\n",
       "      <th>link</th>\n",
       "      <th>text</th>\n",
       "      <th>content</th>\n",
       "    </tr>\n",
       "  </thead>\n",
       "  <tbody>\n",
       "    <tr>\n",
       "      <th>0</th>\n",
       "      <td>5</td>\n",
       "      <td>https://technopoint.ru/product/42db0e393aab333...</td>\n",
       "      <td>большой экран, мощный аккумулятор, режим для ч...</td>\n",
       "      <td>https://technopoint.ru/product/42db0e393aab333...</td>\n",
       "    </tr>\n",
       "    <tr>\n",
       "      <th>1</th>\n",
       "      <td>5</td>\n",
       "      <td>https://technopoint.ru/product/da39313444f8333...</td>\n",
       "      <td>Телефоном пользуюсь немного и это скорее перв...</td>\n",
       "      <td>https://technopoint.ru/product/da39313444f8333...</td>\n",
       "    </tr>\n",
       "    <tr>\n",
       "      <th>2</th>\n",
       "      <td>4</td>\n",
       "      <td>https://technopoint.ru/product/44b2f37e4035333...</td>\n",
       "      <td>Цена, брал за 7900 руб.  Яркий экран, хорошо ...</td>\n",
       "      <td>https://technopoint.ru/product/44b2f37e4035333...</td>\n",
       "    </tr>\n",
       "    <tr>\n",
       "      <th>3</th>\n",
       "      <td>5</td>\n",
       "      <td>https://technopoint.ru/product/305c1b434efe333...</td>\n",
       "      <td>Цельный качественный корпус с большой батарее...</td>\n",
       "      <td>https://technopoint.ru/product/305c1b434efe333...</td>\n",
       "    </tr>\n",
       "    <tr>\n",
       "      <th>4</th>\n",
       "      <td>5</td>\n",
       "      <td>https://technopoint.ru/product/0ecb5f413466333...</td>\n",
       "      <td>камера, металл корпус , андроид отличный бюдже...</td>\n",
       "      <td>https://technopoint.ru/product/0ecb5f413466333...</td>\n",
       "    </tr>\n",
       "  </tbody>\n",
       "</table>\n",
       "</div>"
      ],
      "text/plain": [
       "   grade                                               link  \\\n",
       "0      5  https://technopoint.ru/product/42db0e393aab333...   \n",
       "1      5  https://technopoint.ru/product/da39313444f8333...   \n",
       "2      4  https://technopoint.ru/product/44b2f37e4035333...   \n",
       "3      5  https://technopoint.ru/product/305c1b434efe333...   \n",
       "4      5  https://technopoint.ru/product/0ecb5f413466333...   \n",
       "\n",
       "                                                text  \\\n",
       "0  большой экран, мощный аккумулятор, режим для ч...   \n",
       "1   Телефоном пользуюсь немного и это скорее перв...   \n",
       "2   Цена, брал за 7900 руб.  Яркий экран, хорошо ...   \n",
       "3   Цельный качественный корпус с большой батарее...   \n",
       "4  камера, металл корпус , андроид отличный бюдже...   \n",
       "\n",
       "                                             content  \n",
       "0  https://technopoint.ru/product/42db0e393aab333...  \n",
       "1  https://technopoint.ru/product/da39313444f8333...  \n",
       "2  https://technopoint.ru/product/44b2f37e4035333...  \n",
       "3  https://technopoint.ru/product/305c1b434efe333...  \n",
       "4  https://technopoint.ru/product/0ecb5f413466333...  "
      ]
     },
     "execution_count": 7,
     "metadata": {},
     "output_type": "execute_result"
    }
   ],
   "source": [
    "data.head()"
   ]
  },
  {
   "cell_type": "code",
   "execution_count": 8,
   "metadata": {},
   "outputs": [
    {
     "data": {
      "text/plain": [
       "5    8766\n",
       "4    2408\n",
       "3    1060\n",
       "1     652\n",
       "2     640\n",
       "Name: grade, dtype: int64"
      ]
     },
     "execution_count": 8,
     "metadata": {},
     "output_type": "execute_result"
    }
   ],
   "source": [
    "data.grade.value_counts()"
   ]
  },
  {
   "cell_type": "code",
   "execution_count": 9,
   "metadata": {
    "collapsed": true
   },
   "outputs": [],
   "source": [
    "data['label'] = data.grade.apply(lambda x: 0 if x < 4 else 1)"
   ]
  },
  {
   "cell_type": "code",
   "execution_count": 10,
   "metadata": {},
   "outputs": [
    {
     "data": {
      "text/plain": [
       "1    11174\n",
       "0     2352\n",
       "Name: label, dtype: int64"
      ]
     },
     "execution_count": 10,
     "metadata": {},
     "output_type": "execute_result"
    }
   ],
   "source": [
    "data.label.value_counts()"
   ]
  },
  {
   "cell_type": "code",
   "execution_count": 11,
   "metadata": {
    "collapsed": true
   },
   "outputs": [],
   "source": [
    "corpus = data[['text', 'label']]"
   ]
  },
  {
   "cell_type": "code",
   "execution_count": 12,
   "metadata": {},
   "outputs": [
    {
     "data": {
      "text/html": [
       "<div>\n",
       "<table border=\"1\" class=\"dataframe\">\n",
       "  <thead>\n",
       "    <tr style=\"text-align: right;\">\n",
       "      <th></th>\n",
       "      <th>text</th>\n",
       "      <th>label</th>\n",
       "    </tr>\n",
       "  </thead>\n",
       "  <tbody>\n",
       "    <tr>\n",
       "      <th>0</th>\n",
       "      <td>большой экран, мощный аккумулятор, режим для ч...</td>\n",
       "      <td>1</td>\n",
       "    </tr>\n",
       "    <tr>\n",
       "      <th>1</th>\n",
       "      <td>Телефоном пользуюсь немного и это скорее перв...</td>\n",
       "      <td>1</td>\n",
       "    </tr>\n",
       "    <tr>\n",
       "      <th>2</th>\n",
       "      <td>Цена, брал за 7900 руб.  Яркий экран, хорошо ...</td>\n",
       "      <td>1</td>\n",
       "    </tr>\n",
       "    <tr>\n",
       "      <th>3</th>\n",
       "      <td>Цельный качественный корпус с большой батарее...</td>\n",
       "      <td>1</td>\n",
       "    </tr>\n",
       "    <tr>\n",
       "      <th>4</th>\n",
       "      <td>камера, металл корпус , андроид отличный бюдже...</td>\n",
       "      <td>1</td>\n",
       "    </tr>\n",
       "  </tbody>\n",
       "</table>\n",
       "</div>"
      ],
      "text/plain": [
       "                                                text  label\n",
       "0  большой экран, мощный аккумулятор, режим для ч...      1\n",
       "1   Телефоном пользуюсь немного и это скорее перв...      1\n",
       "2   Цена, брал за 7900 руб.  Яркий экран, хорошо ...      1\n",
       "3   Цельный качественный корпус с большой батарее...      1\n",
       "4  камера, металл корпус , андроид отличный бюдже...      1"
      ]
     },
     "execution_count": 12,
     "metadata": {},
     "output_type": "execute_result"
    }
   ],
   "source": [
    "corpus.head()"
   ]
  },
  {
   "cell_type": "code",
   "execution_count": 13,
   "metadata": {},
   "outputs": [
    {
     "data": {
      "text/plain": [
       "1    2674\n",
       "0    2352\n",
       "Name: label, dtype: int64"
      ]
     },
     "execution_count": 13,
     "metadata": {},
     "output_type": "execute_result"
    }
   ],
   "source": [
    "drop_indices = np.random.choice(corpus[corpus.label == 1].index, 8500, replace=False)\n",
    "corpus = corpus.drop(drop_indices)\n",
    "corpus.label.value_counts()"
   ]
  },
  {
   "cell_type": "code",
   "execution_count": 30,
   "metadata": {},
   "outputs": [
    {
     "data": {
      "text/plain": [
       "0.980777761348514"
      ]
     },
     "execution_count": 30,
     "metadata": {},
     "output_type": "execute_result"
    }
   ],
   "source": [
    "cv = StratifiedKFold(corpus.label, n_folds=10, shuffle=True, random_state=1)\n",
    "\n",
    "pipeline = Pipeline([\n",
    "    ('vectorizer', TfidfVectorizer()),\n",
    "    ('classifier', LogisticRegression())\n",
    "])\n",
    "\n",
    "pipeline_params = {'classifier__penalty': ['l1', 'l2']}\n",
    "\n",
    "grid = GridSearchCV(pipeline, pipeline_params, cv=cv, refit=True, verbose=1, n_jobs=4)\n",
    "\n",
    "grid.fit(corpus.text.values.astype('U'), corpus.label)\n",
    "best = grid.best_estimator_\n",
    "print(\n",
    "    \"Accuracy (TfidfVectorizer + LogisticRegression): {}, params {}\" . format(grid.best_score_, grid.best_params_)\n",
    ")\n",
    "grid.best_score_"
   ]
  },
  {
   "cell_type": "code",
   "execution_count": 31,
   "metadata": {},
   "outputs": [
    {
     "data": {
      "text/plain": [
       "{'classifier__penalty': 'l2'}"
      ]
     },
     "execution_count": 31,
     "metadata": {},
     "output_type": "execute_result"
    }
   ],
   "source": [
    "grid.best_params_"
   ]
  },
  {
   "cell_type": "code",
   "execution_count": 28,
   "metadata": {},
   "outputs": [],
   "source": [
    "vectorizer = TfidfVectorizer(\n",
    "    ngram_range=(1, 2), max_df=1.0, analyzer='word', use_idf=True,\n",
    "    norm='l2', stop_words=stopwords.words('russian')\n",
    ")\n",
    "X_vect = vectorizer.fit_transform(corpus.text.values.astype('U'))\n",
    "\n",
    "classifier = LogisticRegression(penalty='l2')\n",
    "fitted = classifier.fit(X_vect, corpus.label)"
   ]
  },
  {
   "cell_type": "code",
   "execution_count": 29,
   "metadata": {},
   "outputs": [
    {
     "data": {
      "text/plain": [
       "array([[ 0.23646965,  0.76353035]])"
      ]
     },
     "execution_count": 29,
     "metadata": {},
     "output_type": "execute_result"
    }
   ],
   "source": [
    "X_test = vectorizer.transform([unicode('Пользуюсь 3 месяца.  На выбор повлиял большой 5,5 дюймовый  HD экран и мощный аккумулятор 4500 м Ач.  Экран действительно весьма большой и с качественной картинкой.  Удобно читать книги на таком экране.  Тем более что есть режим для комфортного чтения, свет на экране становится более теплым для глаз.  Можно к телефону подключать клавиатуру, компьютер и флэшку через  USB кабель.  Это мне часто помогает в работе.  Дома компа временно нет- отдал в ремонт,  а отчеты нужно отправлять вовремя, поэтому приходится пользоваться телефоном дома.  Аккумулятора хватает на 2 дня, заряжаю через день.  Камера снимает в разных режимах.  Я снимаю обычно серийную съемку, камера делает сразу 30 снимков, из них потом легче выбирать.')])\n",
    "fitted.predict_proba(X_test)"
   ]
  },
  {
   "cell_type": "code",
   "execution_count": 30,
   "metadata": {},
   "outputs": [
    {
     "data": {
      "text/plain": [
       "array([1])"
      ]
     },
     "execution_count": 30,
     "metadata": {},
     "output_type": "execute_result"
    }
   ],
   "source": [
    "fitted.predict(X_test)"
   ]
  },
  {
   "cell_type": "code",
   "execution_count": null,
   "metadata": {
    "collapsed": true
   },
   "outputs": [],
   "source": []
  }
 ],
 "metadata": {
  "kernelspec": {
   "display_name": "Python 2",
   "language": "python",
   "name": "python2"
  },
  "language_info": {
   "codemirror_mode": {
    "name": "ipython",
    "version": 2
   },
   "file_extension": ".py",
   "mimetype": "text/x-python",
   "name": "python",
   "nbconvert_exporter": "python",
   "pygments_lexer": "ipython2",
   "version": "2.7.12"
  }
 },
 "nbformat": 4,
 "nbformat_minor": 2
}
